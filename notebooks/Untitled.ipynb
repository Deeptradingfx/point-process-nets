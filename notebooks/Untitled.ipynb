{
 "cells": [
  {
   "cell_type": "code",
   "execution_count": 52,
   "metadata": {},
   "outputs": [
    {
     "data": {
      "text/plain": [
       "[1, 2]"
      ]
     },
     "execution_count": 52,
     "metadata": {},
     "output_type": "execute_result"
    }
   ],
   "source": [
    "dict1 = {}\n",
    "dict1[\"a\"] = 1\n",
    "#\"a\" in dict1\n",
    "#dict1.has_key(\"b\")\n",
    "dict1[\"b\"] = 2\n",
    "len(dict1.keys())\n",
    "dict1.values()\n",
    "[v for v in dict1.values()]\n"
   ]
  },
  {
   "cell_type": "code",
   "execution_count": 54,
   "metadata": {},
   "outputs": [
    {
     "data": {
      "text/plain": [
       "1"
      ]
     },
     "execution_count": 54,
     "metadata": {},
     "output_type": "execute_result"
    }
   ],
   "source": [
    "l = [1,2,3]\n",
    "for i in range(3):\n",
    "    if(l[i] == 2):\n",
    "        break\n",
    "i"
   ]
  },
  {
   "cell_type": "code",
   "execution_count": 24,
   "metadata": {},
   "outputs": [
    {
     "data": {
      "text/plain": [
       "False"
      ]
     },
     "execution_count": 24,
     "metadata": {},
     "output_type": "execute_result"
    }
   ],
   "source": [
    "a = 2\n",
    "b = 3\n",
    "(a,b) = (b,a)\n",
    "\"ac\" > \"ad\""
   ]
  },
  {
   "cell_type": "code",
   "execution_count": 27,
   "metadata": {},
   "outputs": [
    {
     "data": {
      "text/plain": [
       "[1, 2, 3]"
      ]
     },
     "execution_count": 27,
     "metadata": {},
     "output_type": "execute_result"
    }
   ],
   "source": [
    "a = [2,3,1]\n",
    "i = 0\n",
    "j = 2\n",
    "temp = a[j]\n",
    "while(j>i):\n",
    "    a[j] = a[j-1]\n",
    "    j -= 1\n",
    "a[i] = temp\n",
    "a"
   ]
  },
  {
   "cell_type": "code",
   "execution_count": 29,
   "metadata": {},
   "outputs": [
    {
     "data": {
      "text/plain": [
       "False"
      ]
     },
     "execution_count": 29,
     "metadata": {},
     "output_type": "execute_result"
    }
   ],
   "source": [
    "\"d\" in [\"a\",\"c\"]"
   ]
  },
  {
   "cell_type": "code",
   "execution_count": 58,
   "metadata": {},
   "outputs": [],
   "source": [
    "def is_palyndrome(s):\n",
    "    if(len(s)==1 or len(s)==0):\n",
    "        return True\n",
    "    else:\n",
    "        if(s[0]==s[-1]):\n",
    "            return is_palyndrome(s[1:len(s)-1])\n",
    "        else:\n",
    "            return False"
   ]
  },
  {
   "cell_type": "code",
   "execution_count": 71,
   "metadata": {},
   "outputs": [
    {
     "data": {
      "text/plain": [
       "'sas'"
      ]
     },
     "execution_count": 71,
     "metadata": {},
     "output_type": "execute_result"
    }
   ],
   "source": [
    "s = \"asasd\"\n",
    "s[1:4]"
   ]
  },
  {
   "cell_type": "code",
   "execution_count": 77,
   "metadata": {},
   "outputs": [],
   "source": [
    "def substrCount(n, s):\n",
    "    n = len(s)\n",
    "    count_pal = 0\n",
    "    \n",
    "    for i in range(n):\n",
    "        for j in range(n-i):\n",
    "            print(s[j:j+i+1])\n",
    "            if is_palyndrome(s[j:j+i+1]):\n",
    "                count_pal += 1\n",
    "    return count_pal\n"
   ]
  },
  {
   "cell_type": "code",
   "execution_count": 79,
   "metadata": {},
   "outputs": [
    {
     "name": "stdout",
     "output_type": "stream",
     "text": [
      "a\n",
      "b\n",
      "c\n",
      "b\n",
      "a\n",
      "b\n",
      "a\n",
      "ab\n",
      "bc\n",
      "cb\n",
      "ba\n",
      "ab\n",
      "ba\n",
      "abc\n",
      "bcb\n",
      "cba\n",
      "bab\n",
      "aba\n",
      "abcb\n",
      "bcba\n",
      "cbab\n",
      "baba\n",
      "abcba\n",
      "bcbab\n",
      "cbaba\n",
      "abcbab\n",
      "bcbaba\n",
      "abcbaba\n"
     ]
    },
    {
     "data": {
      "text/plain": [
       "11"
      ]
     },
     "execution_count": 79,
     "metadata": {},
     "output_type": "execute_result"
    }
   ],
   "source": [
    "s = \"abcbaba\"\n",
    "substrCount(len(s),s)"
   ]
  },
  {
   "cell_type": "code",
   "execution_count": 86,
   "metadata": {},
   "outputs": [],
   "source": [
    "def commonChild(s1, s2):\n",
    "    count = 0\n",
    "    c2 = 0\n",
    "    if(len(s1)>len(s2)):\n",
    "        s1_ = s2\n",
    "        s2_ = s1\n",
    "    else:\n",
    "        s1_ = s1\n",
    "        s2_ = s2\n",
    "    n1 = len(s1_)\n",
    "    n2 = len(s2_)\n",
    "    for i in range(n1):\n",
    "        for j in range(c2+1,n2):\n",
    "            if(s2_[j]==s1_[i]):\n",
    "                count += 1\n",
    "                c2 = j\n",
    "                \n",
    "                break\n",
    "        print(\"i :\",i)\n",
    "        print(\"c2 :\",c2)\n",
    "        print(\"-\"*5)\n",
    "    \n",
    "    return count"
   ]
  },
  {
   "cell_type": "code",
   "execution_count": 88,
   "metadata": {},
   "outputs": [
    {
     "name": "stdout",
     "output_type": "stream",
     "text": [
      "i : 0\n",
      "c2 : 0\n",
      "-----\n",
      "i : 1\n",
      "c2 : 2\n",
      "-----\n",
      "i : 2\n",
      "c2 : 2\n",
      "-----\n",
      "i : 3\n",
      "c2 : 2\n",
      "-----\n",
      "i : 4\n",
      "c2 : 2\n",
      "-----\n",
      "i : 5\n",
      "c2 : 2\n",
      "-----\n",
      "i : 6\n",
      "c2 : 3\n",
      "-----\n",
      "i : 7\n",
      "c2 : 3\n",
      "-----\n"
     ]
    },
    {
     "data": {
      "text/plain": [
       "2"
      ]
     },
     "execution_count": 88,
     "metadata": {},
     "output_type": "execute_result"
    }
   ],
   "source": [
    "\n",
    "\n",
    "s1 = \"SHINCHAN\"\n",
    "s2 = \"NOHARAAA\"\n",
    "commonChild(s1, s2)"
   ]
  },
  {
   "cell_type": "code",
   "execution_count": 90,
   "metadata": {},
   "outputs": [],
   "source": [
    "import scipy.integrate as sci\n",
    "import numpy as np"
   ]
  },
  {
   "cell_type": "code",
   "execution_count": 93,
   "metadata": {},
   "outputs": [],
   "source": [
    "import scipy"
   ]
  },
  {
   "cell_type": "code",
   "execution_count": 92,
   "metadata": {},
   "outputs": [
    {
     "data": {
      "text/plain": [
       "(1.4789428575445973, 1.364128191450888e-13)"
      ]
     },
     "execution_count": 92,
     "metadata": {},
     "output_type": "execute_result"
    }
   ],
   "source": [
    "result = sci.quad(lambda x: np.sqrt(4 * x**2 +1), 0, 1)\n",
    "result"
   ]
  },
  {
   "cell_type": "markdown",
   "metadata": {},
   "source": [
    "###### algortihm of when to buy and when to sell"
   ]
  },
  {
   "cell_type": "code",
   "execution_count": null,
   "metadata": {},
   "outputs": [],
   "source": [
    "def max_profit(a):\n",
    "    #a array of prices of stock\n",
    "    profits = 0\n",
    "    n = len(a)\n",
    "    delta_prices = [a[i+1]-a[i] for i in range(n-1)]\n",
    "    day_buy = []\n",
    "    day_sell = []\n",
    "    \n",
    "        \n",
    "        \n",
    "    \n",
    "            \n",
    "        \n",
    "        \n",
    "        \n",
    "        \n",
    "            \n",
    "        "
   ]
  },
  {
   "cell_type": "code",
   "execution_count": null,
   "metadata": {},
   "outputs": [],
   "source": []
  },
  {
   "cell_type": "code",
   "execution_count": null,
   "metadata": {},
   "outputs": [],
   "source": []
  },
  {
   "cell_type": "code",
   "execution_count": null,
   "metadata": {},
   "outputs": [],
   "source": []
  },
  {
   "cell_type": "code",
   "execution_count": null,
   "metadata": {},
   "outputs": [],
   "source": []
  },
  {
   "cell_type": "code",
   "execution_count": null,
   "metadata": {},
   "outputs": [],
   "source": []
  },
  {
   "cell_type": "code",
   "execution_count": null,
   "metadata": {},
   "outputs": [],
   "source": []
  }
 ],
 "metadata": {
  "kernelspec": {
   "display_name": "Python 3",
   "language": "python",
   "name": "python3"
  },
  "language_info": {
   "codemirror_mode": {
    "name": "ipython",
    "version": 3
   },
   "file_extension": ".py",
   "mimetype": "text/x-python",
   "name": "python",
   "nbconvert_exporter": "python",
   "pygments_lexer": "ipython3",
   "version": "3.6.6"
  }
 },
 "nbformat": 4,
 "nbformat_minor": 2
}
