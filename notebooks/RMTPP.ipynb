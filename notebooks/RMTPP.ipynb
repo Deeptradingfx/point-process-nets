{
 "cells": [
  {
   "cell_type": "code",
   "execution_count": 1,
   "metadata": {},
   "outputs": [
    {
     "data": {
      "text/plain": [
       "<torch._C.Generator at 0x11ad73310>"
      ]
     },
     "execution_count": 1,
     "metadata": {},
     "output_type": "execute_result"
    }
   ],
   "source": [
    "import torch\n",
    "import torch.nn as nn\n",
    "import torch.nn.functional as F\n",
    "import torch.optim as optim\n",
    "\n",
    "torch.manual_seed(1)"
   ]
  },
  {
   "cell_type": "code",
   "execution_count": 3,
   "metadata": {},
   "outputs": [
    {
     "data": {
      "text/plain": [
       "1.5697963271282298"
      ]
     },
     "execution_count": 3,
     "metadata": {},
     "output_type": "execute_result"
    }
   ],
   "source": [
    "#test\n",
    "m = nn.Linear(2,3)\n",
    "in_ = torch.randn(4,2)\n",
    "out_ = m(in_)\n",
    "\n",
    "A = torch.tensor([1,2,2])\n",
    "B = torch.tensor([1]*3)\n",
    "import numpy as np\n",
    "np.math.atan(1000)\n",
    "    "
   ]
  },
  {
   "cell_type": "markdown",
   "metadata": {},
   "source": [
    "#### How to simulate: $t_{j+1} = \\int_{t_{j}}^{\\infty} t .f^{*}(t) dt $ where $f^{*}(t) = \\exp(at+b +c\\exp(dt+e)-c\\exp(at+b))$ a,b,c,d and e are randomly selected ?"
   ]
  },
  {
   "cell_type": "code",
   "execution_count": 4,
   "metadata": {},
   "outputs": [],
   "source": [
    "import numpy as np\n",
    "import matplotlib.pyplot as plt\n",
    "import scipy.integrate as integrale"
   ]
  },
  {
   "cell_type": "code",
   "execution_count": 11,
   "metadata": {},
   "outputs": [],
   "source": [
    "#parameters\n",
    "a,b,c,d,e = np.random.uniform(0,1),np.random.uniform(0,1),np.random.uniform(0,1),np.random.uniform(0,1),np.random.uniform(0,1)\n",
    "tj = 0.05\n"
   ]
  },
  {
   "cell_type": "code",
   "execution_count": 12,
   "metadata": {},
   "outputs": [],
   "source": [
    "#function\n",
    "def f(t):\n",
    "    return np.exp(a*t + b +c * np.exp(d*t + e) - c* np.exp(a*t+b))"
   ]
  },
  {
   "cell_type": "code",
   "execution_count": 13,
   "metadata": {},
   "outputs": [
    {
     "data": {
      "text/plain": [
       "<matplotlib.legend.Legend at 0x152879b198>"
      ]
     },
     "execution_count": 13,
     "metadata": {},
     "output_type": "execute_result"
    },
    {
     "data": {
      "image/png": "[encoded data removed]",
      "text/plain": [
       "<Figure size 432x288 with 1 Axes>"
      ]
     },
     "metadata": {
      "needs_background": "light"
     },
     "output_type": "display_data"
    }
   ],
   "source": [
    "t = np.linspace(tj,3,1000)\n",
    "ft = f(t)\n",
    "tft = t*ft\n",
    "plt.plot(t,ft,label=\"$f^{*}(t)$\")\n",
    "plt.plot(t,tft,label=\"$t.f^{*}(t)$\")\n",
    "plt.xlabel(\"time t\")\n",
    "plt.legend()"
   ]
  },
  {
   "cell_type": "markdown",
   "metadata": {},
   "source": [
    "#### Conclusion: $ t.f^{*}(t)$ seems to be a continuous and derivable function"
   ]
  },
  {
   "cell_type": "markdown",
   "metadata": {},
   "source": [
    "#### __1st method:__ Deterministic method: Riemann trapezoidal rule\n",
    "#### $ \\int_{t_{j}}^{\\infty} t .f^{*}(t) dt \\simeq \\int_{t_{j}}^{A} g^{*}(t) dt \\simeq \\Delta T \\sum_{i=0}^{N-1} \\frac{g(x_{i}) + g(x_{i+1})}{2} $ where $\\Delta T = \\frac{A-t_{j}}{N}$"
   ]
  },
  {
   "cell_type": "markdown",
   "metadata": {},
   "source": [
    "#### We have to estimate $A$. To do so, we say that the best candidate for $A$ verify $  \\frac{\\int_{t_{j}}^{A} g^{*}(t) - \\int_{t_{j}}^{10 A} g^{*}(t)}{\\int_{t_{j}}^{A} g^{*}(t)} < 0.05$"
   ]
  },
  {
   "cell_type": "code",
   "execution_count": 14,
   "metadata": {},
   "outputs": [
    {
     "name": "stdout",
     "output_type": "stream",
     "text": [
      "Trapezoidal approximation of the integral: 1.4289533913638552\n",
      "scipy result of the integral : 1.4579333444458813\n"
     ]
    }
   ],
   "source": [
    "N = 10000\n",
    "#return the value of the trapezoidal method for a given A\n",
    "def trapezoidal(A):\n",
    "    DeltaT = (A-tj)/N\n",
    "    sum_ = 0\n",
    "    discrete_time = np.array([DeltaT]*(N))\n",
    "    discrete_time = np.concatenate((np.array([tj]),discrete_time))\n",
    "    discrete_time = np.cumsum(discrete_time)\n",
    "\n",
    "    discrete_f = discrete_time*f(discrete_time)\n",
    "    sum_ = DeltaT * np.sum((discrete_f[1:] + discrete_f[:-1])/2)\n",
    "    return sum_\n",
    "A = 5*tj\n",
    "sum_ = trapezoidal(A)\n",
    "increment = 0\n",
    "while(np.abs(trapezoidal(A) - trapezoidal(10*A))/trapezoidal(A) > 0.05 and increment < 1000):\n",
    "    A = 10*A\n",
    "    sum_ = trapezoidal(A)\n",
    "    increment += 1\n",
    "if(increment == 1000):\n",
    "    print(\"The loop has been stopped because the sum doesn't converge\")\n",
    "print(\"Trapezoidal approximation of the integral:\",sum_)\n",
    "\n",
    "integral = integrale.quad(lambda t:t*f(t),tj,1000)\n",
    "integral,error = integral\n",
    "print(\"scipy result of the integral :\", integral)\n"
   ]
  },
  {
   "cell_type": "markdown",
   "metadata": {},
   "source": [
    "#### __2nd method:__ Integrale by substitution $t = \\tan(u)$\n",
    "#### $\\int_{t_{j}}^{\\infty} t .f^{*}(t) dt = \\int_{ \\tan^{-1}(t_{j})}^{\\frac{\\pi}{2}} \\tan(u) .f^{*}(\\tan(u)) \\frac{1}{\\cos^{2}(u)} du$\n",
    "#### Thus, we don't have to simulate infinity A since the sampling is in a finite interval $[  \\tan^{-1}(t_{j})  ,  \\frac{\\pi}{2} ]$"
   ]
  },
  {
   "cell_type": "code",
   "execution_count": 15,
   "metadata": {},
   "outputs": [],
   "source": [
    "def h(u):\n",
    "    return np.tan(u)*f(np.tan(u))*(1+np.tan(u)**2)\n",
    "\n"
   ]
  },
  {
   "cell_type": "code",
   "execution_count": 50,
   "metadata": {},
   "outputs": [
    {
     "name": "stderr",
     "output_type": "stream",
     "text": [
      "/anaconda3/lib/python3.6/site-packages/ipykernel_launcher.py:3: RuntimeWarning: invalid value encountered in subtract\n",
      "  This is separate from the ipykernel package so we can avoid doing imports until\n"
     ]
    },
    {
     "data": {
      "text/plain": [
       "tensor([1, 1, 1])"
      ]
     },
     "execution_count": 50,
     "metadata": {},
     "output_type": "execute_result"
    }
   ],
   "source": [
    "DeltaT = (np.pi/2-np.math.atan(tj))/N\n",
    "\n",
    "discrete_time = np.array([DeltaT]*(N))\n",
    "discrete_time = np.concatenate((np.array([np.arctan(tj)]),discrete_time))\n",
    "discrete_time = np.cumsum(discrete_time)\n",
    "\n",
    "discrete_h = h(discrete_time)\n",
    "sum_ = DeltaT * np.sum((discrete_h[1:] + discrete_h[:-1])/2)\n",
    "X = torch.tensor([1,2,3])\n",
    "X = torch.cat((torch.tensor([0]),X))\n",
    "X = X[1:] - X[:-1]\n",
    "X"
   ]
  },
  {
   "cell_type": "markdown",
   "metadata": {},
   "source": [
    "#### Conclusion: Not stable! "
   ]
  },
  {
   "cell_type": "markdown",
   "metadata": {},
   "source": [
    "#### __3rd method:__ Using normal distribution\n",
    "#### $\\int_{t_{j}}^{\\infty} t .f^{*}(t) dt = \\int_{t_{j}}^{\\infty} \\sqrt{2\\pi}.\\exp(\\frac{t^{2}}{2}). t .f^{*}(t) . \\frac{1}{\\sqrt{2\\pi}}.\\exp(-\\frac{t^{2}}{2}) dt = \\mathrm{E}(G(\\mathrm{N})) $ where $N$ has a normal distribution with mean 0 and variance 1"
   ]
  },
  {
   "cell_type": "code",
   "execution_count": 17,
   "metadata": {},
   "outputs": [
    {
     "name": "stdout",
     "output_type": "stream",
     "text": [
      "1.4720608651881684\n"
     ]
    }
   ],
   "source": [
    "def G(t,tj):\n",
    "    return (t>tj) * np.sqrt(2*np.pi) * np.exp(t**2 / 2) * t * f(t)\n",
    "sample = np.random.randn(N) \n",
    "sample = G(sample,tj)\n",
    "print(np.mean(sample))"
   ]
  },
  {
   "cell_type": "markdown",
   "metadata": {},
   "source": [
    "## Conclusion: comparison of methods 1 and 3"
   ]
  },
  {
   "cell_type": "markdown",
   "metadata": {},
   "source": [
    "#### Hidden Layer: $h_j = \\max{(W^{y}y_{j} + W^{t}t_{j} + W^{h}h_{j-1} + b_{h},0)} $\n",
    "\n",
    "\n",
    "#### Marker Generation: $P(y_{j+1}=k\\mid h_{j}) = \\frac{\\exp(V_{k,:}^{y}h_{j} + b_{k}^{y})}{\\sum_{k=1}^{K} \\exp(V_{k,:}^{y}h_{j} + b_{k}^{y})} = \\sigma(z)_{k}$ where $\\sigma$ is softmax function and $z$ is the vector $ V^{y}h_{j} + b^{y}$ \n",
    "\n",
    "\n",
    "#### Conditional Density: $f^{*}(t) = \\exp\\{{v^{t}}^\\top.h_{j} + w^t(t-t_{j}) + b^{t} + \\frac{1}{w}\\exp({v^{t}}^\\top.h_{j} + b^{t}) -\\frac{1}{w}\\exp({v^{t}}^\\top.h_{j} + w^t(t-t_{j}) + b^{t} )\\} $"
   ]
  },
  {
   "cell_type": "code",
   "execution_count": 282,
   "metadata": {},
   "outputs": [],
   "source": [
    "class Rmtpp(nn.Module):\n",
    "    \n",
    "    def __init__(self,marker_dim):\n",
    "        #marker_dim equals to time_dim\n",
    "        super(Rmtpp, self).__init__()\n",
    "        #embedding yj for a more compact and efficient representation\n",
    "        self.embedding = nn.Linear(1,1)\n",
    "        #linear transformation\n",
    "        self.lin_op = nn.Linear(3,1) \n",
    "        self.vt = nn.Linear(1,1)\n",
    "        #weights\n",
    "        self.w_t = torch.rand(1) \n",
    "        self.w = torch.rand(1) \n",
    "        self.V_y = torch.rand(marker_dim) #marker dim = number of markers \n",
    "        self.b_y = torch.rand(marker_dim) #bias\n",
    "        \n",
    "    \n",
    "    #compute the function fstar\n",
    "    def fstart(self,t,tj,hj):\n",
    "        return torch.exp(self.vt(hj) + self.w_t*(t-tj) + 1/self.w * torch.exp(self.vt(hj)) -1/self.w * torch.exp(self.vt(hj) + self.w_t*(t-tj)))\n",
    "    \n",
    "    #compute integral of t*fstart(t) for tj to infinity using monteCarlo method\n",
    "    def numerical_mean(self,tj,hj):\n",
    "        N = 10000\n",
    "        samp = torch.randn(N,1)\n",
    "        sample = torch.sqrt(torch.tensor([2*F.math.pi]*N).unsqueeze(-1)) * torch.exp(1/2 * samp**2) * samp * self.fstart(samp,tj,hj)\n",
    "        #I select only value greater than tj\n",
    "        samp = samp.squeeze(1)\n",
    "        sample = sample.squeeze(1)\n",
    "        samp = samp>tj\n",
    "        samp = samp.float()\n",
    "        sample = torch.dot(samp,sample) \n",
    "        #then cumsum of sample \n",
    "        return torch.cumsum(sample,dim=0)\n",
    "        \n",
    "        \n",
    "        \n",
    "    def forward(self, time, marker, hidden_state):\n",
    "        #I first compute next time\n",
    "        tj = time\n",
    "        time = self.numerical_mean(time,hidden_state)\n",
    "        logfstar = -1 * torch.log(self.fstart(time,tj,hidden_state))\n",
    "        #Then next marker distribution\n",
    "        soft_max = nn.Softmax()\n",
    "        marker_distribution = soft_max(self.V_y*hidden_state + self.b_y)\n",
    "        logprob = -1 * torch.log(marker_distribution)\n",
    "        #Finally next hidden_state\n",
    "        embedding = self.embedding(marker)\n",
    "        #print(embedding)\n",
    "        #print(time)\n",
    "        #print(hidden_state)\n",
    "        input_ = torch.cat((embedding, time.unsqueeze(-1), hidden_state))\n",
    "        hidden_state = F.relu(self.lin_op(input_))\n",
    "         \n",
    "        return logprob, logfstar, hidden_state\n",
    "    \n",
    "    def init_hidden(self):\n",
    "        return torch.zeros(1)\n",
    "    \n",
    "    def log_likelihood(self,log_time_series_list,log_marker_series_list):\n",
    "        #time series and marker series are output of the RMTPP network\n",
    "        #return log_likelihood of all sequences\n",
    "        lll = 0\n",
    "        for i in range(len(time_series_list)):\n",
    "            lll += torch.sum(log_time_series_list) + torch.sum(log_marker_series_list)\n",
    "        return lll       \n",
    "                \n",
    "        "
   ]
  },
  {
   "cell_type": "markdown",
   "metadata": {},
   "source": [
    "## Training:"
   ]
  },
  {
   "cell_type": "code",
   "execution_count": 283,
   "metadata": {},
   "outputs": [
    {
     "data": {
      "text/plain": [
       "tensor([1, 2, 2])"
      ]
     },
     "execution_count": 283,
     "metadata": {},
     "output_type": "execute_result"
    }
   ],
   "source": [
    "m = nn.Linear(1, 1)\n",
    "wt = torch.rand(1)\n",
    "t = torch.randn(3,1)\n",
    "tj = torch.rand(1)\n",
    "\n",
    "#t = t.squeeze(1)\n",
    "\n",
    "y = torch.randn(3)\n",
    "y = y.unsqueeze(-1)\n",
    "z = y*t\n",
    "z = z.squeeze(1)\n",
    "a = torch.tensor([1,0,1])\n",
    "a = a.float()\n",
    "\n",
    "x= torch.tensor([1])\n",
    "x\n",
    "y = torch.tensor([2])\n",
    "\n",
    "z = torch.tensor(2).unsqueeze(-1)\n",
    "torch.cat((x,y,z))"
   ]
  },
  {
   "cell_type": "code",
   "execution_count": 285,
   "metadata": {},
   "outputs": [
    {
     "name": "stderr",
     "output_type": "stream",
     "text": [
      "/anaconda3/lib/python3.6/site-packages/ipykernel_launcher.py:45: UserWarning: Implicit dimension choice for softmax has been deprecated. Change the call to include dim=X as an argument.\n"
     ]
    },
    {
     "data": {
      "text/plain": [
       "([tensor([2.1349, 2.0067, 2.0958, 2.9000, 2.6037, 2.1029, 2.9444, 2.6503, 2.0633,\n",
       "          2.0962]),\n",
       "  tensor([   inf,    inf,    inf,    inf, 0.0026,    inf, 5.9372,    inf,    inf,\n",
       "             inf], grad_fn=<MulBackward>),\n",
       "  tensor([nan, nan, nan, nan, nan, nan, nan, nan, nan, nan], grad_fn=<MulBackward>)],\n",
       " [tensor([inf], grad_fn=<MulBackward>),\n",
       "  tensor([nan], grad_fn=<MulBackward>),\n",
       "  tensor([nan], grad_fn=<MulBackward>)])"
      ]
     },
     "execution_count": 285,
     "metadata": {},
     "output_type": "execute_result"
    }
   ],
   "source": [
    "loss = nn.NLLLoss()\n",
    "learning_rate = 0.0005\n",
    "rnn = Rmtpp(10)\n",
    "\n",
    "\n",
    "def train(time,marker):\n",
    "    loss = 0\n",
    "    hidden = rnn.init_hidden()\n",
    "    lp = []\n",
    "    lf = []\n",
    "    for j in range(len(time)):\n",
    "        tj = time[j]\n",
    "        yj = marker[j]\n",
    "        #print(tj)\n",
    "        #print(yj)\n",
    "        logprob, logfstar, hidden = rnn(tj, yj, hidden)\n",
    "        lp.append(logprob)\n",
    "        lf.append(logfstar)\n",
    "    #loss = rnn.log_likelihood(-1*logfstar,-1*logprob)\n",
    "    return lp,lf\n",
    "\n",
    "t = torch.randn(3,1)\n",
    "m = torch.randn(3,1)\n",
    "train(t,m)\n"
   ]
  },
  {
   "cell_type": "code",
   "execution_count": null,
   "metadata": {},
   "outputs": [],
   "source": []
  }
 ],
 "metadata": {
  "kernelspec": {
   "display_name": "Python 3",
   "language": "python",
   "name": "python3"
  },
  "language_info": {
   "codemirror_mode": {
    "name": "ipython",
    "version": 3
   },
   "file_extension": ".py",
   "mimetype": "text/x-python",
   "name": "python",
   "nbconvert_exporter": "python",
   "pygments_lexer": "ipython3",
   "version": "3.6.6"
  }
 },
 "nbformat": 4,
 "nbformat_minor": 2
}
