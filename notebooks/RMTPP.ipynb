{
 "cells": [
  {
   "cell_type": "code",
   "execution_count": 1,
   "metadata": {},
   "outputs": [
    {
     "data": {
      "text/plain": [
       "<torch._C.Generator at 0x119c3c370>"
      ]
     },
     "execution_count": 1,
     "metadata": {},
     "output_type": "execute_result"
    }
   ],
   "source": [
    "import torch\n",
    "import torch.nn as nn\n",
    "import torch.nn.functional as F\n",
    "import torch.optim as optim\n",
    "\n",
    "torch.manual_seed(3456)\n"
   ]
  },
  {
   "cell_type": "markdown",
   "metadata": {},
   "source": [
    "#### Hidden Layer: $h_j = \\max{(W^{y}y_{j} + W^{t}t_{j} + W^{h}h_{j-1} + b_{h},0)} $\n",
    "\n",
    "\n",
    "#### Marker Generation: $P(y_{j+1}=k\\mid h_{j}) = \\frac{\\exp(V_{k,:}^{y}h_{j} + b_{k}^{y})}{\\sum_{k=1}^{K} \\exp(V_{k,:}^{y}h_{j} + b_{k}^{y})} = \\sigma(z)_{k}$ where $\\sigma$ is softmax function and $z$ is the vector $ V^{y}h_{j} + b^{y}$ \n",
    "\n",
    "\n",
    "#### Conditional Density: $f^{*}(t) = \\exp\\{{v^{t}}^\\top.h_{j} + w^t(t-t_{j}) + b^{t} + \\frac{1}{w^t}\\exp({v^{t}}^\\top.h_{j} + b^{t}) -\\frac{1}{w^t}\\exp({v^{t}}^\\top.h_{j} + w^t(t-t_{j}) + b^{t} )\\} $"
   ]
  },
  {
   "cell_type": "code",
   "execution_count": 27,
   "metadata": {},
   "outputs": [],
   "source": [
    "class Rmtpp(nn.Module):\n",
    "    \n",
    "    def __init__(self,hidden_size=16):\n",
    "        self.hidden_size = hidden_size\n",
    "        self.N = 1000\n",
    "        #marker_dim equals to time_dim\n",
    "        super(Rmtpp, self).__init__()\n",
    "        process_dim = 2\n",
    "        marker_dim = 2\n",
    "        #linear transformation\n",
    "        self.lin_op = nn.Linear(process_dim+1+hidden_size,hidden_size) \n",
    "        self.vt = nn.Linear(hidden_size,1)\n",
    "        #embedding\n",
    "        self.embedding = nn.Embedding(process_dim+1, 2, padding_idx=process_dim)\n",
    "        \n",
    "        #weights\n",
    "        self.w_t = torch.rand(1, requires_grad=True)\n",
    "        self.V_y = torch.rand(self.hidden_size, requires_grad=True) #marker dim = number of markers \n",
    "        self.b_y = torch.rand(self.hidden_size, requires_grad=True) #bias\n",
    "        \n",
    "    #compute integral of t*fstart(t) between tj and +infinity using trapezoidal rule\n",
    "    def next_time(self,tj,hj):\n",
    "        umax = 40 #maximum time\n",
    "        Deltat = umax/self.N\n",
    "        dt = torch.linspace(0, umax, self.N+1)\n",
    "        df = dt * self.fstart(dt, hj)\n",
    "        #normalization factor\n",
    "        integrand_ = ((df[1:] + df[:-1]) * 0.5) * Deltat\n",
    "        integral_ = torch.sum(integrand_)\n",
    "        return tj + integral_\n",
    "        \n",
    "    \n",
    "    #compute the function fstar\n",
    "    def fstart(self, u, hj):\n",
    "        ewt = -torch.exp(self.w_t)\n",
    "        eiwt = -torch.exp(-self.w_t)\n",
    "        return (\n",
    "            torch.exp(self.vt(hj) + ewt*u \n",
    "            - eiwt * torch.exp(self.vt(hj) + ewt*u) + eiwt*torch.exp(self.vt(hj)))\n",
    "        )\n",
    "            \n",
    "    def proba_distribution(self,hj):\n",
    "        soft_max = nn.Softmax() #softmax of rows\n",
    "        return soft_max(self.V_y*hj + self.b_y)\n",
    "        \n",
    "    def forward(self, time, marker, hidden_state):    \n",
    "        #First compute next time\n",
    "        tj = time\n",
    "        time = self.next_time(time,hidden_state).unsqueeze(-1)\n",
    "        fstar = self.fstart(time-tj,hidden_state) \n",
    "       \n",
    "        #Then next marker distribution \n",
    "        prob = self.proba_distribution(hidden_state)\n",
    "        #marker = marker.float()\n",
    "        marker = self.embedding(marker)\n",
    "        input_ = torch.cat((marker, time, hidden_state), dim=1)\n",
    "      \n",
    "        hidden_state = F.relu(self.lin_op(input_))\n",
    "        return prob, fstar, hidden_state\n",
    "    \n",
    "    \n",
    "    def log_likelihood(self,time_sequence,marker_sequence):\n",
    "        marker_ = marker_sequence\n",
    "        time_sequence = time_sequence.unsqueeze(-1)\n",
    "        marker_sequence = marker_sequence.unsqueeze(-1)\n",
    "        loss = 0\n",
    "        hidden_state = torch.zeros(1, self.hidden_size)\n",
    "        for i in range(time_sequence.shape[0]-1):\n",
    "            time = time_sequence[i]\n",
    "            marker__ = marker_[i+1]\n",
    "            marker = marker_sequence[i]\n",
    "            prob, fstar, hidden_state= self(time,marker,hidden_state)\n",
    "            loss += torch.log(prob[:, marker__]) + torch.log(fstar)\n",
    "        \n",
    "        return -1 * loss\n",
    "    \n",
    "    \n",
    "    def train(self, seq_times, seq_types, seq_lengths, optimizer, epochs=10):\n",
    "        #seq_times: time sequences\n",
    "        #seq_types: type sequences\n",
    "        #seq_length: keep track of length of each sequences\n",
    "\n",
    "        n_sequences = seq_times.shape[0]\n",
    "        epoch_range = range(epochs)\n",
    "        losses = []\n",
    "        for e in epoch_range:\n",
    "            print(\"epochs {}  ------\".format(e+1))\n",
    "            epoch_losses = []\n",
    "            loss = torch.zeros(1, 1)\n",
    "            optimizer.zero_grad()\n",
    "            for i in range(n_sequences):\n",
    "                length = seq_lengths[i]\n",
    "                evt_times = seq_times[i, :length]\n",
    "                evt_types = seq_types[i, :length]\n",
    "                ll = self.log_likelihood(evt_times, evt_types)\n",
    "                loss += ll\n",
    "            loss.backward()\n",
    "            optimizer.step()\n",
    "            epoch_losses.append(loss.item())\n",
    "            print(\"loss: {}\".format(loss.item()))\n",
    "            losses.append(np.mean(epoch_losses))\n",
    "        print(\"end -------------\")  \n",
    "        return losses\n",
    "\n",
    "    def predict(seq_times, seq_types, seq_lengths, optimizer):\n",
    "        last_times = []\n",
    "        for i in range(n_sequences):\n",
    "            length = seq_lengths[i]\n",
    "            evt_times = seq_times[i, :length]\n",
    "            evt_types = seq_types[i, :length]\n",
    "            time_sequence = evt_times.unsqueeze(-1)\n",
    "            marker_sequence = evt_types.unsqueeze(-1)\n",
    "            hidden_state = torch.zeros(1, self.hidden_size)\n",
    "            for i in range(time_sequence.shape[0]-1):\n",
    "                time = time_sequence[i]\n",
    "                marker__ = marker_[i+1]\n",
    "                marker = marker_sequence[i]\n",
    "                prob, fstar, hidden_state,t = self(time,marker,hidden_state)\n",
    "                \n",
    "            last_times.append(time) #time is the last time at the end of the loop\n",
    "                \n",
    "        return times\n",
    "                \n",
    "        "
   ]
  },
  {
   "cell_type": "code",
   "execution_count": 29,
   "metadata": {},
   "outputs": [],
   "source": [
    "%matplotlib inline"
   ]
  },
  {
   "cell_type": "code",
   "execution_count": 30,
   "metadata": {},
   "outputs": [
    {
     "data": {
      "text/plain": [
       "2"
      ]
     },
     "execution_count": 30,
     "metadata": {},
     "output_type": "execute_result"
    }
   ],
   "source": [
    "a = torch.tensor([1,2])\n",
    "a.shape[0]"
   ]
  },
  {
   "cell_type": "markdown",
   "metadata": {},
   "source": [
    "## Training:"
   ]
  },
  {
   "cell_type": "code",
   "execution_count": 31,
   "metadata": {},
   "outputs": [],
   "source": [
    "import tqdm"
   ]
  },
  {
   "cell_type": "code",
   "execution_count": 32,
   "metadata": {},
   "outputs": [],
   "source": [
    "import torch.optim as optim\n",
    "import numpy as np\n",
    "\n",
    "\n",
    "rnn = Rmtpp()\n",
    "\n",
    "learning_rate = 0.002\n",
    "optimizer = optim.Adam(rnn.parameters(), lr=learning_rate)\n"
   ]
  },
  {
   "cell_type": "code",
   "execution_count": 33,
   "metadata": {},
   "outputs": [
    {
     "data": {
      "text/plain": [
       "1000"
      ]
     },
     "execution_count": 33,
     "metadata": {},
     "output_type": "execute_result"
    }
   ],
   "source": [
    "rnn.N"
   ]
  },
  {
   "cell_type": "code",
   "execution_count": 34,
   "metadata": {},
   "outputs": [
    {
     "data": {
      "text/plain": [
       "torch.Size([4000, 921])"
      ]
     },
     "execution_count": 34,
     "metadata": {},
     "output_type": "execute_result"
    }
   ],
   "source": [
    "seq_times.shape\n",
    "seq_types.shape"
   ]
  },
  {
   "cell_type": "code",
   "execution_count": null,
   "metadata": {},
   "outputs": [
    {
     "name": "stdout",
     "output_type": "stream",
     "text": [
      "epochs 1  ------\n"
     ]
    },
    {
     "name": "stderr",
     "output_type": "stream",
     "text": [
      "/anaconda3/lib/python3.6/site-packages/ipykernel_launcher.py:44: UserWarning: Implicit dimension choice for softmax has been deprecated. Change the call to include dim=X as an argument.\n"
     ]
    }
   ],
   "source": [
    "seq_times_train = seq_times[:128]\n",
    "seq_types_train = seq_types[:128]\n",
    "seq_lengths_train = seq_lengths[:128]\n",
    "#print(seq_times_train.shape)\n",
    "seq_times_pred = seq_times[128:200]\n",
    "seq_types_pred = seq_types[128:200]\n",
    "seq_lengths_pred = seq_lengths[128:200]\n",
    "losses = rnn.train(seq_times_train, seq_types_train, seq_lengths_train,optimizer ,epochs=20)"
   ]
  },
  {
   "cell_type": "code",
   "execution_count": 382,
   "metadata": {},
   "outputs": [
    {
     "data": {
      "text/plain": [
       "Text(0.5, 1.0, 'loss function of RMTPP model')"
      ]
     },
     "execution_count": 382,
     "metadata": {},
     "output_type": "execute_result"
    },
    {
     "data": {
      "image/png": "[encoded data removed]",
      "text/plain": [
       "<Figure size 800x500 with 1 Axes>"
      ]
     },
     "metadata": {
      "needs_background": "light"
     },
     "output_type": "display_data"
    }
   ],
   "source": [
    "plt.figure(figsize=(8, 5), dpi=100)\n",
    "plt.plot(range(1,21),losses, linestyle = \"--\",marker='.',markerfacecolor='red', markersize=10)\n",
    "plt.xlabel(\"epochs\")\n",
    "plt.ylabel(\"loss\")\n",
    "plt.title(\"loss function of RMTPP model\")\n",
    "\n"
   ]
  },
  {
   "cell_type": "code",
   "execution_count": null,
   "metadata": {},
   "outputs": [],
   "source": [
    "one_time_sequence = seq_times[105]\n",
    "\n",
    "\n",
    "\n",
    "#predicted_time = rnn.predict(time_sequence,marker_sequence)"
   ]
  },
  {
   "cell_type": "code",
   "execution_count": 7,
   "metadata": {},
   "outputs": [
    {
     "name": "stdout",
     "output_type": "stream",
     "text": [
      "0.9999999568648903\n"
     ]
    },
    {
     "data": {
      "text/plain": [
       "[<matplotlib.lines.Line2D at 0x120d3a5c0>]"
      ]
     },
     "execution_count": 7,
     "metadata": {},
     "output_type": "execute_result"
    },
    {
     "data": {
      "image/png": "[encoded data removed]",
      "text/plain": [
       "<Figure size 432x288 with 1 Axes>"
      ]
     },
     "metadata": {
      "needs_background": "light"
     },
     "output_type": "display_data"
    }
   ],
   "source": [
    "import numpy as np\n",
    "#t = torch.linspace(0,100)\n",
    "t = torch.linspace(0,5,100000)\n",
    "tj = torch.tensor([0.1567])\n",
    "hj = torch.tensor([1.56])\n",
    "marker = torch.tensor([0.])\n",
    "nf = rnn.normalization_factor(tj,hj)\n",
    "fstar = rnn.fstart(t,tj,hj).detach().numpy()\n",
    "delta = t.numpy()[1] - t.numpy()[0]\n",
    "integrale_ = np.sum(fstar[1:] + fstar[:-1])/2 * delta\n",
    "fstar  = fstar/integrale_\n",
    "import matplotlib.pyplot as plt\n",
    "integrale__ = np.sum(fstar[1:] + fstar[:-1])/2 * delta\n",
    "print(integrale__)\n",
    "\n",
    "plt.plot(t.numpy(),fstar, linestyle = \"--\")"
   ]
  },
  {
   "cell_type": "markdown",
   "metadata": {},
   "source": [
    "# Tick.Hawkes"
   ]
  },
  {
   "cell_type": "code",
   "execution_count": 2,
   "metadata": {},
   "outputs": [],
   "source": [
    "from tick.plot import plot_point_process\n",
    "from tick.hawkes import SimuHawkes, HawkesKernelSumExp\n",
    "import matplotlib.pyplot as plt"
   ]
  },
  {
   "cell_type": "markdown",
   "metadata": {},
   "source": [
    "#### 1 dimensional Hawkes process simulation using tick"
   ]
  },
  {
   "cell_type": "code",
   "execution_count": 3,
   "metadata": {},
   "outputs": [
    {
     "data": {
      "text/plain": [
       "<Figure size 1600x400 with 2 Axes>"
      ]
     },
     "execution_count": 3,
     "metadata": {},
     "output_type": "execute_result"
    }
   ],
   "source": [
    "run_time = 40\n",
    "\n",
    "hawkes = SimuHawkes(n_nodes=1, end_time=run_time, verbose=False, seed=1398)\n",
    "kernel1 = HawkesKernelSumExp([.1, .2, .1], [1., 3., 7.])\n",
    "hawkes.set_kernel(0, 0, kernel1)\n",
    "hawkes.set_baseline(0, 1.)\n",
    "\n",
    "dt = 0.01\n",
    "hawkes.track_intensity(dt)\n",
    "hawkes.simulate()\n",
    "timestamps = hawkes.timestamps\n",
    "intensity = hawkes.tracked_intensity\n",
    "intensity_times = hawkes.intensity_tracked_times\n",
    "\n",
    "_, ax = plt.subplots(1, 2, figsize=(16, 4))\n",
    "plot_point_process(hawkes, n_points=50000, t_min=0, max_jumps=20, ax=ax[0])\n",
    "plot_point_process(hawkes, n_points=50000, t_min=2, t_max=20, ax=ax[1])"
   ]
  },
  {
   "cell_type": "code",
   "execution_count": 4,
   "metadata": {},
   "outputs": [],
   "source": [
    "def simulate_timestamps(end_time):\n",
    "    # simulation 2 types of event for exemple selling or buying\n",
    "    \n",
    "    hawkes = SimuHawkes(n_nodes=2, end_time=end_time, verbose=False, seed=1398)\n",
    "    kernel = HawkesKernelSumExp([.1, .2, .1], [1., 3., 7.])\n",
    "    kernel1 = HawkesKernelSumExp([.2, .3, .1], [1., 3., 7.])\n",
    "    \n",
    "    hawkes.set_kernel(0, 0, kernel)\n",
    "    hawkes.set_kernel(0, 1, kernel)\n",
    "    hawkes.set_kernel(1, 0, kernel)\n",
    "    hawkes.set_kernel(1, 1, kernel)\n",
    "    \n",
    "    hawkes.set_baseline(0, .8)\n",
    "    hawkes.set_baseline(1, 1.)\n",
    "\n",
    "    dt = 0.1\n",
    "    hawkes.track_intensity(dt)\n",
    "    hawkes.simulate()\n",
    "    timestamps = hawkes.timestamps\n",
    "    t0 = timestamps[0]\n",
    "    t1 = timestamps[1]\n",
    "    \n",
    "    t = []\n",
    "    marker = []\n",
    "    n0 = len(t0)\n",
    "    n1 = len(t1)\n",
    "    i = 0\n",
    "    j = 0\n",
    "    while(i<n0 and j<n1):\n",
    "        if(t0[i]<t1[j]):\n",
    "            t.append(t0[i])\n",
    "            marker.append(0)\n",
    "            i += 1\n",
    "        else:\n",
    "            t.append(t1[j])\n",
    "            marker.append(1)\n",
    "            j += 1\n",
    "    if(i==n0):\n",
    "        for k in range(n0,n1):\n",
    "            t.append(t1[k])\n",
    "            marker.append(1)\n",
    "    else:\n",
    "        for k in range(n1,n0):\n",
    "            t.append(t0[k])\n",
    "            marker.append(0)\n",
    "        \n",
    "        \n",
    "   \n",
    "    return t,marker\n",
    "\n",
    "\n",
    " "
   ]
  },
  {
   "cell_type": "markdown",
   "metadata": {},
   "source": [
    "### Training with simulated hawkes"
   ]
  },
  {
   "cell_type": "code",
   "execution_count": 5,
   "metadata": {},
   "outputs": [],
   "source": [
    "import pickle\n",
    "import os\n",
    "import glob\n",
    "import sys"
   ]
  },
  {
   "cell_type": "code",
   "execution_count": 6,
   "metadata": {},
   "outputs": [
    {
     "name": "stdout",
     "output_type": "stream",
     "text": [
      "Notebook dir /Users/cheikh/Desktop/Hawkes process/map511-p3a\n",
      "Python interpreter path:\n",
      "\n",
      "/anaconda3/lib/python36.zip\n",
      "/anaconda3/lib/python3.6\n",
      "/anaconda3/lib/python3.6/lib-dynload\n",
      "/anaconda3/lib/python3.6/site-packages\n",
      "/anaconda3/lib/python3.6/site-packages/aeosa\n",
      "/anaconda3/lib/python3.6/site-packages/pointprocesses-0.3.0-py3.6-macosx-10.7-x86_64.egg\n",
      "/anaconda3/lib/python3.6/site-packages/IPython/extensions\n",
      "/Users/cheikh/.ipython\n",
      "/Users/cheikh/Desktop/Hawkes process/map511-p3a\n"
     ]
    }
   ],
   "source": [
    "# Add parent dir to interpreter path\n",
    "nb_dir = os.path.split(os.getcwd())[0]\n",
    "print(\"Notebook dir {:}\".format(nb_dir))\n",
    "if nb_dir not in sys.path:\n",
    "    sys.path.append(nb_dir)\n",
    "print(\"Python interpreter path:\")\n",
    "for path in sys.path:\n",
    "    print(path)"
   ]
  },
  {
   "cell_type": "code",
   "execution_count": 7,
   "metadata": {},
   "outputs": [
    {
     "name": "stdout",
     "output_type": "stream",
     "text": [
      "['../data/simulated/hawkes_synthetic_exp_2d_20181206-160527.pkl', '../data/simulated/hawkes_synthetic_exp_1d_20181205-142133.pkl', '../data/simulated/hawkes_synthetic_exp_2d_20181207-220402.pkl']\n"
     ]
    }
   ],
   "source": [
    "SYNTH_DATA_FILES = glob.glob('../data/simulated/*.pkl')\n",
    "print(SYNTH_DATA_FILES)"
   ]
  },
  {
   "cell_type": "code",
   "execution_count": 8,
   "metadata": {},
   "outputs": [
    {
     "name": "stdout",
     "output_type": "stream",
     "text": [
      "../data/simulated/hawkes_synthetic_exp_2d_20181207-220402.pkl\n"
     ]
    }
   ],
   "source": [
    "chosen_data_file = SYNTH_DATA_FILES[2]\n",
    "print(chosen_data_file)\n",
    "\n",
    "from utils.load_synth_data import process_loaded_sequences, one_hot_embedding"
   ]
  },
  {
   "cell_type": "code",
   "execution_count": 9,
   "metadata": {},
   "outputs": [
    {
     "name": "stdout",
     "output_type": "stream",
     "text": [
      "Loading 2-dimensional Hawkes data.\n",
      "dict_keys(['mu', 'alpha', 'decay', 'tmax', 'timestamps', 'types', 'lengths'])\n"
     ]
    }
   ],
   "source": [
    "# Load data simulated using tick\n",
    "\n",
    "print(\"Loading 2-dimensional Hawkes data.\")\n",
    "\n",
    "with open(chosen_data_file, \"rb\") as f:\n",
    "    loaded_hawkes_data = pickle.load(f)\n",
    "\n",
    "print(loaded_hawkes_data.keys())\n",
    "\n",
    "tmax = loaded_hawkes_data['tmax']\n",
    "\n",
    "\n",
    "seq_times, seq_types, seq_lengths = process_loaded_sequences(\n",
    "    loaded_hawkes_data, 2, tmax)"
   ]
  },
  {
   "cell_type": "code",
   "execution_count": 10,
   "metadata": {},
   "outputs": [
    {
     "data": {
      "text/plain": [
       "torch.Size([4000, 921])"
      ]
     },
     "execution_count": 10,
     "metadata": {},
     "output_type": "execute_result"
    }
   ],
   "source": [
    "seq_types.shape"
   ]
  },
  {
   "cell_type": "code",
   "execution_count": null,
   "metadata": {},
   "outputs": [],
   "source": []
  }
 ],
 "metadata": {
  "kernelspec": {
   "display_name": "Python 3",
   "language": "python",
   "name": "python3"
  },
  "language_info": {
   "codemirror_mode": {
    "name": "ipython",
    "version": 3
   },
   "file_extension": ".py",
   "mimetype": "text/x-python",
   "name": "python",
   "nbconvert_exporter": "python",
   "pygments_lexer": "ipython3",
   "version": "3.6.6"
  }
 },
 "nbformat": 4,
 "nbformat_minor": 2
}
