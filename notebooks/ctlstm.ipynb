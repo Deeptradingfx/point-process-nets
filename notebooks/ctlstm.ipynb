{
 "cells": [
  {
   "cell_type": "markdown",
   "metadata": {},
   "source": [
    "# Hawkes LSTM model"
   ]
  },
  {
   "cell_type": "code",
   "execution_count": 43,
   "metadata": {
    "scrolled": true
   },
   "outputs": [
    {
     "name": "stdout",
     "output_type": "stream",
     "text": [
      "The autoreload extension is already loaded. To reload it, use:\n",
      "  %reload_ext autoreload\n"
     ]
    }
   ],
   "source": [
    "%matplotlib inline\n",
    "%load_ext autoreload\n",
    "%autoreload 2"
   ]
  },
  {
   "cell_type": "code",
   "execution_count": 2,
   "metadata": {},
   "outputs": [],
   "source": [
    "import matplotlib.pyplot as plt\n",
    "import matplotlib.ticker as mticker\n",
    "import numpy as np"
   ]
  },
  {
   "cell_type": "code",
   "execution_count": 3,
   "metadata": {},
   "outputs": [],
   "source": [
    "import torch\n",
    "from torch import nn"
   ]
  },
  {
   "cell_type": "code",
   "execution_count": 4,
   "metadata": {},
   "outputs": [
    {
     "data": {
      "text/plain": [
       "<torch._C.Generator at 0x7fa355b31dd0>"
      ]
     },
     "execution_count": 4,
     "metadata": {},
     "output_type": "execute_result"
    }
   ],
   "source": [
    "torch.manual_seed(1)"
   ]
  },
  {
   "cell_type": "code",
   "execution_count": 5,
   "metadata": {},
   "outputs": [],
   "source": [
    "import os\n",
    "import sys\n",
    "import glob\n",
    "import tqdm"
   ]
  },
  {
   "cell_type": "code",
   "execution_count": 6,
   "metadata": {},
   "outputs": [
    {
     "name": "stdout",
     "output_type": "stream",
     "text": [
      "Notebook dir /home/manifold/Documents/etudes/map511-p3a\n",
      "Python interpreter path:\n",
      "/home/manifold/Documents/etudes/map511-p3a/notebooks\n",
      "/home/manifold/miniconda3/envs/pytorch/lib/python37.zip\n",
      "/home/manifold/miniconda3/envs/pytorch/lib/python3.7\n",
      "/home/manifold/miniconda3/envs/pytorch/lib/python3.7/lib-dynload\n",
      "\n",
      "/home/manifold/miniconda3/envs/pytorch/lib/python3.7/site-packages\n",
      "/home/manifold/miniconda3/envs/pytorch/lib/python3.7/site-packages/pointprocesses-0.4.1-py3.7-linux-x86_64.egg\n",
      "/home/manifold/miniconda3/envs/pytorch/lib/python3.7/site-packages/torchvision-0.2.1-py3.7.egg\n",
      "/home/manifold/miniconda3/envs/pytorch/lib/python3.7/site-packages/IPython/extensions\n",
      "/home/manifold/.ipython\n",
      "/home/manifold/Documents/etudes/map511-p3a\n"
     ]
    }
   ],
   "source": [
    "# Add parent dir to interpreter path\n",
    "nb_dir = os.path.split(os.getcwd())[0]\n",
    "print(\"Notebook dir {:}\".format(nb_dir))\n",
    "if nb_dir not in sys.path:\n",
    "    sys.path.append(nb_dir)\n",
    "print(\"Python interpreter path:\")\n",
    "for path in sys.path:\n",
    "    print(path)"
   ]
  },
  {
   "cell_type": "markdown",
   "metadata": {},
   "source": [
    "## Loading synthetic data"
   ]
  },
  {
   "cell_type": "markdown",
   "metadata": {},
   "source": [
    "We will be loading simulated Hawkes data."
   ]
  },
  {
   "cell_type": "code",
   "execution_count": 7,
   "metadata": {},
   "outputs": [
    {
     "name": "stdout",
     "output_type": "stream",
     "text": [
      "Available files:\n",
      "../data/simulated/hawkes_synthetic_exp_1d_20181202-135203.pkl\n",
      "../data/simulated/hawkes_synthetic_exp_2d_20181201-002801.pkl\n"
     ]
    }
   ],
   "source": [
    "import glob\n",
    "import pickle\n",
    "\n",
    "SYNTH_DATA_FILES = glob.glob('../data/simulated/*.pkl')\n",
    "print(\"Available files:\")\n",
    "for s in SYNTH_DATA_FILES:\n",
    "    print(s)\n",
    "\n",
    "from utils.load_synth_data import process_loaded_sequences, one_hot_embedding"
   ]
  },
  {
   "cell_type": "code",
   "execution_count": 8,
   "metadata": {},
   "outputs": [
    {
     "name": "stdout",
     "output_type": "stream",
     "text": [
      "Process dimension: 1\n",
      "Data file: ../data/simulated/hawkes_synthetic_exp_1d_20181202-135203.pkl\n"
     ]
    }
   ],
   "source": [
    "# SET THESE PARAMETERS\n",
    "process_dim = 1\n",
    "print(\"Process dimension: {}\".format(process_dim))\n",
    "choose_file_index = 0\n",
    "chosen_data_file = SYNTH_DATA_FILES[choose_file_index]\n",
    "print(\"Data file: {}\".format(chosen_data_file))"
   ]
  },
  {
   "cell_type": "code",
   "execution_count": 9,
   "metadata": {},
   "outputs": [
    {
     "name": "stdout",
     "output_type": "stream",
     "text": [
      "Loading 1-dimensional Hawkes data.\n",
      "dict_keys(['mu', 'alpha', 'decay', 'tmax', 'timestamps', 'types', 'lengths'])\n",
      "mu\t1.0\n",
      "alpha\t0.2\n",
      "decay\t3.0\n",
      "tmax\t80.0\n"
     ]
    }
   ],
   "source": [
    "# Load data simulated using tick\n",
    "print(\"Loading {}-dimensional Hawkes data.\".format(process_dim))\n",
    "\n",
    "with open(chosen_data_file, \"rb\") as f:\n",
    "    loaded_hawkes_data = pickle.load(f)\n",
    "\n",
    "print(loaded_hawkes_data.keys())\n",
    "\n",
    "mu = loaded_hawkes_data['mu']\n",
    "alpha = loaded_hawkes_data['alpha']\n",
    "decay = loaded_hawkes_data['decay']\n",
    "tmax = loaded_hawkes_data['tmax']\n",
    "print(\"mu\\t{:}\".format(str(mu)))\n",
    "print(\"alpha\\t{:}\".format(str(alpha)))\n",
    "print(\"decay\\t{:}\".format(str(decay)))\n",
    "print(\"tmax\\t{:}\".format(tmax))\n",
    "\n",
    "seq_times, seq_types, seq_lengths = process_loaded_sequences(\n",
    "    loaded_hawkes_data, process_dim, tmax)"
   ]
  },
  {
   "cell_type": "code",
   "execution_count": 10,
   "metadata": {},
   "outputs": [
    {
     "name": "stdout",
     "output_type": "stream",
     "text": [
      "torch.Size([6000])\n"
     ]
    }
   ],
   "source": [
    "print(seq_lengths.shape)"
   ]
  },
  {
   "cell_type": "markdown",
   "metadata": {},
   "source": [
    "## Training"
   ]
  },
  {
   "cell_type": "markdown",
   "metadata": {},
   "source": [
    "The intensity process is given by\n",
    "$$\n",
    "    \\lambda_k(t) = f_k(\\mathbf w_\\alpha\\mathbf h(t))\n",
    "$$\n",
    "with $\\mathbf h(t)$ the hidden state, defined from the cell state $\\mathbf c(t)$ :\n",
    "$$\n",
    "    \\mathbf h(t) = \\mathbf o_i \\odot \\tanh(\\mathbf c(t))\\in\\mathbb R^D,\\quad t\\in(t_{i-1}, t_i].\n",
    "$$"
   ]
  },
  {
   "cell_type": "markdown",
   "metadata": {},
   "source": [
    "with\n",
    "$$\n",
    "    \\mathbf c(t) = \\bar{\\mathbf c}_{i+1} + (\\mathbf c_{i+1} - \\bar{\\mathbf c}_{i+1})\\exp\\left(-\\delta_{i+1}(t-t_i)\\right),\\quad t\\in(t_{i-1}, t_i].\n",
    "$$"
   ]
  },
  {
   "cell_type": "code",
   "execution_count": 11,
   "metadata": {},
   "outputs": [],
   "source": [
    "import models.ctlstm\n",
    "from models.ctlstm import HawkesLSTM, HawkesLSTMGen\n",
    "from train_functions import train_lstm, plot_loss"
   ]
  },
  {
   "cell_type": "code",
   "execution_count": 12,
   "metadata": {},
   "outputs": [
    {
     "name": "stdout",
     "output_type": "stream",
     "text": [
      "Train size 2000\n",
      "Train event times shape torch.Size([2000, 158])\n",
      "Train event types shape torch.Size([2000, 158])\n",
      "Train seq lengths shape torch.Size([2000])\n"
     ]
    }
   ],
   "source": [
    "# define training data\n",
    "train_size = 2000\n",
    "print(\"Train size %d\" % train_size)\n",
    "\n",
    "train_times_tensor = seq_times[:train_size]\n",
    "train_seq_types = seq_types[:train_size]\n",
    "train_seq_lengths = seq_lengths[:train_size]\n",
    "print(\"Train event times shape {}\".format(train_times_tensor.shape))\n",
    "print(\"Train event types shape {}\".format(train_seq_types.shape))\n",
    "print(\"Train seq lengths shape {}\".format(train_seq_lengths.shape))"
   ]
  },
  {
   "cell_type": "code",
   "execution_count": 13,
   "metadata": {
    "scrolled": false
   },
   "outputs": [
    {
     "name": "stdout",
     "output_type": "stream",
     "text": [
      "Batch size 32\n",
      "Number of epochs 10\n"
     ]
    },
    {
     "data": {
      "application/vnd.jupyter.widget-view+json": {
       "model_id": "b1a7781dbf674090ae269e98f159c2b1",
       "version_major": 2,
       "version_minor": 0
      },
      "text/plain": [
       "HBox(children=(IntProgress(value=0, description='Epoch 1', max=63, style=ProgressStyle(description_width='init…"
      ]
     },
     "metadata": {},
     "output_type": "display_data"
    },
    {
     "name": "stdout",
     "output_type": "stream",
     "text": [
      "\n",
      "epoch 1: train loss 93.6393\n"
     ]
    },
    {
     "data": {
      "application/vnd.jupyter.widget-view+json": {
       "model_id": "9cac23bd281b410d97212163d9657c72",
       "version_major": 2,
       "version_minor": 0
      },
      "text/plain": [
       "HBox(children=(IntProgress(value=0, description='Epoch 2', max=63, style=ProgressStyle(description_width='init…"
      ]
     },
     "metadata": {},
     "output_type": "display_data"
    },
    {
     "name": "stdout",
     "output_type": "stream",
     "text": [
      "\n",
      "epoch 2: train loss 74.9084\n"
     ]
    },
    {
     "data": {
      "application/vnd.jupyter.widget-view+json": {
       "model_id": "9eeaa09fd16a416bb17c1cc4d7ad0ced",
       "version_major": 2,
       "version_minor": 0
      },
      "text/plain": [
       "HBox(children=(IntProgress(value=0, description='Epoch 3', max=63, style=ProgressStyle(description_width='init…"
      ]
     },
     "metadata": {},
     "output_type": "display_data"
    },
    {
     "name": "stdout",
     "output_type": "stream",
     "text": [
      "\n",
      "epoch 3: train loss 63.7452\n"
     ]
    },
    {
     "data": {
      "application/vnd.jupyter.widget-view+json": {
       "model_id": "e7e553e101df48499ad7a91af58f6ed9",
       "version_major": 2,
       "version_minor": 0
      },
      "text/plain": [
       "HBox(children=(IntProgress(value=0, description='Epoch 4', max=63, style=ProgressStyle(description_width='init…"
      ]
     },
     "metadata": {},
     "output_type": "display_data"
    },
    {
     "name": "stdout",
     "output_type": "stream",
     "text": [
      "\n",
      "epoch 4: train loss 49.5942\n"
     ]
    },
    {
     "data": {
      "application/vnd.jupyter.widget-view+json": {
       "model_id": "b2054bc3704840a88e3186f5499230ae",
       "version_major": 2,
       "version_minor": 0
      },
      "text/plain": [
       "HBox(children=(IntProgress(value=0, description='Epoch 5', max=63, style=ProgressStyle(description_width='init…"
      ]
     },
     "metadata": {},
     "output_type": "display_data"
    },
    {
     "name": "stdout",
     "output_type": "stream",
     "text": [
      "\n",
      "epoch 5: train loss 38.4323\n"
     ]
    },
    {
     "data": {
      "application/vnd.jupyter.widget-view+json": {
       "model_id": "6b86b2616ba443a299ed2e29c697c08f",
       "version_major": 2,
       "version_minor": 0
      },
      "text/plain": [
       "HBox(children=(IntProgress(value=0, description='Epoch 6', max=63, style=ProgressStyle(description_width='init…"
      ]
     },
     "metadata": {},
     "output_type": "display_data"
    },
    {
     "name": "stdout",
     "output_type": "stream",
     "text": [
      "\n",
      "epoch 6: train loss 29.4472\n"
     ]
    },
    {
     "data": {
      "application/vnd.jupyter.widget-view+json": {
       "model_id": "3f2da0bf26bf4cdca9b49c63e469af7c",
       "version_major": 2,
       "version_minor": 0
      },
      "text/plain": [
       "HBox(children=(IntProgress(value=0, description='Epoch 7', max=63, style=ProgressStyle(description_width='init…"
      ]
     },
     "metadata": {},
     "output_type": "display_data"
    },
    {
     "name": "stdout",
     "output_type": "stream",
     "text": [
      "\n",
      "epoch 7: train loss 25.1518\n"
     ]
    },
    {
     "data": {
      "application/vnd.jupyter.widget-view+json": {
       "model_id": "39e7bb1005bf48f099445b214ee08861",
       "version_major": 2,
       "version_minor": 0
      },
      "text/plain": [
       "HBox(children=(IntProgress(value=0, description='Epoch 8', max=63, style=ProgressStyle(description_width='init…"
      ]
     },
     "metadata": {},
     "output_type": "display_data"
    },
    {
     "name": "stdout",
     "output_type": "stream",
     "text": [
      "\n",
      "epoch 8: train loss 23.6137\n"
     ]
    },
    {
     "data": {
      "application/vnd.jupyter.widget-view+json": {
       "model_id": "ab4690edcb0c40f2b61fdbc18712a110",
       "version_major": 2,
       "version_minor": 0
      },
      "text/plain": [
       "HBox(children=(IntProgress(value=0, description='Epoch 9', max=63, style=ProgressStyle(description_width='init…"
      ]
     },
     "metadata": {},
     "output_type": "display_data"
    },
    {
     "name": "stdout",
     "output_type": "stream",
     "text": [
      "\n",
      "epoch 9: train loss 20.4016\n"
     ]
    },
    {
     "data": {
      "application/vnd.jupyter.widget-view+json": {
       "model_id": "0fde3dd73c8b4ddeaa3d1c14a4334bbd",
       "version_major": 2,
       "version_minor": 0
      },
      "text/plain": [
       "HBox(children=(IntProgress(value=0, description='Epoch 10', max=63, style=ProgressStyle(description_width='ini…"
      ]
     },
     "metadata": {},
     "output_type": "display_data"
    },
    {
     "name": "stdout",
     "output_type": "stream",
     "text": [
      "\n",
      "epoch 10: train loss 19.0546\n"
     ]
    }
   ],
   "source": [
    "process_dim = 1\n",
    "hidden_size = 40\n",
    "model = HawkesLSTM(process_dim, hidden_size)\n",
    "optimizer = torch.optim.Adagrad(model.parameters(), lr=0.03)\n",
    "\n",
    "# Training parameters\n",
    "BATCH_SIZE = 32\n",
    "EPOCHS = 10\n",
    "\n",
    "loss_hist, train_hist = train_neural_ctlstm(model, optimizer, train_times_tensor,\n",
    "                                train_seq_types, train_seq_lengths, tmax,\n",
    "                                BATCH_SIZE, EPOCHS, use_jupyter=True)"
   ]
  },
  {
   "cell_type": "code",
   "execution_count": 19,
   "metadata": {},
   "outputs": [
    {
     "data": {
      "image/png": "[encoded data removed]",
      "text/plain": [
       "<Figure size 800x400 with 1 Axes>"
      ]
     },
     "metadata": {
      "needs_background": "light"
     },
     "output_type": "display_data"
    }
   ],
   "source": [
    "_ = plot_loss(EPOCHS, loss_hist)"
   ]
  },
  {
   "cell_type": "code",
   "execution_count": null,
   "metadata": {},
   "outputs": [],
   "source": []
  },
  {
   "cell_type": "code",
   "execution_count": 22,
   "metadata": {},
   "outputs": [],
   "source": [
    "import datetime\n",
    "# Generate save params to record the model\n",
    "# Model file dump\n",
    "SAVED_MODELS_PATH = '../saved_models'\n",
    "os.makedirs(SAVED_MODELS_PATH, exist_ok=True)\n",
    "# print(\"Saved models directory: {}\".format(SAVED_MODELS_PATH))"
   ]
  },
  {
   "cell_type": "code",
   "execution_count": 24,
   "metadata": {},
   "outputs": [],
   "source": [
    "# This cell resets the timestamp !!\n",
    "date_format = \"%Y%m%d-%H%M%S\"\n",
    "now_timestamp = datetime.datetime.now().strftime(date_format)\n",
    "extra_tag = \"{}d\".format(process_dim)"
   ]
  },
  {
   "cell_type": "code",
   "execution_count": 35,
   "metadata": {},
   "outputs": [
    {
     "data": {
      "text/plain": [
       "[tensor([[0.2912],\n",
       "         [0.2475],\n",
       "         [1.9006],\n",
       "         [0.1975],\n",
       "         [0.2358]], grad_fn=<SoftplusBackward>), tensor([[0.2910],\n",
       "         [0.2474]], grad_fn=<SoftplusBackward>)]"
      ]
     },
     "execution_count": 35,
     "metadata": {},
     "output_type": "execute_result"
    }
   ],
   "source": [
    "train_hist[-1]['decay_cell'][-2:]"
   ]
  },
  {
   "cell_type": "markdown",
   "metadata": {},
   "source": [
    "Now we save the model down to a file."
   ]
  },
  {
   "cell_type": "code",
   "execution_count": 156,
   "metadata": {},
   "outputs": [],
   "source": [
    "from utils.save_model import save_model\n",
    "\n",
    "save_model(model, chosen_data_file, extra_tag, hidden_size, now_timestamp)"
   ]
  },
  {
   "cell_type": "markdown",
   "metadata": {},
   "source": [
    "## Event generation"
   ]
  },
  {
   "cell_type": "code",
   "execution_count": 128,
   "metadata": {},
   "outputs": [],
   "source": [
    "from models.ctlstm import HawkesLSTMGen"
   ]
  },
  {
   "cell_type": "code",
   "execution_count": 129,
   "metadata": {},
   "outputs": [
    {
     "name": "stdout",
     "output_type": "stream",
     "text": [
      "Process model dim:\t1\tHidden units:\t16\n"
     ]
    }
   ],
   "source": [
    "neural_gen = HawkesLSTMGen(model)"
   ]
  },
  {
   "cell_type": "code",
   "execution_count": 147,
   "metadata": {},
   "outputs": [],
   "source": [
    "neural_gen.generate_sequence(tmax)"
   ]
  },
  {
   "cell_type": "code",
   "execution_count": 148,
   "metadata": {},
   "outputs": [
    {
     "name": "stdout",
     "output_type": "stream",
     "text": [
      "no. of events: 28\n"
     ]
    },
    {
     "data": {
      "image/png": "[encoded data removed]",
      "text/plain": [
       "<Figure size 1000x450 with 1 Axes>"
      ]
     },
     "metadata": {
      "needs_background": "light"
     },
     "output_type": "display_data"
    }
   ],
   "source": [
    "_ = neural_gen.plot_events_and_intensity()"
   ]
  },
  {
   "cell_type": "code",
   "execution_count": null,
   "metadata": {},
   "outputs": [],
   "source": []
  },
  {
   "cell_type": "code",
   "execution_count": null,
   "metadata": {},
   "outputs": [],
   "source": []
  },
  {
   "cell_type": "code",
   "execution_count": null,
   "metadata": {},
   "outputs": [],
   "source": []
  }
 ],
 "metadata": {
  "kernelspec": {
   "display_name": "Python [conda env:pytorch]",
   "language": "python",
   "name": "conda-env-pytorch-py"
  },
  "language_info": {
   "codemirror_mode": {
    "name": "ipython",
    "version": 3
   },
   "file_extension": ".py",
   "mimetype": "text/x-python",
   "name": "python",
   "nbconvert_exporter": "python",
   "pygments_lexer": "ipython3",
   "version": "3.7.1"
  }
 },
 "nbformat": 4,
 "nbformat_minor": 2
}
