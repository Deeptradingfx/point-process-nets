{
 "cells": [
  {
   "cell_type": "markdown",
   "metadata": {},
   "source": [
    "# Hawkes LSTM model"
   ]
  },
  {
   "cell_type": "code",
   "execution_count": 1,
   "metadata": {
    "scrolled": true
   },
   "outputs": [],
   "source": [
    "%matplotlib inline\n",
    "%load_ext autoreload\n",
    "%autoreload 2"
   ]
  },
  {
   "cell_type": "code",
   "execution_count": 2,
   "metadata": {},
   "outputs": [],
   "source": [
    "import matplotlib.pyplot as plt\n",
    "import matplotlib.ticker as mticker\n",
    "import numpy as np"
   ]
  },
  {
   "cell_type": "code",
   "execution_count": 3,
   "metadata": {},
   "outputs": [],
   "source": [
    "import torch\n",
    "from torch import nn"
   ]
  },
  {
   "cell_type": "code",
   "execution_count": 4,
   "metadata": {},
   "outputs": [
    {
     "data": {
      "text/plain": [
       "<torch._C.Generator at 0x7fe2d0652dd0>"
      ]
     },
     "execution_count": 4,
     "metadata": {},
     "output_type": "execute_result"
    }
   ],
   "source": [
    "torch.manual_seed(1)"
   ]
  },
  {
   "cell_type": "code",
   "execution_count": 5,
   "metadata": {},
   "outputs": [],
   "source": [
    "import os\n",
    "import sys\n",
    "import glob\n",
    "import tqdm"
   ]
  },
  {
   "cell_type": "code",
   "execution_count": 6,
   "metadata": {},
   "outputs": [
    {
     "name": "stdout",
     "output_type": "stream",
     "text": [
      "Notebook dir /home/manifold/Documents/etudes/map511-p3a\n",
      "Python interpreter path:\n",
      "/home/manifold/Documents/etudes/map511-p3a/notebooks\n",
      "/home/manifold/miniconda3/envs/pytorch/lib/python37.zip\n",
      "/home/manifold/miniconda3/envs/pytorch/lib/python3.7\n",
      "/home/manifold/miniconda3/envs/pytorch/lib/python3.7/lib-dynload\n",
      "\n",
      "/home/manifold/miniconda3/envs/pytorch/lib/python3.7/site-packages\n",
      "/home/manifold/miniconda3/envs/pytorch/lib/python3.7/site-packages/pointprocesses-0.4.1-py3.7-linux-x86_64.egg\n",
      "/home/manifold/miniconda3/envs/pytorch/lib/python3.7/site-packages/torchvision-0.2.1-py3.7.egg\n",
      "/home/manifold/miniconda3/envs/pytorch/lib/python3.7/site-packages/IPython/extensions\n",
      "/home/manifold/.ipython\n",
      "/home/manifold/Documents/etudes/map511-p3a\n"
     ]
    }
   ],
   "source": [
    "# Add parent dir to interpreter path\n",
    "nb_dir = os.path.split(os.getcwd())[0]\n",
    "print(\"Notebook dir {:}\".format(nb_dir))\n",
    "if nb_dir not in sys.path:\n",
    "    sys.path.append(nb_dir)\n",
    "print(\"Python interpreter path:\")\n",
    "for path in sys.path:\n",
    "    print(path)"
   ]
  },
  {
   "cell_type": "markdown",
   "metadata": {},
   "source": [
    "## Loading synthetic data"
   ]
  },
  {
   "cell_type": "markdown",
   "metadata": {},
   "source": [
    "We will be loading simulated Hawkes data."
   ]
  },
  {
   "cell_type": "code",
   "execution_count": 7,
   "metadata": {},
   "outputs": [
    {
     "name": "stdout",
     "output_type": "stream",
     "text": [
      "Available files:\n",
      "../data/simulated/hawkes_synthetic_exp_2d_20181206-160527.pkl\n",
      "../data/simulated/hawkes_synthetic_exp_1d_20181205-142133.pkl\n",
      "../data/simulated/hawkes_synthetic_exp_2d_20181206-163850.pkl\n"
     ]
    }
   ],
   "source": [
    "import glob\n",
    "import pickle\n",
    "\n",
    "SYNTH_DATA_FILES = glob.glob('../data/simulated/*.pkl')\n",
    "print(\"Available files:\")\n",
    "for s in SYNTH_DATA_FILES:\n",
    "    print(s)\n",
    "\n",
    "from utils.load_synth_data import process_loaded_sequences, one_hot_embedding"
   ]
  },
  {
   "cell_type": "code",
   "execution_count": 8,
   "metadata": {},
   "outputs": [
    {
     "name": "stdout",
     "output_type": "stream",
     "text": [
      "Process dimension: 1\n",
      "Data file: ../data/simulated/hawkes_synthetic_exp_2d_20181206-160527.pkl\n"
     ]
    }
   ],
   "source": [
    "# SET THESE PARAMETERS\n",
    "process_dim = 1\n",
    "print(\"Process dimension: {}\".format(process_dim))\n",
    "choose_file_index = 0\n",
    "chosen_data_file = SYNTH_DATA_FILES[choose_file_index]\n",
    "print(\"Data file: {}\".format(chosen_data_file))"
   ]
  },
  {
   "cell_type": "code",
   "execution_count": 9,
   "metadata": {},
   "outputs": [
    {
     "name": "stdout",
     "output_type": "stream",
     "text": [
      "Loading 1-dimensional Hawkes data.\n",
      "dict_keys(['mu', 'alpha', 'decay', 'tmax', 'timestamps', 'types', 'lengths'])\n",
      "mu\t[0.2 0.2]\n",
      "alpha\t[[0.1  0.15]\n",
      " [0.01 0.01]]\n",
      "decay\t1.2\n",
      "tmax\t120\n"
     ]
    }
   ],
   "source": [
    "# Load data simulated using tick\n",
    "print(\"Loading {}-dimensional Hawkes data.\".format(process_dim))\n",
    "\n",
    "with open(chosen_data_file, \"rb\") as f:\n",
    "    loaded_hawkes_data = pickle.load(f)\n",
    "\n",
    "print(loaded_hawkes_data.keys())\n",
    "\n",
    "mu = loaded_hawkes_data['mu']\n",
    "alpha = loaded_hawkes_data['alpha']\n",
    "decay = loaded_hawkes_data['decay']\n",
    "tmax = loaded_hawkes_data['tmax']\n",
    "print(\"mu\\t{:}\".format(str(mu)))\n",
    "print(\"alpha\\t{:}\".format(str(alpha)))\n",
    "print(\"decay\\t{:}\".format(str(decay)))\n",
    "print(\"tmax\\t{:}\".format(tmax))\n",
    "\n",
    "seq_times, seq_types, seq_lengths = process_loaded_sequences(\n",
    "    loaded_hawkes_data, process_dim, tmax)"
   ]
  },
  {
   "cell_type": "markdown",
   "metadata": {},
   "source": [
    "## Training"
   ]
  },
  {
   "cell_type": "markdown",
   "metadata": {},
   "source": [
    "The intensity process is given by\n",
    "$$\n",
    "    \\lambda_k(t) = f_k(\\mathbf w_\\alpha\\mathbf h(t))\n",
    "$$\n",
    "with $\\mathbf h(t)$ the hidden state, defined from the cell state $\\mathbf c(t)$ :\n",
    "$$\n",
    "    \\mathbf h(t) = \\mathbf o_i \\odot \\tanh(\\mathbf c(t))\\in\\mathbb R^D,\\quad t\\in(t_{i-1}, t_i].\n",
    "$$\n",
    "with\n",
    "$$\n",
    "    \\mathbf c(t) = \\bar{\\mathbf c}_{i+1} + (\\mathbf c_{i+1} - \\bar{\\mathbf c}_{i+1})\\exp\\left(-\\delta_{i+1}(t-t_i)\\right),\\quad t\\in(t_{i-1}, t_i].\n",
    "$$"
   ]
  },
  {
   "cell_type": "code",
   "execution_count": 203,
   "metadata": {},
   "outputs": [],
   "source": [
    "import models.ctlstm\n",
    "from models.ctlstm import HawkesLSTM, HawkesLSTMGen\n",
    "from train_functions import train_lstm, plot_loss"
   ]
  },
  {
   "cell_type": "code",
   "execution_count": 204,
   "metadata": {},
   "outputs": [
    {
     "name": "stdout",
     "output_type": "stream",
     "text": [
      "Train size 32\n",
      "Train event times shape torch.Size([32, 924])\n",
      "Train event types shape torch.Size([32, 924])\n",
      "Train seq lengths shape torch.Size([32])\n"
     ]
    }
   ],
   "source": [
    "# define training data\n",
    "train_size = 32\n",
    "print(\"Train size %d\" % train_size)\n",
    "\n",
    "train_times_tensor = seq_times[:train_size]\n",
    "train_seq_types = seq_types[:train_size]\n",
    "train_seq_lengths = seq_lengths[:train_size]\n",
    "print(\"Train event times shape {}\".format(train_times_tensor.shape))\n",
    "print(\"Train event types shape {}\".format(train_seq_types.shape))\n",
    "print(\"Train seq lengths shape {}\".format(train_seq_lengths.shape))"
   ]
  },
  {
   "cell_type": "code",
   "execution_count": 206,
   "metadata": {
    "scrolled": false
   },
   "outputs": [],
   "source": [
    "process_dim = 1\n",
    "hidden_size = 24\n",
    "model = HawkesLSTM(process_dim, hidden_size)\n",
    "optimizer = torch.optim.Adagrad(model.parameters(), lr=0.05)"
   ]
  },
  {
   "cell_type": "code",
   "execution_count": 207,
   "metadata": {
    "scrolled": false
   },
   "outputs": [
    {
     "name": "stdout",
     "output_type": "stream",
     "text": [
      "Batch size 32\n",
      "Number of epochs 1\n"
     ]
    },
    {
     "data": {
      "application/vnd.jupyter.widget-view+json": {
       "model_id": "179e1fe5562d4d06a99545cca1794065",
       "version_major": 2,
       "version_minor": 0
      },
      "text/plain": [
       "HBox(children=(IntProgress(value=0, description='Epoch 1', max=1, style=ProgressStyle(description_width='initi…"
      ]
     },
     "metadata": {},
     "output_type": "display_data"
    },
    {
     "name": "stdout",
     "output_type": "stream",
     "text": [
      "> /home/manifold/Documents/etudes/map511-p3a/models/ctlstm.py(194)compute_loss()\n",
      "-> n_batch = seq_times.size(0)\n"
     ]
    },
    {
     "name": "stdin",
     "output_type": "stream",
     "text": [
      "(Pdb)  n\n"
     ]
    },
    {
     "name": "stdout",
     "output_type": "stream",
     "text": [
      "> /home/manifold/Documents/etudes/map511-p3a/models/ctlstm.py(195)compute_loss()\n",
      "-> n_times = len(hiddens_ti)\n"
     ]
    },
    {
     "name": "stdin",
     "output_type": "stream",
     "text": [
      "(Pdb)  n_batch\n"
     ]
    },
    {
     "name": "stdout",
     "output_type": "stream",
     "text": [
      "32\n"
     ]
    },
    {
     "name": "stdin",
     "output_type": "stream",
     "text": [
      "(Pdb)  n_times\n"
     ]
    },
    {
     "name": "stdout",
     "output_type": "stream",
     "text": [
      "*** NameError: name 'n_times' is not defined\n"
     ]
    },
    {
     "name": "stdin",
     "output_type": "stream",
     "text": [
      "(Pdb)  n\n"
     ]
    },
    {
     "name": "stdout",
     "output_type": "stream",
     "text": [
      "> /home/manifold/Documents/etudes/map511-p3a/models/ctlstm.py(196)compute_loss()\n",
      "-> dt_seq: Tensor = seq_times[:, 1:] - seq_times[:, :-1]\n"
     ]
    },
    {
     "name": "stdin",
     "output_type": "stream",
     "text": [
      "(Pdb)  n_times\n"
     ]
    },
    {
     "name": "stdout",
     "output_type": "stream",
     "text": [
      "867\n"
     ]
    },
    {
     "name": "stdin",
     "output_type": "stream",
     "text": [
      "(Pdb)  n\n"
     ]
    },
    {
     "name": "stdout",
     "output_type": "stream",
     "text": [
      "> /home/manifold/Documents/etudes/map511-p3a/models/ctlstm.py(197)compute_loss()\n",
      "-> device = dt_seq.device\n"
     ]
    },
    {
     "name": "stdin",
     "output_type": "stream",
     "text": [
      "(Pdb)  dt_se\n"
     ]
    },
    {
     "name": "stdout",
     "output_type": "stream",
     "text": [
      "*** NameError: name 'dt_se' is not defined\n"
     ]
    },
    {
     "name": "stdin",
     "output_type": "stream",
     "text": [
      "(Pdb)  seq_times.shape\n"
     ]
    },
    {
     "name": "stdout",
     "output_type": "stream",
     "text": [
      "torch.Size([32, 868])\n"
     ]
    },
    {
     "name": "stdin",
     "output_type": "stream",
     "text": [
      "(Pdb)  seq_times[:, 867]\n"
     ]
    },
    {
     "name": "stdout",
     "output_type": "stream",
     "text": [
      "tensor([3599.9045, 3600.0000, 3600.0000, 3600.0000, 3600.0000, 3600.0000,\n",
      "        3600.0000, 3600.0000, 3600.0000, 3600.0000, 3600.0000, 3600.0000,\n",
      "        3600.0000, 3600.0000, 3600.0000, 3600.0000, 3600.0000, 3600.0000,\n",
      "        3600.0000, 3600.0000, 3600.0000, 3600.0000, 3600.0000, 3600.0000,\n",
      "        3600.0000, 3600.0000, 3600.0000, 3600.0000, 3600.0000, 3600.0000,\n",
      "        3600.0000, 3600.0000])\n"
     ]
    },
    {
     "name": "stdin",
     "output_type": "stream",
     "text": [
      "(Pdb)  dt_seq.shape\n"
     ]
    },
    {
     "name": "stdout",
     "output_type": "stream",
     "text": [
      "torch.Size([32, 867])\n"
     ]
    },
    {
     "name": "stdin",
     "output_type": "stream",
     "text": [
      "(Pdb)  dt_seq[:, 867]\n"
     ]
    },
    {
     "name": "stdout",
     "output_type": "stream",
     "text": [
      "*** IndexError: index 867 is out of bounds for dimension 1 with size 867\n"
     ]
    },
    {
     "name": "stdin",
     "output_type": "stream",
     "text": [
      "(Pdb)  dt_seq[:, 868]\n"
     ]
    },
    {
     "name": "stdout",
     "output_type": "stream",
     "text": [
      "*** IndexError: index 868 is out of bounds for dimension 1 with size 867\n"
     ]
    },
    {
     "name": "stdin",
     "output_type": "stream",
     "text": [
      "(Pdb)  dt_seq[:,866]\n"
     ]
    },
    {
     "name": "stdout",
     "output_type": "stream",
     "text": [
      "tensor([1.7551, 0.0000, 0.0000, 0.0000, 0.0000, 0.0000, 0.0000, 0.0000, 0.0000,\n",
      "        0.0000, 0.0000, 0.0000, 0.0000, 0.0000, 0.0000, 0.0000, 0.0000, 0.0000,\n",
      "        0.0000, 0.0000, 0.0000, 0.0000, 0.0000, 0.0000, 0.0000, 0.0000, 0.0000,\n",
      "        0.0000, 0.0000, 0.0000, 0.0000, 0.0000])\n"
     ]
    },
    {
     "name": "stdin",
     "output_type": "stream",
     "text": [
      "(Pdb)  dt_seq[: 865]\n"
     ]
    },
    {
     "name": "stdout",
     "output_type": "stream",
     "text": [
      "tensor([[ 1.1744,  1.4244,  5.4178,  ...,  9.1331,  0.3630,  1.7551],\n",
      "        [ 0.1412,  2.5539, 11.3481,  ...,  0.0000,  0.0000,  0.0000],\n",
      "        [ 0.7039,  1.2620,  2.0523,  ...,  0.0000,  0.0000,  0.0000],\n",
      "        ...,\n",
      "        [ 4.4924,  2.8921,  7.5218,  ...,  0.0000,  0.0000,  0.0000],\n",
      "        [ 0.1608,  4.9663,  5.8677,  ...,  0.0000,  0.0000,  0.0000],\n",
      "        [ 7.0603,  0.2134,  6.7295,  ...,  0.0000,  0.0000,  0.0000]])\n"
     ]
    },
    {
     "name": "stdin",
     "output_type": "stream",
     "text": [
      "(Pdb)  dt_seq[:,865]\n"
     ]
    },
    {
     "name": "stdout",
     "output_type": "stream",
     "text": [
      "tensor([0.3630, 0.0000, 0.0000, 0.0000, 0.0000, 0.0000, 0.0000, 0.0000, 0.0000,\n",
      "        0.0000, 0.0000, 0.0000, 0.0000, 0.0000, 0.0000, 0.0000, 0.0000, 0.0000,\n",
      "        0.0000, 0.0000, 0.0000, 0.0000, 0.0000, 0.0000, 0.0000, 0.0000, 0.0000,\n",
      "        0.0000, 0.0000, 0.0000, 0.0000, 0.0000])\n"
     ]
    },
    {
     "name": "stdin",
     "output_type": "stream",
     "text": [
      "(Pdb)  dt_seq[:, 643]\n"
     ]
    },
    {
     "name": "stdout",
     "output_type": "stream",
     "text": [
      "tensor([ 0.3242,  1.8962,  1.0342,  3.0566, 12.3999,  3.0105,  7.5913,  1.4915,\n",
      "         0.7629,  4.7749,  1.2061,  0.0798,  0.0554,  3.6978,  6.0027,  5.4995,\n",
      "         5.1631,  3.0293,  4.0876,  3.7446,  8.5190,  2.4028,  1.6414,  0.3220,\n",
      "         2.0620,  5.8713, 15.9500,  0.7708, 24.5315,  5.0205,  3.9705,  1.2913])\n"
     ]
    },
    {
     "name": "stdin",
     "output_type": "stream",
     "text": [
      "(Pdb)  dt_seq[:, 843]\n"
     ]
    },
    {
     "name": "stdout",
     "output_type": "stream",
     "text": [
      "tensor([10.1130,  1.6582,  4.2166,  0.0000,  0.0000,  0.0000,  0.0000,  0.0000,\n",
      "         0.0000,  0.0000,  0.0000,  0.0000,  0.0000,  0.0000,  0.0000,  0.0000,\n",
      "         0.0000,  0.0000,  0.0000,  0.0000,  0.0000,  0.0000,  0.0000,  0.0000,\n",
      "         0.0000,  0.0000,  0.0000,  0.0000,  0.0000,  0.0000,  0.0000,  0.0000])\n"
     ]
    },
    {
     "name": "stdin",
     "output_type": "stream",
     "text": [
      "(Pdb)  q\n"
     ]
    },
    {
     "ename": "BdbQuit",
     "evalue": "",
     "output_type": "error",
     "traceback": [
      "\u001b[0;31m---------------------------------------------------------------------------\u001b[0m",
      "\u001b[0;31mBdbQuit\u001b[0m                                   Traceback (most recent call last)",
      "\u001b[0;32m<ipython-input-207-3e20227a6c07>\u001b[0m in \u001b[0;36m<module>\u001b[0;34m\u001b[0m\n\u001b[1;32m      5\u001b[0m loss_hist, train_hist = train_lstm(model, optimizer, train_times_tensor,\n\u001b[1;32m      6\u001b[0m                                    \u001b[0mtrain_seq_types\u001b[0m\u001b[0;34m,\u001b[0m \u001b[0mtrain_seq_lengths\u001b[0m\u001b[0;34m,\u001b[0m \u001b[0mtmax\u001b[0m\u001b[0;34m,\u001b[0m\u001b[0;34m\u001b[0m\u001b[0;34m\u001b[0m\u001b[0m\n\u001b[0;32m----> 7\u001b[0;31m                                    BATCH_SIZE, EPOCHS, use_jupyter=True)\n\u001b[0m",
      "\u001b[0;32m~/Documents/etudes/map511-p3a/train_functions.py\u001b[0m in \u001b[0;36mtrain_lstm\u001b[0;34m(model, optimizer, seq_times, seq_types, seq_lengths, tmax, batch_size, n_epochs, use_cuda, use_jupyter)\u001b[0m\n\u001b[1;32m     81\u001b[0m             loss: Tensor = model.compute_loss(batch_seq_times, batch_onehot,\n\u001b[1;32m     82\u001b[0m                                               \u001b[0mpacked_dt\u001b[0m\u001b[0;34m.\u001b[0m\u001b[0mbatch_sizes\u001b[0m\u001b[0;34m,\u001b[0m \u001b[0mhiddens_ti\u001b[0m\u001b[0;34m,\u001b[0m\u001b[0;34m\u001b[0m\u001b[0;34m\u001b[0m\u001b[0m\n\u001b[0;32m---> 83\u001b[0;31m                                               cells, cell_targets, outputs, decays, tmax)\n\u001b[0m\u001b[1;32m     84\u001b[0m \u001b[0;34m\u001b[0m\u001b[0m\n\u001b[1;32m     85\u001b[0m             \u001b[0;31m# Compute the gradients\u001b[0m\u001b[0;34m\u001b[0m\u001b[0;34m\u001b[0m\u001b[0;34m\u001b[0m\u001b[0m\n",
      "\u001b[0;32m~/Documents/etudes/map511-p3a/models/ctlstm.py\u001b[0m in \u001b[0;36mcompute_loss\u001b[0;34m(self, seq_times, seq_onehot_types, batch_sizes, hiddens_ti, cells, cell_targets, outputs, decays, tmax)\u001b[0m\n\u001b[1;32m    195\u001b[0m         \u001b[0mdevice\u001b[0m \u001b[0;34m=\u001b[0m \u001b[0mdt_seq\u001b[0m\u001b[0;34m.\u001b[0m\u001b[0mdevice\u001b[0m\u001b[0;34m\u001b[0m\u001b[0;34m\u001b[0m\u001b[0m\n\u001b[1;32m    196\u001b[0m         \u001b[0;31m# Get the intensity process\u001b[0m\u001b[0;34m\u001b[0m\u001b[0;34m\u001b[0m\u001b[0;34m\u001b[0m\u001b[0m\n\u001b[0;32m--> 197\u001b[0;31m         intens_at_evs: Tensor = [\n\u001b[0m\u001b[1;32m    198\u001b[0m             \u001b[0mself\u001b[0m\u001b[0;34m.\u001b[0m\u001b[0mintensity_layer\u001b[0m\u001b[0;34m(\u001b[0m\u001b[0mhiddens_ti\u001b[0m\u001b[0;34m[\u001b[0m\u001b[0mi\u001b[0m\u001b[0;34m]\u001b[0m\u001b[0;34m)\u001b[0m\u001b[0;34m\u001b[0m\u001b[0;34m\u001b[0m\u001b[0m\n\u001b[1;32m    199\u001b[0m             \u001b[0;32mfor\u001b[0m \u001b[0mi\u001b[0m \u001b[0;32min\u001b[0m \u001b[0mrange\u001b[0m\u001b[0;34m(\u001b[0m\u001b[0;36m1\u001b[0m\u001b[0;34m,\u001b[0m \u001b[0mn_times\u001b[0m\u001b[0;34m)\u001b[0m  \u001b[0;31m# do not count the 0-th or End-of-sequence events\u001b[0m\u001b[0;34m\u001b[0m\u001b[0;34m\u001b[0m\u001b[0m\n",
      "\u001b[0;32m~/Documents/etudes/map511-p3a/models/ctlstm.py\u001b[0m in \u001b[0;36mcompute_loss\u001b[0;34m(self, seq_times, seq_onehot_types, batch_sizes, hiddens_ti, cells, cell_targets, outputs, decays, tmax)\u001b[0m\n\u001b[1;32m    195\u001b[0m         \u001b[0mdevice\u001b[0m \u001b[0;34m=\u001b[0m \u001b[0mdt_seq\u001b[0m\u001b[0;34m.\u001b[0m\u001b[0mdevice\u001b[0m\u001b[0;34m\u001b[0m\u001b[0;34m\u001b[0m\u001b[0m\n\u001b[1;32m    196\u001b[0m         \u001b[0;31m# Get the intensity process\u001b[0m\u001b[0;34m\u001b[0m\u001b[0;34m\u001b[0m\u001b[0;34m\u001b[0m\u001b[0m\n\u001b[0;32m--> 197\u001b[0;31m         intens_at_evs: Tensor = [\n\u001b[0m\u001b[1;32m    198\u001b[0m             \u001b[0mself\u001b[0m\u001b[0;34m.\u001b[0m\u001b[0mintensity_layer\u001b[0m\u001b[0;34m(\u001b[0m\u001b[0mhiddens_ti\u001b[0m\u001b[0;34m[\u001b[0m\u001b[0mi\u001b[0m\u001b[0;34m]\u001b[0m\u001b[0;34m)\u001b[0m\u001b[0;34m\u001b[0m\u001b[0;34m\u001b[0m\u001b[0m\n\u001b[1;32m    199\u001b[0m             \u001b[0;32mfor\u001b[0m \u001b[0mi\u001b[0m \u001b[0;32min\u001b[0m \u001b[0mrange\u001b[0m\u001b[0;34m(\u001b[0m\u001b[0;36m1\u001b[0m\u001b[0;34m,\u001b[0m \u001b[0mn_times\u001b[0m\u001b[0;34m)\u001b[0m  \u001b[0;31m# do not count the 0-th or End-of-sequence events\u001b[0m\u001b[0;34m\u001b[0m\u001b[0;34m\u001b[0m\u001b[0m\n",
      "\u001b[0;32m~/miniconda3/envs/pytorch/lib/python3.7/bdb.py\u001b[0m in \u001b[0;36mtrace_dispatch\u001b[0;34m(self, frame, event, arg)\u001b[0m\n\u001b[1;32m     86\u001b[0m             \u001b[0;32mreturn\u001b[0m \u001b[0;31m# None\u001b[0m\u001b[0;34m\u001b[0m\u001b[0;34m\u001b[0m\u001b[0m\n\u001b[1;32m     87\u001b[0m         \u001b[0;32mif\u001b[0m \u001b[0mevent\u001b[0m \u001b[0;34m==\u001b[0m \u001b[0;34m'line'\u001b[0m\u001b[0;34m:\u001b[0m\u001b[0;34m\u001b[0m\u001b[0;34m\u001b[0m\u001b[0m\n\u001b[0;32m---> 88\u001b[0;31m             \u001b[0;32mreturn\u001b[0m \u001b[0mself\u001b[0m\u001b[0;34m.\u001b[0m\u001b[0mdispatch_line\u001b[0m\u001b[0;34m(\u001b[0m\u001b[0mframe\u001b[0m\u001b[0;34m)\u001b[0m\u001b[0;34m\u001b[0m\u001b[0;34m\u001b[0m\u001b[0m\n\u001b[0m\u001b[1;32m     89\u001b[0m         \u001b[0;32mif\u001b[0m \u001b[0mevent\u001b[0m \u001b[0;34m==\u001b[0m \u001b[0;34m'call'\u001b[0m\u001b[0;34m:\u001b[0m\u001b[0;34m\u001b[0m\u001b[0;34m\u001b[0m\u001b[0m\n\u001b[1;32m     90\u001b[0m             \u001b[0;32mreturn\u001b[0m \u001b[0mself\u001b[0m\u001b[0;34m.\u001b[0m\u001b[0mdispatch_call\u001b[0m\u001b[0;34m(\u001b[0m\u001b[0mframe\u001b[0m\u001b[0;34m,\u001b[0m \u001b[0marg\u001b[0m\u001b[0;34m)\u001b[0m\u001b[0;34m\u001b[0m\u001b[0;34m\u001b[0m\u001b[0m\n",
      "\u001b[0;32m~/miniconda3/envs/pytorch/lib/python3.7/bdb.py\u001b[0m in \u001b[0;36mdispatch_line\u001b[0;34m(self, frame)\u001b[0m\n\u001b[1;32m    111\u001b[0m         \u001b[0;32mif\u001b[0m \u001b[0mself\u001b[0m\u001b[0;34m.\u001b[0m\u001b[0mstop_here\u001b[0m\u001b[0;34m(\u001b[0m\u001b[0mframe\u001b[0m\u001b[0;34m)\u001b[0m \u001b[0;32mor\u001b[0m \u001b[0mself\u001b[0m\u001b[0;34m.\u001b[0m\u001b[0mbreak_here\u001b[0m\u001b[0;34m(\u001b[0m\u001b[0mframe\u001b[0m\u001b[0;34m)\u001b[0m\u001b[0;34m:\u001b[0m\u001b[0;34m\u001b[0m\u001b[0;34m\u001b[0m\u001b[0m\n\u001b[1;32m    112\u001b[0m             \u001b[0mself\u001b[0m\u001b[0;34m.\u001b[0m\u001b[0muser_line\u001b[0m\u001b[0;34m(\u001b[0m\u001b[0mframe\u001b[0m\u001b[0;34m)\u001b[0m\u001b[0;34m\u001b[0m\u001b[0;34m\u001b[0m\u001b[0m\n\u001b[0;32m--> 113\u001b[0;31m             \u001b[0;32mif\u001b[0m \u001b[0mself\u001b[0m\u001b[0;34m.\u001b[0m\u001b[0mquitting\u001b[0m\u001b[0;34m:\u001b[0m \u001b[0;32mraise\u001b[0m \u001b[0mBdbQuit\u001b[0m\u001b[0;34m\u001b[0m\u001b[0;34m\u001b[0m\u001b[0m\n\u001b[0m\u001b[1;32m    114\u001b[0m         \u001b[0;32mreturn\u001b[0m \u001b[0mself\u001b[0m\u001b[0;34m.\u001b[0m\u001b[0mtrace_dispatch\u001b[0m\u001b[0;34m\u001b[0m\u001b[0;34m\u001b[0m\u001b[0m\n\u001b[1;32m    115\u001b[0m \u001b[0;34m\u001b[0m\u001b[0m\n",
      "\u001b[0;31mBdbQuit\u001b[0m: "
     ]
    }
   ],
   "source": [
    "# Training parameters\n",
    "BATCH_SIZE = 32\n",
    "EPOCHS = 1\n",
    "\n",
    "loss_hist, train_hist = train_lstm(model, optimizer, train_times_tensor,\n",
    "                                   train_seq_types, train_seq_lengths, tmax,\n",
    "                                   BATCH_SIZE, EPOCHS, use_jupyter=True)"
   ]
  },
  {
   "cell_type": "code",
   "execution_count": 20,
   "metadata": {},
   "outputs": [
    {
     "data": {
      "image/png": "[encoded data removed]",
      "text/plain": [
       "<Figure size 800x400 with 1 Axes>"
      ]
     },
     "metadata": {
      "needs_background": "light"
     },
     "output_type": "display_data"
    }
   ],
   "source": [
    "_ = plot_loss(EPOCHS, loss_hist)"
   ]
  },
  {
   "cell_type": "code",
   "execution_count": null,
   "metadata": {},
   "outputs": [],
   "source": []
  },
  {
   "cell_type": "code",
   "execution_count": null,
   "metadata": {},
   "outputs": [],
   "source": []
  },
  {
   "cell_type": "code",
   "execution_count": null,
   "metadata": {},
   "outputs": [],
   "source": []
  },
  {
   "cell_type": "code",
   "execution_count": 15,
   "metadata": {},
   "outputs": [],
   "source": [
    "import datetime\n",
    "# Generate save params to record the model\n",
    "# Model file dump\n",
    "SAVED_MODELS_PATH = '../saved_models'\n",
    "os.makedirs(SAVED_MODELS_PATH, exist_ok=True)\n",
    "# print(\"Saved models directory: {}\".format(SAVED_MODELS_PATH))"
   ]
  },
  {
   "cell_type": "code",
   "execution_count": 16,
   "metadata": {},
   "outputs": [],
   "source": [
    "# This cell resets the timestamp !!\n",
    "date_format = \"%Y%m%d-%H%M%S\"\n",
    "now_timestamp = datetime.datetime.now().strftime(date_format)\n",
    "extra_tag = \"{}d\".format(process_dim)"
   ]
  },
  {
   "cell_type": "code",
   "execution_count": 17,
   "metadata": {},
   "outputs": [
    {
     "data": {
      "text/plain": [
       "[tensor([[4.6415e-01, 1.6665e+00, 1.7462e+00, 7.2564e-01, 2.4787e-01, 2.2301e-01,\n",
       "          1.7249e+00, 6.9187e-03, 4.8306e-02, 3.2143e-01, 2.3324e+00, 1.7807e+00,\n",
       "          1.5841e+00, 9.4683e-05, 2.7947e-01, 1.4288e-01],\n",
       "         [4.5247e-01, 1.6377e+00, 1.6883e+00, 6.9389e-01, 2.7820e-01, 1.8545e-01,\n",
       "          1.5466e+00, 7.9839e-03, 6.7944e-02, 3.2545e-01, 2.1628e+00, 1.7015e+00,\n",
       "          1.5957e+00, 1.4362e-04, 2.1849e-01, 1.3278e-01],\n",
       "         [2.8006e-02, 3.1445e+00, 2.0030e+00, 2.0712e+00, 2.6421e+00, 6.5851e-01,\n",
       "          7.1871e-03, 3.1882e-03, 2.2465e-01, 1.0697e-02, 3.1385e+00, 2.3086e+00,\n",
       "          2.2683e+00, 4.1629e-05, 1.0248e-02, 6.4940e-03],\n",
       "         [5.0308e-01, 1.3680e+00, 1.4605e+00, 5.1859e-01, 2.0550e-01, 1.1735e-01,\n",
       "          1.3420e+00, 1.4188e-02, 1.3071e-01, 3.8193e-01, 1.5683e+00, 1.3812e+00,\n",
       "          1.4882e+00, 6.4643e-04, 1.8187e-01, 1.3952e-01],\n",
       "         [4.5228e-01, 1.6112e+00, 1.6566e+00, 6.7222e-01, 2.7977e-01, 1.7211e-01,\n",
       "          1.4908e+00, 8.5692e-03, 7.6175e-02, 3.2829e-01, 2.0833e+00, 1.6602e+00,\n",
       "          1.5877e+00, 1.7505e-04, 2.0396e-01, 1.3037e-01]],\n",
       "        grad_fn=<SoftplusBackward>),\n",
       " tensor([[4.6416e-01, 1.6665e+00, 1.7462e+00, 7.2561e-01, 2.4785e-01, 2.2299e-01,\n",
       "          1.7249e+00, 6.9192e-03, 4.8312e-02, 3.2146e-01, 2.3324e+00, 1.7807e+00,\n",
       "          1.5841e+00, 9.4695e-05, 2.7948e-01, 1.4288e-01],\n",
       "         [4.5247e-01, 1.6377e+00, 1.6883e+00, 6.9388e-01, 2.7819e-01, 1.8544e-01,\n",
       "          1.5466e+00, 7.9841e-03, 6.7948e-02, 3.2546e-01, 2.1627e+00, 1.7014e+00,\n",
       "          1.5957e+00, 1.4363e-04, 2.1850e-01, 1.3278e-01]],\n",
       "        grad_fn=<SoftplusBackward>)]"
      ]
     },
     "execution_count": 17,
     "metadata": {},
     "output_type": "execute_result"
    }
   ],
   "source": [
    "train_hist[-1]['decay_cell'][-2:]"
   ]
  },
  {
   "cell_type": "markdown",
   "metadata": {},
   "source": [
    "Now we save the model down to a file."
   ]
  },
  {
   "cell_type": "code",
   "execution_count": 18,
   "metadata": {},
   "outputs": [
    {
     "name": "stdout",
     "output_type": "stream",
     "text": [
      "Saving model to: saved_models/HawkesLSTM-1d_hidden16-20181204-142925.pth\n",
      "{'model_path': 'saved_models/HawkesLSTM-1d_hidden16-20181204-142925.pth', 'data_path': '../data/simulated/hawkes_synthetic_exp_1d_20181202-135203.pkl'}\n"
     ]
    }
   ],
   "source": [
    "from utils.save_model import save_model\n",
    "\n",
    "save_model(model, chosen_data_file, extra_tag, hidden_size, now_timestamp)"
   ]
  },
  {
   "cell_type": "markdown",
   "metadata": {},
   "source": [
    "# Model evaluation"
   ]
  },
  {
   "cell_type": "markdown",
   "metadata": {},
   "source": [
    "Now we perform model evaluation steps."
   ]
  },
  {
   "cell_type": "markdown",
   "metadata": {},
   "source": [
    "## Load saved model"
   ]
  },
  {
   "cell_type": "code",
   "execution_count": 32,
   "metadata": {},
   "outputs": [],
   "source": [
    "from models.ctlstm import HawkesLSTM, HawkesLSTMGen"
   ]
  },
  {
   "cell_type": "code",
   "execution_count": 11,
   "metadata": {},
   "outputs": [
    {
     "name": "stdout",
     "output_type": "stream",
     "text": [
      "../saved_models/HawkesLSTM-1d_hidden128-20181206-210510.pth\n",
      "../saved_models/HawkesDecayRNN-1d_hidden32-20181205-230630.pth\n"
     ]
    }
   ],
   "source": [
    "MODEL_FILES = glob.glob(\"../saved_models/*.pth\")\n",
    "for p in MODEL_FILES:\n",
    "    print(p)"
   ]
  },
  {
   "cell_type": "code",
   "execution_count": 14,
   "metadata": {},
   "outputs": [
    {
     "name": "stdout",
     "output_type": "stream",
     "text": [
      "chosen file: ../saved_models/HawkesLSTM-1d_hidden128-20181206-210510.pth\n",
      "Timestamp: 20181206-210510\n"
     ]
    }
   ],
   "source": [
    "load_filename = MODEL_FILES[0]\n",
    "print(\"chosen file:\", load_filename)\n",
    "\n",
    "load_file_timestamp = \"-\".join(os.path.splitext(os.path.basename(load_filename))[0].split('-')[-2:])\n",
    "print(\"Timestamp:\", load_file_timestamp)"
   ]
  },
  {
   "cell_type": "code",
   "execution_count": 16,
   "metadata": {},
   "outputs": [
    {
     "name": "stdout",
     "output_type": "stream",
     "text": [
      "Hidden size: 128\n"
     ]
    }
   ],
   "source": [
    "process_dim = 1\n",
    "hidden_size = 128\n",
    "print(\"Hidden size: {}\".format(hidden_size))\n",
    "model = HawkesLSTM(process_dim, hidden_size)\n",
    "\n",
    "model.load_state_dict(torch.load(load_filename, map_location={\"cuda:0\": \"cpu\"}))"
   ]
  },
  {
   "cell_type": "markdown",
   "metadata": {},
   "source": [
    "## Sequence generation"
   ]
  },
  {
   "cell_type": "code",
   "execution_count": 17,
   "metadata": {},
   "outputs": [],
   "source": [
    "tmax = 3600  # real end time value"
   ]
  },
  {
   "cell_type": "markdown",
   "metadata": {},
   "source": [
    "#### Generating sequences on untrained model with random weights"
   ]
  },
  {
   "cell_type": "code",
   "execution_count": 18,
   "metadata": {},
   "outputs": [
    {
     "name": "stdout",
     "output_type": "stream",
     "text": [
      "Process model dim:\t1\tHidden units:\t128\n"
     ]
    }
   ],
   "source": [
    "model2 = HawkesLSTM(1, hidden_size)\n",
    "generator2 = HawkesLSTMGen(model2)"
   ]
  },
  {
   "cell_type": "code",
   "execution_count": 21,
   "metadata": {},
   "outputs": [
    {
     "name": "stdout",
     "output_type": "stream",
     "text": [
      "no. of events: 12\n",
      "0: type 0\n"
     ]
    },
    {
     "data": {
      "image/png": "[encoded data removed]",
      "text/plain": [
       "<Figure size 900x400 with 1 Axes>"
      ]
     },
     "metadata": {
      "needs_background": "light"
     },
     "output_type": "display_data"
    }
   ],
   "source": [
    "tmax_simu = 60\n",
    "generator2.generate_sequence(tmax_simu, record_intensity=True)\n",
    "\n",
    "fig = generator2.plot_events_and_intensity(debug=False)\n",
    "fig.tight_layout()"
   ]
  },
  {
   "cell_type": "code",
   "execution_count": 97,
   "metadata": {},
   "outputs": [],
   "source": [
    "fig.savefig('example_lstmplot__.pdf')"
   ]
  },
  {
   "cell_type": "markdown",
   "metadata": {},
   "source": [
    "#### Sequence generation on trained model"
   ]
  },
  {
   "cell_type": "code",
   "execution_count": 45,
   "metadata": {},
   "outputs": [],
   "source": [
    "from models.ctlstm import HawkesLSTM, HawkesLSTMGen"
   ]
  },
  {
   "cell_type": "code",
   "execution_count": 46,
   "metadata": {},
   "outputs": [
    {
     "name": "stdout",
     "output_type": "stream",
     "text": [
      "Process model dim:\t1\tHidden units:\t128\n"
     ]
    }
   ],
   "source": [
    "generator = HawkesLSTMGen(model)"
   ]
  },
  {
   "cell_type": "code",
   "execution_count": 50,
   "metadata": {},
   "outputs": [
    {
     "name": "stdout",
     "output_type": "stream",
     "text": [
      "no. of events: 5\n",
      "0: type 0\n"
     ]
    },
    {
     "data": {
      "image/png": "[encoded data removed]",
      "text/plain": [
       "<Figure size 900x400 with 1 Axes>"
      ]
     },
     "metadata": {
      "needs_background": "light"
     },
     "output_type": "display_data"
    }
   ],
   "source": [
    "tmax_simu = 240\n",
    "\n",
    "generator.generate_sequence(tmax_simu, record_intensity=True)\n",
    "_ = generator.plot_events_and_intensity(debug=False)"
   ]
  },
  {
   "cell_type": "markdown",
   "metadata": {},
   "source": [
    "### Length distribution"
   ]
  },
  {
   "cell_type": "code",
   "execution_count": 221,
   "metadata": {},
   "outputs": [
    {
     "name": "stdout",
     "output_type": "stream",
     "text": [
      "HawkesLSTM\n"
     ]
    }
   ],
   "source": [
    "MODEL_NAME = model.__class__.__name__\n",
    "print(MODEL_NAME)"
   ]
  },
  {
   "cell_type": "code",
   "execution_count": 222,
   "metadata": {},
   "outputs": [
    {
     "name": "stdout",
     "output_type": "stream",
     "text": [
      "Mean generated sequence length: 223.804\n",
      "Generated sequence length std. dev: 20.06732627930288\n"
     ]
    }
   ],
   "source": [
    "# Build a statistic for the no. of events\n",
    "gen_seq_lengths = []\n",
    "gen_seq_types_lengths = []\n",
    "n_gen_seq = 500 # number of generated sequences\n",
    "for i in range(n_gen_seq):\n",
    "    generator.generate_sequence(tmax, record_intensity=False)\n",
    "    gen_seq_times = generator.event_times\n",
    "    gen_seq_types = np.array(generator.event_types)\n",
    "    gen_seq_lengths.append(len(gen_seq_times))\n",
    "    gen_seq_types_lengths.append([\n",
    "        (gen_seq_types == i).sum() for i in range(model.input_size)\n",
    "    ])\n",
    "gen_seq_lengths = np.array(gen_seq_lengths)\n",
    "gen_seq_types_lengths = np.array(gen_seq_types_lengths)\n",
    "\n",
    "print(\"Mean generated sequence length: {}\".format(gen_seq_lengths.mean()))\n",
    "print(\"Generated sequence length std. dev: {}\".format(gen_seq_lengths.std()))"
   ]
  },
  {
   "cell_type": "code",
   "execution_count": 223,
   "metadata": {},
   "outputs": [
    {
     "data": {
      "image/png": "[encoded data removed]",
      "text/plain": [
       "<Figure size 800x400 with 1 Axes>"
      ]
     },
     "metadata": {
      "needs_background": "light"
     },
     "output_type": "display_data"
    }
   ],
   "source": [
    "if process_dim > 1:\n",
    "    num_plots = process_dim + 1\n",
    "else:\n",
    "    num_plots = 1\n",
    "fig, axes = plt.subplots(num_plots, 1, figsize=(8,4+(num_plots-1)*3), dpi=100)\n",
    "ax0 = axes[0] if num_plots > 1 else axes\n",
    "hist_opts = {\n",
    "    \"rwidth\": 0.8,\n",
    "    \"alpha\": 0.4,\n",
    "    \"density\": True\n",
    "}\n",
    "gen_label = \"Sequence lengths (generated by {:})\".format(MODEL_NAME)\n",
    "_ = ax0.hist(seq_lengths, bins=2*int(seq_lengths.size(0)**(1/3)),\n",
    "            label=\"Sequence lengths (base model)\",\n",
    "            **hist_opts)\n",
    "_ = ax0.hist(gen_seq_lengths, bins=2*int(n_gen_seq**(1/3)),\n",
    "            label=gen_label,\n",
    "            color='red', **hist_opts)\n",
    "ax0.legend()\n",
    "if num_plots > 1:\n",
    "    ax0.set_title('no. of events (all types, including starter type)')\n",
    "else:\n",
    "    ax0.set_title('no. of  events')\n",
    "ax0.set_ylabel('Proportion')\n",
    "ax0.set_xlabel('Number of events $N_T$')\n",
    "if num_plots > 1:\n",
    "    axt = axes[1:]\n",
    "    for i, ax in enumerate(axt):\n",
    "        # get the sequence lengths for the event types\n",
    "        typ_seq_lengths = (seq_types == i).sum(dim=1)\n",
    "        gen_typ_seq_lengths = gen_seq_types_lengths[:, i]\n",
    "        ax.hist(typ_seq_lengths, bins=2*int(typ_seq_lengths.size(0)**(1/3)),\n",
    "                label=\"Sequence lengths (base model)\",\n",
    "                **hist_opts)\n",
    "        ax.hist(gen_typ_seq_lengths,\n",
    "                bins=2*int(gen_typ_seq_lengths.shape[0]**(1/3)),\n",
    "                label=gen_label,\n",
    "                color='red', **hist_opts)\n",
    "        ax.set_xlabel(\"Number of events of type {}, $N_T^{}$\".format(i, i))\n",
    "        ax.set_title('no. of events of type $i={}$'.format(i))\n",
    "\n",
    "fig.tight_layout()"
   ]
  },
  {
   "cell_type": "code",
   "execution_count": null,
   "metadata": {},
   "outputs": [],
   "source": []
  },
  {
   "cell_type": "code",
   "execution_count": null,
   "metadata": {},
   "outputs": [],
   "source": []
  }
 ],
 "metadata": {
  "kernelspec": {
   "display_name": "Python [conda env:pytorch]",
   "language": "python",
   "name": "conda-env-pytorch-py"
  },
  "language_info": {
   "codemirror_mode": {
    "name": "ipython",
    "version": 3
   },
   "file_extension": ".py",
   "mimetype": "text/x-python",
   "name": "python",
   "nbconvert_exporter": "python",
   "pygments_lexer": "ipython3",
   "version": "3.7.1"
  }
 },
 "nbformat": 4,
 "nbformat_minor": 2
}
