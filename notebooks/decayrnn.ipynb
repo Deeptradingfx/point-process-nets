{
 "cells": [
  {
   "cell_type": "code",
   "execution_count": 1,
   "metadata": {
    "scrolled": true
   },
   "outputs": [],
   "source": [
    "%matplotlib inline\n",
    "%load_ext autoreload\n",
    "%autoreload 2"
   ]
  },
  {
   "cell_type": "code",
   "execution_count": 2,
   "metadata": {},
   "outputs": [],
   "source": [
    "import matplotlib.pyplot as plt\n",
    "import matplotlib.ticker as mticker\n",
    "import numpy as np"
   ]
  },
  {
   "cell_type": "code",
   "execution_count": 3,
   "metadata": {},
   "outputs": [],
   "source": [
    "import torch\n",
    "from torch import nn"
   ]
  },
  {
   "cell_type": "code",
   "execution_count": 4,
   "metadata": {},
   "outputs": [
    {
     "data": {
      "text/plain": [
       "<torch._C.Generator at 0x7f0025223d10>"
      ]
     },
     "execution_count": 4,
     "metadata": {},
     "output_type": "execute_result"
    }
   ],
   "source": [
    "torch.manual_seed(52)"
   ]
  },
  {
   "cell_type": "code",
   "execution_count": 5,
   "metadata": {},
   "outputs": [],
   "source": [
    "import os\n",
    "import sys\n",
    "import tqdm"
   ]
  },
  {
   "cell_type": "code",
   "execution_count": 6,
   "metadata": {},
   "outputs": [
    {
     "name": "stdout",
     "output_type": "stream",
     "text": [
      "Notebook dir /home/manifold/Documents/etudes/map511-p3a\n",
      "Python interpreter path:\n",
      "\n",
      "/home/manifold/Documents/etudes/map511-p3a/notebooks\n",
      "/home/manifold/miniconda3/envs/pytorch/lib/python37.zip\n",
      "/home/manifold/miniconda3/envs/pytorch/lib/python3.7\n",
      "/home/manifold/miniconda3/envs/pytorch/lib/python3.7/lib-dynload\n",
      "/home/manifold/miniconda3/envs/pytorch/lib/python3.7/site-packages\n",
      "/home/manifold/miniconda3/envs/pytorch/lib/python3.7/site-packages/pointprocesses-0.4.1-py3.7-linux-x86_64.egg\n",
      "/home/manifold/miniconda3/envs/pytorch/lib/python3.7/site-packages/torchvision-0.2.1-py3.7.egg\n",
      "/home/manifold/miniconda3/envs/pytorch/lib/python3.7/site-packages/IPython/extensions\n",
      "/home/manifold/.ipython\n",
      "/home/manifold/Documents/etudes/map511-p3a\n"
     ]
    }
   ],
   "source": [
    "# Add parent dir to interpreter path\n",
    "nb_dir = os.path.split(os.getcwd())[0]\n",
    "print(\"Notebook dir {:}\".format(nb_dir))\n",
    "if nb_dir not in sys.path:\n",
    "    sys.path.append(nb_dir)\n",
    "print(\"Python interpreter path:\")\n",
    "for path in sys.path:\n",
    "    print(path)"
   ]
  },
  {
   "cell_type": "markdown",
   "metadata": {},
   "source": [
    "# Loading synthetic data"
   ]
  },
  {
   "cell_type": "markdown",
   "metadata": {},
   "source": [
    "We will be loading simulated Hawkes data."
   ]
  },
  {
   "cell_type": "code",
   "execution_count": 7,
   "metadata": {},
   "outputs": [
    {
     "name": "stdout",
     "output_type": "stream",
     "text": [
      "Available files:\n",
      "../data/simulated/hawkes_synth_data_1d.pkl\n",
      "../data/simulated/hawkes_synth_data_2d.pkl\n",
      "../data/simulated/README.md\n"
     ]
    }
   ],
   "source": [
    "import glob\n",
    "import pickle\n",
    "\n",
    "SYNTH_DATA_FILES = glob.glob('../data/simulated/*')\n",
    "print(\"Available files:\")\n",
    "for s in SYNTH_DATA_FILES:\n",
    "    print(s)\n",
    "\n",
    "from load_synth_data import process_loaded_sequences, one_hot_embedding"
   ]
  },
  {
   "cell_type": "code",
   "execution_count": 9,
   "metadata": {},
   "outputs": [
    {
     "name": "stdout",
     "output_type": "stream",
     "text": [
      "Loading 1-dimensional\n",
      "Data file: ../data/simulated/hawkes_synth_data_1d.pkl\n"
     ]
    }
   ],
   "source": [
    "process_dim = 1\n",
    "# Load data simulated using tick\n",
    "print(\"Loading {}-dimensional\".format(process_dim))\n",
    "choose_file_index = 0\n",
    "chosen_file = SYNTH_DATA_FILES[choose_file_index]\n",
    "print(\"Data file: {}\".format(chosen_file))\n",
    "with open(SYNTH_DATA_FILES[process_dim-1], \"rb\") as f:\n",
    "    loaded_hawkes_data = pickle.load(f)"
   ]
  },
  {
   "cell_type": "code",
   "execution_count": 11,
   "metadata": {},
   "outputs": [
    {
     "name": "stdout",
     "output_type": "stream",
     "text": [
      "dict_keys(['mu', 'alpha', 'decay', 'tmax', 'timestamps', 'types', 'lengths'])\n",
      "1.0\n",
      "5.0\n",
      "60.0\n"
     ]
    }
   ],
   "source": [
    "print(loaded_hawkes_data.keys())\n",
    "\n",
    "mu = loaded_hawkes_data['mu']\n",
    "decay = loaded_hawkes_data['decay']\n",
    "tmax = loaded_hawkes_data['tmax']\n",
    "print(mu)\n",
    "print(decay)\n",
    "print(tmax)\n",
    "\n",
    "times_tensor, seq_types, seq_lengths = process_loaded_sequences(\n",
    "    loaded_hawkes_data)\n",
    "\n",
    "onehot_types = one_hot_embedding(seq_types, process_dim+1)"
   ]
  },
  {
   "cell_type": "markdown",
   "metadata": {},
   "source": [
    "# Neural network"
   ]
  },
  {
   "cell_type": "markdown",
   "metadata": {},
   "source": [
    "We are going for a recurrent neural structure that can learn from previous events. The intensity process of our neural model will be of the form\n",
    "\n",
    "$$\n",
    "    \\lambda_t = f\\left(W_{\\lambda} h(t)\\right)\n",
    "$$\n",
    "\n",
    "with $f$ a positive-valued activation function (such as ReLU) and $h(t)\\in\\mathbb R^D$ a continuous hidden state, computed as\n",
    "\\begin{equation}\n",
    "    h(t) = h_{i}e^{-\\delta_i(t-t_{i-1})},\\quad \\forall t\\in(t_{i-1},t_i]\n",
    "\\end{equation}\n",
    "\n",
    "Network update formulas: the jump and decay parameters on $(t_i,t_{i+1}]$ are given by\n",
    "$$\n",
    "\\begin{align*}\n",
    "    h_{i+1}      &= \\tanh(W_{hh}h(t_i) + W_{xh}x_i + b_{h}) \\\\\n",
    "    \\delta_{i+1} &= \\sigma(W_{hd} h(t_i) + W_{xd}x_i + b_{d})\n",
    "\\end{align*}\n",
    "$$"
   ]
  },
  {
   "cell_type": "code",
   "execution_count": 12,
   "metadata": {},
   "outputs": [],
   "source": [
    "from models.decayrnn import HawkesDecayRNN\n",
    "from train_functions import train_decayrnn\n",
    "\n",
    "hidden_size = 24\n",
    "model = HawkesDecayRNN(process_dim, hidden_size)\n",
    "optimizer = torch.optim.Adagrad(model.parameters(), lr=0.015)"
   ]
  },
  {
   "cell_type": "code",
   "execution_count": 13,
   "metadata": {},
   "outputs": [
    {
     "name": "stdout",
     "output_type": "stream",
     "text": [
      "Train size 1000\n",
      "Train event times shape torch.Size([93, 1000])\n",
      "Train event types shape torch.Size([93, 1000, 2])\n",
      "Train seq lengths shape torch.Size([1000])\n"
     ]
    }
   ],
   "source": [
    "# define training data\n",
    "train_size = 1000\n",
    "print(\"Train size %d\" % train_size)\n",
    "\n",
    "train_times_tensor = times_tensor[:, :train_size]\n",
    "train_onehot_types = onehot_types[:, :train_size]\n",
    "train_seq_lengths = seq_lengths[:train_size]\n",
    "print(\"Train event times shape {}\".format(train_times_tensor.shape))\n",
    "print(\"Train event types shape {}\".format(train_onehot_types.shape))\n",
    "print(\"Train seq lengths shape {}\".format(train_seq_lengths.shape))"
   ]
  },
  {
   "cell_type": "code",
   "execution_count": 14,
   "metadata": {
    "scrolled": true
   },
   "outputs": [
    {
     "name": "stdout",
     "output_type": "stream",
     "text": [
      "Batch size 32\n",
      "Number of epochs 50\n"
     ]
    },
    {
     "data": {
      "application/vnd.jupyter.widget-view+json": {
       "model_id": "603aa187b70a4b63aaa8b53d231d8057",
       "version_major": 2,
       "version_minor": 0
      },
      "text/plain": [
       "HBox(children=(IntProgress(value=0, description='Epoch 1', max=32, style=ProgressStyle(description_width='init…"
      ]
     },
     "metadata": {},
     "output_type": "display_data"
    },
    {
     "name": "stdout",
     "output_type": "stream",
     "text": [
      "\n"
     ]
    },
    {
     "data": {
      "application/vnd.jupyter.widget-view+json": {
       "model_id": "c707cbda90d847609c0e8186b708ff49",
       "version_major": 2,
       "version_minor": 0
      },
      "text/plain": [
       "HBox(children=(IntProgress(value=0, description='Epoch 2', max=32, style=ProgressStyle(description_width='init…"
      ]
     },
     "metadata": {},
     "output_type": "display_data"
    },
    {
     "name": "stdout",
     "output_type": "stream",
     "text": [
      "\n"
     ]
    },
    {
     "data": {
      "application/vnd.jupyter.widget-view+json": {
       "model_id": "6f7caa42f04644d88d86fa94b6938013",
       "version_major": 2,
       "version_minor": 0
      },
      "text/plain": [
       "HBox(children=(IntProgress(value=0, description='Epoch 3', max=32, style=ProgressStyle(description_width='init…"
      ]
     },
     "metadata": {},
     "output_type": "display_data"
    },
    {
     "name": "stdout",
     "output_type": "stream",
     "text": [
      "\n"
     ]
    },
    {
     "data": {
      "application/vnd.jupyter.widget-view+json": {
       "model_id": "246f6e05d0f545d39d410c7808271a4c",
       "version_major": 2,
       "version_minor": 0
      },
      "text/plain": [
       "HBox(children=(IntProgress(value=0, description='Epoch 4', max=32, style=ProgressStyle(description_width='init…"
      ]
     },
     "metadata": {},
     "output_type": "display_data"
    },
    {
     "name": "stdout",
     "output_type": "stream",
     "text": [
      "\n"
     ]
    },
    {
     "data": {
      "application/vnd.jupyter.widget-view+json": {
       "model_id": "deb9372bed7b4fefa0711606153907c7",
       "version_major": 2,
       "version_minor": 0
      },
      "text/plain": [
       "HBox(children=(IntProgress(value=0, description='Epoch 5', max=32, style=ProgressStyle(description_width='init…"
      ]
     },
     "metadata": {},
     "output_type": "display_data"
    },
    {
     "name": "stdout",
     "output_type": "stream",
     "text": [
      "\n"
     ]
    },
    {
     "data": {
      "application/vnd.jupyter.widget-view+json": {
       "model_id": "32af654fcec5408197c5c694b6b9bf18",
       "version_major": 2,
       "version_minor": 0
      },
      "text/plain": [
       "HBox(children=(IntProgress(value=0, description='Epoch 6', max=32, style=ProgressStyle(description_width='init…"
      ]
     },
     "metadata": {},
     "output_type": "display_data"
    },
    {
     "name": "stdout",
     "output_type": "stream",
     "text": [
      "\n"
     ]
    },
    {
     "data": {
      "application/vnd.jupyter.widget-view+json": {
       "model_id": "2bde01ec95a84d3c9903f5c09a2180fe",
       "version_major": 2,
       "version_minor": 0
      },
      "text/plain": [
       "HBox(children=(IntProgress(value=0, description='Epoch 7', max=32, style=ProgressStyle(description_width='init…"
      ]
     },
     "metadata": {},
     "output_type": "display_data"
    },
    {
     "name": "stdout",
     "output_type": "stream",
     "text": [
      "\n"
     ]
    },
    {
     "data": {
      "application/vnd.jupyter.widget-view+json": {
       "model_id": "76b70090ccec4933ab195999ba9ef480",
       "version_major": 2,
       "version_minor": 0
      },
      "text/plain": [
       "HBox(children=(IntProgress(value=0, description='Epoch 8', max=32, style=ProgressStyle(description_width='init…"
      ]
     },
     "metadata": {},
     "output_type": "display_data"
    },
    {
     "name": "stdout",
     "output_type": "stream",
     "text": [
      "\n"
     ]
    },
    {
     "data": {
      "application/vnd.jupyter.widget-view+json": {
       "model_id": "fcc31dbbfd6841f98aa69a6dab75b01d",
       "version_major": 2,
       "version_minor": 0
      },
      "text/plain": [
       "HBox(children=(IntProgress(value=0, description='Epoch 9', max=32, style=ProgressStyle(description_width='init…"
      ]
     },
     "metadata": {},
     "output_type": "display_data"
    },
    {
     "name": "stdout",
     "output_type": "stream",
     "text": [
      "\n"
     ]
    },
    {
     "data": {
      "application/vnd.jupyter.widget-view+json": {
       "model_id": "310cf1bfe76c4e6583793181e1060b94",
       "version_major": 2,
       "version_minor": 0
      },
      "text/plain": [
       "HBox(children=(IntProgress(value=0, description='Epoch 10', max=32, style=ProgressStyle(description_width='ini…"
      ]
     },
     "metadata": {},
     "output_type": "display_data"
    },
    {
     "name": "stdout",
     "output_type": "stream",
     "text": [
      "\n"
     ]
    },
    {
     "data": {
      "application/vnd.jupyter.widget-view+json": {
       "model_id": "0e92be62e86d4929813bd06017bc851b",
       "version_major": 2,
       "version_minor": 0
      },
      "text/plain": [
       "HBox(children=(IntProgress(value=0, description='Epoch 11', max=32, style=ProgressStyle(description_width='ini…"
      ]
     },
     "metadata": {},
     "output_type": "display_data"
    },
    {
     "name": "stdout",
     "output_type": "stream",
     "text": [
      "\n"
     ]
    },
    {
     "data": {
      "application/vnd.jupyter.widget-view+json": {
       "model_id": "52f3c6fb439644c4bc30bff3762d550d",
       "version_major": 2,
       "version_minor": 0
      },
      "text/plain": [
       "HBox(children=(IntProgress(value=0, description='Epoch 12', max=32, style=ProgressStyle(description_width='ini…"
      ]
     },
     "metadata": {},
     "output_type": "display_data"
    },
    {
     "name": "stdout",
     "output_type": "stream",
     "text": [
      "\n"
     ]
    },
    {
     "data": {
      "application/vnd.jupyter.widget-view+json": {
       "model_id": "41340fe14b194606ba675c4a9f73924c",
       "version_major": 2,
       "version_minor": 0
      },
      "text/plain": [
       "HBox(children=(IntProgress(value=0, description='Epoch 13', max=32, style=ProgressStyle(description_width='ini…"
      ]
     },
     "metadata": {},
     "output_type": "display_data"
    },
    {
     "name": "stdout",
     "output_type": "stream",
     "text": [
      "\n"
     ]
    },
    {
     "data": {
      "application/vnd.jupyter.widget-view+json": {
       "model_id": "cc93f6f4916447339ed9d5d406fd0ecb",
       "version_major": 2,
       "version_minor": 0
      },
      "text/plain": [
       "HBox(children=(IntProgress(value=0, description='Epoch 14', max=32, style=ProgressStyle(description_width='ini…"
      ]
     },
     "metadata": {},
     "output_type": "display_data"
    },
    {
     "name": "stdout",
     "output_type": "stream",
     "text": [
      "\n"
     ]
    },
    {
     "data": {
      "application/vnd.jupyter.widget-view+json": {
       "model_id": "2478878a46eb4c50a1bba6273e867520",
       "version_major": 2,
       "version_minor": 0
      },
      "text/plain": [
       "HBox(children=(IntProgress(value=0, description='Epoch 15', max=32, style=ProgressStyle(description_width='ini…"
      ]
     },
     "metadata": {},
     "output_type": "display_data"
    },
    {
     "name": "stdout",
     "output_type": "stream",
     "text": [
      "\n"
     ]
    },
    {
     "data": {
      "application/vnd.jupyter.widget-view+json": {
       "model_id": "7c8ea1555a76487a85f5f53c30a14239",
       "version_major": 2,
       "version_minor": 0
      },
      "text/plain": [
       "HBox(children=(IntProgress(value=0, description='Epoch 16', max=32, style=ProgressStyle(description_width='ini…"
      ]
     },
     "metadata": {},
     "output_type": "display_data"
    },
    {
     "name": "stdout",
     "output_type": "stream",
     "text": [
      "\n"
     ]
    },
    {
     "data": {
      "application/vnd.jupyter.widget-view+json": {
       "model_id": "cb95bb3ea8124fb08bc312b2ee920315",
       "version_major": 2,
       "version_minor": 0
      },
      "text/plain": [
       "HBox(children=(IntProgress(value=0, description='Epoch 17', max=32, style=ProgressStyle(description_width='ini…"
      ]
     },
     "metadata": {},
     "output_type": "display_data"
    },
    {
     "name": "stdout",
     "output_type": "stream",
     "text": [
      "\n"
     ]
    },
    {
     "data": {
      "application/vnd.jupyter.widget-view+json": {
       "model_id": "e83400893c744279a520c008073ddff1",
       "version_major": 2,
       "version_minor": 0
      },
      "text/plain": [
       "HBox(children=(IntProgress(value=0, description='Epoch 18', max=32, style=ProgressStyle(description_width='ini…"
      ]
     },
     "metadata": {},
     "output_type": "display_data"
    },
    {
     "name": "stdout",
     "output_type": "stream",
     "text": [
      "\n"
     ]
    },
    {
     "data": {
      "application/vnd.jupyter.widget-view+json": {
       "model_id": "a1309e8c83424d0db196beb0f7db8974",
       "version_major": 2,
       "version_minor": 0
      },
      "text/plain": [
       "HBox(children=(IntProgress(value=0, description='Epoch 19', max=32, style=ProgressStyle(description_width='ini…"
      ]
     },
     "metadata": {},
     "output_type": "display_data"
    },
    {
     "name": "stdout",
     "output_type": "stream",
     "text": [
      "\n"
     ]
    },
    {
     "data": {
      "application/vnd.jupyter.widget-view+json": {
       "model_id": "829f03acd9814add97712acc80ae5751",
       "version_major": 2,
       "version_minor": 0
      },
      "text/plain": [
       "HBox(children=(IntProgress(value=0, description='Epoch 20', max=32, style=ProgressStyle(description_width='ini…"
      ]
     },
     "metadata": {},
     "output_type": "display_data"
    },
    {
     "name": "stdout",
     "output_type": "stream",
     "text": [
      "\n"
     ]
    },
    {
     "data": {
      "application/vnd.jupyter.widget-view+json": {
       "model_id": "b52e3b7c646d412ba15e33a36ad8b764",
       "version_major": 2,
       "version_minor": 0
      },
      "text/plain": [
       "HBox(children=(IntProgress(value=0, description='Epoch 21', max=32, style=ProgressStyle(description_width='ini…"
      ]
     },
     "metadata": {},
     "output_type": "display_data"
    },
    {
     "name": "stdout",
     "output_type": "stream",
     "text": [
      "\n"
     ]
    },
    {
     "data": {
      "application/vnd.jupyter.widget-view+json": {
       "model_id": "5c82c5e9cf044597b1159c7b87f6e94a",
       "version_major": 2,
       "version_minor": 0
      },
      "text/plain": [
       "HBox(children=(IntProgress(value=0, description='Epoch 22', max=32, style=ProgressStyle(description_width='ini…"
      ]
     },
     "metadata": {},
     "output_type": "display_data"
    },
    {
     "name": "stdout",
     "output_type": "stream",
     "text": [
      "\n"
     ]
    },
    {
     "data": {
      "application/vnd.jupyter.widget-view+json": {
       "model_id": "5c0051324047414e9abef6d5f50b1d14",
       "version_major": 2,
       "version_minor": 0
      },
      "text/plain": [
       "HBox(children=(IntProgress(value=0, description='Epoch 23', max=32, style=ProgressStyle(description_width='ini…"
      ]
     },
     "metadata": {},
     "output_type": "display_data"
    },
    {
     "name": "stdout",
     "output_type": "stream",
     "text": [
      "\n"
     ]
    },
    {
     "data": {
      "application/vnd.jupyter.widget-view+json": {
       "model_id": "c53233fdfbc04a9d8ce4239da8c92334",
       "version_major": 2,
       "version_minor": 0
      },
      "text/plain": [
       "HBox(children=(IntProgress(value=0, description='Epoch 24', max=32, style=ProgressStyle(description_width='ini…"
      ]
     },
     "metadata": {},
     "output_type": "display_data"
    },
    {
     "name": "stdout",
     "output_type": "stream",
     "text": [
      "\n"
     ]
    },
    {
     "data": {
      "application/vnd.jupyter.widget-view+json": {
       "model_id": "613ba8328cfa4c8ab01950b95314a7e2",
       "version_major": 2,
       "version_minor": 0
      },
      "text/plain": [
       "HBox(children=(IntProgress(value=0, description='Epoch 25', max=32, style=ProgressStyle(description_width='ini…"
      ]
     },
     "metadata": {},
     "output_type": "display_data"
    },
    {
     "name": "stdout",
     "output_type": "stream",
     "text": [
      "\n"
     ]
    },
    {
     "data": {
      "application/vnd.jupyter.widget-view+json": {
       "model_id": "b418fc87d2a8444887d23657834e1bac",
       "version_major": 2,
       "version_minor": 0
      },
      "text/plain": [
       "HBox(children=(IntProgress(value=0, description='Epoch 26', max=32, style=ProgressStyle(description_width='ini…"
      ]
     },
     "metadata": {},
     "output_type": "display_data"
    },
    {
     "name": "stdout",
     "output_type": "stream",
     "text": [
      "\n"
     ]
    },
    {
     "data": {
      "application/vnd.jupyter.widget-view+json": {
       "model_id": "8ab7ac0392424c7fb28298235966f830",
       "version_major": 2,
       "version_minor": 0
      },
      "text/plain": [
       "HBox(children=(IntProgress(value=0, description='Epoch 27', max=32, style=ProgressStyle(description_width='ini…"
      ]
     },
     "metadata": {},
     "output_type": "display_data"
    },
    {
     "name": "stdout",
     "output_type": "stream",
     "text": [
      "\n"
     ]
    },
    {
     "data": {
      "application/vnd.jupyter.widget-view+json": {
       "model_id": "5d7e63a1bd1f4d07a7aba97a8414957b",
       "version_major": 2,
       "version_minor": 0
      },
      "text/plain": [
       "HBox(children=(IntProgress(value=0, description='Epoch 28', max=32, style=ProgressStyle(description_width='ini…"
      ]
     },
     "metadata": {},
     "output_type": "display_data"
    },
    {
     "name": "stdout",
     "output_type": "stream",
     "text": [
      "\n"
     ]
    },
    {
     "data": {
      "application/vnd.jupyter.widget-view+json": {
       "model_id": "7e99d732c5864b81b0efc68af349f839",
       "version_major": 2,
       "version_minor": 0
      },
      "text/plain": [
       "HBox(children=(IntProgress(value=0, description='Epoch 29', max=32, style=ProgressStyle(description_width='ini…"
      ]
     },
     "metadata": {},
     "output_type": "display_data"
    },
    {
     "name": "stdout",
     "output_type": "stream",
     "text": [
      "\n"
     ]
    },
    {
     "data": {
      "application/vnd.jupyter.widget-view+json": {
       "model_id": "3e92a119375c4a4986c7e7928e1dcf49",
       "version_major": 2,
       "version_minor": 0
      },
      "text/plain": [
       "HBox(children=(IntProgress(value=0, description='Epoch 30', max=32, style=ProgressStyle(description_width='ini…"
      ]
     },
     "metadata": {},
     "output_type": "display_data"
    },
    {
     "name": "stdout",
     "output_type": "stream",
     "text": [
      "\n"
     ]
    },
    {
     "data": {
      "application/vnd.jupyter.widget-view+json": {
       "model_id": "84a09f9d2ff346458d0963622e608efc",
       "version_major": 2,
       "version_minor": 0
      },
      "text/plain": [
       "HBox(children=(IntProgress(value=0, description='Epoch 31', max=32, style=ProgressStyle(description_width='ini…"
      ]
     },
     "metadata": {},
     "output_type": "display_data"
    },
    {
     "name": "stdout",
     "output_type": "stream",
     "text": [
      "\n"
     ]
    },
    {
     "data": {
      "application/vnd.jupyter.widget-view+json": {
       "model_id": "0d012438fcec4b678126598074b742fa",
       "version_major": 2,
       "version_minor": 0
      },
      "text/plain": [
       "HBox(children=(IntProgress(value=0, description='Epoch 32', max=32, style=ProgressStyle(description_width='ini…"
      ]
     },
     "metadata": {},
     "output_type": "display_data"
    },
    {
     "name": "stdout",
     "output_type": "stream",
     "text": [
      "\n"
     ]
    },
    {
     "data": {
      "application/vnd.jupyter.widget-view+json": {
       "model_id": "b67101b4c66d4d3087071ec94f1e7e25",
       "version_major": 2,
       "version_minor": 0
      },
      "text/plain": [
       "HBox(children=(IntProgress(value=0, description='Epoch 33', max=32, style=ProgressStyle(description_width='ini…"
      ]
     },
     "metadata": {},
     "output_type": "display_data"
    },
    {
     "name": "stdout",
     "output_type": "stream",
     "text": [
      "\n"
     ]
    },
    {
     "data": {
      "application/vnd.jupyter.widget-view+json": {
       "model_id": "ba936422db364202bd0e47b9f37e8608",
       "version_major": 2,
       "version_minor": 0
      },
      "text/plain": [
       "HBox(children=(IntProgress(value=0, description='Epoch 34', max=32, style=ProgressStyle(description_width='ini…"
      ]
     },
     "metadata": {},
     "output_type": "display_data"
    },
    {
     "name": "stdout",
     "output_type": "stream",
     "text": [
      "\n"
     ]
    },
    {
     "data": {
      "application/vnd.jupyter.widget-view+json": {
       "model_id": "d3764354a28948aca749712e8b621038",
       "version_major": 2,
       "version_minor": 0
      },
      "text/plain": [
       "HBox(children=(IntProgress(value=0, description='Epoch 35', max=32, style=ProgressStyle(description_width='ini…"
      ]
     },
     "metadata": {},
     "output_type": "display_data"
    },
    {
     "name": "stdout",
     "output_type": "stream",
     "text": [
      "\n"
     ]
    },
    {
     "data": {
      "application/vnd.jupyter.widget-view+json": {
       "model_id": "45597aa6dc3e41a192efb1bcfead5d38",
       "version_major": 2,
       "version_minor": 0
      },
      "text/plain": [
       "HBox(children=(IntProgress(value=0, description='Epoch 36', max=32, style=ProgressStyle(description_width='ini…"
      ]
     },
     "metadata": {},
     "output_type": "display_data"
    },
    {
     "name": "stdout",
     "output_type": "stream",
     "text": [
      "\n"
     ]
    },
    {
     "data": {
      "application/vnd.jupyter.widget-view+json": {
       "model_id": "e783df0ff043481ca47764c43de7667b",
       "version_major": 2,
       "version_minor": 0
      },
      "text/plain": [
       "HBox(children=(IntProgress(value=0, description='Epoch 37', max=32, style=ProgressStyle(description_width='ini…"
      ]
     },
     "metadata": {},
     "output_type": "display_data"
    },
    {
     "name": "stdout",
     "output_type": "stream",
     "text": [
      "\n"
     ]
    },
    {
     "data": {
      "application/vnd.jupyter.widget-view+json": {
       "model_id": "6ea69b6c2824470f864eaa40c28e92ed",
       "version_major": 2,
       "version_minor": 0
      },
      "text/plain": [
       "HBox(children=(IntProgress(value=0, description='Epoch 38', max=32, style=ProgressStyle(description_width='ini…"
      ]
     },
     "metadata": {},
     "output_type": "display_data"
    },
    {
     "name": "stdout",
     "output_type": "stream",
     "text": [
      "\n"
     ]
    },
    {
     "data": {
      "application/vnd.jupyter.widget-view+json": {
       "model_id": "444ed1a1859f40a3b46918fc7f0e4ed8",
       "version_major": 2,
       "version_minor": 0
      },
      "text/plain": [
       "HBox(children=(IntProgress(value=0, description='Epoch 39', max=32, style=ProgressStyle(description_width='ini…"
      ]
     },
     "metadata": {},
     "output_type": "display_data"
    },
    {
     "name": "stdout",
     "output_type": "stream",
     "text": [
      "\n"
     ]
    },
    {
     "data": {
      "application/vnd.jupyter.widget-view+json": {
       "model_id": "b91245aca6bb448cbe6fd59554dc0239",
       "version_major": 2,
       "version_minor": 0
      },
      "text/plain": [
       "HBox(children=(IntProgress(value=0, description='Epoch 40', max=32, style=ProgressStyle(description_width='ini…"
      ]
     },
     "metadata": {},
     "output_type": "display_data"
    },
    {
     "name": "stdout",
     "output_type": "stream",
     "text": [
      "\n"
     ]
    },
    {
     "data": {
      "application/vnd.jupyter.widget-view+json": {
       "model_id": "fafd468bcaa342f599432430be5c7169",
       "version_major": 2,
       "version_minor": 0
      },
      "text/plain": [
       "HBox(children=(IntProgress(value=0, description='Epoch 41', max=32, style=ProgressStyle(description_width='ini…"
      ]
     },
     "metadata": {},
     "output_type": "display_data"
    },
    {
     "name": "stdout",
     "output_type": "stream",
     "text": [
      "\n"
     ]
    },
    {
     "data": {
      "application/vnd.jupyter.widget-view+json": {
       "model_id": "9a7b5686f3ba4325a11a05ea777b0779",
       "version_major": 2,
       "version_minor": 0
      },
      "text/plain": [
       "HBox(children=(IntProgress(value=0, description='Epoch 42', max=32, style=ProgressStyle(description_width='ini…"
      ]
     },
     "metadata": {},
     "output_type": "display_data"
    },
    {
     "name": "stdout",
     "output_type": "stream",
     "text": [
      "\n"
     ]
    },
    {
     "data": {
      "application/vnd.jupyter.widget-view+json": {
       "model_id": "a9927c695a3b47ba90684f5c0918c6b2",
       "version_major": 2,
       "version_minor": 0
      },
      "text/plain": [
       "HBox(children=(IntProgress(value=0, description='Epoch 43', max=32, style=ProgressStyle(description_width='ini…"
      ]
     },
     "metadata": {},
     "output_type": "display_data"
    },
    {
     "name": "stdout",
     "output_type": "stream",
     "text": [
      "\n"
     ]
    },
    {
     "data": {
      "application/vnd.jupyter.widget-view+json": {
       "model_id": "6c5d16eef9f347a2b325e0d2fe3161e7",
       "version_major": 2,
       "version_minor": 0
      },
      "text/plain": [
       "HBox(children=(IntProgress(value=0, description='Epoch 44', max=32, style=ProgressStyle(description_width='ini…"
      ]
     },
     "metadata": {},
     "output_type": "display_data"
    },
    {
     "name": "stdout",
     "output_type": "stream",
     "text": [
      "\n"
     ]
    },
    {
     "data": {
      "application/vnd.jupyter.widget-view+json": {
       "model_id": "81dacf40183f4494b58c0744e0d2ee24",
       "version_major": 2,
       "version_minor": 0
      },
      "text/plain": [
       "HBox(children=(IntProgress(value=0, description='Epoch 45', max=32, style=ProgressStyle(description_width='ini…"
      ]
     },
     "metadata": {},
     "output_type": "display_data"
    },
    {
     "name": "stdout",
     "output_type": "stream",
     "text": [
      "\n"
     ]
    },
    {
     "data": {
      "application/vnd.jupyter.widget-view+json": {
       "model_id": "b4460da4011c4356a34c7878b1e454b9",
       "version_major": 2,
       "version_minor": 0
      },
      "text/plain": [
       "HBox(children=(IntProgress(value=0, description='Epoch 46', max=32, style=ProgressStyle(description_width='ini…"
      ]
     },
     "metadata": {},
     "output_type": "display_data"
    },
    {
     "name": "stdout",
     "output_type": "stream",
     "text": [
      "\n"
     ]
    },
    {
     "data": {
      "application/vnd.jupyter.widget-view+json": {
       "model_id": "84c6e00f862e4e1ea84462d7b540bac5",
       "version_major": 2,
       "version_minor": 0
      },
      "text/plain": [
       "HBox(children=(IntProgress(value=0, description='Epoch 47', max=32, style=ProgressStyle(description_width='ini…"
      ]
     },
     "metadata": {},
     "output_type": "display_data"
    },
    {
     "name": "stdout",
     "output_type": "stream",
     "text": [
      "\n"
     ]
    },
    {
     "data": {
      "application/vnd.jupyter.widget-view+json": {
       "model_id": "474f66f63bf8440ab0e40758f0b12468",
       "version_major": 2,
       "version_minor": 0
      },
      "text/plain": [
       "HBox(children=(IntProgress(value=0, description='Epoch 48', max=32, style=ProgressStyle(description_width='ini…"
      ]
     },
     "metadata": {},
     "output_type": "display_data"
    },
    {
     "name": "stdout",
     "output_type": "stream",
     "text": [
      "\n"
     ]
    },
    {
     "data": {
      "application/vnd.jupyter.widget-view+json": {
       "model_id": "b0b455d75ad64beda67215a0415b46f3",
       "version_major": 2,
       "version_minor": 0
      },
      "text/plain": [
       "HBox(children=(IntProgress(value=0, description='Epoch 49', max=32, style=ProgressStyle(description_width='ini…"
      ]
     },
     "metadata": {},
     "output_type": "display_data"
    },
    {
     "name": "stdout",
     "output_type": "stream",
     "text": [
      "\n"
     ]
    },
    {
     "data": {
      "application/vnd.jupyter.widget-view+json": {
       "model_id": "259605ba52aa46779d8e2454dd5f6436",
       "version_major": 2,
       "version_minor": 0
      },
      "text/plain": [
       "HBox(children=(IntProgress(value=0, description='Epoch 50', max=32, style=ProgressStyle(description_width='ini…"
      ]
     },
     "metadata": {},
     "output_type": "display_data"
    },
    {
     "name": "stdout",
     "output_type": "stream",
     "text": [
      "\n"
     ]
    }
   ],
   "source": [
    "# Training parameters\n",
    "BATCH_SIZE = 32\n",
    "EPOCHS = 50\n",
    "\n",
    "loss_hist = train_decayrnn(model, optimizer, train_times_tensor,\n",
    "                           train_onehot_types, train_seq_lengths, tmax,\n",
    "                           BATCH_SIZE, EPOCHS, use_jupyter=True)"
   ]
  },
  {
   "cell_type": "code",
   "execution_count": 15,
   "metadata": {},
   "outputs": [],
   "source": [
    "from train_functions import plot_loss"
   ]
  },
  {
   "cell_type": "code",
   "execution_count": 16,
   "metadata": {
    "scrolled": false
   },
   "outputs": [
    {
     "data": {
      "image/png": "[encoded data removed]",
      "text/plain": [
       "<Figure size 800x400 with 1 Axes>"
      ]
     },
     "metadata": {
      "needs_background": "light"
     },
     "output_type": "display_data"
    }
   ],
   "source": [
    "_ = plot_loss(EPOCHS, loss_hist)"
   ]
  },
  {
   "cell_type": "markdown",
   "metadata": {},
   "source": [
    "## Save to file"
   ]
  },
  {
   "cell_type": "code",
   "execution_count": 18,
   "metadata": {},
   "outputs": [
    {
     "name": "stdout",
     "output_type": "stream",
     "text": [
      "Saved models directory: /home/manifold/Documents/etudes/map511-p3a/saved_models\n",
      "Saving model state dict to /home/manifold/Documents/etudes/map511-p3a/saved_models/HawkesDecayRNN-1d-20181127-090212.pth\n"
     ]
    }
   ],
   "source": [
    "import datetime\n",
    "\n",
    "# Model file dump\n",
    "SAVED_MODELS_PATH = os.path.abspath('../saved_models')\n",
    "os.makedirs(SAVED_MODELS_PATH, exist_ok=True)\n",
    "print(\"Saved models directory: {}\".format(SAVED_MODELS_PATH))\n",
    "\n",
    "date_format = \"%Y%m%d-%H%M%S\"\n",
    "now_timestamp = datetime.datetime.now().strftime(date_format)\n",
    "extra_tag = \"{}d\".format(process_dim)\n",
    "filename_base = \"{}-{}-{}\".format(model.__class__.__name__, extra_tag, now_timestamp)\n",
    "filename_model_save = filename_base + \".pth\"\n",
    "filepath = os.path.join(SAVED_MODELS_PATH, filename_model_save)\n",
    "print(\"Saving model state dict to {}\".format(filepath))\n",
    "torch.save(model.state_dict(), filepath)"
   ]
  },
  {
   "cell_type": "markdown",
   "metadata": {},
   "source": [
    "## Model evaluation"
   ]
  },
  {
   "cell_type": "markdown",
   "metadata": {},
   "source": [
    "Now we perform model evaluation steps."
   ]
  },
  {
   "cell_type": "markdown",
   "metadata": {},
   "source": [
    "### Sequence generation and sequence length distribution"
   ]
  },
  {
   "cell_type": "code",
   "execution_count": 19,
   "metadata": {},
   "outputs": [],
   "source": [
    "from models.decayrnn import generate_sequence\n",
    "\n",
    "MODEL_FILES = glob.glob(\"../saved_models/*.pth\")\n",
    "print(MODEL_FILES)"
   ]
  },
  {
   "cell_type": "code",
   "execution_count": 38,
   "metadata": {},
   "outputs": [
    {
     "name": "stdout",
     "output_type": "stream",
     "text": [
      "Hidden size: 24\n"
     ]
    },
    {
     "data": {
      "text/plain": [
       "HawkesDecayRNN(\n",
       "  (rnn_layer): RNNCell(2, 24)\n",
       "  (decay_layer): Sequential(\n",
       "    (0): Linear(in_features=26, out_features=1, bias=True)\n",
       "    (1): Softplus(beta=3.0, threshold=20)\n",
       "  )\n",
       "  (intensity_layer): Sequential(\n",
       "    (0): Linear(in_features=24, out_features=2, bias=False)\n",
       "    (1): Softplus(beta=3.0, threshold=20)\n",
       "  )\n",
       ")"
      ]
     },
     "execution_count": 38,
     "metadata": {},
     "output_type": "execute_result"
    }
   ],
   "source": [
    "print(\"Hidden size: {}\".format(hidden_size))\n",
    "model = HawkesDecayRNN(process_dim, hidden_size)\n",
    "\n",
    "model.load_state_dict(torch.load(MODEL_FILES[0]))\n",
    "model.eval()"
   ]
  },
  {
   "cell_type": "code",
   "execution_count": 39,
   "metadata": {},
   "outputs": [
    {
     "name": "stdout",
     "output_type": "stream",
     "text": [
      "Mean generated sequence length: 28.494\n",
      "Generated sequence length std. dev: 6.34207883899278\n"
     ]
    }
   ],
   "source": [
    "# Build a statistic for the no. of events\n",
    "gen_seq_lengths = []\n",
    "gen_seq_types_lengths = []\n",
    "n_gen_seq = 500 # number of generated sequences\n",
    "for i in range(n_gen_seq):\n",
    "    (gen_event_times, gen_event_types,\n",
    "     gen_event_intens, gen_event_decay) = generate_sequence(model, tmax)\n",
    "    gen_seq_lengths.append(len(gen_event_times) - 1)\n",
    "    gen_seq_types_lengths.append([\n",
    "        (gen_event_types == i).sum() for i in range(inp_size)\n",
    "    ])\n",
    "gen_seq_lengths = np.array(gen_seq_lengths)\n",
    "gen_seq_types_lengths = np.array(gen_seq_types_lengths)\n",
    "\n",
    "print(\"Mean generated sequence length: {}\".format(gen_seq_lengths.mean()))\n",
    "print(\"Generated sequence length std. dev: {}\".format(gen_seq_lengths.std()))\n",
    "MODEL_NAME = \"Decay-RNN\""
   ]
  },
  {
   "cell_type": "code",
   "execution_count": 40,
   "metadata": {
    "scrolled": false
   },
   "outputs": [
    {
     "data": {
      "image/png": "[encoded data removed]",
      "text/plain": [
       "<Figure size 800x800 with 2 Axes>"
      ]
     },
     "metadata": {
      "needs_background": "light"
     },
     "output_type": "display_data"
    }
   ],
   "source": [
    "fig, axes = plt.subplots(inp_size, 1, figsize=(8,5+process_dim*3), dpi=100)\n",
    "ax0 = axes[0]\n",
    "axt = axes[1:]\n",
    "_ = ax0.hist(seq_lengths, bins=2*int(seq_lengths.size(0)**(1/3)),\n",
    "            label=\"Sequence lengths (base model)\",\n",
    "            rwidth=0.8, alpha=0.5, density=True)\n",
    "_ = ax0.hist(gen_seq_lengths, bins=2*int(n_gen_seq**(1/3)),\n",
    "            label=\"Sequence lengths (generated by {:})\".format(MODEL_NAME),\n",
    "            rwidth=0.8, alpha=0.5, color='red', density=True)\n",
    "ax0.legend()\n",
    "ax0.set_ylabel('Proportion')\n",
    "ax0.set_xlabel('Number of events $N_T$')\n",
    "ax0.set_title(\"\"\"Distribution of sequence lengths\n",
    "Base Hawkes model vs. {:}\n",
    "\"\"\".format(MODEL_NAME))\n",
    "for i, ax in enumerate(axt):\n",
    "    # get the sequence lengths for the event types\n",
    "    typ_seq_lengths = (seq_types == i).sum(dim=0)\n",
    "    gen_typ_seq_lengths = gen_seq_types_lengths[:, i]\n",
    "    ax.hist(typ_seq_lengths, bins=2*int(typ_seq_lengths.size(0)**(1/3)),\n",
    "            label=\"Sequence lengths (base model)\",\n",
    "            rwidth=0.8, alpha=0.5, density=True)\n",
    "    ax.hist(gen_typ_seq_lengths,\n",
    "            bins=2*int(gen_typ_seq_lengths.shape[0]**(1/3)),\n",
    "            label=\"Sequence lengths (base model)\",\n",
    "            rwidth=0.8, alpha=0.5, color='red', density=True)\n",
    "    ax.set_xlabel(\"Number of events of type {}, $N_T^{}$\".format(i, i))\n",
    "    ax.set_title('no. of events of type $i={}$'.format(i))\n",
    "fig.tight_layout()"
   ]
  },
  {
   "cell_type": "code",
   "execution_count": 20,
   "metadata": {},
   "outputs": [],
   "source": [
    "RESULT_BASEDIR = \"../results\"\n",
    "os.makedirs(RESULT_BASEDIR, exist_ok=True)\n",
    "model_perf_indicator = \"seq_length_distrib\"\n",
    "extra_tag = \"{}d\".format(proc_dim)\n",
    "fig.savefig(\"{:}/{:}_{:}-{}.pdf\"\n",
    "            .format(RESULT_BASEDIR, model_perf_indicator, MODEL_NAME, extra_tag))"
   ]
  },
  {
   "cell_type": "markdown",
   "metadata": {},
   "source": [
    "The number of events does not fit."
   ]
  },
  {
   "cell_type": "code",
   "execution_count": 22,
   "metadata": {},
   "outputs": [],
   "source": [
    "def plot_events_and_intensity(event_times: torch.Tensor, seq_types: torch.Tensor,\n",
    "                              hidden_states: torch.Tensor, event_decay: torch.Tensor):\n",
    "    sequence_length = event_times.shape[0]\n",
    "    print(\"no. of events: {}\".format(sequence_length))\n",
    "    evt_times = event_times.numpy()\n",
    "    evt_types = seq_types.numpy()\n",
    "    inp_size = model.input_size\n",
    "    fig, ax = plt.subplots(1, 1, sharex=True, dpi=110,\n",
    "                                   figsize=(10,1))\n",
    "    ax.set_ylim((-0.6, 1.6))\n",
    "    ts_y = np.random.rand(sequence_length)\n",
    "    inpt_size = model.input_size\n",
    "    for k in range(inpt_size):\n",
    "        mask = evt_types == k\n",
    "        ax.scatter(evt_times[mask], ts_y[mask], s=9,\n",
    "                   label=\"{}\".format(k), alpha=0.7)\n",
    "        ax.vlines(evt_times[mask], -0.6, 1.6, linewidth=0.3, linestyles='--', alpha=0.5)\n",
    "    ax.legend()"
   ]
  },
  {
   "cell_type": "code",
   "execution_count": 23,
   "metadata": {
    "scrolled": true
   },
   "outputs": [
    {
     "name": "stdout",
     "output_type": "stream",
     "text": [
      "no. of events: 23\n"
     ]
    },
    {
     "data": {
      "image/png": "[encoded data removed]",
      "text/plain": [
       "<Figure size 1100x110 with 1 Axes>"
      ]
     },
     "metadata": {
      "needs_background": "light"
     },
     "output_type": "display_data"
    }
   ],
   "source": [
    "gen_evt_times, gen_evt_types, gen_event_intens, gen_event_decay = generate_sequence(model, tmax)\n",
    "plot_events_and_intensity(gen_evt_times, gen_evt_types, gen_event_intens, gen_event_decay)"
   ]
  },
  {
   "cell_type": "code",
   "execution_count": 24,
   "metadata": {},
   "outputs": [],
   "source": [
    "from models.decayrnn import read_predict\n",
    "import torch.nn.functional as F"
   ]
  },
  {
   "cell_type": "code",
   "execution_count": 25,
   "metadata": {
    "scrolled": true
   },
   "outputs": [],
   "source": [
    "num_errors = 0\n",
    "\n",
    "for index in range(500):\n",
    "    oh_real, oh_pred, type_distrib = read_predict(\n",
    "        model, times_tensor[:,index],\n",
    "        onehot_types[:,index], seq_lengths[index])\n",
    "    num_errors += int(not(oh_real.equal(oh_pred)))"
   ]
  },
  {
   "cell_type": "code",
   "execution_count": null,
   "metadata": {},
   "outputs": [],
   "source": []
  },
  {
   "cell_type": "code",
   "execution_count": null,
   "metadata": {},
   "outputs": [],
   "source": []
  }
 ],
 "metadata": {
  "kernelspec": {
   "display_name": "Python [conda env:pytorch]",
   "language": "python",
   "name": "conda-env-pytorch-py"
  },
  "language_info": {
   "codemirror_mode": {
    "name": "ipython",
    "version": 3
   },
   "file_extension": ".py",
   "mimetype": "text/x-python",
   "name": "python",
   "nbconvert_exporter": "python",
   "pygments_lexer": "ipython3",
   "version": "3.7.0"
  }
 },
 "nbformat": 4,
 "nbformat_minor": 2
}
