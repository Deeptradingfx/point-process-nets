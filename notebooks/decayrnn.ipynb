{
 "cells": [
  {
   "cell_type": "code",
   "execution_count": 1,
   "metadata": {
    "scrolled": true
   },
   "outputs": [],
   "source": [
    "%matplotlib inline\n",
    "%load_ext autoreload\n",
    "%autoreload 2"
   ]
  },
  {
   "cell_type": "code",
   "execution_count": 2,
   "metadata": {},
   "outputs": [],
   "source": [
    "import matplotlib.pyplot as plt\n",
    "import matplotlib.ticker as mticker\n",
    "import numpy as np"
   ]
  },
  {
   "cell_type": "code",
   "execution_count": 3,
   "metadata": {},
   "outputs": [],
   "source": [
    "import torch\n",
    "from torch import nn"
   ]
  },
  {
   "cell_type": "code",
   "execution_count": 4,
   "metadata": {},
   "outputs": [
    {
     "data": {
      "text/plain": [
       "<torch._C.Generator at 0x7fc0fa1d7e10>"
      ]
     },
     "execution_count": 4,
     "metadata": {},
     "output_type": "execute_result"
    }
   ],
   "source": [
    "SEED = 52\n",
    "torch.manual_seed(SEED)"
   ]
  },
  {
   "cell_type": "code",
   "execution_count": 5,
   "metadata": {},
   "outputs": [],
   "source": [
    "import os\n",
    "import sys"
   ]
  },
  {
   "cell_type": "code",
   "execution_count": 6,
   "metadata": {},
   "outputs": [
    {
     "name": "stdout",
     "output_type": "stream",
     "text": [
      "Notebook dir /home/manifold/Documents/etudes/map511-p3a\n",
      "Python interpreter path:\n",
      "/home/manifold/Documents/etudes/map511-p3a/notebooks\n",
      "/home/manifold/miniconda3/envs/pytorch/lib/python37.zip\n",
      "/home/manifold/miniconda3/envs/pytorch/lib/python3.7\n",
      "/home/manifold/miniconda3/envs/pytorch/lib/python3.7/lib-dynload\n",
      "\n",
      "/home/manifold/miniconda3/envs/pytorch/lib/python3.7/site-packages\n",
      "/home/manifold/miniconda3/envs/pytorch/lib/python3.7/site-packages/pointprocesses-0.4.1-py3.7-linux-x86_64.egg\n",
      "/home/manifold/miniconda3/envs/pytorch/lib/python3.7/site-packages/torchvision-0.2.1-py3.7.egg\n",
      "/home/manifold/miniconda3/envs/pytorch/lib/python3.7/site-packages/IPython/extensions\n",
      "/home/manifold/.ipython\n",
      "/home/manifold/Documents/etudes/map511-p3a\n"
     ]
    }
   ],
   "source": [
    "# Add parent dir to interpreter path\n",
    "nb_dir = os.path.split(os.getcwd())[0]\n",
    "print(\"Notebook dir {:}\".format(nb_dir))\n",
    "if nb_dir not in sys.path:\n",
    "    sys.path.append(nb_dir)\n",
    "print(\"Python interpreter path:\")\n",
    "for path in sys.path:\n",
    "    print(path)"
   ]
  },
  {
   "cell_type": "code",
   "execution_count": 7,
   "metadata": {},
   "outputs": [
    {
     "data": {
      "text/plain": [
       "'0.4.1'"
      ]
     },
     "execution_count": 7,
     "metadata": {},
     "output_type": "execute_result"
    }
   ],
   "source": [
    "torch.__version__"
   ]
  },
  {
   "cell_type": "markdown",
   "metadata": {},
   "source": [
    "# Loading synthetic data"
   ]
  },
  {
   "cell_type": "markdown",
   "metadata": {},
   "source": [
    "We will be loading simulated Hawkes data."
   ]
  },
  {
   "cell_type": "code",
   "execution_count": 145,
   "metadata": {},
   "outputs": [
    {
     "name": "stdout",
     "output_type": "stream",
     "text": [
      "Available files:\n",
      "../data/simulated/hawkes_synthetic_exp_1d_20181202-135203.pkl\n",
      "../data/simulated/hawkes_synthetic_exp_2d_20181201-002801.pkl\n",
      "../data/simulated/hawkes_synthetic_exp_1d_20181201-205742.pkl\n"
     ]
    }
   ],
   "source": [
    "import glob\n",
    "import pickle\n",
    "\n",
    "SYNTH_DATA_FILES = glob.glob('../data/simulated/*.pkl')\n",
    "print(\"Available files:\")\n",
    "for s in SYNTH_DATA_FILES:\n",
    "    print(s)\n",
    "\n",
    "from utils.load_synth_data import process_loaded_sequences, one_hot_embedding"
   ]
  },
  {
   "cell_type": "code",
   "execution_count": 146,
   "metadata": {},
   "outputs": [
    {
     "name": "stdout",
     "output_type": "stream",
     "text": [
      "Process dimension: 1\n",
      "Data file: ../data/simulated/hawkes_synthetic_exp_1d_20181202-135203.pkl\n"
     ]
    }
   ],
   "source": [
    "# SET THESE PARAMETERS\n",
    "process_dim = 1\n",
    "print(\"Process dimension: {}\".format(process_dim))\n",
    "choose_file_index = 0\n",
    "chosen_data_file = SYNTH_DATA_FILES[choose_file_index]\n",
    "print(\"Data file: {}\".format(chosen_data_file))"
   ]
  },
  {
   "cell_type": "code",
   "execution_count": 147,
   "metadata": {},
   "outputs": [
    {
     "name": "stdout",
     "output_type": "stream",
     "text": [
      "Loading 1-dimensional Hawkes data.\n",
      "dict_keys(['mu', 'alpha', 'decay', 'tmax', 'timestamps', 'types', 'lengths'])\n",
      "mu\t1.0\n",
      "alpha\t0.2\n",
      "decay\t3.0\n",
      "tmax\t80.0\n"
     ]
    }
   ],
   "source": [
    "# Load data simulated using tick\n",
    "print(\"Loading {}-dimensional Hawkes data.\".format(process_dim))\n",
    "\n",
    "with open(chosen_data_file, \"rb\") as f:\n",
    "    loaded_hawkes_data = pickle.load(f)\n",
    "\n",
    "print(loaded_hawkes_data.keys())\n",
    "\n",
    "mu = loaded_hawkes_data['mu']\n",
    "alpha = loaded_hawkes_data['alpha']\n",
    "decay = loaded_hawkes_data['decay']\n",
    "tmax = loaded_hawkes_data['tmax']\n",
    "print(\"mu\\t{:}\".format(str(mu)))\n",
    "print(\"alpha\\t{:}\".format(str(alpha)))\n",
    "print(\"decay\\t{:}\".format(str(decay)))\n",
    "print(\"tmax\\t{:}\".format(tmax))\n",
    "\n",
    "seq_times, seq_types, seq_lengths = process_loaded_sequences(\n",
    "    loaded_hawkes_data, process_dim, tmax)"
   ]
  },
  {
   "cell_type": "code",
   "execution_count": 148,
   "metadata": {},
   "outputs": [
    {
     "name": "stdout",
     "output_type": "stream",
     "text": [
      "torch.Size([6000])\n"
     ]
    }
   ],
   "source": [
    "print(seq_lengths.shape)"
   ]
  },
  {
   "cell_type": "markdown",
   "metadata": {},
   "source": [
    "# Neural network"
   ]
  },
  {
   "cell_type": "markdown",
   "metadata": {},
   "source": [
    "We are going for a recurrent neural structure that can learn from previous events. The intensity process of our neural model will be of the form\n",
    "\n",
    "$$\n",
    "    \\lambda_t = f\\left(W_{\\lambda} h(t)\\right)\n",
    "$$\n",
    "\n",
    "with $f$ a positive-valued activation function (such as ReLU) and $h(t)\\in\\mathbb R^D$ a continuous hidden state, computed as\n",
    "\\begin{equation}\n",
    "    h(t) = h_{i}e^{-\\delta_i(t-t_{i-1})},\\quad \\forall t\\in(t_{i-1},t_i]\n",
    "\\end{equation}\n",
    "\n",
    "Network update formulas: the jump and decay parameters on $(t_i,t_{i+1}]$ are given by\n",
    "$$\n",
    "\\begin{align*}\n",
    "    h_{i+1}      &= \\tanh(W_{hh}h(t_i) + W_{xh}x_i + b_{h}) \\\\\n",
    "    \\delta_{i+1} &= f(W_{hd} h(t_i) + W_{xd}x_i + b_{d})\n",
    "\\end{align*}\n",
    "$$"
   ]
  },
  {
   "cell_type": "code",
   "execution_count": 185,
   "metadata": {},
   "outputs": [],
   "source": [
    "from models.decayrnn import HawkesDecayRNN, HawkesRNNGen\n",
    "from train_functions import train_decayrnn, plot_loss"
   ]
  },
  {
   "cell_type": "code",
   "execution_count": 186,
   "metadata": {},
   "outputs": [
    {
     "name": "stdout",
     "output_type": "stream",
     "text": [
      "Train size 3000\n",
      "Train event times shape torch.Size([3000, 158])\n",
      "Train event types shape torch.Size([3000, 158])\n",
      "Train seq lengths shape torch.Size([3000])\n"
     ]
    }
   ],
   "source": [
    "# define training data\n",
    "train_size = 3000\n",
    "print(\"Train size %d\" % train_size)\n",
    "\n",
    "train_times_tensor = seq_times[:train_size]\n",
    "train_seq_types = seq_types[:train_size]\n",
    "train_seq_lengths = seq_lengths[:train_size]\n",
    "print(\"Train event times shape {}\".format(train_times_tensor.shape))\n",
    "print(\"Train event types shape {}\".format(train_seq_types.shape))\n",
    "print(\"Train seq lengths shape {}\".format(train_seq_lengths.shape))"
   ]
  },
  {
   "cell_type": "code",
   "execution_count": 187,
   "metadata": {
    "scrolled": true
   },
   "outputs": [
    {
     "name": "stdout",
     "output_type": "stream",
     "text": [
      "Batch size 32\n",
      "Number of epochs 20\n",
      "Train size: 3000\n"
     ]
    },
    {
     "data": {
      "application/vnd.jupyter.widget-view+json": {
       "model_id": "d44f1ffbc0af42848668eb79df8e4518",
       "version_major": 2,
       "version_minor": 0
      },
      "text/plain": [
       "HBox(children=(IntProgress(value=0, description='Epoch 1', max=94, style=ProgressStyle(description_width='init…"
      ]
     },
     "metadata": {},
     "output_type": "display_data"
    },
    {
     "name": "stdout",
     "output_type": "stream",
     "text": [
      "epoch 1: train loss 75.3583\n"
     ]
    },
    {
     "data": {
      "application/vnd.jupyter.widget-view+json": {
       "model_id": "6bb84d5cc23b410bbfba5686dab88b23",
       "version_major": 2,
       "version_minor": 0
      },
      "text/plain": [
       "HBox(children=(IntProgress(value=0, description='Epoch 2', max=94, style=ProgressStyle(description_width='init…"
      ]
     },
     "metadata": {},
     "output_type": "display_data"
    },
    {
     "name": "stdout",
     "output_type": "stream",
     "text": [
      "epoch 2: train loss 73.1276\n"
     ]
    },
    {
     "data": {
      "application/vnd.jupyter.widget-view+json": {
       "model_id": "0cf83c4baddb44cf8c35c8e1a444d9a3",
       "version_major": 2,
       "version_minor": 0
      },
      "text/plain": [
       "HBox(children=(IntProgress(value=0, description='Epoch 3', max=94, style=ProgressStyle(description_width='init…"
      ]
     },
     "metadata": {},
     "output_type": "display_data"
    },
    {
     "name": "stdout",
     "output_type": "stream",
     "text": [
      "epoch 3: train loss 73.0070\n"
     ]
    },
    {
     "data": {
      "application/vnd.jupyter.widget-view+json": {
       "model_id": "46413ae0802c406594c7a9875724ae16",
       "version_major": 2,
       "version_minor": 0
      },
      "text/plain": [
       "HBox(children=(IntProgress(value=0, description='Epoch 4', max=94, style=ProgressStyle(description_width='init…"
      ]
     },
     "metadata": {},
     "output_type": "display_data"
    },
    {
     "name": "stdout",
     "output_type": "stream",
     "text": [
      "epoch 4: train loss 72.9798\n"
     ]
    },
    {
     "data": {
      "application/vnd.jupyter.widget-view+json": {
       "model_id": "e8eafeb53e584cc989f2b2f93fd0e295",
       "version_major": 2,
       "version_minor": 0
      },
      "text/plain": [
       "HBox(children=(IntProgress(value=0, description='Epoch 5', max=94, style=ProgressStyle(description_width='init…"
      ]
     },
     "metadata": {},
     "output_type": "display_data"
    },
    {
     "name": "stdout",
     "output_type": "stream",
     "text": [
      "epoch 5: train loss 72.9210\n"
     ]
    },
    {
     "data": {
      "application/vnd.jupyter.widget-view+json": {
       "model_id": "95e393883fc64db9a516e01ec3361097",
       "version_major": 2,
       "version_minor": 0
      },
      "text/plain": [
       "HBox(children=(IntProgress(value=0, description='Epoch 6', max=94, style=ProgressStyle(description_width='init…"
      ]
     },
     "metadata": {},
     "output_type": "display_data"
    },
    {
     "name": "stdout",
     "output_type": "stream",
     "text": [
      "epoch 6: train loss 72.8862\n"
     ]
    },
    {
     "data": {
      "application/vnd.jupyter.widget-view+json": {
       "model_id": "6cf8bd4f712c47d4a66112e4cb719d00",
       "version_major": 2,
       "version_minor": 0
      },
      "text/plain": [
       "HBox(children=(IntProgress(value=0, description='Epoch 7', max=94, style=ProgressStyle(description_width='init…"
      ]
     },
     "metadata": {},
     "output_type": "display_data"
    },
    {
     "name": "stdout",
     "output_type": "stream",
     "text": [
      "epoch 7: train loss 72.8575\n"
     ]
    },
    {
     "data": {
      "application/vnd.jupyter.widget-view+json": {
       "model_id": "be991b3bb73746518a8798466624aa9a",
       "version_major": 2,
       "version_minor": 0
      },
      "text/plain": [
       "HBox(children=(IntProgress(value=0, description='Epoch 8', max=94, style=ProgressStyle(description_width='init…"
      ]
     },
     "metadata": {},
     "output_type": "display_data"
    },
    {
     "name": "stdout",
     "output_type": "stream",
     "text": [
      "epoch 8: train loss 72.8704\n"
     ]
    },
    {
     "data": {
      "application/vnd.jupyter.widget-view+json": {
       "model_id": "a2444f89ec9a4861af4e5e5074714216",
       "version_major": 2,
       "version_minor": 0
      },
      "text/plain": [
       "HBox(children=(IntProgress(value=0, description='Epoch 9', max=94, style=ProgressStyle(description_width='init…"
      ]
     },
     "metadata": {},
     "output_type": "display_data"
    },
    {
     "name": "stdout",
     "output_type": "stream",
     "text": [
      "epoch 9: train loss 72.8076\n"
     ]
    },
    {
     "data": {
      "application/vnd.jupyter.widget-view+json": {
       "model_id": "5158f59ecc0040d0ad2fedf99b680271",
       "version_major": 2,
       "version_minor": 0
      },
      "text/plain": [
       "HBox(children=(IntProgress(value=0, description='Epoch 10', max=94, style=ProgressStyle(description_width='ini…"
      ]
     },
     "metadata": {},
     "output_type": "display_data"
    },
    {
     "name": "stdout",
     "output_type": "stream",
     "text": [
      "epoch 10: train loss 72.8460\n"
     ]
    },
    {
     "data": {
      "application/vnd.jupyter.widget-view+json": {
       "model_id": "40ae58a7eec9400999784c2cc3cdd4db",
       "version_major": 2,
       "version_minor": 0
      },
      "text/plain": [
       "HBox(children=(IntProgress(value=0, description='Epoch 11', max=94, style=ProgressStyle(description_width='ini…"
      ]
     },
     "metadata": {},
     "output_type": "display_data"
    },
    {
     "name": "stdout",
     "output_type": "stream",
     "text": [
      "epoch 11: train loss 72.7967\n"
     ]
    },
    {
     "data": {
      "application/vnd.jupyter.widget-view+json": {
       "model_id": "7c5d2b4a41bc47d19639f4126ea0f0e2",
       "version_major": 2,
       "version_minor": 0
      },
      "text/plain": [
       "HBox(children=(IntProgress(value=0, description='Epoch 12', max=94, style=ProgressStyle(description_width='ini…"
      ]
     },
     "metadata": {},
     "output_type": "display_data"
    },
    {
     "name": "stdout",
     "output_type": "stream",
     "text": [
      "epoch 12: train loss 72.7633\n"
     ]
    },
    {
     "data": {
      "application/vnd.jupyter.widget-view+json": {
       "model_id": "57243abc3bc64ba380525082b027f97c",
       "version_major": 2,
       "version_minor": 0
      },
      "text/plain": [
       "HBox(children=(IntProgress(value=0, description='Epoch 13', max=94, style=ProgressStyle(description_width='ini…"
      ]
     },
     "metadata": {},
     "output_type": "display_data"
    },
    {
     "name": "stdout",
     "output_type": "stream",
     "text": [
      "epoch 13: train loss 72.7773\n"
     ]
    },
    {
     "data": {
      "application/vnd.jupyter.widget-view+json": {
       "model_id": "531b2a6c58ec493cb1e49ad440c538c1",
       "version_major": 2,
       "version_minor": 0
      },
      "text/plain": [
       "HBox(children=(IntProgress(value=0, description='Epoch 14', max=94, style=ProgressStyle(description_width='ini…"
      ]
     },
     "metadata": {},
     "output_type": "display_data"
    },
    {
     "name": "stdout",
     "output_type": "stream",
     "text": [
      "epoch 14: train loss 72.7504\n"
     ]
    },
    {
     "data": {
      "application/vnd.jupyter.widget-view+json": {
       "model_id": "58d456f645b04c53958489aca5e80649",
       "version_major": 2,
       "version_minor": 0
      },
      "text/plain": [
       "HBox(children=(IntProgress(value=0, description='Epoch 15', max=94, style=ProgressStyle(description_width='ini…"
      ]
     },
     "metadata": {},
     "output_type": "display_data"
    },
    {
     "name": "stdout",
     "output_type": "stream",
     "text": [
      "epoch 15: train loss 72.7343\n"
     ]
    },
    {
     "data": {
      "application/vnd.jupyter.widget-view+json": {
       "model_id": "fe1a27e9eb1f4cc1a43db9d9a58dc71c",
       "version_major": 2,
       "version_minor": 0
      },
      "text/plain": [
       "HBox(children=(IntProgress(value=0, description='Epoch 16', max=94, style=ProgressStyle(description_width='ini…"
      ]
     },
     "metadata": {},
     "output_type": "display_data"
    },
    {
     "name": "stdout",
     "output_type": "stream",
     "text": [
      "epoch 16: train loss 72.7345\n"
     ]
    },
    {
     "data": {
      "application/vnd.jupyter.widget-view+json": {
       "model_id": "d8d395e59f724b2ea70f366bb9307e95",
       "version_major": 2,
       "version_minor": 0
      },
      "text/plain": [
       "HBox(children=(IntProgress(value=0, description='Epoch 17', max=94, style=ProgressStyle(description_width='ini…"
      ]
     },
     "metadata": {},
     "output_type": "display_data"
    },
    {
     "name": "stdout",
     "output_type": "stream",
     "text": [
      "epoch 17: train loss 72.7300\n"
     ]
    },
    {
     "data": {
      "application/vnd.jupyter.widget-view+json": {
       "model_id": "db800aabc12d4d6eae0891e3427b9924",
       "version_major": 2,
       "version_minor": 0
      },
      "text/plain": [
       "HBox(children=(IntProgress(value=0, description='Epoch 18', max=94, style=ProgressStyle(description_width='ini…"
      ]
     },
     "metadata": {},
     "output_type": "display_data"
    },
    {
     "name": "stdout",
     "output_type": "stream",
     "text": [
      "epoch 18: train loss 72.7261\n"
     ]
    },
    {
     "data": {
      "application/vnd.jupyter.widget-view+json": {
       "model_id": "4a7bb0e05a9f41c6872ccbde710dec85",
       "version_major": 2,
       "version_minor": 0
      },
      "text/plain": [
       "HBox(children=(IntProgress(value=0, description='Epoch 19', max=94, style=ProgressStyle(description_width='ini…"
      ]
     },
     "metadata": {},
     "output_type": "display_data"
    },
    {
     "name": "stdout",
     "output_type": "stream",
     "text": [
      "epoch 19: train loss 72.6996\n"
     ]
    },
    {
     "data": {
      "application/vnd.jupyter.widget-view+json": {
       "model_id": "44878556bbb642f1b8f96f74fcaca029",
       "version_major": 2,
       "version_minor": 0
      },
      "text/plain": [
       "HBox(children=(IntProgress(value=0, description='Epoch 20', max=94, style=ProgressStyle(description_width='ini…"
      ]
     },
     "metadata": {},
     "output_type": "display_data"
    },
    {
     "name": "stdout",
     "output_type": "stream",
     "text": [
      "epoch 20: train loss 72.6911\n"
     ]
    }
   ],
   "source": [
    "process_dim = 1\n",
    "hidden_size = 32\n",
    "model = HawkesDecayRNN(process_dim, hidden_size)\n",
    "optimizer = torch.optim.Adagrad(model.parameters(), lr=0.021)\n",
    "\n",
    "# Training parameters\n",
    "BATCH_SIZE = 32\n",
    "EPOCHS = 20\n",
    "\n",
    "loss_hist, train_hist = train_decayrnn(\n",
    "    model, optimizer, train_times_tensor,\n",
    "    train_seq_types, train_seq_lengths, tmax,\n",
    "    BATCH_SIZE, EPOCHS, use_jupyter=True)"
   ]
  },
  {
   "cell_type": "code",
   "execution_count": 188,
   "metadata": {
    "scrolled": false
   },
   "outputs": [
    {
     "data": {
      "image/png": "[encoded data removed]",
      "text/plain": [
       "<Figure size 800x400 with 1 Axes>"
      ]
     },
     "metadata": {
      "needs_background": "light"
     },
     "output_type": "display_data"
    }
   ],
   "source": [
    "_ = plot_loss(EPOCHS, loss_hist)"
   ]
  },
  {
   "cell_type": "code",
   "execution_count": 189,
   "metadata": {},
   "outputs": [],
   "source": [
    "import datetime\n",
    "# Generate save params to record the model\n",
    "# Model file dump\n",
    "SAVED_MODELS_PATH = '../saved_models'\n",
    "os.makedirs(SAVED_MODELS_PATH, exist_ok=True)\n",
    "# print(\"Saved models directory: {}\".format(SAVED_MODELS_PATH))"
   ]
  },
  {
   "cell_type": "code",
   "execution_count": 190,
   "metadata": {},
   "outputs": [],
   "source": [
    "# This cell resets the timestamp !!\n",
    "date_format = \"%Y%m%d-%H%M%S\"\n",
    "now_timestamp = datetime.datetime.now().strftime(date_format)\n",
    "extra_tag = \"{}d\".format(process_dim)"
   ]
  },
  {
   "cell_type": "code",
   "execution_count": 191,
   "metadata": {},
   "outputs": [
    {
     "data": {
      "text/plain": [
       "dict_keys(['hidden', 'decay'])"
      ]
     },
     "execution_count": 191,
     "metadata": {},
     "output_type": "execute_result"
    }
   ],
   "source": [
    "train_hist[-1].keys()"
   ]
  },
  {
   "cell_type": "markdown",
   "metadata": {},
   "source": [
    "Now we save the model down to a file, and record the data files on which it was trained."
   ]
  },
  {
   "cell_type": "code",
   "execution_count": 193,
   "metadata": {},
   "outputs": [
    {
     "name": "stdout",
     "output_type": "stream",
     "text": [
      "Model save file path: ../saved_models/HawkesDecayRNN-1d_hidden32-20181202-141923.pth\n"
     ]
    }
   ],
   "source": [
    "import json\n",
    "\n",
    "filename_base = \"{}-{}_hidden{}-{}\".format(\n",
    "    model.__class__.__name__, extra_tag,\n",
    "    hidden_size, now_timestamp)\n",
    "filename_model_save = filename_base + \".pth\"\n",
    "model_filepath = os.path.join(SAVED_MODELS_PATH, filename_model_save)\n",
    "print(\"Model save file path: {}\".format(model_filepath))"
   ]
  },
  {
   "cell_type": "code",
   "execution_count": 194,
   "metadata": {},
   "outputs": [
    {
     "name": "stdout",
     "output_type": "stream",
     "text": [
      "{'model_path': '../saved_models/HawkesDecayRNN-1d_hidden32-20181202-141923.pth', 'data_path': '../data/simulated/hawkes_synthetic_exp_1d_20181202-135203.pkl'}\n"
     ]
    }
   ],
   "source": [
    "file_correspondance = {\n",
    "    \"model_path\": model_filepath,\n",
    "    \"data_path\": chosen_data_file\n",
    "}\n",
    "print(file_correspondance)"
   ]
  },
  {
   "cell_type": "code",
   "execution_count": 195,
   "metadata": {},
   "outputs": [
    {
     "name": "stdout",
     "output_type": "stream",
     "text": [
      "Saving model state dict to ../saved_models/HawkesDecayRNN-1d_hidden32-20181202-141923.pth\n"
     ]
    }
   ],
   "source": [
    "with open(os.path.join(SAVED_MODELS_PATH, \"train_data_correspondance.jsonl\"), \"a\") as f:\n",
    "    json.dump(file_correspondance, f)\n",
    "\n",
    "print(\"Saving model state dict to {}\".format(model_filepath))\n",
    "torch.save(model.state_dict(), model_filepath)"
   ]
  },
  {
   "cell_type": "markdown",
   "metadata": {},
   "source": [
    "## Model evaluation"
   ]
  },
  {
   "cell_type": "markdown",
   "metadata": {},
   "source": [
    "Now we perform model evaluation steps."
   ]
  },
  {
   "cell_type": "markdown",
   "metadata": {},
   "source": [
    "### Load saved model"
   ]
  },
  {
   "cell_type": "code",
   "execution_count": 989,
   "metadata": {},
   "outputs": [
    {
     "name": "stdout",
     "output_type": "stream",
     "text": [
      "Hidden size: 18\n"
     ]
    }
   ],
   "source": [
    "process_dim = 2\n",
    "\n",
    "hidden_size = 18\n",
    "print(\"Hidden size: {}\".format(hidden_size))\n",
    "model = HawkesDecayRNN(process_dim, hidden_size)\n",
    "\n",
    "model.load_state_dict(torch.load(load_filename, map_location={\"cuda:0\": \"cpu\"}))"
   ]
  },
  {
   "cell_type": "code",
   "execution_count": null,
   "metadata": {},
   "outputs": [],
   "source": [
    "from models.decayrnn import HawkesDecayRNN, HawkesRNNGen\n",
    "\n",
    "MODEL_FILES = glob.glob(\"../saved_models/*.pth\")\n",
    "print(MODEL_FILES)\n",
    "\n",
    "load_filename = MODEL_FILES[0]\n",
    "print(\"chosen file:\", load_filename)\n",
    "\n",
    "load_file_timestamp = \"-\".join(os.path.splitext(os.path.basename(load_filename))[0].split('-')[-2:])\n",
    "print(load_file_timestamp)"
   ]
  },
  {
   "cell_type": "markdown",
   "metadata": {},
   "source": [
    "### Sequence generation and sequence length distribution"
   ]
  },
  {
   "cell_type": "markdown",
   "metadata": {},
   "source": [
    "We wrote a sequence generator"
   ]
  },
  {
   "cell_type": "code",
   "execution_count": 196,
   "metadata": {},
   "outputs": [
    {
     "name": "stdout",
     "output_type": "stream",
     "text": [
      "Process model dim:\t1\tHidden units:\t32\n"
     ]
    }
   ],
   "source": [
    "from models.decayrnn import HawkesRNNGen\n",
    "generator = HawkesRNNGen(model)"
   ]
  },
  {
   "cell_type": "code",
   "execution_count": 201,
   "metadata": {},
   "outputs": [
    {
     "data": {
      "text/plain": [
       "13"
      ]
     },
     "execution_count": 201,
     "metadata": {},
     "output_type": "execute_result"
    }
   ],
   "source": [
    "generator.generate_sequence(tmax/6)\n",
    "len(generator.event_times)"
   ]
  },
  {
   "cell_type": "code",
   "execution_count": 202,
   "metadata": {
    "scrolled": false
   },
   "outputs": [
    {
     "name": "stdout",
     "output_type": "stream",
     "text": [
      "Mean generated sequence length: 70.97\n",
      "Generated sequence length std. dev: 12.282878327167456\n"
     ]
    }
   ],
   "source": [
    "# Build a statistic for the no. of events\n",
    "gen_seq_lengths = []\n",
    "gen_seq_types_lengths = []\n",
    "n_gen_seq = 1000 # number of generated sequences\n",
    "for i in range(n_gen_seq):\n",
    "    generator.generate_sequence(tmax, record_intensity=False)\n",
    "    gen_seq_times = generator.event_times\n",
    "    gen_seq_types = np.array(generator.event_types)\n",
    "    gen_seq_lengths.append(len(gen_seq_times))\n",
    "    gen_seq_types_lengths.append([\n",
    "        (gen_seq_types == i).sum() for i in range(model.input_size)\n",
    "    ])\n",
    "gen_seq_lengths = np.array(gen_seq_lengths)\n",
    "gen_seq_types_lengths = np.array(gen_seq_types_lengths)\n",
    "\n",
    "print(\"Mean generated sequence length: {}\".format(gen_seq_lengths.mean()))\n",
    "print(\"Generated sequence length std. dev: {}\".format(gen_seq_lengths.std()))\n",
    "MODEL_NAME = \"Decay-RNN\""
   ]
  },
  {
   "cell_type": "code",
   "execution_count": 203,
   "metadata": {
    "scrolled": false
   },
   "outputs": [
    {
     "data": {
      "image/png": "[encoded data removed]",
      "text/plain": [
       "<Figure size 800x500 with 1 Axes>"
      ]
     },
     "metadata": {
      "needs_background": "light"
     },
     "output_type": "display_data"
    }
   ],
   "source": [
    "if process_dim > 1:\n",
    "    num_plots = process_dim + 1\n",
    "else:\n",
    "    num_plots = 1\n",
    "fig, axes = plt.subplots(num_plots, 1, figsize=(8,5+(num_plots-1)*3), dpi=100)\n",
    "ax0 = axes[0] if num_plots > 1 else axes\n",
    "hist_opts = {\n",
    "    \"rwidth\": 0.8,\n",
    "    \"alpha\": 0.4,\n",
    "    \"density\": True\n",
    "}\n",
    "gen_label = \"Sequence lengths (generated by {:})\".format(MODEL_NAME)\n",
    "_ = ax0.hist(seq_lengths, bins=2*int(seq_lengths.size(0)**(1/3)),\n",
    "            label=\"Sequence lengths (base model)\",\n",
    "            **hist_opts)\n",
    "_ = ax0.hist(gen_seq_lengths, bins=2*int(n_gen_seq**(1/3)),\n",
    "            label=gen_label,\n",
    "            color='red', **hist_opts)\n",
    "ax0.legend()\n",
    "if num_plots > 1:\n",
    "    ax0.set_title('no. of events (all types, including starter type)')\n",
    "else:\n",
    "    ax0.set_title('no. of  events')\n",
    "ax0.set_ylabel('Proportion')\n",
    "ax0.set_xlabel('Number of events $N_T$')\n",
    "if num_plots > 1:\n",
    "    axt = axes[1:]\n",
    "    for i, ax in enumerate(axt):\n",
    "        # get the sequence lengths for the event types\n",
    "        typ_seq_lengths = (seq_types == i).sum(dim=1)\n",
    "        gen_typ_seq_lengths = gen_seq_types_lengths[:, i]\n",
    "        ax.hist(typ_seq_lengths, bins=2*int(typ_seq_lengths.size(0)**(1/3)),\n",
    "                label=\"Sequence lengths (base model)\",\n",
    "                **hist_opts)\n",
    "        ax.hist(gen_typ_seq_lengths,\n",
    "                bins=2*int(gen_typ_seq_lengths.shape[0]**(1/3)),\n",
    "                label=gen_label,\n",
    "                color='red', **hist_opts)\n",
    "        ax.set_xlabel(\"Number of events of type {}, $N_T^{}$\".format(i, i))\n",
    "        ax.set_title('no. of events of type $i={}$'.format(i))\n",
    "\n",
    "fig.tight_layout()"
   ]
  },
  {
   "cell_type": "code",
   "execution_count": 204,
   "metadata": {},
   "outputs": [],
   "source": [
    "RESULT_BASEDIR = \"../results\"\n",
    "extra_tag = \"{}d\".format(process_dim)\n",
    "os.makedirs(RESULT_BASEDIR, exist_ok=True)\n",
    "model_perf_indicator = \"seq_length_distrib\"\n",
    "distrib_plot_filepath = \"{:}/{:}_{:}-{}-hidden_{}-{}.pdf\".format(\n",
    "    RESULT_BASEDIR, model_perf_indicator, MODEL_NAME,\n",
    "    extra_tag, model.hidden_size, now_timestamp)\n",
    "fig.savefig(distrib_plot_filepath)"
   ]
  },
  {
   "cell_type": "code",
   "execution_count": 205,
   "metadata": {},
   "outputs": [
    {
     "data": {
      "text/plain": [
       "'20181202-141923'"
      ]
     },
     "execution_count": 205,
     "metadata": {},
     "output_type": "execute_result"
    }
   ],
   "source": [
    "now_timestamp"
   ]
  },
  {
   "cell_type": "markdown",
   "metadata": {},
   "source": [
    "The number of events does not fit."
   ]
  },
  {
   "cell_type": "code",
   "execution_count": 206,
   "metadata": {
    "scrolled": true
   },
   "outputs": [
    {
     "name": "stdout",
     "output_type": "stream",
     "text": [
      "no. of events: 53\n"
     ]
    },
    {
     "data": {
      "image/png": "[encoded data removed]",
      "text/plain": [
       "<Figure size 1000x450 with 1 Axes>"
      ]
     },
     "metadata": {
      "needs_background": "light"
     },
     "output_type": "display_data"
    }
   ],
   "source": [
    "generator.generate_sequence(tmax/2)\n",
    "fig_ev_stream = generator.plot_events_and_intensity(\n",
    "    model_name=MODEL_NAME)"
   ]
  },
  {
   "cell_type": "code",
   "execution_count": 207,
   "metadata": {},
   "outputs": [],
   "source": [
    "fig_ev_stream.savefig(\"../results/intensity_{}_{}_hidden{}_{}.pdf\".format(\n",
    "    MODEL_NAME, extra_tag, hidden_size, now_timestamp))"
   ]
  },
  {
   "cell_type": "code",
   "execution_count": null,
   "metadata": {},
   "outputs": [],
   "source": []
  },
  {
   "cell_type": "code",
   "execution_count": null,
   "metadata": {},
   "outputs": [],
   "source": []
  },
  {
   "cell_type": "code",
   "execution_count": null,
   "metadata": {},
   "outputs": [],
   "source": []
  },
  {
   "cell_type": "code",
   "execution_count": null,
   "metadata": {},
   "outputs": [],
   "source": []
  },
  {
   "cell_type": "code",
   "execution_count": null,
   "metadata": {},
   "outputs": [],
   "source": []
  },
  {
   "cell_type": "code",
   "execution_count": null,
   "metadata": {},
   "outputs": [],
   "source": []
  },
  {
   "cell_type": "code",
   "execution_count": null,
   "metadata": {},
   "outputs": [],
   "source": []
  },
  {
   "cell_type": "code",
   "execution_count": null,
   "metadata": {},
   "outputs": [],
   "source": []
  }
 ],
 "metadata": {
  "kernelspec": {
   "display_name": "Python [conda env:pytorch]",
   "language": "python",
   "name": "conda-env-pytorch-py"
  },
  "language_info": {
   "codemirror_mode": {
    "name": "ipython",
    "version": 3
   },
   "file_extension": ".py",
   "mimetype": "text/x-python",
   "name": "python",
   "nbconvert_exporter": "python",
   "pygments_lexer": "ipython3",
   "version": "3.7.1"
  }
 },
 "nbformat": 4,
 "nbformat_minor": 2
}
