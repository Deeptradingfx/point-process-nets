{
 "cells": [
  {
   "cell_type": "code",
   "execution_count": 1,
   "metadata": {
    "scrolled": true
   },
   "outputs": [],
   "source": [
    "%matplotlib inline\n",
    "%load_ext autoreload\n",
    "%autoreload 2"
   ]
  },
  {
   "cell_type": "code",
   "execution_count": 2,
   "metadata": {},
   "outputs": [],
   "source": [
    "import matplotlib.pyplot as plt\n",
    "import matplotlib.ticker as mticker\n",
    "import numpy as np"
   ]
  },
  {
   "cell_type": "code",
   "execution_count": 3,
   "metadata": {},
   "outputs": [],
   "source": [
    "import torch\n",
    "from torch import nn"
   ]
  },
  {
   "cell_type": "code",
   "execution_count": 4,
   "metadata": {},
   "outputs": [
    {
     "data": {
      "text/plain": [
       "<torch._C.Generator at 0x7fafead2fcf0>"
      ]
     },
     "execution_count": 4,
     "metadata": {},
     "output_type": "execute_result"
    }
   ],
   "source": [
    "torch.manual_seed(1)"
   ]
  },
  {
   "cell_type": "code",
   "execution_count": 5,
   "metadata": {},
   "outputs": [],
   "source": [
    "import os\n",
    "import sys\n",
    "import tqdm"
   ]
  },
  {
   "cell_type": "code",
   "execution_count": 6,
   "metadata": {},
   "outputs": [
    {
     "name": "stdout",
     "output_type": "stream",
     "text": [
      "Notebook dir /home/manifold/Documents/etudes/map511-p3a\n",
      "Python interpreter path:\n",
      "\n",
      "/home/manifold/Documents/etudes/map511-p3a/notebooks\n",
      "/home/manifold/miniconda3/envs/pytorch/lib/python37.zip\n",
      "/home/manifold/miniconda3/envs/pytorch/lib/python3.7\n",
      "/home/manifold/miniconda3/envs/pytorch/lib/python3.7/lib-dynload\n",
      "/home/manifold/miniconda3/envs/pytorch/lib/python3.7/site-packages\n",
      "/home/manifold/miniconda3/envs/pytorch/lib/python3.7/site-packages/pointprocesses-0.4.1-py3.7-linux-x86_64.egg\n",
      "/home/manifold/miniconda3/envs/pytorch/lib/python3.7/site-packages/torchvision-0.2.1-py3.7.egg\n",
      "/home/manifold/miniconda3/envs/pytorch/lib/python3.7/site-packages/IPython/extensions\n",
      "/home/manifold/.ipython\n",
      "/home/manifold/Documents/etudes/map511-p3a\n"
     ]
    }
   ],
   "source": [
    "# Add parent dir to interpreter path\n",
    "nb_dir = os.path.split(os.getcwd())[0]\n",
    "print(\"Notebook dir {:}\".format(nb_dir))\n",
    "if nb_dir not in sys.path:\n",
    "    sys.path.append(nb_dir)\n",
    "print(\"Python interpreter path:\")\n",
    "for path in sys.path:\n",
    "    print(path)"
   ]
  },
  {
   "cell_type": "markdown",
   "metadata": {},
   "source": [
    "# Loading synthetic data"
   ]
  },
  {
   "cell_type": "markdown",
   "metadata": {},
   "source": [
    "We will be loading simulated Hawkes data."
   ]
  },
  {
   "cell_type": "code",
   "execution_count": 7,
   "metadata": {},
   "outputs": [],
   "source": [
    "import glob\n",
    "import pickle"
   ]
  },
  {
   "cell_type": "code",
   "execution_count": 8,
   "metadata": {},
   "outputs": [
    {
     "data": {
      "text/plain": [
       "['../data/simulated/hawkes_synth_data_1d.pkl',\n",
       " '../data/simulated/hawkes_synth_data_2d.pkl',\n",
       " '../data/simulated/README.md']"
      ]
     },
     "execution_count": 8,
     "metadata": {},
     "output_type": "execute_result"
    }
   ],
   "source": [
    "glob.glob('../data/simulated/*')"
   ]
  },
  {
   "cell_type": "code",
   "execution_count": 9,
   "metadata": {},
   "outputs": [],
   "source": [
    "from load_synth_data import process_loaded_sequences, one_hot_embedding"
   ]
  },
  {
   "cell_type": "markdown",
   "metadata": {},
   "source": [
    "## 1D process"
   ]
  },
  {
   "cell_type": "code",
   "execution_count": 10,
   "metadata": {},
   "outputs": [],
   "source": [
    "# Load data simulated using tick\n",
    "with open(\"../data/simulated/hawkes_synth_data_1d.pkl\", \"rb\") as f:\n",
    "    loaded_hawkes_data = pickle.load(f)"
   ]
  },
  {
   "cell_type": "code",
   "execution_count": 11,
   "metadata": {},
   "outputs": [
    {
     "data": {
      "text/plain": [
       "dict_keys(['mu', 'alpha', 'decay', 'tmax', 'timestamps', 'types', 'lengths'])"
      ]
     },
     "execution_count": 11,
     "metadata": {},
     "output_type": "execute_result"
    }
   ],
   "source": [
    "loaded_hawkes_data.keys()"
   ]
  },
  {
   "cell_type": "code",
   "execution_count": 12,
   "metadata": {},
   "outputs": [
    {
     "name": "stdout",
     "output_type": "stream",
     "text": [
      "1.0\n",
      "5.0\n",
      "60.0\n"
     ]
    }
   ],
   "source": [
    "mu = loaded_hawkes_data['mu']\n",
    "decay = loaded_hawkes_data['decay']\n",
    "tmax = loaded_hawkes_data['tmax']\n",
    "print(mu)\n",
    "print(decay)\n",
    "print(tmax)"
   ]
  },
  {
   "cell_type": "code",
   "execution_count": 13,
   "metadata": {},
   "outputs": [],
   "source": [
    "times_tensor, types_tensor, seq_lengths = process_loaded_sequences(\n",
    "    loaded_hawkes_data)"
   ]
  },
  {
   "cell_type": "markdown",
   "metadata": {},
   "source": [
    "## 2D process"
   ]
  },
  {
   "cell_type": "code",
   "execution_count": 10,
   "metadata": {},
   "outputs": [],
   "source": [
    "# Load data simulated using tick\n",
    "with open(\"../data/simulated/hawkes_synth_data_2d.pkl\", \"rb\") as f:\n",
    "    loaded_hawkes_2d_data = pickle.load(f)"
   ]
  },
  {
   "cell_type": "code",
   "execution_count": 11,
   "metadata": {},
   "outputs": [
    {
     "data": {
      "text/plain": [
       "dict_keys(['mu', 'alpha', 'decay', 'tmax', 'timestamps', 'types', 'lengths'])"
      ]
     },
     "execution_count": 11,
     "metadata": {},
     "output_type": "execute_result"
    }
   ],
   "source": [
    "loaded_hawkes_2d_data.keys()"
   ]
  },
  {
   "cell_type": "code",
   "execution_count": 12,
   "metadata": {},
   "outputs": [
    {
     "name": "stdout",
     "output_type": "stream",
     "text": [
      "[0.7 1. ]\n",
      "[[0.1  0.15]\n",
      " [0.01 0.01]]\n",
      "0.01\n",
      "tmax: 60.0\n"
     ]
    }
   ],
   "source": [
    "print(loaded_hawkes_2d_data['mu'])\n",
    "print(loaded_hawkes_2d_data['alpha'])\n",
    "print(loaded_hawkes_2d_data['decay'])\n",
    "tmax = loaded_hawkes_2d_data['tmax']\n",
    "print(f\"tmax: {tmax}\")"
   ]
  },
  {
   "cell_type": "code",
   "execution_count": 13,
   "metadata": {},
   "outputs": [],
   "source": [
    "times_tensor, seq_types, seq_lengths = process_loaded_sequences(\n",
    "    loaded_hawkes_2d_data)\n",
    "\n",
    "onehot_types = one_hot_embedding(seq_types, 3)"
   ]
  },
  {
   "cell_type": "markdown",
   "metadata": {},
   "source": [
    "# Neural network"
   ]
  },
  {
   "cell_type": "markdown",
   "metadata": {},
   "source": [
    "We are going for a recurrent neural structure that can learn from previous events. The intensity process of our neural model will be of the form\n",
    "\n",
    "$$\n",
    "    \\lambda_t = f\\left(W_{\\lambda} h(t)\\right)\n",
    "$$\n",
    "\n",
    "with $f$ a positive-valued activation function (such as ReLU) and $h(t)\\in\\mathbb R^D$ a continuous hidden state, computed as\n",
    "\\begin{equation}\n",
    "    h(t) = h_{i}e^{-\\delta_i(t-t_{i-1})},\\quad \\forall t\\in(t_{i-1},t_i]\n",
    "\\end{equation}\n",
    "\n",
    "Network update formulas: the jump and decay parameters on $(t_i,t_{i+1}]$ are given by\n",
    "$$\n",
    "\\begin{align*}\n",
    "    h_{i+1}      &= \\tanh(W_{hh}h(t_i) + W_{xh}x_i + b_{h}) \\\\\n",
    "    \\delta_{i+1} &= \\sigma(W_{hd} h(t_i) + W_{xd}x_i + b_{d})\n",
    "\\end{align*}\n",
    "$$"
   ]
  },
  {
   "cell_type": "code",
   "execution_count": 48,
   "metadata": {},
   "outputs": [],
   "source": [
    "from models.decayrnn import HawkesDecayRNN\n",
    "from train_functions import train_decayrnn\n",
    "\n",
    "hidden_size = 24\n",
    "model = HawkesDecayRNN(2, hidden_size)\n",
    "optimizer = torch.optim.Adagrad(model.parameters(), lr=0.015)"
   ]
  },
  {
   "cell_type": "code",
   "execution_count": 49,
   "metadata": {},
   "outputs": [
    {
     "name": "stdout",
     "output_type": "stream",
     "text": [
      "Train size 1000\n",
      "Train event times shape torch.Size([167, 1000])\n",
      "Train event types shape torch.Size([167, 1000, 3])\n",
      "Train seq lengths shape torch.Size([1000])\n"
     ]
    }
   ],
   "source": [
    "# define training data\n",
    "train_size = 1000\n",
    "print(\"Train size %d\" % train_size)\n",
    "\n",
    "train_times_tensor = times_tensor[:, :train_size]\n",
    "train_onehot_types = onehot_types[:, :train_size]\n",
    "train_seq_lengths = seq_lengths[:train_size]\n",
    "print(\"Train event times shape {}\".format(train_times_tensor.shape))\n",
    "print(\"Train event types shape {}\".format(train_onehot_types.shape))\n",
    "print(\"Train seq lengths shape {}\".format(train_seq_lengths.shape))"
   ]
  },
  {
   "cell_type": "code",
   "execution_count": 47,
   "metadata": {
    "scrolled": true
   },
   "outputs": [
    {
     "name": "stdout",
     "output_type": "stream",
     "text": [
      "Batch size 32\n",
      "Number of epochs 60\n"
     ]
    },
    {
     "data": {
      "text/plain": [
       "HBox(children=(IntProgress(value=0, description='Epoch 1', max=32, style=ProgressStyle(description_width='init…"
      ]
     },
     "metadata": {},
     "output_type": "display_data"
    },
    {
     "data": {
      "text/plain": [
       "HBox(children=(IntProgress(value=0, description='Epoch 2', max=32, style=ProgressStyle(description_width='init…"
      ]
     },
     "metadata": {},
     "output_type": "display_data"
    },
    {
     "data": {
      "text/plain": [
       "HBox(children=(IntProgress(value=0, description='Epoch 3', max=32, style=ProgressStyle(description_width='init…"
      ]
     },
     "metadata": {},
     "output_type": "display_data"
    },
    {
     "data": {
      "text/plain": [
       "HBox(children=(IntProgress(value=0, description='Epoch 4', max=32, style=ProgressStyle(description_width='init…"
      ]
     },
     "metadata": {},
     "output_type": "display_data"
    },
    {
     "data": {
      "text/plain": [
       "HBox(children=(IntProgress(value=0, description='Epoch 5', max=32, style=ProgressStyle(description_width='init…"
      ]
     },
     "metadata": {},
     "output_type": "display_data"
    },
    {
     "data": {
      "text/plain": [
       "HBox(children=(IntProgress(value=0, description='Epoch 6', max=32, style=ProgressStyle(description_width='init…"
      ]
     },
     "metadata": {},
     "output_type": "display_data"
    },
    {
     "data": {
      "text/plain": [
       "HBox(children=(IntProgress(value=0, description='Epoch 7', max=32, style=ProgressStyle(description_width='init…"
      ]
     },
     "metadata": {},
     "output_type": "display_data"
    },
    {
     "data": {
      "text/plain": [
       "HBox(children=(IntProgress(value=0, description='Epoch 8', max=32, style=ProgressStyle(description_width='init…"
      ]
     },
     "metadata": {},
     "output_type": "display_data"
    },
    {
     "data": {
      "text/plain": [
       "HBox(children=(IntProgress(value=0, description='Epoch 9', max=32, style=ProgressStyle(description_width='init…"
      ]
     },
     "metadata": {},
     "output_type": "display_data"
    },
    {
     "data": {
      "text/plain": [
       "HBox(children=(IntProgress(value=0, description='Epoch 10', max=32, style=ProgressStyle(description_width='ini…"
      ]
     },
     "metadata": {},
     "output_type": "display_data"
    },
    {
     "data": {
      "text/plain": [
       "HBox(children=(IntProgress(value=0, description='Epoch 11', max=32, style=ProgressStyle(description_width='ini…"
      ]
     },
     "metadata": {},
     "output_type": "display_data"
    },
    {
     "data": {
      "text/plain": [
       "HBox(children=(IntProgress(value=0, description='Epoch 12', max=32, style=ProgressStyle(description_width='ini…"
      ]
     },
     "metadata": {},
     "output_type": "display_data"
    },
    {
     "data": {
      "text/plain": [
       "HBox(children=(IntProgress(value=0, description='Epoch 13', max=32, style=ProgressStyle(description_width='ini…"
      ]
     },
     "metadata": {},
     "output_type": "display_data"
    },
    {
     "data": {
      "text/plain": [
       "HBox(children=(IntProgress(value=0, description='Epoch 14', max=32, style=ProgressStyle(description_width='ini…"
      ]
     },
     "metadata": {},
     "output_type": "display_data"
    },
    {
     "data": {
      "text/plain": [
       "HBox(children=(IntProgress(value=0, description='Epoch 15', max=32, style=ProgressStyle(description_width='ini…"
      ]
     },
     "metadata": {},
     "output_type": "display_data"
    },
    {
     "data": {
      "text/plain": [
       "HBox(children=(IntProgress(value=0, description='Epoch 16', max=32, style=ProgressStyle(description_width='ini…"
      ]
     },
     "metadata": {},
     "output_type": "display_data"
    },
    {
     "data": {
      "text/plain": [
       "HBox(children=(IntProgress(value=0, description='Epoch 17', max=32, style=ProgressStyle(description_width='ini…"
      ]
     },
     "metadata": {},
     "output_type": "display_data"
    },
    {
     "data": {
      "text/plain": [
       "HBox(children=(IntProgress(value=0, description='Epoch 18', max=32, style=ProgressStyle(description_width='ini…"
      ]
     },
     "metadata": {},
     "output_type": "display_data"
    },
    {
     "data": {
      "text/plain": [
       "HBox(children=(IntProgress(value=0, description='Epoch 19', max=32, style=ProgressStyle(description_width='ini…"
      ]
     },
     "metadata": {},
     "output_type": "display_data"
    },
    {
     "data": {
      "text/plain": [
       "HBox(children=(IntProgress(value=0, description='Epoch 20', max=32, style=ProgressStyle(description_width='ini…"
      ]
     },
     "metadata": {},
     "output_type": "display_data"
    },
    {
     "data": {
      "text/plain": [
       "HBox(children=(IntProgress(value=0, description='Epoch 21', max=32, style=ProgressStyle(description_width='ini…"
      ]
     },
     "metadata": {},
     "output_type": "display_data"
    },
    {
     "data": {
      "text/plain": [
       "HBox(children=(IntProgress(value=0, description='Epoch 22', max=32, style=ProgressStyle(description_width='ini…"
      ]
     },
     "metadata": {},
     "output_type": "display_data"
    },
    {
     "data": {
      "text/plain": [
       "HBox(children=(IntProgress(value=0, description='Epoch 23', max=32, style=ProgressStyle(description_width='ini…"
      ]
     },
     "metadata": {},
     "output_type": "display_data"
    },
    {
     "data": {
      "text/plain": [
       "HBox(children=(IntProgress(value=0, description='Epoch 24', max=32, style=ProgressStyle(description_width='ini…"
      ]
     },
     "metadata": {},
     "output_type": "display_data"
    },
    {
     "data": {
      "text/plain": [
       "HBox(children=(IntProgress(value=0, description='Epoch 25', max=32, style=ProgressStyle(description_width='ini…"
      ]
     },
     "metadata": {},
     "output_type": "display_data"
    },
    {
     "data": {
      "text/plain": [
       "HBox(children=(IntProgress(value=0, description='Epoch 26', max=32, style=ProgressStyle(description_width='ini…"
      ]
     },
     "metadata": {},
     "output_type": "display_data"
    },
    {
     "data": {
      "text/plain": [
       "HBox(children=(IntProgress(value=0, description='Epoch 27', max=32, style=ProgressStyle(description_width='ini…"
      ]
     },
     "metadata": {},
     "output_type": "display_data"
    },
    {
     "data": {
      "text/plain": [
       "HBox(children=(IntProgress(value=0, description='Epoch 28', max=32, style=ProgressStyle(description_width='ini…"
      ]
     },
     "metadata": {},
     "output_type": "display_data"
    },
    {
     "data": {
      "text/plain": [
       "HBox(children=(IntProgress(value=0, description='Epoch 29', max=32, style=ProgressStyle(description_width='ini…"
      ]
     },
     "metadata": {},
     "output_type": "display_data"
    },
    {
     "data": {
      "text/plain": [
       "HBox(children=(IntProgress(value=0, description='Epoch 30', max=32, style=ProgressStyle(description_width='ini…"
      ]
     },
     "metadata": {},
     "output_type": "display_data"
    },
    {
     "data": {
      "text/plain": [
       "HBox(children=(IntProgress(value=0, description='Epoch 31', max=32, style=ProgressStyle(description_width='ini…"
      ]
     },
     "metadata": {},
     "output_type": "display_data"
    },
    {
     "data": {
      "text/plain": [
       "HBox(children=(IntProgress(value=0, description='Epoch 32', max=32, style=ProgressStyle(description_width='ini…"
      ]
     },
     "metadata": {},
     "output_type": "display_data"
    },
    {
     "data": {
      "text/plain": [
       "HBox(children=(IntProgress(value=0, description='Epoch 33', max=32, style=ProgressStyle(description_width='ini…"
      ]
     },
     "metadata": {},
     "output_type": "display_data"
    },
    {
     "data": {
      "text/plain": [
       "HBox(children=(IntProgress(value=0, description='Epoch 34', max=32, style=ProgressStyle(description_width='ini…"
      ]
     },
     "metadata": {},
     "output_type": "display_data"
    },
    {
     "data": {
      "text/plain": [
       "HBox(children=(IntProgress(value=0, description='Epoch 35', max=32, style=ProgressStyle(description_width='ini…"
      ]
     },
     "metadata": {},
     "output_type": "display_data"
    },
    {
     "data": {
      "text/plain": [
       "HBox(children=(IntProgress(value=0, description='Epoch 36', max=32, style=ProgressStyle(description_width='ini…"
      ]
     },
     "metadata": {},
     "output_type": "display_data"
    },
    {
     "data": {
      "text/plain": [
       "HBox(children=(IntProgress(value=0, description='Epoch 37', max=32, style=ProgressStyle(description_width='ini…"
      ]
     },
     "metadata": {},
     "output_type": "display_data"
    },
    {
     "data": {
      "text/plain": [
       "HBox(children=(IntProgress(value=0, description='Epoch 38', max=32, style=ProgressStyle(description_width='ini…"
      ]
     },
     "metadata": {},
     "output_type": "display_data"
    },
    {
     "data": {
      "text/plain": [
       "HBox(children=(IntProgress(value=0, description='Epoch 39', max=32, style=ProgressStyle(description_width='ini…"
      ]
     },
     "metadata": {},
     "output_type": "display_data"
    },
    {
     "data": {
      "text/plain": [
       "HBox(children=(IntProgress(value=0, description='Epoch 40', max=32, style=ProgressStyle(description_width='ini…"
      ]
     },
     "metadata": {},
     "output_type": "display_data"
    },
    {
     "data": {
      "text/plain": [
       "HBox(children=(IntProgress(value=0, description='Epoch 41', max=32, style=ProgressStyle(description_width='ini…"
      ]
     },
     "metadata": {},
     "output_type": "display_data"
    },
    {
     "data": {
      "text/plain": [
       "HBox(children=(IntProgress(value=0, description='Epoch 42', max=32, style=ProgressStyle(description_width='ini…"
      ]
     },
     "metadata": {},
     "output_type": "display_data"
    },
    {
     "data": {
      "text/plain": [
       "HBox(children=(IntProgress(value=0, description='Epoch 43', max=32, style=ProgressStyle(description_width='ini…"
      ]
     },
     "metadata": {},
     "output_type": "display_data"
    },
    {
     "data": {
      "text/plain": [
       "HBox(children=(IntProgress(value=0, description='Epoch 44', max=32, style=ProgressStyle(description_width='ini…"
      ]
     },
     "metadata": {},
     "output_type": "display_data"
    },
    {
     "data": {
      "text/plain": [
       "HBox(children=(IntProgress(value=0, description='Epoch 45', max=32, style=ProgressStyle(description_width='ini…"
      ]
     },
     "metadata": {},
     "output_type": "display_data"
    },
    {
     "data": {
      "text/plain": [
       "HBox(children=(IntProgress(value=0, description='Epoch 46', max=32, style=ProgressStyle(description_width='ini…"
      ]
     },
     "metadata": {},
     "output_type": "display_data"
    },
    {
     "data": {
      "text/plain": [
       "HBox(children=(IntProgress(value=0, description='Epoch 47', max=32, style=ProgressStyle(description_width='ini…"
      ]
     },
     "metadata": {},
     "output_type": "display_data"
    },
    {
     "data": {
      "text/plain": [
       "HBox(children=(IntProgress(value=0, description='Epoch 48', max=32, style=ProgressStyle(description_width='ini…"
      ]
     },
     "metadata": {},
     "output_type": "display_data"
    },
    {
     "data": {
      "text/plain": [
       "HBox(children=(IntProgress(value=0, description='Epoch 49', max=32, style=ProgressStyle(description_width='ini…"
      ]
     },
     "metadata": {},
     "output_type": "display_data"
    },
    {
     "data": {
      "text/plain": [
       "HBox(children=(IntProgress(value=0, description='Epoch 50', max=32, style=ProgressStyle(description_width='ini…"
      ]
     },
     "metadata": {},
     "output_type": "display_data"
    },
    {
     "data": {
      "text/plain": [
       "HBox(children=(IntProgress(value=0, description='Epoch 51', max=32, style=ProgressStyle(description_width='ini…"
      ]
     },
     "metadata": {},
     "output_type": "display_data"
    },
    {
     "data": {
      "text/plain": [
       "HBox(children=(IntProgress(value=0, description='Epoch 52', max=32, style=ProgressStyle(description_width='ini…"
      ]
     },
     "metadata": {},
     "output_type": "display_data"
    },
    {
     "data": {
      "text/plain": [
       "HBox(children=(IntProgress(value=0, description='Epoch 53', max=32, style=ProgressStyle(description_width='ini…"
      ]
     },
     "metadata": {},
     "output_type": "display_data"
    },
    {
     "data": {
      "text/plain": [
       "HBox(children=(IntProgress(value=0, description='Epoch 54', max=32, style=ProgressStyle(description_width='ini…"
      ]
     },
     "metadata": {},
     "output_type": "display_data"
    },
    {
     "data": {
      "text/plain": [
       "HBox(children=(IntProgress(value=0, description='Epoch 55', max=32, style=ProgressStyle(description_width='ini…"
      ]
     },
     "metadata": {},
     "output_type": "display_data"
    },
    {
     "data": {
      "text/plain": [
       "HBox(children=(IntProgress(value=0, description='Epoch 56', max=32, style=ProgressStyle(description_width='ini…"
      ]
     },
     "metadata": {},
     "output_type": "display_data"
    },
    {
     "data": {
      "text/plain": [
       "HBox(children=(IntProgress(value=0, description='Epoch 57', max=32, style=ProgressStyle(description_width='ini…"
      ]
     },
     "metadata": {},
     "output_type": "display_data"
    },
    {
     "data": {
      "text/plain": [
       "HBox(children=(IntProgress(value=0, description='Epoch 58', max=32, style=ProgressStyle(description_width='ini…"
      ]
     },
     "metadata": {},
     "output_type": "display_data"
    },
    {
     "data": {
      "text/plain": [
       "HBox(children=(IntProgress(value=0, description='Epoch 59', max=32, style=ProgressStyle(description_width='ini…"
      ]
     },
     "metadata": {},
     "output_type": "display_data"
    },
    {
     "data": {
      "text/plain": [
       "HBox(children=(IntProgress(value=0, description='Epoch 60', max=32, style=ProgressStyle(description_width='ini…"
      ]
     },
     "metadata": {},
     "output_type": "display_data"
    }
   ],
   "source": [
    "# Training parameters\n",
    "BATCH_SIZE = 32\n",
    "EPOCHS = 50\n",
    "\n",
    "loss_hist = train_decayrnn(model, optimizer, train_times_tensor,\n",
    "                           train_onehot_types, train_seq_lengths, tmax,\n",
    "                           BATCH_SIZE, EPOCHS, use_jupyter=True)"
   ]
  },
  {
   "cell_type": "code",
   "execution_count": 87,
   "metadata": {},
   "outputs": [],
   "source": [
    "from train_functions import plot_loss"
   ]
  },
  {
   "cell_type": "code",
   "execution_count": 88,
   "metadata": {},
   "outputs": [
    {
     "data": {
      "image/png": "[encoded data removed]",
      "text/plain": [
       "<Figure size 800x400 with 1 Axes>"
      ]
     },
     "metadata": {
      "needs_background": "light"
     },
     "output_type": "display_data"
    }
   ],
   "source": [
    "plot_loss(EPOCHS, loss_hist)"
   ]
  },
  {
   "cell_type": "markdown",
   "metadata": {},
   "source": [
    "## Save to file"
   ]
  },
  {
   "cell_type": "code",
   "execution_count": 86,
   "metadata": {},
   "outputs": [
    {
     "name": "stdout",
     "output_type": "stream",
     "text": [
      "HawkesDecayRNN-20181126-104513.pth\n",
      "../saved_models/HawkesDecayRNN-20181126-104513.pth\n"
     ]
    }
   ],
   "source": [
    "import datetime\n",
    "\n",
    "ts = '{:%Y%m%d-%H%M%S}'.format(datetime.datetime.now())\n",
    "\n",
    "flname = '{:}-{:}.pth'.format(model.__class__.__name__, ts)\n",
    "print(flname)\n",
    "fpath = '../saved_models/{:}'.format(flname)\n",
    "print(fpath)\n",
    "\n",
    "torch.save(model.state_dict(), fpath)"
   ]
  },
  {
   "cell_type": "markdown",
   "metadata": {},
   "source": [
    "## Sequence generation"
   ]
  },
  {
   "cell_type": "code",
   "execution_count": 51,
   "metadata": {},
   "outputs": [],
   "source": [
    "from models.decayrnn import generate_sequence"
   ]
  },
  {
   "cell_type": "code",
   "execution_count": 52,
   "metadata": {},
   "outputs": [
    {
     "data": {
      "text/plain": [
       "3"
      ]
     },
     "execution_count": 52,
     "metadata": {},
     "output_type": "execute_result"
    }
   ],
   "source": [
    "inp_size = model.input_size\n",
    "inp_size"
   ]
  },
  {
   "cell_type": "code",
   "execution_count": 53,
   "metadata": {},
   "outputs": [
    {
     "name": "stdout",
     "output_type": "stream",
     "text": [
      "Mean generated sequence length: 44.746\n",
      "Generated sequence length std. dev: 6.530044716539084\n"
     ]
    }
   ],
   "source": [
    "# Build a statistic for the no. of events\n",
    "gen_seq_lengths = []\n",
    "gen_seq_types_lengths = []\n",
    "n_gen_seq = 500 # number of generated sequences\n",
    "for i in range(n_gen_seq):\n",
    "    (gen_event_times, gen_event_types,\n",
    "     gen_event_intens, gen_event_decay) = generate_sequence(model, tmax)\n",
    "    gen_seq_lengths.append(len(gen_event_times) - 1)\n",
    "    gen_seq_types_lengths.append([\n",
    "        (gen_event_types == i).sum() for i in range(inp_size)\n",
    "    ])\n",
    "gen_seq_lengths = np.array(gen_seq_lengths)\n",
    "gen_seq_types_lengths = np.array(gen_seq_types_lengths)\n",
    "\n",
    "print(\"Mean generated sequence length: {}\".format(gen_seq_lengths.mean()))\n",
    "print(\"Generated sequence length std. dev: {}\".format(gen_seq_lengths.std()))\n",
    "MODEL_NAME = \"Decay-RNN\""
   ]
  },
  {
   "cell_type": "code",
   "execution_count": 54,
   "metadata": {},
   "outputs": [
    {
     "data": {
      "text/plain": [
       "array([[13, 11, 19],\n",
       "       [12, 19, 18],\n",
       "       [13, 12, 21],\n",
       "       ...,\n",
       "       [11, 22, 19],\n",
       "       [14, 17, 17],\n",
       "       [12, 14, 12]])"
      ]
     },
     "execution_count": 54,
     "metadata": {},
     "output_type": "execute_result"
    }
   ],
   "source": [
    "gen_seq_types_lengths"
   ]
  },
  {
   "cell_type": "code",
   "execution_count": 55,
   "metadata": {
    "scrolled": false
   },
   "outputs": [
    {
     "data": {
      "image/png": "[encoded data removed]",
      "text/plain": [
       "<Figure size 800x1200 with 3 Axes>"
      ]
     },
     "metadata": {
      "needs_background": "light"
     },
     "output_type": "display_data"
    }
   ],
   "source": [
    "fig, axes = plt.subplots(inp_size, 1, figsize=(8,12), dpi=100)\n",
    "ax0 = axes[0]\n",
    "axt = axes[1:]\n",
    "_ = ax0.hist(seq_lengths, bins=2*int(seq_lengths.size(0)**(1/3)),\n",
    "            label=\"Sequence lengths (base model)\",\n",
    "            rwidth=0.8, alpha=0.5, density=True)\n",
    "_ = ax0.hist(gen_seq_lengths, bins=2*int(n_gen_seq**(1/3)),\n",
    "            label=\"Sequence lengths (generated by {:})\".format(MODEL_NAME),\n",
    "            rwidth=0.8, alpha=0.5, color='red', density=True)\n",
    "ax0.legend()\n",
    "ax0.set_ylabel('Proportion')\n",
    "ax0.set_xlabel('Number of events $N_T$')\n",
    "ax0.set_title(\"\"\"Distribution of sequence lengths\n",
    "Base Hawkes model vs. {:}\n",
    "\"\"\".format(MODEL_NAME))\n",
    "for i, ax in enumerate(axt):\n",
    "    # get the sequence lengths for the event types\n",
    "    typ_seq_lengths = (seq_types == i).sum(dim=0)\n",
    "    gen_typ_seq_lengths = gen_seq_types_lengths[:, i]\n",
    "    ax.hist(typ_seq_lengths, bins=2*int(typ_seq_lengths.size(0)**(1/3)),\n",
    "            label=\"Sequence lengths (base model)\",\n",
    "            rwidth=0.8, alpha=0.5, density=True)\n",
    "    ax.hist(gen_typ_seq_lengths,\n",
    "            bins=2*int(gen_typ_seq_lengths.shape[0]**(1/3)),\n",
    "            label=\"Sequence lengths (base model)\",\n",
    "            rwidth=0.8, alpha=0.5, color='red', density=True)\n",
    "    ax.set_xlabel(\"Number of events of type {}, $N_T^{}$\".format(i, i))\n",
    "    ax.set_title('no. of events of type $i={}$'.format(i))\n",
    "fig.tight_layout()"
   ]
  },
  {
   "cell_type": "code",
   "execution_count": 56,
   "metadata": {},
   "outputs": [],
   "source": [
    "RESULT_BASEDIR = \"../results\"\n",
    "os.makedirs(RESULT_BASEDIR, exist_ok=True)\n",
    "model_perf_indicator = \"seq_length_distrib\"\n",
    "fig.savefig(\"{:}/{:}_{:}.pdf\".format(RESULT_BASEDIR, model_perf_indicator, MODEL_NAME))"
   ]
  },
  {
   "cell_type": "markdown",
   "metadata": {},
   "source": [
    "The number of events does not fit."
   ]
  },
  {
   "cell_type": "code",
   "execution_count": null,
   "metadata": {},
   "outputs": [],
   "source": []
  },
  {
   "cell_type": "code",
   "execution_count": 57,
   "metadata": {},
   "outputs": [],
   "source": [
    "def plot_events_and_intensity(event_times: torch.Tensor, seq_types: torch.Tensor,\n",
    "                              hidden_states: torch.Tensor, event_decay: torch.Tensor):\n",
    "    sequence_length = event_times.shape[0]\n",
    "    print(\"no. of events: {}\".format(sequence_length))\n",
    "    evt_times = event_times.numpy()\n",
    "    evt_types = seq_types.numpy()\n",
    "    inp_size = model.input_size\n",
    "    fig, ax = plt.subplots(1, 1, sharex=True, dpi=110,\n",
    "                                   figsize=(10,1))\n",
    "    ax.set_ylim((-0.6, 1.6))\n",
    "    ts_y = np.random.rand(sequence_length)\n",
    "    inpt_size = model.input_size\n",
    "    for k in range(inpt_size):\n",
    "        mask = evt_types == k\n",
    "        ax.scatter(evt_times[mask], ts_y[mask], s=9,\n",
    "                   label=\"{}\".format(k), alpha=0.7)\n",
    "        ax.vlines(evt_times[mask], -0.6, 1.6, linewidth=0.3, linestyles='--', alpha=0.5)\n",
    "    ax.legend()"
   ]
  },
  {
   "cell_type": "code",
   "execution_count": 58,
   "metadata": {
    "scrolled": true
   },
   "outputs": [
    {
     "name": "stdout",
     "output_type": "stream",
     "text": [
      "no. of events: 38\n"
     ]
    },
    {
     "data": {
      "image/png": "[encoded data removed]",
      "text/plain": [
       "<Figure size 1100x110 with 1 Axes>"
      ]
     },
     "metadata": {
      "needs_background": "light"
     },
     "output_type": "display_data"
    }
   ],
   "source": [
    "gen_evt_times, gen_evt_types, gen_event_intens, gen_event_decay = generate_sequence(model, tmax)\n",
    "plot_events_and_intensity(gen_evt_times, gen_evt_types, gen_event_intens, gen_event_decay)"
   ]
  },
  {
   "cell_type": "code",
   "execution_count": 62,
   "metadata": {},
   "outputs": [],
   "source": [
    "from models.decayrnn import read_predict\n",
    "import torch.nn.functional as F"
   ]
  },
  {
   "cell_type": "code",
   "execution_count": 64,
   "metadata": {
    "scrolled": true
   },
   "outputs": [
    {
     "name": "stdout",
     "output_type": "stream",
     "text": [
      "Running next event type prediction for seq. #0\n",
      "Running next event type prediction for seq. #1\n",
      "Running next event type prediction for seq. #2\n",
      "Running next event type prediction for seq. #3\n",
      "Running next event type prediction for seq. #4\n",
      "Running next event type prediction for seq. #5\n",
      "Running next event type prediction for seq. #6\n",
      "Running next event type prediction for seq. #7\n",
      "Running next event type prediction for seq. #8\n",
      "Running next event type prediction for seq. #9\n",
      "Running next event type prediction for seq. #10\n",
      "Running next event type prediction for seq. #11\n",
      "Running next event type prediction for seq. #12\n",
      "Running next event type prediction for seq. #13\n",
      "Running next event type prediction for seq. #14\n",
      "Running next event type prediction for seq. #15\n",
      "Running next event type prediction for seq. #16\n",
      "Running next event type prediction for seq. #17\n",
      "Running next event type prediction for seq. #18\n",
      "Running next event type prediction for seq. #19\n",
      "Running next event type prediction for seq. #20\n",
      "Running next event type prediction for seq. #21\n",
      "Running next event type prediction for seq. #22\n",
      "Running next event type prediction for seq. #23\n",
      "Running next event type prediction for seq. #24\n",
      "Running next event type prediction for seq. #25\n",
      "Running next event type prediction for seq. #26\n",
      "Running next event type prediction for seq. #27\n",
      "Running next event type prediction for seq. #28\n",
      "Running next event type prediction for seq. #29\n",
      "Running next event type prediction for seq. #30\n",
      "Running next event type prediction for seq. #31\n",
      "Running next event type prediction for seq. #32\n",
      "Running next event type prediction for seq. #33\n",
      "Running next event type prediction for seq. #34\n",
      "Running next event type prediction for seq. #35\n",
      "Running next event type prediction for seq. #36\n",
      "Running next event type prediction for seq. #37\n",
      "Running next event type prediction for seq. #38\n",
      "Running next event type prediction for seq. #39\n",
      "Running next event type prediction for seq. #40\n",
      "Running next event type prediction for seq. #41\n",
      "Running next event type prediction for seq. #42\n",
      "Running next event type prediction for seq. #43\n",
      "Running next event type prediction for seq. #44\n",
      "Running next event type prediction for seq. #45\n",
      "Running next event type prediction for seq. #46\n",
      "Running next event type prediction for seq. #47\n",
      "Running next event type prediction for seq. #48\n",
      "Running next event type prediction for seq. #49\n",
      "Running next event type prediction for seq. #50\n",
      "Running next event type prediction for seq. #51\n",
      "Running next event type prediction for seq. #52\n",
      "Running next event type prediction for seq. #53\n",
      "Running next event type prediction for seq. #54\n",
      "Running next event type prediction for seq. #55\n",
      "Running next event type prediction for seq. #56\n",
      "Running next event type prediction for seq. #57\n",
      "Running next event type prediction for seq. #58\n",
      "Running next event type prediction for seq. #59\n",
      "Running next event type prediction for seq. #60\n",
      "Running next event type prediction for seq. #61\n",
      "Running next event type prediction for seq. #62\n",
      "Running next event type prediction for seq. #63\n",
      "Running next event type prediction for seq. #64\n",
      "Running next event type prediction for seq. #65\n",
      "Running next event type prediction for seq. #66\n",
      "Running next event type prediction for seq. #67\n",
      "Running next event type prediction for seq. #68\n",
      "Running next event type prediction for seq. #69\n",
      "Running next event type prediction for seq. #70\n",
      "Running next event type prediction for seq. #71\n",
      "Running next event type prediction for seq. #72\n",
      "Running next event type prediction for seq. #73\n",
      "Running next event type prediction for seq. #74\n",
      "Running next event type prediction for seq. #75\n",
      "Running next event type prediction for seq. #76\n",
      "Running next event type prediction for seq. #77\n",
      "Running next event type prediction for seq. #78\n",
      "Running next event type prediction for seq. #79\n",
      "Running next event type prediction for seq. #80\n",
      "Running next event type prediction for seq. #81\n",
      "Running next event type prediction for seq. #82\n",
      "Running next event type prediction for seq. #83\n",
      "Running next event type prediction for seq. #84\n",
      "Running next event type prediction for seq. #85\n",
      "Running next event type prediction for seq. #86\n",
      "Running next event type prediction for seq. #87\n",
      "Running next event type prediction for seq. #88\n",
      "Running next event type prediction for seq. #89\n",
      "Running next event type prediction for seq. #90\n",
      "Running next event type prediction for seq. #91\n",
      "Running next event type prediction for seq. #92\n",
      "Running next event type prediction for seq. #93\n",
      "Running next event type prediction for seq. #94\n",
      "Running next event type prediction for seq. #95\n",
      "Running next event type prediction for seq. #96\n",
      "Running next event type prediction for seq. #97\n",
      "Running next event type prediction for seq. #98\n",
      "Running next event type prediction for seq. #99\n",
      "Running next event type prediction for seq. #100\n",
      "Running next event type prediction for seq. #101\n",
      "Running next event type prediction for seq. #102\n",
      "Running next event type prediction for seq. #103\n",
      "Running next event type prediction for seq. #104\n",
      "Running next event type prediction for seq. #105\n",
      "Running next event type prediction for seq. #106\n",
      "Running next event type prediction for seq. #107\n",
      "Running next event type prediction for seq. #108\n",
      "Running next event type prediction for seq. #109\n",
      "Running next event type prediction for seq. #110\n",
      "Running next event type prediction for seq. #111\n",
      "Running next event type prediction for seq. #112\n",
      "Running next event type prediction for seq. #113\n",
      "Running next event type prediction for seq. #114\n",
      "Running next event type prediction for seq. #115\n",
      "Running next event type prediction for seq. #116\n",
      "Running next event type prediction for seq. #117\n",
      "Running next event type prediction for seq. #118\n",
      "Running next event type prediction for seq. #119\n",
      "Running next event type prediction for seq. #120\n",
      "Running next event type prediction for seq. #121\n",
      "Running next event type prediction for seq. #122\n",
      "Running next event type prediction for seq. #123\n",
      "Running next event type prediction for seq. #124\n",
      "Running next event type prediction for seq. #125\n",
      "Running next event type prediction for seq. #126\n",
      "Running next event type prediction for seq. #127\n",
      "Running next event type prediction for seq. #128\n",
      "Running next event type prediction for seq. #129\n",
      "Running next event type prediction for seq. #130\n",
      "Running next event type prediction for seq. #131\n",
      "Running next event type prediction for seq. #132\n",
      "Running next event type prediction for seq. #133\n",
      "Running next event type prediction for seq. #134\n",
      "Running next event type prediction for seq. #135\n",
      "Running next event type prediction for seq. #136\n",
      "Running next event type prediction for seq. #137\n",
      "Running next event type prediction for seq. #138\n",
      "Running next event type prediction for seq. #139\n",
      "Running next event type prediction for seq. #140\n",
      "Running next event type prediction for seq. #141\n",
      "Running next event type prediction for seq. #142\n",
      "Running next event type prediction for seq. #143\n",
      "Running next event type prediction for seq. #144\n",
      "Running next event type prediction for seq. #145\n",
      "Running next event type prediction for seq. #146\n",
      "Running next event type prediction for seq. #147\n",
      "Running next event type prediction for seq. #148\n",
      "Running next event type prediction for seq. #149\n",
      "Running next event type prediction for seq. #150\n",
      "Running next event type prediction for seq. #151\n",
      "Running next event type prediction for seq. #152\n",
      "Running next event type prediction for seq. #153\n",
      "Running next event type prediction for seq. #154\n",
      "Running next event type prediction for seq. #155\n",
      "Running next event type prediction for seq. #156\n",
      "Running next event type prediction for seq. #157\n",
      "Running next event type prediction for seq. #158\n",
      "Running next event type prediction for seq. #159\n",
      "Running next event type prediction for seq. #160\n",
      "Running next event type prediction for seq. #161\n",
      "Running next event type prediction for seq. #162\n",
      "Running next event type prediction for seq. #163\n",
      "Running next event type prediction for seq. #164\n",
      "Running next event type prediction for seq. #165\n",
      "Running next event type prediction for seq. #166\n",
      "Running next event type prediction for seq. #167\n",
      "Running next event type prediction for seq. #168\n",
      "Running next event type prediction for seq. #169\n",
      "Running next event type prediction for seq. #170\n",
      "Running next event type prediction for seq. #171\n",
      "Running next event type prediction for seq. #172\n",
      "Running next event type prediction for seq. #173\n"
     ]
    },
    {
     "name": "stdout",
     "output_type": "stream",
     "text": [
      "Running next event type prediction for seq. #174\n",
      "Running next event type prediction for seq. #175\n",
      "Running next event type prediction for seq. #176\n",
      "Running next event type prediction for seq. #177\n",
      "Running next event type prediction for seq. #178\n",
      "Running next event type prediction for seq. #179\n",
      "Running next event type prediction for seq. #180\n",
      "Running next event type prediction for seq. #181\n",
      "Running next event type prediction for seq. #182\n",
      "Running next event type prediction for seq. #183\n",
      "Running next event type prediction for seq. #184\n",
      "Running next event type prediction for seq. #185\n",
      "Running next event type prediction for seq. #186\n",
      "Running next event type prediction for seq. #187\n",
      "Running next event type prediction for seq. #188\n",
      "Running next event type prediction for seq. #189\n",
      "Running next event type prediction for seq. #190\n",
      "Running next event type prediction for seq. #191\n",
      "Running next event type prediction for seq. #192\n",
      "Running next event type prediction for seq. #193\n",
      "Running next event type prediction for seq. #194\n",
      "Running next event type prediction for seq. #195\n",
      "Running next event type prediction for seq. #196\n",
      "Running next event type prediction for seq. #197\n",
      "Running next event type prediction for seq. #198\n",
      "Running next event type prediction for seq. #199\n",
      "Running next event type prediction for seq. #200\n",
      "Running next event type prediction for seq. #201\n",
      "Running next event type prediction for seq. #202\n",
      "Running next event type prediction for seq. #203\n",
      "Running next event type prediction for seq. #204\n",
      "Running next event type prediction for seq. #205\n",
      "Running next event type prediction for seq. #206\n",
      "Running next event type prediction for seq. #207\n",
      "Running next event type prediction for seq. #208\n",
      "Running next event type prediction for seq. #209\n",
      "Running next event type prediction for seq. #210\n",
      "Running next event type prediction for seq. #211\n",
      "Running next event type prediction for seq. #212\n",
      "Running next event type prediction for seq. #213\n",
      "Running next event type prediction for seq. #214\n",
      "Running next event type prediction for seq. #215\n",
      "Running next event type prediction for seq. #216\n",
      "Running next event type prediction for seq. #217\n",
      "Running next event type prediction for seq. #218\n",
      "Running next event type prediction for seq. #219\n",
      "Running next event type prediction for seq. #220\n",
      "Running next event type prediction for seq. #221\n",
      "Running next event type prediction for seq. #222\n",
      "Running next event type prediction for seq. #223\n",
      "Running next event type prediction for seq. #224\n",
      "Running next event type prediction for seq. #225\n",
      "Running next event type prediction for seq. #226\n",
      "Running next event type prediction for seq. #227\n",
      "Running next event type prediction for seq. #228\n",
      "Running next event type prediction for seq. #229\n",
      "Running next event type prediction for seq. #230\n",
      "Running next event type prediction for seq. #231\n",
      "Running next event type prediction for seq. #232\n",
      "Running next event type prediction for seq. #233\n",
      "Running next event type prediction for seq. #234\n",
      "Running next event type prediction for seq. #235\n",
      "Running next event type prediction for seq. #236\n",
      "Running next event type prediction for seq. #237\n",
      "Running next event type prediction for seq. #238\n",
      "Running next event type prediction for seq. #239\n",
      "Running next event type prediction for seq. #240\n",
      "Running next event type prediction for seq. #241\n",
      "Running next event type prediction for seq. #242\n",
      "Running next event type prediction for seq. #243\n",
      "Running next event type prediction for seq. #244\n",
      "Running next event type prediction for seq. #245\n",
      "Running next event type prediction for seq. #246\n",
      "Running next event type prediction for seq. #247\n",
      "Running next event type prediction for seq. #248\n",
      "Running next event type prediction for seq. #249\n",
      "Running next event type prediction for seq. #250\n",
      "Running next event type prediction for seq. #251\n",
      "Running next event type prediction for seq. #252\n",
      "Running next event type prediction for seq. #253\n",
      "Running next event type prediction for seq. #254\n",
      "Running next event type prediction for seq. #255\n",
      "Running next event type prediction for seq. #256\n",
      "Running next event type prediction for seq. #257\n",
      "Running next event type prediction for seq. #258\n",
      "Running next event type prediction for seq. #259\n",
      "Running next event type prediction for seq. #260\n",
      "Running next event type prediction for seq. #261\n",
      "Running next event type prediction for seq. #262\n",
      "Running next event type prediction for seq. #263\n",
      "Running next event type prediction for seq. #264\n",
      "Running next event type prediction for seq. #265\n",
      "Running next event type prediction for seq. #266\n",
      "Running next event type prediction for seq. #267\n",
      "Running next event type prediction for seq. #268\n",
      "Running next event type prediction for seq. #269\n",
      "Running next event type prediction for seq. #270\n",
      "Running next event type prediction for seq. #271\n",
      "Running next event type prediction for seq. #272\n",
      "Running next event type prediction for seq. #273\n",
      "Running next event type prediction for seq. #274\n",
      "Running next event type prediction for seq. #275\n",
      "Running next event type prediction for seq. #276\n",
      "Running next event type prediction for seq. #277\n",
      "Running next event type prediction for seq. #278\n",
      "Running next event type prediction for seq. #279\n",
      "Running next event type prediction for seq. #280\n",
      "Running next event type prediction for seq. #281\n",
      "Running next event type prediction for seq. #282\n",
      "Running next event type prediction for seq. #283\n",
      "Running next event type prediction for seq. #284\n",
      "Running next event type prediction for seq. #285\n",
      "Running next event type prediction for seq. #286\n",
      "Running next event type prediction for seq. #287\n",
      "Running next event type prediction for seq. #288\n",
      "Running next event type prediction for seq. #289\n",
      "Running next event type prediction for seq. #290\n",
      "Running next event type prediction for seq. #291\n",
      "Running next event type prediction for seq. #292\n",
      "Running next event type prediction for seq. #293\n",
      "Running next event type prediction for seq. #294\n",
      "Running next event type prediction for seq. #295\n",
      "Running next event type prediction for seq. #296\n",
      "Running next event type prediction for seq. #297\n",
      "Running next event type prediction for seq. #298\n",
      "Running next event type prediction for seq. #299\n",
      "Running next event type prediction for seq. #300\n",
      "Running next event type prediction for seq. #301\n",
      "Running next event type prediction for seq. #302\n",
      "Running next event type prediction for seq. #303\n",
      "Running next event type prediction for seq. #304\n",
      "Running next event type prediction for seq. #305\n",
      "Running next event type prediction for seq. #306\n",
      "Running next event type prediction for seq. #307\n",
      "Running next event type prediction for seq. #308\n",
      "Running next event type prediction for seq. #309\n",
      "Running next event type prediction for seq. #310\n",
      "Running next event type prediction for seq. #311\n",
      "Running next event type prediction for seq. #312\n",
      "Running next event type prediction for seq. #313\n",
      "Running next event type prediction for seq. #314\n",
      "Running next event type prediction for seq. #315\n",
      "Running next event type prediction for seq. #316\n",
      "Running next event type prediction for seq. #317\n",
      "Running next event type prediction for seq. #318\n",
      "Running next event type prediction for seq. #319\n",
      "Running next event type prediction for seq. #320\n",
      "Running next event type prediction for seq. #321\n",
      "Running next event type prediction for seq. #322\n",
      "Running next event type prediction for seq. #323\n",
      "Running next event type prediction for seq. #324\n",
      "Running next event type prediction for seq. #325\n",
      "Running next event type prediction for seq. #326\n",
      "Running next event type prediction for seq. #327\n",
      "Running next event type prediction for seq. #328\n",
      "Running next event type prediction for seq. #329\n",
      "Running next event type prediction for seq. #330\n",
      "Running next event type prediction for seq. #331\n",
      "Running next event type prediction for seq. #332\n",
      "Running next event type prediction for seq. #333\n",
      "Running next event type prediction for seq. #334\n",
      "Running next event type prediction for seq. #335\n",
      "Running next event type prediction for seq. #336\n",
      "Running next event type prediction for seq. #337\n",
      "Running next event type prediction for seq. #338\n",
      "Running next event type prediction for seq. #339\n",
      "Running next event type prediction for seq. #340\n",
      "Running next event type prediction for seq. #341\n",
      "Running next event type prediction for seq. #342\n",
      "Running next event type prediction for seq. #343\n"
     ]
    },
    {
     "name": "stdout",
     "output_type": "stream",
     "text": [
      "Running next event type prediction for seq. #344\n",
      "Running next event type prediction for seq. #345\n",
      "Running next event type prediction for seq. #346\n",
      "Running next event type prediction for seq. #347\n",
      "Running next event type prediction for seq. #348\n",
      "Running next event type prediction for seq. #349\n",
      "Running next event type prediction for seq. #350\n",
      "Running next event type prediction for seq. #351\n",
      "Running next event type prediction for seq. #352\n",
      "Running next event type prediction for seq. #353\n",
      "Running next event type prediction for seq. #354\n",
      "Running next event type prediction for seq. #355\n",
      "Running next event type prediction for seq. #356\n",
      "Running next event type prediction for seq. #357\n",
      "Running next event type prediction for seq. #358\n",
      "Running next event type prediction for seq. #359\n",
      "Running next event type prediction for seq. #360\n",
      "Running next event type prediction for seq. #361\n",
      "Running next event type prediction for seq. #362\n",
      "Running next event type prediction for seq. #363\n",
      "Running next event type prediction for seq. #364\n",
      "Running next event type prediction for seq. #365\n",
      "Running next event type prediction for seq. #366\n",
      "Running next event type prediction for seq. #367\n",
      "Running next event type prediction for seq. #368\n",
      "Running next event type prediction for seq. #369\n",
      "Running next event type prediction for seq. #370\n",
      "Running next event type prediction for seq. #371\n",
      "Running next event type prediction for seq. #372\n",
      "Running next event type prediction for seq. #373\n",
      "Running next event type prediction for seq. #374\n",
      "Running next event type prediction for seq. #375\n",
      "Running next event type prediction for seq. #376\n",
      "Running next event type prediction for seq. #377\n",
      "Running next event type prediction for seq. #378\n",
      "Running next event type prediction for seq. #379\n",
      "Running next event type prediction for seq. #380\n",
      "Running next event type prediction for seq. #381\n",
      "Running next event type prediction for seq. #382\n",
      "Running next event type prediction for seq. #383\n",
      "Running next event type prediction for seq. #384\n",
      "Running next event type prediction for seq. #385\n",
      "Running next event type prediction for seq. #386\n",
      "Running next event type prediction for seq. #387\n",
      "Running next event type prediction for seq. #388\n",
      "Running next event type prediction for seq. #389\n",
      "Running next event type prediction for seq. #390\n",
      "Running next event type prediction for seq. #391\n",
      "Running next event type prediction for seq. #392\n",
      "Running next event type prediction for seq. #393\n",
      "Running next event type prediction for seq. #394\n",
      "Running next event type prediction for seq. #395\n",
      "Running next event type prediction for seq. #396\n",
      "Running next event type prediction for seq. #397\n",
      "Running next event type prediction for seq. #398\n",
      "Running next event type prediction for seq. #399\n",
      "Running next event type prediction for seq. #400\n",
      "Running next event type prediction for seq. #401\n",
      "Running next event type prediction for seq. #402\n",
      "Running next event type prediction for seq. #403\n",
      "Running next event type prediction for seq. #404\n",
      "Running next event type prediction for seq. #405\n",
      "Running next event type prediction for seq. #406\n",
      "Running next event type prediction for seq. #407\n",
      "Running next event type prediction for seq. #408\n",
      "Running next event type prediction for seq. #409\n",
      "Running next event type prediction for seq. #410\n",
      "Running next event type prediction for seq. #411\n",
      "Running next event type prediction for seq. #412\n",
      "Running next event type prediction for seq. #413\n",
      "Running next event type prediction for seq. #414\n",
      "Running next event type prediction for seq. #415\n",
      "Running next event type prediction for seq. #416\n",
      "Running next event type prediction for seq. #417\n",
      "Running next event type prediction for seq. #418\n",
      "Running next event type prediction for seq. #419\n",
      "Running next event type prediction for seq. #420\n",
      "Running next event type prediction for seq. #421\n",
      "Running next event type prediction for seq. #422\n",
      "Running next event type prediction for seq. #423\n",
      "Running next event type prediction for seq. #424\n",
      "Running next event type prediction for seq. #425\n",
      "Running next event type prediction for seq. #426\n",
      "Running next event type prediction for seq. #427\n",
      "Running next event type prediction for seq. #428\n",
      "Running next event type prediction for seq. #429\n",
      "Running next event type prediction for seq. #430\n",
      "Running next event type prediction for seq. #431\n",
      "Running next event type prediction for seq. #432\n",
      "Running next event type prediction for seq. #433\n",
      "Running next event type prediction for seq. #434\n",
      "Running next event type prediction for seq. #435\n",
      "Running next event type prediction for seq. #436\n",
      "Running next event type prediction for seq. #437\n",
      "Running next event type prediction for seq. #438\n",
      "Running next event type prediction for seq. #439\n",
      "Running next event type prediction for seq. #440\n",
      "Running next event type prediction for seq. #441\n",
      "Running next event type prediction for seq. #442\n",
      "Running next event type prediction for seq. #443\n",
      "Running next event type prediction for seq. #444\n",
      "Running next event type prediction for seq. #445\n",
      "Running next event type prediction for seq. #446\n",
      "Running next event type prediction for seq. #447\n",
      "Running next event type prediction for seq. #448\n",
      "Running next event type prediction for seq. #449\n",
      "Running next event type prediction for seq. #450\n",
      "Running next event type prediction for seq. #451\n",
      "Running next event type prediction for seq. #452\n",
      "Running next event type prediction for seq. #453\n",
      "Running next event type prediction for seq. #454\n",
      "Running next event type prediction for seq. #455\n",
      "Running next event type prediction for seq. #456\n",
      "Running next event type prediction for seq. #457\n",
      "Running next event type prediction for seq. #458\n",
      "Running next event type prediction for seq. #459\n",
      "Running next event type prediction for seq. #460\n",
      "Running next event type prediction for seq. #461\n",
      "Running next event type prediction for seq. #462\n",
      "Running next event type prediction for seq. #463\n",
      "Running next event type prediction for seq. #464\n",
      "Running next event type prediction for seq. #465\n",
      "Running next event type prediction for seq. #466\n",
      "Running next event type prediction for seq. #467\n",
      "Running next event type prediction for seq. #468\n",
      "Running next event type prediction for seq. #469\n",
      "Running next event type prediction for seq. #470\n",
      "Running next event type prediction for seq. #471\n",
      "Running next event type prediction for seq. #472\n",
      "Running next event type prediction for seq. #473\n",
      "Running next event type prediction for seq. #474\n",
      "Running next event type prediction for seq. #475\n",
      "Running next event type prediction for seq. #476\n",
      "Running next event type prediction for seq. #477\n",
      "Running next event type prediction for seq. #478\n",
      "Running next event type prediction for seq. #479\n",
      "Running next event type prediction for seq. #480\n",
      "Running next event type prediction for seq. #481\n",
      "Running next event type prediction for seq. #482\n",
      "Running next event type prediction for seq. #483\n",
      "Running next event type prediction for seq. #484\n",
      "Running next event type prediction for seq. #485\n",
      "Running next event type prediction for seq. #486\n",
      "Running next event type prediction for seq. #487\n",
      "Running next event type prediction for seq. #488\n",
      "Running next event type prediction for seq. #489\n",
      "Running next event type prediction for seq. #490\n",
      "Running next event type prediction for seq. #491\n",
      "Running next event type prediction for seq. #492\n",
      "Running next event type prediction for seq. #493\n",
      "Running next event type prediction for seq. #494\n",
      "Running next event type prediction for seq. #495\n",
      "Running next event type prediction for seq. #496\n",
      "Running next event type prediction for seq. #497\n",
      "Running next event type prediction for seq. #498\n",
      "Running next event type prediction for seq. #499\n"
     ]
    }
   ],
   "source": [
    "num_errors = 0\n",
    "\n",
    "for index in range(500):\n",
    "    oh_real, oh_pred, type_distrib = read_predict(\n",
    "        model, times_tensor[:,index],\n",
    "        onehot_types[:,index], seq_lengths[index])\n",
    "    num_errors += int(not(oh_real.equal(oh_pred)))"
   ]
  },
  {
   "cell_type": "code",
   "execution_count": 67,
   "metadata": {
    "scrolled": true
   },
   "outputs": [
    {
     "data": {
      "text/plain": [
       "346"
      ]
     },
     "execution_count": 67,
     "metadata": {},
     "output_type": "execute_result"
    }
   ],
   "source": [
    "num_errors"
   ]
  },
  {
   "cell_type": "code",
   "execution_count": null,
   "metadata": {},
   "outputs": [],
   "source": []
  },
  {
   "cell_type": "code",
   "execution_count": null,
   "metadata": {},
   "outputs": [],
   "source": []
  }
 ],
 "metadata": {
  "kernelspec": {
   "display_name": "Python [conda env:pytorch]",
   "language": "python",
   "name": "conda-env-pytorch-py"
  },
  "language_info": {
   "codemirror_mode": {
    "name": "ipython",
    "version": 3
   },
   "file_extension": ".py",
   "mimetype": "text/x-python",
   "name": "python",
   "nbconvert_exporter": "python",
   "pygments_lexer": "ipython3",
   "version": "3.7.0"
  }
 },
 "nbformat": 4,
 "nbformat_minor": 2
}
