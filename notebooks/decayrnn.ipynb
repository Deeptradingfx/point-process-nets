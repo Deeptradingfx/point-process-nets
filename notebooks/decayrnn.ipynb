{
 "cells": [
  {
   "cell_type": "code",
   "execution_count": 1,
   "metadata": {
    "scrolled": true
   },
   "outputs": [],
   "source": [
    "%matplotlib inline\n",
    "%load_ext autoreload\n",
    "%autoreload 2"
   ]
  },
  {
   "cell_type": "code",
   "execution_count": 2,
   "metadata": {},
   "outputs": [],
   "source": [
    "import matplotlib.pyplot as plt\n",
    "import matplotlib.ticker as mticker\n",
    "import numpy as np"
   ]
  },
  {
   "cell_type": "code",
   "execution_count": 3,
   "metadata": {},
   "outputs": [],
   "source": [
    "import torch\n",
    "from torch import nn"
   ]
  },
  {
   "cell_type": "code",
   "execution_count": 4,
   "metadata": {},
   "outputs": [
    {
     "data": {
      "text/plain": [
       "<torch._C.Generator at 0x7fefb2368cf0>"
      ]
     },
     "execution_count": 4,
     "metadata": {},
     "output_type": "execute_result"
    }
   ],
   "source": [
    "torch.manual_seed(52)"
   ]
  },
  {
   "cell_type": "code",
   "execution_count": 5,
   "metadata": {},
   "outputs": [],
   "source": [
    "import os\n",
    "import sys\n",
    "import tqdm"
   ]
  },
  {
   "cell_type": "code",
   "execution_count": 6,
   "metadata": {},
   "outputs": [
    {
     "name": "stdout",
     "output_type": "stream",
     "text": [
      "Notebook dir /home/manifold/Documents/etudes/map511-p3a\n",
      "Python interpreter path:\n",
      "\n",
      "/home/manifold/Documents/etudes/map511-p3a/notebooks\n",
      "/home/manifold/miniconda3/envs/pytorch/lib/python37.zip\n",
      "/home/manifold/miniconda3/envs/pytorch/lib/python3.7\n",
      "/home/manifold/miniconda3/envs/pytorch/lib/python3.7/lib-dynload\n",
      "/home/manifold/miniconda3/envs/pytorch/lib/python3.7/site-packages\n",
      "/home/manifold/miniconda3/envs/pytorch/lib/python3.7/site-packages/pointprocesses-0.4.1-py3.7-linux-x86_64.egg\n",
      "/home/manifold/miniconda3/envs/pytorch/lib/python3.7/site-packages/torchvision-0.2.1-py3.7.egg\n",
      "/home/manifold/miniconda3/envs/pytorch/lib/python3.7/site-packages/IPython/extensions\n",
      "/home/manifold/.ipython\n",
      "/home/manifold/Documents/etudes/map511-p3a\n"
     ]
    }
   ],
   "source": [
    "# Add parent dir to interpreter path\n",
    "nb_dir = os.path.split(os.getcwd())[0]\n",
    "print(\"Notebook dir {:}\".format(nb_dir))\n",
    "if nb_dir not in sys.path:\n",
    "    sys.path.append(nb_dir)\n",
    "print(\"Python interpreter path:\")\n",
    "for path in sys.path:\n",
    "    print(path)"
   ]
  },
  {
   "cell_type": "markdown",
   "metadata": {},
   "source": [
    "# Loading synthetic data"
   ]
  },
  {
   "cell_type": "markdown",
   "metadata": {},
   "source": [
    "We will be loading simulated Hawkes data."
   ]
  },
  {
   "cell_type": "code",
   "execution_count": 163,
   "metadata": {},
   "outputs": [
    {
     "name": "stdout",
     "output_type": "stream",
     "text": [
      "Available files:\n",
      "../data/simulated/hawkes_synth_data_1d.pkl\n",
      "../data/simulated/hawkes_synth_data_2d.pkl\n",
      "../data/simulated/README.md\n"
     ]
    }
   ],
   "source": [
    "import glob\n",
    "import pickle\n",
    "\n",
    "SYNTH_DATA_FILES = glob.glob('../data/simulated/*')\n",
    "print(\"Available files:\")\n",
    "for s in SYNTH_DATA_FILES:\n",
    "    print(s)\n",
    "\n",
    "from utils.load_synth_data import process_loaded_sequences, one_hot_embedding"
   ]
  },
  {
   "cell_type": "code",
   "execution_count": 173,
   "metadata": {},
   "outputs": [
    {
     "name": "stdout",
     "output_type": "stream",
     "text": [
      "Loading 2-dimensional Hawkes data.\n",
      "Data file: ../data/simulated/hawkes_synth_data_2d.pkl\n",
      "dict_keys(['mu', 'alpha', 'decay', 'tmax', 'timestamps', 'types', 'lengths'])\n",
      "mu\t[0.7 1. ]\n",
      "decay\t0.01\n",
      "tmax\t60.0\n"
     ]
    }
   ],
   "source": [
    "process_dim = 2\n",
    "# Load data simulated using tick\n",
    "print(\"Loading {}-dimensional Hawkes data.\".format(process_dim))\n",
    "choose_file_index = 1\n",
    "chosen_file = SYNTH_DATA_FILES[choose_file_index]\n",
    "print(\"Data file: {}\".format(chosen_file))\n",
    "with open(SYNTH_DATA_FILES[process_dim-1], \"rb\") as f:\n",
    "    loaded_hawkes_data = pickle.load(f)\n",
    "\n",
    "print(loaded_hawkes_data.keys())\n",
    "\n",
    "mu = loaded_hawkes_data['mu']\n",
    "alpha = loaded_hawkes_data['alpha']\n",
    "decay = loaded_hawkes_data['decay']\n",
    "tmax = loaded_hawkes_data['tmax']\n",
    "print(\"mu\\t{:}\".format(str(mu)))\n",
    "print(\"decay\\t{:}\".format(str(decay)))\n",
    "print(\"tmax\\t{:}\".format(tmax))\n",
    "\n",
    "times_tensor, seq_types, seq_lengths = process_loaded_sequences(\n",
    "    loaded_hawkes_data)\n",
    "\n",
    "onehot_types = one_hot_embedding(seq_types, process_dim+1)"
   ]
  },
  {
   "cell_type": "markdown",
   "metadata": {},
   "source": [
    "# Neural network"
   ]
  },
  {
   "cell_type": "markdown",
   "metadata": {},
   "source": [
    "We are going for a recurrent neural structure that can learn from previous events. The intensity process of our neural model will be of the form\n",
    "\n",
    "$$\n",
    "    \\lambda_t = f\\left(W_{\\lambda} h(t)\\right)\n",
    "$$\n",
    "\n",
    "with $f$ a positive-valued activation function (such as ReLU) and $h(t)\\in\\mathbb R^D$ a continuous hidden state, computed as\n",
    "\\begin{equation}\n",
    "    h(t) = h_{i}e^{-\\delta_i(t-t_{i-1})},\\quad \\forall t\\in(t_{i-1},t_i]\n",
    "\\end{equation}\n",
    "\n",
    "Network update formulas: the jump and decay parameters on $(t_i,t_{i+1}]$ are given by\n",
    "$$\n",
    "\\begin{align*}\n",
    "    h_{i+1}      &= \\tanh(W_{hh}h(t_i) + W_{xh}x_i + b_{h}) \\\\\n",
    "    \\delta_{i+1} &= \\sigma(W_{hd} h(t_i) + W_{xd}x_i + b_{d})\n",
    "\\end{align*}\n",
    "$$"
   ]
  },
  {
   "cell_type": "code",
   "execution_count": 178,
   "metadata": {},
   "outputs": [],
   "source": [
    "from models.decayrnn import HawkesDecayRNN, generate_sequence\n",
    "from train_functions import train_decayrnn, plot_loss\n",
    "process_dim = 2\n",
    "hidden_size = 12\n",
    "model = HawkesDecayRNN(process_dim, hidden_size, intens_bias=True)\n",
    "optimizer = torch.optim.Adagrad(model.parameters(), lr=0.018)"
   ]
  },
  {
   "cell_type": "code",
   "execution_count": 179,
   "metadata": {},
   "outputs": [
    {
     "name": "stdout",
     "output_type": "stream",
     "text": [
      "Train size 1200\n",
      "Train event times shape torch.Size([167, 1200])\n",
      "Train event types shape torch.Size([167, 1200, 3])\n",
      "Train seq lengths shape torch.Size([1200])\n"
     ]
    }
   ],
   "source": [
    "# define training data\n",
    "train_size = 1200\n",
    "print(\"Train size %d\" % train_size)\n",
    "\n",
    "train_times_tensor = times_tensor[:, :train_size]\n",
    "train_onehot_types = onehot_types[:, :train_size]\n",
    "train_seq_lengths = seq_lengths[:train_size]\n",
    "print(\"Train event times shape {}\".format(train_times_tensor.shape))\n",
    "print(\"Train event types shape {}\".format(train_onehot_types.shape))\n",
    "print(\"Train seq lengths shape {}\".format(train_seq_lengths.shape))"
   ]
  },
  {
   "cell_type": "code",
   "execution_count": 180,
   "metadata": {
    "scrolled": true
   },
   "outputs": [
    {
     "name": "stdout",
     "output_type": "stream",
     "text": [
      "Batch size 24\n",
      "Number of epochs 20\n"
     ]
    },
    {
     "data": {
      "application/vnd.jupyter.widget-view+json": {
       "model_id": "467da93506694bed9aea3c326bc79c73",
       "version_major": 2,
       "version_minor": 0
      },
      "text/plain": [
       "HBox(children=(IntProgress(value=0, description='Epoch 1', max=50, style=ProgressStyle(description_width='init…"
      ]
     },
     "metadata": {},
     "output_type": "display_data"
    },
    {
     "name": "stdout",
     "output_type": "stream",
     "text": [
      "epoch 1: train loss 89.6435\n"
     ]
    },
    {
     "data": {
      "application/vnd.jupyter.widget-view+json": {
       "model_id": "d9c50a3897d949a29d9c3b097167957e",
       "version_major": 2,
       "version_minor": 0
      },
      "text/plain": [
       "HBox(children=(IntProgress(value=0, description='Epoch 2', max=50, style=ProgressStyle(description_width='init…"
      ]
     },
     "metadata": {},
     "output_type": "display_data"
    },
    {
     "name": "stdout",
     "output_type": "stream",
     "text": [
      "epoch 2: train loss 50.6195\n"
     ]
    },
    {
     "data": {
      "application/vnd.jupyter.widget-view+json": {
       "model_id": "bc64b017a94b428bb918881599fa107c",
       "version_major": 2,
       "version_minor": 0
      },
      "text/plain": [
       "HBox(children=(IntProgress(value=0, description='Epoch 3', max=50, style=ProgressStyle(description_width='init…"
      ]
     },
     "metadata": {},
     "output_type": "display_data"
    },
    {
     "name": "stdout",
     "output_type": "stream",
     "text": [
      "epoch 3: train loss 39.8087\n"
     ]
    },
    {
     "data": {
      "application/vnd.jupyter.widget-view+json": {
       "model_id": "1e7dd312fb02483c8f8f7a841c070748",
       "version_major": 2,
       "version_minor": 0
      },
      "text/plain": [
       "HBox(children=(IntProgress(value=0, description='Epoch 4', max=50, style=ProgressStyle(description_width='init…"
      ]
     },
     "metadata": {},
     "output_type": "display_data"
    },
    {
     "name": "stdout",
     "output_type": "stream",
     "text": [
      "epoch 4: train loss 36.2952\n"
     ]
    },
    {
     "data": {
      "application/vnd.jupyter.widget-view+json": {
       "model_id": "d27cd980a56f478c924efd06d8c9ac55",
       "version_major": 2,
       "version_minor": 0
      },
      "text/plain": [
       "HBox(children=(IntProgress(value=0, description='Epoch 5', max=50, style=ProgressStyle(description_width='init…"
      ]
     },
     "metadata": {},
     "output_type": "display_data"
    },
    {
     "name": "stdout",
     "output_type": "stream",
     "text": [
      "epoch 5: train loss 34.9283\n"
     ]
    },
    {
     "data": {
      "application/vnd.jupyter.widget-view+json": {
       "model_id": "fc32fa70d30846708452b09047b744ca",
       "version_major": 2,
       "version_minor": 0
      },
      "text/plain": [
       "HBox(children=(IntProgress(value=0, description='Epoch 6', max=50, style=ProgressStyle(description_width='init…"
      ]
     },
     "metadata": {},
     "output_type": "display_data"
    },
    {
     "name": "stdout",
     "output_type": "stream",
     "text": [
      "epoch 6: train loss 34.2858\n"
     ]
    },
    {
     "data": {
      "application/vnd.jupyter.widget-view+json": {
       "model_id": "c08345f3051740548fe1bc515bbaa0d1",
       "version_major": 2,
       "version_minor": 0
      },
      "text/plain": [
       "HBox(children=(IntProgress(value=0, description='Epoch 7', max=50, style=ProgressStyle(description_width='init…"
      ]
     },
     "metadata": {},
     "output_type": "display_data"
    },
    {
     "name": "stdout",
     "output_type": "stream",
     "text": [
      "epoch 7: train loss 33.9343\n"
     ]
    },
    {
     "data": {
      "application/vnd.jupyter.widget-view+json": {
       "model_id": "fb3e6ecdcb984bb2b45683cd418542be",
       "version_major": 2,
       "version_minor": 0
      },
      "text/plain": [
       "HBox(children=(IntProgress(value=0, description='Epoch 8', max=50, style=ProgressStyle(description_width='init…"
      ]
     },
     "metadata": {},
     "output_type": "display_data"
    },
    {
     "name": "stdout",
     "output_type": "stream",
     "text": [
      "epoch 8: train loss 33.7154\n"
     ]
    },
    {
     "data": {
      "application/vnd.jupyter.widget-view+json": {
       "model_id": "25edce3d298146ee9f03969ef550a776",
       "version_major": 2,
       "version_minor": 0
      },
      "text/plain": [
       "HBox(children=(IntProgress(value=0, description='Epoch 9', max=50, style=ProgressStyle(description_width='init…"
      ]
     },
     "metadata": {},
     "output_type": "display_data"
    },
    {
     "name": "stdout",
     "output_type": "stream",
     "text": [
      "epoch 9: train loss 33.5714\n"
     ]
    },
    {
     "data": {
      "application/vnd.jupyter.widget-view+json": {
       "model_id": "dfe7428019f6440da3871c18398775d3",
       "version_major": 2,
       "version_minor": 0
      },
      "text/plain": [
       "HBox(children=(IntProgress(value=0, description='Epoch 10', max=50, style=ProgressStyle(description_width='ini…"
      ]
     },
     "metadata": {},
     "output_type": "display_data"
    },
    {
     "name": "stdout",
     "output_type": "stream",
     "text": [
      "epoch 10: train loss 33.4671\n"
     ]
    },
    {
     "data": {
      "application/vnd.jupyter.widget-view+json": {
       "model_id": "6e8e35902e6941d18679fee7aa35d7e2",
       "version_major": 2,
       "version_minor": 0
      },
      "text/plain": [
       "HBox(children=(IntProgress(value=0, description='Epoch 11', max=50, style=ProgressStyle(description_width='ini…"
      ]
     },
     "metadata": {},
     "output_type": "display_data"
    },
    {
     "name": "stdout",
     "output_type": "stream",
     "text": [
      "epoch 11: train loss 33.3865\n"
     ]
    },
    {
     "data": {
      "application/vnd.jupyter.widget-view+json": {
       "model_id": "2f2d6b2091e242b4be5c4673e8d83c84",
       "version_major": 2,
       "version_minor": 0
      },
      "text/plain": [
       "HBox(children=(IntProgress(value=0, description='Epoch 12', max=50, style=ProgressStyle(description_width='ini…"
      ]
     },
     "metadata": {},
     "output_type": "display_data"
    },
    {
     "name": "stdout",
     "output_type": "stream",
     "text": [
      "epoch 12: train loss 33.3216\n"
     ]
    },
    {
     "data": {
      "application/vnd.jupyter.widget-view+json": {
       "model_id": "45c1e2463d554aacbc91d0606b19511e",
       "version_major": 2,
       "version_minor": 0
      },
      "text/plain": [
       "HBox(children=(IntProgress(value=0, description='Epoch 13', max=50, style=ProgressStyle(description_width='ini…"
      ]
     },
     "metadata": {},
     "output_type": "display_data"
    },
    {
     "name": "stdout",
     "output_type": "stream",
     "text": [
      "epoch 13: train loss 33.2723\n"
     ]
    },
    {
     "data": {
      "application/vnd.jupyter.widget-view+json": {
       "model_id": "eb6b65278ddf4dd597b29c19b542d656",
       "version_major": 2,
       "version_minor": 0
      },
      "text/plain": [
       "HBox(children=(IntProgress(value=0, description='Epoch 14', max=50, style=ProgressStyle(description_width='ini…"
      ]
     },
     "metadata": {},
     "output_type": "display_data"
    },
    {
     "name": "stdout",
     "output_type": "stream",
     "text": [
      "epoch 14: train loss 33.2322\n"
     ]
    },
    {
     "data": {
      "application/vnd.jupyter.widget-view+json": {
       "model_id": "a0c9995a584945f187e2737a3b8cbcc0",
       "version_major": 2,
       "version_minor": 0
      },
      "text/plain": [
       "HBox(children=(IntProgress(value=0, description='Epoch 15', max=50, style=ProgressStyle(description_width='ini…"
      ]
     },
     "metadata": {},
     "output_type": "display_data"
    },
    {
     "name": "stdout",
     "output_type": "stream",
     "text": [
      "epoch 15: train loss 33.1931\n"
     ]
    },
    {
     "data": {
      "application/vnd.jupyter.widget-view+json": {
       "model_id": "abecb19fc7604d4da542b9e783cd08f2",
       "version_major": 2,
       "version_minor": 0
      },
      "text/plain": [
       "HBox(children=(IntProgress(value=0, description='Epoch 16', max=50, style=ProgressStyle(description_width='ini…"
      ]
     },
     "metadata": {},
     "output_type": "display_data"
    },
    {
     "name": "stdout",
     "output_type": "stream",
     "text": [
      "epoch 16: train loss 33.1650\n"
     ]
    },
    {
     "data": {
      "application/vnd.jupyter.widget-view+json": {
       "model_id": "0888045785cb432c8e930cf4a56af2a9",
       "version_major": 2,
       "version_minor": 0
      },
      "text/plain": [
       "HBox(children=(IntProgress(value=0, description='Epoch 17', max=50, style=ProgressStyle(description_width='ini…"
      ]
     },
     "metadata": {},
     "output_type": "display_data"
    },
    {
     "name": "stdout",
     "output_type": "stream",
     "text": [
      "epoch 17: train loss 33.1384\n"
     ]
    },
    {
     "data": {
      "application/vnd.jupyter.widget-view+json": {
       "model_id": "96160e6a8928464483e52ac1b72a1d41",
       "version_major": 2,
       "version_minor": 0
      },
      "text/plain": [
       "HBox(children=(IntProgress(value=0, description='Epoch 18', max=50, style=ProgressStyle(description_width='ini…"
      ]
     },
     "metadata": {},
     "output_type": "display_data"
    },
    {
     "name": "stdout",
     "output_type": "stream",
     "text": [
      "epoch 18: train loss 33.1158\n"
     ]
    },
    {
     "data": {
      "application/vnd.jupyter.widget-view+json": {
       "model_id": "2c192dad23f2491caeefe4875ba1b003",
       "version_major": 2,
       "version_minor": 0
      },
      "text/plain": [
       "HBox(children=(IntProgress(value=0, description='Epoch 19', max=50, style=ProgressStyle(description_width='ini…"
      ]
     },
     "metadata": {},
     "output_type": "display_data"
    },
    {
     "name": "stdout",
     "output_type": "stream",
     "text": [
      "epoch 19: train loss 33.0954\n"
     ]
    },
    {
     "data": {
      "application/vnd.jupyter.widget-view+json": {
       "model_id": "5553abdcf7ef44f9a6a5650afe35782b",
       "version_major": 2,
       "version_minor": 0
      },
      "text/plain": [
       "HBox(children=(IntProgress(value=0, description='Epoch 20', max=50, style=ProgressStyle(description_width='ini…"
      ]
     },
     "metadata": {},
     "output_type": "display_data"
    },
    {
     "name": "stdout",
     "output_type": "stream",
     "text": [
      "epoch 20: train loss 33.0754\n"
     ]
    }
   ],
   "source": [
    "# Training parameters\n",
    "BATCH_SIZE = 24\n",
    "EPOCHS = 20\n",
    "\n",
    "loss_hist = train_decayrnn(model, optimizer, train_times_tensor,\n",
    "                           train_onehot_types, train_seq_lengths, tmax,\n",
    "                           BATCH_SIZE, EPOCHS, use_jupyter=True)"
   ]
  },
  {
   "cell_type": "code",
   "execution_count": 181,
   "metadata": {},
   "outputs": [
    {
     "data": {
      "text/plain": [
       "20"
      ]
     },
     "execution_count": 181,
     "metadata": {},
     "output_type": "execute_result"
    }
   ],
   "source": [
    "model.trained_epochs"
   ]
  },
  {
   "cell_type": "code",
   "execution_count": 182,
   "metadata": {
    "scrolled": false
   },
   "outputs": [
    {
     "data": {
      "image/png": "[encoded data removed]",
      "text/plain": [
       "<Figure size 800x400 with 1 Axes>"
      ]
     },
     "metadata": {
      "needs_background": "light"
     },
     "output_type": "display_data"
    }
   ],
   "source": [
    "_ = plot_loss(EPOCHS, loss_hist)"
   ]
  },
  {
   "cell_type": "markdown",
   "metadata": {},
   "source": [
    "## Save to file"
   ]
  },
  {
   "cell_type": "code",
   "execution_count": 184,
   "metadata": {},
   "outputs": [
    {
     "name": "stdout",
     "output_type": "stream",
     "text": [
      "Saving model state dict to /home/manifold/Documents/etudes/map511-p3a/notebooks/saved_models/HawkesDecayRNN-2d-20181128-145645.pth\n"
     ]
    }
   ],
   "source": [
    "import datetime\n",
    "\n",
    "# Model file dump\n",
    "SAVED_MODELS_PATH = os.path.abspath('saved_models')\n",
    "os.makedirs(SAVED_MODELS_PATH, exist_ok=True)\n",
    "# print(\"Saved models directory: {}\".format(SAVED_MODELS_PATH))\n",
    "\n",
    "date_format = \"%Y%m%d-%H%M%S\"\n",
    "now_timestamp = datetime.datetime.now().strftime(date_format)\n",
    "extra_tag = \"{}d\".format(process_dim)\n",
    "filename_base = \"{}-{}-{}\".format(model.__class__.__name__, extra_tag, now_timestamp)\n",
    "filename_model_save = filename_base + \".pth\"\n",
    "filepath = os.path.join(SAVED_MODELS_PATH, filename_model_save)\n",
    "print(\"Saving model state dict to {}\".format(filepath))\n",
    "torch.save(model.state_dict(), filepath)"
   ]
  },
  {
   "cell_type": "markdown",
   "metadata": {},
   "source": [
    "## Model evaluation"
   ]
  },
  {
   "cell_type": "markdown",
   "metadata": {},
   "source": [
    "Now we perform model evaluation steps."
   ]
  },
  {
   "cell_type": "markdown",
   "metadata": {},
   "source": [
    "### Load saved model"
   ]
  },
  {
   "cell_type": "code",
   "execution_count": 162,
   "metadata": {},
   "outputs": [
    {
     "name": "stdout",
     "output_type": "stream",
     "text": [
      "['../saved_models/HawkesDecayRNN-2d-20181127-214226.pth', '../saved_models/HawkesDecayRNN-2d-hidden_6-20181128-142035.pth']\n",
      "chosen file: ../saved_models/HawkesDecayRNN-2d-hidden_6-20181128-142035.pth\n",
      "20181128-142035\n"
     ]
    }
   ],
   "source": [
    "from models.decayrnn import HawkesDecayRNN\n",
    "\n",
    "MODEL_FILES = glob.glob(\"../saved_models/*.pth\")\n",
    "print(MODEL_FILES)\n",
    "\n",
    "load_filename = MODEL_FILES[1]\n",
    "print(\"chosen file:\", load_filename)\n",
    "\n",
    "load_file_timestamp = \"-\".join(os.path.splitext(os.path.basename(load_filename))[0].split('-')[-2:])\n",
    "print(load_file_timestamp)"
   ]
  },
  {
   "cell_type": "code",
   "execution_count": 143,
   "metadata": {},
   "outputs": [
    {
     "name": "stdout",
     "output_type": "stream",
     "text": [
      "Hidden size: 6\n"
     ]
    },
    {
     "data": {
      "text/plain": [
       "HawkesDecayRNN(\n",
       "  (rnn_layer): RNNCell(3, 6)\n",
       "  (decay_layer): Sequential(\n",
       "    (0): Linear(in_features=9, out_features=1, bias=True)\n",
       "    (1): Softplus(beta=3.0, threshold=20)\n",
       "  )\n",
       "  (intensity_layer): Sequential(\n",
       "    (0): Linear(in_features=6, out_features=3, bias=False)\n",
       "    (1): Softplus(beta=3.0, threshold=20)\n",
       "  )\n",
       ")"
      ]
     },
     "execution_count": 143,
     "metadata": {},
     "output_type": "execute_result"
    }
   ],
   "source": [
    "process_dim = 2\n",
    "\n",
    "hidden_size = 6\n",
    "print(\"Hidden size: {}\".format(hidden_size))\n",
    "model = HawkesDecayRNN(process_dim, hidden_size)\n",
    "\n",
    "model.load_state_dict(torch.load(load_filename, map_location={\"cuda:0\": \"cpu\"}))\n",
    "model.eval()"
   ]
  },
  {
   "cell_type": "markdown",
   "metadata": {},
   "source": [
    "### Sequence generation and sequence length distribution"
   ]
  },
  {
   "cell_type": "markdown",
   "metadata": {},
   "source": [
    "We wrote a sequence generator"
   ]
  },
  {
   "cell_type": "code",
   "execution_count": 191,
   "metadata": {},
   "outputs": [
    {
     "data": {
      "text/plain": [
       "(tensor([ 0.0000,  0.8528,  1.6015,  1.6485,  2.0172,  2.3930,  2.5552,  3.0911,\n",
       "          3.7390,  4.2688,  4.8490,  5.4434,  6.8985,  6.9131,  8.3752,  8.7914,\n",
       "          9.0825,  9.1121,  9.1751,  9.5565,  9.8560, 10.9330, 11.0751, 11.1533,\n",
       "         11.6030, 11.7045, 11.9284, 12.1218, 12.5883, 13.4129, 14.0317, 14.7586,\n",
       "         14.9411, 15.0605, 15.7773, 18.1123, 18.5104, 18.5283, 18.8414, 19.0491,\n",
       "         19.6766, 20.0638, 20.2051, 20.4646, 22.1314, 22.2392, 22.2535, 22.4753,\n",
       "         22.9171, 23.7008, 24.6284, 24.7873, 25.7080, 25.7572, 25.9840, 26.2462,\n",
       "         27.0301, 27.6090, 27.7530, 27.8555, 28.0704, 28.3473, 28.4147, 29.3800,\n",
       "         29.4905, 29.8428, 30.2215, 30.4808, 30.5353, 30.6706, 31.3158, 31.5103,\n",
       "         31.9548, 32.2291, 32.9323, 33.2049, 33.7596, 35.4374, 35.5506, 37.5245,\n",
       "         39.6979, 39.7083, 39.9146, 40.0147, 40.9029, 40.9606, 41.3884, 41.4837,\n",
       "         41.7869, 42.9085, 43.3666, 43.6934, 43.9809, 44.0279, 44.2081, 45.0637,\n",
       "         45.1024, 45.3646, 45.5970, 45.8423, 47.3996, 47.8244, 47.8716, 48.1496,\n",
       "         48.6322, 49.6878, 50.3874, 50.4002, 51.3897, 52.2345, 52.6003, 52.6296,\n",
       "         53.0406, 53.3805, 53.4103, 53.6401, 53.6609, 54.1945, 54.2449, 54.5133,\n",
       "         55.0303, 56.7772, 57.0848, 57.1133, 57.2669, 57.8015, 58.2268, 58.8535,\n",
       "         58.9039, 59.3940]),\n",
       " tensor([2., 1., 1., 1., 1., 1., 1., 1., 1., 1., 1., 1., 1., 1., 1., 1., 1., 1.,\n",
       "         1., 1., 1., 1., 1., 1., 1., 1., 1., 1., 1., 1., 1., 1., 1., 1., 1., 1.,\n",
       "         1., 1., 1., 1., 1., 1., 1., 1., 1., 1., 1., 1., 1., 1., 1., 1., 1., 1.,\n",
       "         1., 1., 1., 1., 1., 1., 1., 1., 1., 1., 1., 1., 1., 1., 1., 1., 1., 1.,\n",
       "         1., 1., 1., 1., 1., 1., 1., 1., 1., 1., 1., 1., 1., 1., 1., 1., 1., 1.,\n",
       "         1., 1., 1., 1., 1., 1., 1., 1., 1., 1., 1., 1., 1., 1., 1., 1., 1., 1.,\n",
       "         1., 1., 1., 1., 1., 1., 1., 1., 1., 1., 1., 1., 1., 1., 1., 1., 1., 1.,\n",
       "         1., 1., 1., 1.]),\n",
       " [tensor([[ 0.3755,  0.7388, -0.5107, -0.2215, -0.4804,  0.5866,  0.4804,  0.2577,\n",
       "           -0.3697,  0.4887,  0.4141, -0.0626]]),\n",
       "  tensor([[ 0.3930,  0.6453, -0.5984,  0.0021, -0.4438,  0.6912,  0.7028,  0.3144,\n",
       "           -0.4656,  0.4328,  0.5451, -0.3829]]),\n",
       "  tensor([[ 0.4263,  0.5861, -0.6166,  0.0660, -0.4601,  0.7281,  0.8051,  0.3039,\n",
       "           -0.5930,  0.2932,  0.5457, -0.4597]]),\n",
       "  tensor([[ 0.4240,  0.5736, -0.6055,  0.0713, -0.5101,  0.7165,  0.8392,  0.3195,\n",
       "           -0.6234,  0.2406,  0.5715, -0.4764]]),\n",
       "  tensor([[ 0.4207,  0.5759, -0.5866,  0.0549, -0.5261,  0.7005,  0.8421,  0.3324,\n",
       "           -0.6292,  0.2333,  0.5736, -0.4452]]),\n",
       "  tensor([[ 0.4159,  0.5812, -0.5802,  0.0420, -0.5309,  0.6919,  0.8366,  0.3426,\n",
       "           -0.6230,  0.2461,  0.5706, -0.4288]]),\n",
       "  tensor([[ 0.4131,  0.5852, -0.5803,  0.0378, -0.5287,  0.6900,  0.8309,  0.3471,\n",
       "           -0.6179,  0.2559,  0.5662, -0.4199]]),\n",
       "  tensor([[ 0.4118,  0.5860, -0.5826,  0.0378, -0.5258,  0.6910,  0.8282,  0.3478,\n",
       "           -0.6158,  0.2600,  0.5645, -0.4196]]),\n",
       "  tensor([[ 0.4120,  0.5852, -0.5842,  0.0401, -0.5244,  0.6926,  0.8282,  0.3472,\n",
       "           -0.6164,  0.2597,  0.5645, -0.4219]]),\n",
       "  tensor([[ 0.4123,  0.5847, -0.5847,  0.0410, -0.5242,  0.6932,  0.8287,  0.3464,\n",
       "           -0.6172,  0.2585,  0.5648, -0.4233]]),\n",
       "  tensor([[ 0.4125,  0.5845, -0.5846,  0.0413, -0.5244,  0.6932,  0.8290,  0.3460,\n",
       "           -0.6175,  0.2579,  0.5652, -0.4238]]),\n",
       "  tensor([[ 0.4122,  0.5864, -0.5837,  0.0383, -0.5241,  0.6921,  0.8269,  0.3450,\n",
       "           -0.6154,  0.2605,  0.5638, -0.4203]]),\n",
       "  tensor([[ 0.4126,  0.5837, -0.5851,  0.0429, -0.5241,  0.6939,  0.8300,  0.3467,\n",
       "           -0.6178,  0.2578,  0.5661, -0.4259]]),\n",
       "  tensor([[ 0.4124,  0.5861, -0.5839,  0.0386, -0.5242,  0.6923,  0.8272,  0.3449,\n",
       "           -0.6161,  0.2595,  0.5636, -0.4206]]),\n",
       "  tensor([[ 0.4124,  0.5846, -0.5847,  0.0415, -0.5242,  0.6933,  0.8291,  0.3462,\n",
       "           -0.6168,  0.2588,  0.5656, -0.4244]]),\n",
       "  tensor([[ 0.4128,  0.5837, -0.5849,  0.0423, -0.5245,  0.6937,  0.8300,  0.3462,\n",
       "           -0.6185,  0.2566,  0.5655, -0.4250]]),\n",
       "  tensor([[ 0.4129,  0.5830, -0.5849,  0.0432, -0.5253,  0.6937,  0.8309,  0.3466,\n",
       "           -0.6195,  0.2552,  0.5664, -0.4262]]),\n",
       "  tensor([[ 0.4129,  0.5829, -0.5845,  0.0428, -0.5258,  0.6934,  0.8311,  0.3467,\n",
       "           -0.6199,  0.2547,  0.5664, -0.4255]]),\n",
       "  tensor([[ 0.4126,  0.5838, -0.5840,  0.0415, -0.5258,  0.6928,  0.8302,  0.3466,\n",
       "           -0.6189,  0.2559,  0.5659, -0.4239]]),\n",
       "  tensor([[ 0.4125,  0.5839, -0.5842,  0.0416, -0.5255,  0.6928,  0.8300,  0.3468,\n",
       "           -0.6186,  0.2566,  0.5658, -0.4240]]),\n",
       "  tensor([[ 0.4122,  0.5856, -0.5837,  0.0391, -0.5248,  0.6921,  0.8279,  0.3459,\n",
       "           -0.6166,  0.2591,  0.5644, -0.4210]]),\n",
       "  tensor([[ 0.4125,  0.5839, -0.5848,  0.0422, -0.5246,  0.6934,  0.8298,  0.3468,\n",
       "           -0.6179,  0.2577,  0.5659, -0.4249]]),\n",
       "  tensor([[ 0.4129,  0.5831, -0.5850,  0.0430, -0.5250,  0.6937,  0.8306,  0.3466,\n",
       "           -0.6194,  0.2555,  0.5660, -0.4257]]),\n",
       "  tensor([[ 0.4127,  0.5838, -0.5843,  0.0417, -0.5255,  0.6930,  0.8300,  0.3463,\n",
       "           -0.6188,  0.2561,  0.5657, -0.4242]]),\n",
       "  tensor([[ 0.4127,  0.5833, -0.5844,  0.0424, -0.5255,  0.6932,  0.8306,  0.3468,\n",
       "           -0.6191,  0.2558,  0.5663, -0.4251]]),\n",
       "  tensor([[ 0.4127,  0.5835, -0.5844,  0.0421, -0.5255,  0.6931,  0.8304,  0.3467,\n",
       "           -0.6192,  0.2558,  0.5659, -0.4246]]),\n",
       "  tensor([[ 0.4126,  0.5835, -0.5844,  0.0421, -0.5256,  0.6931,  0.8304,  0.3468,\n",
       "           -0.6191,  0.2559,  0.5660, -0.4247]]),\n",
       "  tensor([[ 0.4125,  0.5841, -0.5841,  0.0412, -0.5254,  0.6928,  0.8297,  0.3465,\n",
       "           -0.6184,  0.2567,  0.5655, -0.4235]]),\n",
       "  tensor([[ 0.4123,  0.5851, -0.5839,  0.0400, -0.5249,  0.6924,  0.8285,  0.3462,\n",
       "           -0.6171,  0.2585,  0.5649, -0.4221]]),\n",
       "  tensor([[ 0.4123,  0.5849, -0.5843,  0.0407, -0.5245,  0.6928,  0.8287,  0.3463,\n",
       "           -0.6170,  0.2587,  0.5650, -0.4230]]),\n",
       "  tensor([[ 0.4124,  0.5849, -0.5844,  0.0406, -0.5243,  0.6929,  0.8286,  0.3460,\n",
       "           -0.6170,  0.2586,  0.5648, -0.4230]]),\n",
       "  tensor([[ 0.4127,  0.5836, -0.5849,  0.0425, -0.5246,  0.6936,  0.8301,  0.3465,\n",
       "           -0.6184,  0.2568,  0.5659, -0.4253]]),\n",
       "  tensor([[ 0.4129,  0.5831, -0.5848,  0.0429, -0.5252,  0.6936,  0.8307,  0.3465,\n",
       "           -0.6194,  0.2554,  0.5661, -0.4256]]),\n",
       "  tensor([[ 0.4125,  0.5845, -0.5840,  0.0407, -0.5253,  0.6926,  0.8293,  0.3461,\n",
       "           -0.6180,  0.2570,  0.5653, -0.4230]]),\n",
       "  tensor([[ 0.4116,  0.5887, -0.5826,  0.0349, -0.5240,  0.6906,  0.8245,  0.3445,\n",
       "           -0.6129,  0.2636,  0.5623, -0.4160]]),\n",
       "  tensor([[ 0.4121,  0.5853, -0.5849,  0.0411, -0.5230,  0.6934,  0.8281,  0.3464,\n",
       "           -0.6152,  0.2615,  0.5650, -0.4238]]),\n",
       "  tensor([[ 0.4130,  0.5830, -0.5858,  0.0437, -0.5239,  0.6946,  0.8304,  0.3462,\n",
       "           -0.6190,  0.2562,  0.5657, -0.4268]]),\n",
       "  tensor([[ 0.4129,  0.5832, -0.5849,  0.0428, -0.5253,  0.6937,  0.8306,  0.3460,\n",
       "           -0.6194,  0.2551,  0.5661, -0.4257]]),\n",
       "  tensor([[ 0.4128,  0.5833, -0.5843,  0.0424, -0.5256,  0.6932,  0.8307,  0.3465,\n",
       "           -0.6193,  0.2554,  0.5663, -0.4251]]),\n",
       "  tensor([[ 0.4125,  0.5845, -0.5839,  0.0406, -0.5254,  0.6925,  0.8294,  0.3463,\n",
       "           -0.6181,  0.2571,  0.5654, -0.4229]]),\n",
       "  tensor([[ 0.4125,  0.5842, -0.5843,  0.0413, -0.5251,  0.6929,  0.8296,  0.3466,\n",
       "           -0.6179,  0.2575,  0.5656, -0.4237]]),\n",
       "  tensor([[ 0.4127,  0.5835, -0.5847,  0.0424, -0.5251,  0.6934,  0.8303,  0.3468,\n",
       "           -0.6189,  0.2563,  0.5659, -0.4250]]),\n",
       "  tensor([[ 0.4127,  0.5835, -0.5845,  0.0422, -0.5254,  0.6932,  0.8303,  0.3466,\n",
       "           -0.6190,  0.2559,  0.5659, -0.4247]]),\n",
       "  tensor([[ 0.4120,  0.5868, -0.5832,  0.0374, -0.5247,  0.6914,  0.8266,  0.3452,\n",
       "           -0.6153,  0.2605,  0.5636, -0.4189]]),\n",
       "  tensor([[ 0.4124,  0.5842, -0.5849,  0.0422, -0.5241,  0.6935,  0.8295,  0.3468,\n",
       "           -0.6172,  0.2588,  0.5659, -0.4249]]),\n",
       "  tensor([[ 0.4130,  0.5829, -0.5852,  0.0433, -0.5247,  0.6941,  0.8307,  0.3466,\n",
       "           -0.6195,  0.2554,  0.5659, -0.4262]]),\n",
       "  tensor([[ 0.4128,  0.5832, -0.5846,  0.0426, -0.5256,  0.6934,  0.8307,  0.3465,\n",
       "           -0.6195,  0.2550,  0.5662, -0.4254]]),\n",
       "  tensor([[ 0.4126,  0.5839, -0.5840,  0.0414, -0.5256,  0.6928,  0.8300,  0.3464,\n",
       "           -0.6187,  0.2563,  0.5658, -0.4238]]),\n",
       "  tensor([[ 0.4123,  0.5850, -0.5838,  0.0400, -0.5251,  0.6924,  0.8287,  0.3462,\n",
       "           -0.6172,  0.2582,  0.5650, -0.4222]]),\n",
       "  tensor([[ 0.4122,  0.5856, -0.5840,  0.0395, -0.5244,  0.6924,  0.8279,  0.3460,\n",
       "           -0.6162,  0.2597,  0.5645, -0.4216]]),\n",
       "  tensor([[ 0.4126,  0.5838, -0.5850,  0.0424, -0.5244,  0.6936,  0.8298,  0.3466,\n",
       "           -0.6180,  0.2575,  0.5657, -0.4252]]),\n",
       "  tensor([[ 0.4125,  0.5850, -0.5843,  0.0403, -0.5246,  0.6928,  0.8285,  0.3456,\n",
       "           -0.6173,  0.2580,  0.5646, -0.4225]]),\n",
       "  tensor([[ 0.4127,  0.5834, -0.5849,  0.0428, -0.5249,  0.6936,  0.8304,  0.3467,\n",
       "           -0.6186,  0.2566,  0.5663, -0.4258]]),\n",
       "  tensor([[ 0.4128,  0.5833, -0.5846,  0.0424, -0.5252,  0.6934,  0.8305,  0.3465,\n",
       "           -0.6193,  0.2555,  0.5659, -0.4250]]),\n",
       "  tensor([[ 0.4127,  0.5835, -0.5844,  0.0421, -0.5256,  0.6931,  0.8304,  0.3466,\n",
       "           -0.6190,  0.2558,  0.5660, -0.4247]]),\n",
       "  tensor([[ 0.4124,  0.5848, -0.5838,  0.0402, -0.5252,  0.6924,  0.8289,  0.3461,\n",
       "           -0.6176,  0.2577,  0.5650, -0.4223]]),\n",
       "  tensor([[ 0.4124,  0.5847, -0.5842,  0.0407, -0.5247,  0.6927,  0.8289,  0.3464,\n",
       "           -0.6172,  0.2584,  0.5652, -0.4230]]),\n",
       "  tensor([[ 0.4127,  0.5836, -0.5848,  0.0425, -0.5248,  0.6935,  0.8301,  0.3467,\n",
       "           -0.6186,  0.2567,  0.5658, -0.4251]]),\n",
       "  tensor([[ 0.4128,  0.5831, -0.5848,  0.0428, -0.5253,  0.6936,  0.8307,  0.3467,\n",
       "           -0.6195,  0.2553,  0.5661, -0.4256]]),\n",
       "  tensor([[ 0.4127,  0.5833, -0.5844,  0.0423, -0.5256,  0.6932,  0.8306,  0.3466,\n",
       "           -0.6194,  0.2554,  0.5661, -0.4249]]),\n",
       "  tensor([[ 0.4126,  0.5836, -0.5842,  0.0418, -0.5256,  0.6929,  0.8303,  0.3467,\n",
       "           -0.6190,  0.2560,  0.5660, -0.4243]]),\n",
       "  tensor([[ 0.4127,  0.5833, -0.5844,  0.0425, -0.5256,  0.6932,  0.8307,  0.3470,\n",
       "           -0.6193,  0.2557,  0.5662, -0.4251]]),\n",
       "  tensor([[ 0.4123,  0.5852, -0.5837,  0.0396, -0.5252,  0.6922,  0.8285,  0.3460,\n",
       "           -0.6173,  0.2581,  0.5647, -0.4216]]),\n",
       "  tensor([[ 0.4125,  0.5838, -0.5846,  0.0422, -0.5249,  0.6933,  0.8300,  0.3469,\n",
       "           -0.6182,  0.2573,  0.5660, -0.4249]]),\n",
       "  tensor([[ 0.4127,  0.5838, -0.5846,  0.0419, -0.5250,  0.6933,  0.8299,  0.3464,\n",
       "           -0.6187,  0.2564,  0.5655, -0.4244]]),\n",
       "  tensor([[ 0.4126,  0.5839, -0.5844,  0.0417, -0.5252,  0.6931,  0.8299,  0.3465,\n",
       "           -0.6185,  0.2566,  0.5658, -0.4243]]),\n",
       "  tensor([[ 0.4127,  0.5837, -0.5844,  0.0420, -0.5252,  0.6932,  0.8302,  0.3466,\n",
       "           -0.6187,  0.2563,  0.5659, -0.4245]]),\n",
       "  tensor([[ 0.4128,  0.5831, -0.5846,  0.0427, -0.5254,  0.6934,  0.8307,  0.3469,\n",
       "           -0.6194,  0.2555,  0.5662, -0.4254]]),\n",
       "  tensor([[ 0.4127,  0.5832, -0.5844,  0.0424, -0.5257,  0.6932,  0.8307,  0.3468,\n",
       "           -0.6195,  0.2553,  0.5662, -0.4250]]),\n",
       "  tensor([[ 0.4125,  0.5845, -0.5839,  0.0406, -0.5255,  0.6925,  0.8293,  0.3464,\n",
       "           -0.6181,  0.2571,  0.5653, -0.4228]]),\n",
       "  tensor([[ 0.4125,  0.5838, -0.5844,  0.0420, -0.5252,  0.6931,  0.8300,  0.3469,\n",
       "           -0.6184,  0.2569,  0.5659, -0.4245]]),\n",
       "  tensor([[ 0.4126,  0.5841, -0.5844,  0.0414, -0.5251,  0.6930,  0.8297,  0.3465,\n",
       "           -0.6184,  0.2568,  0.5654, -0.4238]]),\n",
       "  tensor([[ 0.4126,  0.5838, -0.5845,  0.0420, -0.5252,  0.6932,  0.8300,  0.3466,\n",
       "           -0.6186,  0.2566,  0.5659, -0.4246]]),\n",
       "  tensor([[ 0.4125,  0.5846, -0.5841,  0.0406, -0.5250,  0.6927,  0.8290,  0.3461,\n",
       "           -0.6177,  0.2576,  0.5651, -0.4228]]),\n",
       "  tensor([[ 0.4125,  0.5839, -0.5845,  0.0419, -0.5249,  0.6932,  0.8298,  0.3466,\n",
       "           -0.6182,  0.2571,  0.5658, -0.4245]]),\n",
       "  tensor([[ 0.4126,  0.5843, -0.5843,  0.0412, -0.5249,  0.6930,  0.8294,  0.3462,\n",
       "           -0.6180,  0.2572,  0.5653, -0.4235]]),\n",
       "  tensor([[ 0.4120,  0.5870, -0.5833,  0.0373, -0.5243,  0.6916,  0.8263,  0.3451,\n",
       "           -0.6148,  0.2612,  0.5634, -0.4190]]),\n",
       "  tensor([[ 0.4125,  0.5841, -0.5850,  0.0423, -0.5239,  0.6937,  0.8295,  0.3467,\n",
       "           -0.6171,  0.2588,  0.5658, -0.4252]]),\n",
       "  tensor([[ 0.4121,  0.5874, -0.5836,  0.0369, -0.5236,  0.6918,  0.8257,  0.3443,\n",
       "           -0.6145,  0.2615,  0.5626, -0.4185]]),\n",
       "  tensor([[ 0.4115,  0.5890, -0.5834,  0.0355, -0.5226,  0.6913,  0.8239,  0.3442,\n",
       "           -0.6114,  0.2657,  0.5623, -0.4172]]),\n",
       "  tensor([[ 0.4127,  0.5841, -0.5859,  0.0432, -0.5225,  0.6946,  0.8292,  0.3462,\n",
       "           -0.6165,  0.2598,  0.5655, -0.4264]]),\n",
       "  tensor([[ 0.4132,  0.5830, -0.5857,  0.0436, -0.5242,  0.6945,  0.8306,  0.3457,\n",
       "           -0.6193,  0.2553,  0.5657, -0.4268]]),\n",
       "  tensor([[ 0.4130,  0.5828, -0.5848,  0.0433, -0.5256,  0.6937,  0.8312,  0.3462,\n",
       "           -0.6199,  0.2544,  0.5666, -0.4265]]),\n",
       "  tensor([[ 0.4126,  0.5848, -0.5836,  0.0400, -0.5255,  0.6923,  0.8291,  0.3458,\n",
       "           -0.6178,  0.2572,  0.5651, -0.4222]]),\n",
       "  tensor([[ 0.4126,  0.5836, -0.5844,  0.0423, -0.5252,  0.6932,  0.8303,  0.3470,\n",
       "           -0.6185,  0.2568,  0.5662, -0.4250]]),\n",
       "  tensor([[ 0.4126,  0.5840, -0.5844,  0.0415, -0.5251,  0.6930,  0.8298,  0.3465,\n",
       "           -0.6185,  0.2566,  0.5654, -0.4238]]),\n",
       "  tensor([[ 0.4127,  0.5833, -0.5846,  0.0426, -0.5254,  0.6933,  0.8305,  0.3469,\n",
       "           -0.6191,  0.2559,  0.5662, -0.4253]]),\n",
       "  tensor([[ 0.4127,  0.5836, -0.5844,  0.0419, -0.5254,  0.6931,  0.8302,  0.3466,\n",
       "           -0.6190,  0.2559,  0.5658, -0.4244]]),\n",
       "  tensor([[ 0.4122,  0.5856, -0.5836,  0.0391, -0.5250,  0.6920,  0.8280,  0.3458,\n",
       "           -0.6166,  0.2589,  0.5645, -0.4210]]),\n",
       "  tensor([[ 0.4123,  0.5847, -0.5844,  0.0411, -0.5244,  0.6930,  0.8290,  0.3465,\n",
       "           -0.6170,  0.2588,  0.5653, -0.4235]]),\n",
       "  tensor([[ 0.4127,  0.5839, -0.5848,  0.0420, -0.5246,  0.6935,  0.8297,  0.3464,\n",
       "           -0.6182,  0.2571,  0.5654, -0.4246]]),\n",
       "  tensor([[ 0.4127,  0.5836, -0.5847,  0.0423, -0.5251,  0.6934,  0.8302,  0.3464,\n",
       "           -0.6188,  0.2562,  0.5658, -0.4250]]),\n",
       "  tensor([[ 0.4128,  0.5830, -0.5847,  0.0429, -0.5254,  0.6935,  0.8309,  0.3467,\n",
       "           -0.6195,  0.2553,  0.5663, -0.4257]]),\n",
       "  tensor([[ 0.4128,  0.5833, -0.5844,  0.0423, -0.5257,  0.6932,  0.8307,  0.3467,\n",
       "           -0.6195,  0.2553,  0.5661, -0.4249]]),\n",
       "  tensor([[ 0.4124,  0.5850, -0.5837,  0.0399, -0.5253,  0.6922,  0.8288,  0.3461,\n",
       "           -0.6175,  0.2578,  0.5650, -0.4219]]),\n",
       "  tensor([[ 0.4126,  0.5836, -0.5846,  0.0424, -0.5250,  0.6933,  0.8303,  0.3470,\n",
       "           -0.6185,  0.2569,  0.5661, -0.4251]]),\n",
       "  tensor([[ 0.4127,  0.5835, -0.5846,  0.0422, -0.5252,  0.6933,  0.8302,  0.3466,\n",
       "           -0.6191,  0.2559,  0.5657, -0.4247]]),\n",
       "  tensor([[ 0.4126,  0.5835, -0.5845,  0.0422, -0.5255,  0.6932,  0.8303,  0.3467,\n",
       "           -0.6190,  0.2559,  0.5660, -0.4248]]),\n",
       "  tensor([[ 0.4127,  0.5836, -0.5843,  0.0420, -0.5254,  0.6931,  0.8303,  0.3467,\n",
       "           -0.6190,  0.2560,  0.5659, -0.4245]]),\n",
       "  tensor([[ 0.4120,  0.5866, -0.5832,  0.0376, -0.5247,  0.6915,  0.8268,  0.3453,\n",
       "           -0.6155,  0.2603,  0.5637, -0.4192]]),\n",
       "  tensor([[ 0.4123,  0.5849, -0.5846,  0.0411, -0.5240,  0.6931,  0.8287,  0.3465,\n",
       "           -0.6164,  0.2597,  0.5653, -0.4236]]),\n",
       "  tensor([[ 0.4129,  0.5832, -0.5853,  0.0431, -0.5244,  0.6940,  0.8304,  0.3465,\n",
       "           -0.6190,  0.2562,  0.5658, -0.4260]]),\n",
       "  tensor([[ 0.4128,  0.5833, -0.5847,  0.0425, -0.5253,  0.6935,  0.8305,  0.3463,\n",
       "           -0.6193,  0.2554,  0.5660, -0.4253]]),\n",
       "  tensor([[ 0.4126,  0.5840, -0.5841,  0.0414, -0.5254,  0.6928,  0.8298,  0.3463,\n",
       "           -0.6185,  0.2564,  0.5657, -0.4238]]),\n",
       "  tensor([[ 0.4123,  0.5856, -0.5836,  0.0392, -0.5248,  0.6921,  0.8280,  0.3458,\n",
       "           -0.6165,  0.2591,  0.5645, -0.4212]]),\n",
       "  tensor([[ 0.4123,  0.5852, -0.5843,  0.0403, -0.5242,  0.6927,  0.8283,  0.3462,\n",
       "           -0.6164,  0.2595,  0.5649, -0.4226]]),\n",
       "  tensor([[ 0.4128,  0.5833, -0.5852,  0.0431, -0.5245,  0.6939,  0.8304,  0.3467,\n",
       "           -0.6187,  0.2566,  0.5660, -0.4259]]),\n",
       "  tensor([[ 0.4125,  0.5850, -0.5841,  0.0401, -0.5248,  0.6926,  0.8286,  0.3456,\n",
       "           -0.6174,  0.2577,  0.5647, -0.4223]]),\n",
       "  tensor([[ 0.4123,  0.5853, -0.5840,  0.0400, -0.5245,  0.6925,  0.8283,  0.3459,\n",
       "           -0.6164,  0.2592,  0.5649, -0.4223]]),\n",
       "  tensor([[ 0.4126,  0.5842, -0.5847,  0.0417, -0.5243,  0.6934,  0.8294,  0.3463,\n",
       "           -0.6176,  0.2579,  0.5654, -0.4243]]),\n",
       "  tensor([[ 0.4129,  0.5831, -0.5850,  0.0431, -0.5250,  0.6938,  0.8307,  0.3466,\n",
       "           -0.6193,  0.2556,  0.5661, -0.4261]]),\n",
       "  tensor([[ 0.4127,  0.5837, -0.5844,  0.0418, -0.5254,  0.6931,  0.8301,  0.3463,\n",
       "           -0.6190,  0.2558,  0.5658, -0.4244]]),\n",
       "  tensor([[ 0.4126,  0.5839, -0.5842,  0.0417, -0.5254,  0.6929,  0.8300,  0.3466,\n",
       "           -0.6186,  0.2565,  0.5659, -0.4242]]),\n",
       "  tensor([[ 0.4127,  0.5832, -0.5846,  0.0427, -0.5254,  0.6933,  0.8307,  0.3470,\n",
       "           -0.6193,  0.2557,  0.5662, -0.4253]]),\n",
       "  tensor([[ 0.4127,  0.5834, -0.5844,  0.0421, -0.5256,  0.6931,  0.8304,  0.3467,\n",
       "           -0.6192,  0.2556,  0.5660, -0.4246]]),\n",
       "  tensor([[ 0.4127,  0.5831, -0.5845,  0.0427, -0.5257,  0.6933,  0.8309,  0.3470,\n",
       "           -0.6196,  0.2553,  0.5664, -0.4253]]),\n",
       "  tensor([[ 0.4125,  0.5842, -0.5840,  0.0410, -0.5255,  0.6926,  0.8297,  0.3465,\n",
       "           -0.6185,  0.2566,  0.5655, -0.4232]]),\n",
       "  tensor([[ 0.4126,  0.5834, -0.5845,  0.0425, -0.5254,  0.6932,  0.8305,  0.3471,\n",
       "           -0.6190,  0.2561,  0.5662, -0.4251]]),\n",
       "  tensor([[ 0.4127,  0.5836, -0.5844,  0.0420, -0.5254,  0.6931,  0.8302,  0.3467,\n",
       "           -0.6191,  0.2559,  0.5658, -0.4244]]),\n",
       "  tensor([[ 0.4125,  0.5842, -0.5841,  0.0411, -0.5253,  0.6927,  0.8295,  0.3465,\n",
       "           -0.6182,  0.2570,  0.5655, -0.4234]]),\n",
       "  tensor([[ 0.4119,  0.5872, -0.5831,  0.0369, -0.5243,  0.6913,  0.8261,  0.3451,\n",
       "           -0.6146,  0.2615,  0.5633, -0.4184]]),\n",
       "  tensor([[ 0.4123,  0.5847, -0.5849,  0.0416, -0.5237,  0.6934,  0.8288,  0.3465,\n",
       "           -0.6164,  0.2598,  0.5654, -0.4243]]),\n",
       "  tensor([[ 0.4130,  0.5830, -0.5854,  0.0434, -0.5244,  0.6942,  0.8306,  0.3464,\n",
       "           -0.6192,  0.2558,  0.5658, -0.4264]]),\n",
       "  tensor([[ 0.4129,  0.5830, -0.5848,  0.0430, -0.5255,  0.6936,  0.8309,  0.3464,\n",
       "           -0.6197,  0.2548,  0.5663, -0.4259]]),\n",
       "  tensor([[ 0.4126,  0.5841, -0.5840,  0.0412, -0.5256,  0.6927,  0.8298,  0.3462,\n",
       "           -0.6186,  0.2563,  0.5657, -0.4236]]),\n",
       "  tensor([[ 0.4125,  0.5842, -0.5841,  0.0412, -0.5252,  0.6928,  0.8296,  0.3466,\n",
       "           -0.6181,  0.2572,  0.5656, -0.4236]]),\n",
       "  tensor([[ 0.4124,  0.5847, -0.5841,  0.0406, -0.5249,  0.6927,  0.8290,  0.3463,\n",
       "           -0.6175,  0.2579,  0.5651, -0.4229]]),\n",
       "  tensor([[ 0.4127,  0.5834, -0.5848,  0.0427, -0.5250,  0.6935,  0.8304,  0.3469,\n",
       "           -0.6188,  0.2564,  0.5661, -0.4254]]),\n",
       "  tensor([[ 0.4126,  0.5840, -0.5844,  0.0415, -0.5252,  0.6930,  0.8297,  0.3463,\n",
       "           -0.6186,  0.2564,  0.5655, -0.4239]])],\n",
       " tensor([0.0790, 0.0296, 0.0136, 0.0111, 0.0112, 0.0120, 0.0126, 0.0128, 0.0128,\n",
       "         0.0127, 0.0127, 0.0129, 0.0126, 0.0129, 0.0127, 0.0126, 0.0125, 0.0125,\n",
       "         0.0126, 0.0126, 0.0128, 0.0126, 0.0125, 0.0126, 0.0125, 0.0125, 0.0125,\n",
       "         0.0126, 0.0128, 0.0127, 0.0127, 0.0126, 0.0125, 0.0127, 0.0132, 0.0128,\n",
       "         0.0125, 0.0125, 0.0125, 0.0127, 0.0126, 0.0125, 0.0125, 0.0130, 0.0126,\n",
       "         0.0125, 0.0125, 0.0126, 0.0127, 0.0128, 0.0126, 0.0127, 0.0125, 0.0125,\n",
       "         0.0125, 0.0127, 0.0127, 0.0126, 0.0125, 0.0125, 0.0126, 0.0125, 0.0128,\n",
       "         0.0126, 0.0126, 0.0126, 0.0126, 0.0125, 0.0125, 0.0127, 0.0126, 0.0126,\n",
       "         0.0126, 0.0127, 0.0126, 0.0126, 0.0130, 0.0126, 0.0131, 0.0133, 0.0126,\n",
       "         0.0125, 0.0124, 0.0127, 0.0126, 0.0126, 0.0125, 0.0126, 0.0128, 0.0127,\n",
       "         0.0126, 0.0126, 0.0125, 0.0125, 0.0127, 0.0126, 0.0125, 0.0125, 0.0125,\n",
       "         0.0130, 0.0127, 0.0125, 0.0125, 0.0126, 0.0128, 0.0128, 0.0125, 0.0127,\n",
       "         0.0128, 0.0126, 0.0125, 0.0126, 0.0126, 0.0125, 0.0125, 0.0125, 0.0126,\n",
       "         0.0125, 0.0125, 0.0126, 0.0130, 0.0127, 0.0125, 0.0125, 0.0126, 0.0126,\n",
       "         0.0127, 0.0125, 0.0126]))"
      ]
     },
     "execution_count": 191,
     "metadata": {},
     "output_type": "execute_result"
    }
   ],
   "source": [
    "generate_sequence(model, tmax)"
   ]
  },
  {
   "cell_type": "code",
   "execution_count": null,
   "metadata": {},
   "outputs": [],
   "source": []
  },
  {
   "cell_type": "code",
   "execution_count": 185,
   "metadata": {
    "scrolled": false
   },
   "outputs": [
    {
     "name": "stdout",
     "output_type": "stream",
     "text": [
      "Mean generated sequence length: 119.642\n",
      "Generated sequence length std. dev: 12.134242291960383\n"
     ]
    }
   ],
   "source": [
    "# Build a statistic for the no. of events\n",
    "gen_seq_lengths = []\n",
    "gen_seq_types_lengths = []\n",
    "n_gen_seq = 1000 # number of generated sequences\n",
    "for i in range(n_gen_seq):\n",
    "    (gen_event_times, gen_event_types,\n",
    "     gen_event_intens, gen_event_decay) = generate_sequence(model, tmax)\n",
    "    gen_seq_lengths.append(len(gen_event_times) - 1)\n",
    "    gen_seq_types_lengths.append([\n",
    "        (gen_event_types == i).sum() for i in range(inp_size)\n",
    "    ])\n",
    "gen_seq_lengths = np.array(gen_seq_lengths)\n",
    "gen_seq_types_lengths = np.array(gen_seq_types_lengths)\n",
    "\n",
    "print(\"Mean generated sequence length: {}\".format(gen_seq_lengths.mean()))\n",
    "print(\"Generated sequence length std. dev: {}\".format(gen_seq_lengths.std()))\n",
    "MODEL_NAME = \"Decay-RNN\""
   ]
  },
  {
   "cell_type": "code",
   "execution_count": 186,
   "metadata": {
    "scrolled": false
   },
   "outputs": [
    {
     "data": {
      "image/png": "[encoded data removed]",
      "text/plain": [
       "<Figure size 800x1100 with 3 Axes>"
      ]
     },
     "metadata": {
      "needs_background": "light"
     },
     "output_type": "display_data"
    }
   ],
   "source": [
    "fig, axes = plt.subplots(process_dim + 1, 1, figsize=(8,5+process_dim*3), dpi=100)\n",
    "ax0 = axes[0]\n",
    "axt = axes[1:]\n",
    "hist_opts = {\n",
    "    \"rwidth\": 0.8,\n",
    "    \"alpha\": 0.4,\n",
    "    \"density\": True\n",
    "}\n",
    "\n",
    "_ = ax0.hist(seq_lengths, bins=2*int(seq_lengths.size(0)**(1/3)),\n",
    "            label=\"Sequence lengths (base model)\",\n",
    "            **hist_opts)\n",
    "_ = ax0.hist(gen_seq_lengths, bins=2*int(n_gen_seq**(1/3)),\n",
    "            label=\"Sequence lengths (generated by {:})\".format(MODEL_NAME),\n",
    "            color='red', **hist_opts)\n",
    "ax0.legend()\n",
    "ax0.set_title('no. of events (all types, including starter type)')\n",
    "ax0.set_ylabel('Proportion')\n",
    "ax0.set_xlabel('Number of events $N_T$')\n",
    "for i, ax in enumerate(axt):\n",
    "    # get the sequence lengths for the event types\n",
    "    typ_seq_lengths = (seq_types == i).sum(dim=0)\n",
    "    gen_typ_seq_lengths = gen_seq_types_lengths[:, i]\n",
    "    ax.hist(typ_seq_lengths, bins=2*int(typ_seq_lengths.size(0)**(1/3)),\n",
    "            label=\"Sequence lengths (base model)\",\n",
    "            **hist_opts)\n",
    "    ax.hist(gen_typ_seq_lengths,\n",
    "            bins=2*int(gen_typ_seq_lengths.shape[0]**(1/3)),\n",
    "            label=\"Sequence lengths (base model)\",\n",
    "            color='red', **hist_opts)\n",
    "    ax.set_xlabel(\"Number of events of type {}, $N_T^{}$\".format(i, i))\n",
    "    ax.set_title('no. of events of type $i={}$'.format(i))\n",
    "\n",
    "fig.tight_layout()"
   ]
  },
  {
   "cell_type": "code",
   "execution_count": 187,
   "metadata": {},
   "outputs": [],
   "source": [
    "RESULT_BASEDIR = \"../results\"\n",
    "extra_tag = \"{}d\".format(process_dim)\n",
    "os.makedirs(RESULT_BASEDIR, exist_ok=True)\n",
    "model_perf_indicator = \"seq_length_distrib\"\n",
    "fig.savefig(\"{:}/{:}_{:}-{}-hidden_{}.pdf\"\n",
    "            .format(RESULT_BASEDIR, model_perf_indicator, MODEL_NAME, extra_tag, hidden_size))"
   ]
  },
  {
   "cell_type": "markdown",
   "metadata": {},
   "source": [
    "The number of events does not fit."
   ]
  },
  {
   "cell_type": "code",
   "execution_count": 189,
   "metadata": {},
   "outputs": [],
   "source": [
    "def plot_events_and_intensity(event_times: torch.Tensor, seq_types: torch.Tensor,\n",
    "                              hidden_states: torch.Tensor, event_decay: torch.Tensor):\n",
    "    sequence_length = event_times.shape[0]\n",
    "    print(\"no. of events: {}\".format(sequence_length))\n",
    "    evt_times = event_times.numpy()\n",
    "    evt_types = seq_types.numpy()\n",
    "    inp_size = model.input_size\n",
    "    fig, ax = plt.subplots(1, 1, sharex=True, dpi=110,\n",
    "                           figsize=(10,1))\n",
    "    ax.set_ylim((-0.6, 1.6))\n",
    "    ts_y = np.random.rand(sequence_length)\n",
    "    inpt_size = model.input_size\n",
    "    for k in range(inpt_size):\n",
    "        mask = evt_types == k\n",
    "        ax.scatter(evt_times[mask], ts_y[mask], s=9,\n",
    "                   label=\"{}\".format(k), alpha=0.7)\n",
    "        ax.vlines(evt_times[mask], -0.6, 1.6, linewidth=0.3, linestyles='--', alpha=0.5)\n",
    "    ax.legend()"
   ]
  },
  {
   "cell_type": "code",
   "execution_count": 190,
   "metadata": {
    "scrolled": true
   },
   "outputs": [
    {
     "name": "stdout",
     "output_type": "stream",
     "text": [
      "no. of events: 108\n"
     ]
    },
    {
     "data": {
      "image/png": "[encoded data removed]",
      "text/plain": [
       "<Figure size 1100x110 with 1 Axes>"
      ]
     },
     "metadata": {
      "needs_background": "light"
     },
     "output_type": "display_data"
    }
   ],
   "source": [
    "gen_evt_times, gen_evt_types, gen_event_intens, gen_event_decay = generate_sequence(model, tmax)\n",
    "plot_events_and_intensity(gen_evt_times, gen_evt_types, gen_event_intens, gen_event_decay)"
   ]
  },
  {
   "cell_type": "code",
   "execution_count": 126,
   "metadata": {},
   "outputs": [],
   "source": [
    "from models.decayrnn import read_predict\n",
    "import torch.nn.functional as F"
   ]
  },
  {
   "cell_type": "code",
   "execution_count": 127,
   "metadata": {
    "scrolled": true
   },
   "outputs": [],
   "source": [
    "num_errors = 0\n",
    "\n",
    "for index in range(500):\n",
    "    oh_real, oh_pred, type_distrib = read_predict(\n",
    "        model, times_tensor[:,index],\n",
    "        onehot_types[:,index], seq_lengths[index])\n",
    "    num_errors += int(not(oh_real.equal(oh_pred)))"
   ]
  },
  {
   "cell_type": "code",
   "execution_count": 128,
   "metadata": {},
   "outputs": [
    {
     "name": "stdout",
     "output_type": "stream",
     "text": [
      "Errors: 258/500\n"
     ]
    }
   ],
   "source": [
    "print(\"Errors: {}/{}\".format(num_errors, 500))"
   ]
  },
  {
   "cell_type": "code",
   "execution_count": null,
   "metadata": {},
   "outputs": [],
   "source": []
  }
 ],
 "metadata": {
  "kernelspec": {
   "display_name": "Python [conda env:pytorch]",
   "language": "python",
   "name": "conda-env-pytorch-py"
  },
  "language_info": {
   "codemirror_mode": {
    "name": "ipython",
    "version": 3
   },
   "file_extension": ".py",
   "mimetype": "text/x-python",
   "name": "python",
   "nbconvert_exporter": "python",
   "pygments_lexer": "ipython3",
   "version": "3.7.0"
  }
 },
 "nbformat": 4,
 "nbformat_minor": 2
}
