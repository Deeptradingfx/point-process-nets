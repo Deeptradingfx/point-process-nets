{
 "cells": [
  {
   "cell_type": "code",
   "execution_count": 1,
   "metadata": {
    "scrolled": true
   },
   "outputs": [],
   "source": [
    "%matplotlib inline\n",
    "%load_ext autoreload\n",
    "%autoreload 2\n",
    "\n",
    "import matplotlib.pyplot as plt\n",
    "import matplotlib.ticker as mticker\n",
    "import numpy as np\n",
    "\n",
    "import torch\n",
    "from torch import nn\n",
    "\n",
    "import os\n",
    "import sys\n",
    "import glob\n",
    "import pickle"
   ]
  },
  {
   "cell_type": "code",
   "execution_count": 2,
   "metadata": {},
   "outputs": [
    {
     "data": {
      "text/plain": [
       "<torch._C.Generator at 0x7f7700444d90>"
      ]
     },
     "execution_count": 2,
     "metadata": {},
     "output_type": "execute_result"
    }
   ],
   "source": [
    "SEED = 52\n",
    "torch.manual_seed(SEED)"
   ]
  },
  {
   "cell_type": "code",
   "execution_count": 3,
   "metadata": {},
   "outputs": [
    {
     "name": "stdout",
     "output_type": "stream",
     "text": [
      "Notebook dir /home/manifold/Documents/etudes/map511-p3a\n",
      "Python interpreter path:\n",
      "/home/manifold/Documents/etudes/map511-p3a/notebooks\n",
      "/home/manifold/miniconda3/envs/pytorch/lib/python37.zip\n",
      "/home/manifold/miniconda3/envs/pytorch/lib/python3.7\n",
      "/home/manifold/miniconda3/envs/pytorch/lib/python3.7/lib-dynload\n",
      "\n",
      "/home/manifold/miniconda3/envs/pytorch/lib/python3.7/site-packages\n",
      "/home/manifold/miniconda3/envs/pytorch/lib/python3.7/site-packages/pointprocesses-0.4.1-py3.7-linux-x86_64.egg\n",
      "/home/manifold/miniconda3/envs/pytorch/lib/python3.7/site-packages/torchvision-0.2.1-py3.7.egg\n",
      "/home/manifold/miniconda3/envs/pytorch/lib/python3.7/site-packages/IPython/extensions\n",
      "/home/manifold/.ipython\n",
      "/home/manifold/Documents/etudes/map511-p3a\n"
     ]
    }
   ],
   "source": [
    "# Add parent dir to interpreter path\n",
    "nb_dir = os.path.split(os.getcwd())[0]\n",
    "print(\"Notebook dir {:}\".format(nb_dir))\n",
    "if nb_dir not in sys.path:\n",
    "    sys.path.append(nb_dir)\n",
    "print(\"Python interpreter path:\")\n",
    "for path in sys.path:\n",
    "    print(path)"
   ]
  },
  {
   "cell_type": "markdown",
   "metadata": {},
   "source": [
    "# Loading synthetic data"
   ]
  },
  {
   "cell_type": "markdown",
   "metadata": {},
   "source": [
    "We will be loading simulated Hawkes data."
   ]
  },
  {
   "cell_type": "code",
   "execution_count": 4,
   "metadata": {},
   "outputs": [
    {
     "name": "stdout",
     "output_type": "stream",
     "text": [
      "Available files:\n",
      "../data/simulated/hawkes_synthetic_exp_2d_20181206-160527.pkl\n",
      "../data/simulated/hawkes_synthetic_exp_1d_20181205-142133.pkl\n",
      "../data/simulated/hawkes_synthetic_exp_2d_20181207-220402.pkl\n"
     ]
    }
   ],
   "source": [
    "SYNTH_DATA_FILES = glob.glob('../data/simulated/*.pkl')\n",
    "print(\"Available files:\")\n",
    "for s in SYNTH_DATA_FILES:\n",
    "    print(s)\n",
    "\n",
    "from utils.load_synth_data import process_loaded_sequences, one_hot_embedding"
   ]
  },
  {
   "cell_type": "code",
   "execution_count": 5,
   "metadata": {},
   "outputs": [
    {
     "name": "stdout",
     "output_type": "stream",
     "text": [
      "Process dimension: 2\n",
      "Data file: ../data/simulated/hawkes_synthetic_exp_2d_20181207-220402.pkl\n"
     ]
    }
   ],
   "source": [
    "# SET THESE PARAMETERS\n",
    "process_dim = 2\n",
    "print(\"Process dimension: {}\".format(process_dim))\n",
    "chosen_data_file = SYNTH_DATA_FILES[2]\n",
    "print(\"Data file: {}\".format(chosen_data_file))"
   ]
  },
  {
   "cell_type": "code",
   "execution_count": 6,
   "metadata": {},
   "outputs": [
    {
     "name": "stdout",
     "output_type": "stream",
     "text": [
      "Loading 2-dimensional Hawkes data.\n",
      "dict_keys(['mu', 'alpha', 'decay', 'tmax', 'timestamps', 'types', 'lengths'])\n",
      "mu\t[0.1 0.1]\n",
      "alpha\t[[0.1  0.01]\n",
      " [0.01 0.1 ]]\n",
      "decay\t1\n",
      "tmax\t3600\n",
      "torch.Size([4000, 921])\n"
     ]
    }
   ],
   "source": [
    "# Load data simulated using tick\n",
    "print(\"Loading {}-dimensional Hawkes data.\".format(process_dim))\n",
    "\n",
    "with open(chosen_data_file, \"rb\") as f:\n",
    "    loaded_hawkes_data = pickle.load(f)\n",
    "\n",
    "print(loaded_hawkes_data.keys())\n",
    "\n",
    "mu = loaded_hawkes_data['mu']\n",
    "alpha = loaded_hawkes_data['alpha']\n",
    "decay = loaded_hawkes_data['decay']\n",
    "tmax = loaded_hawkes_data['tmax']\n",
    "print(\"mu\\t{:}\".format(str(mu)))\n",
    "print(\"alpha\\t{:}\".format(str(alpha)))\n",
    "print(\"decay\\t{:}\".format(str(decay)))\n",
    "print(\"tmax\\t{:}\".format(tmax))\n",
    "\n",
    "seq_times, seq_types, seq_lengths = process_loaded_sequences(\n",
    "    loaded_hawkes_data, process_dim, tmax)\n",
    "print(seq_times.shape)"
   ]
  },
  {
   "cell_type": "markdown",
   "metadata": {},
   "source": [
    "# Neural network"
   ]
  },
  {
   "cell_type": "code",
   "execution_count": 134,
   "metadata": {},
   "outputs": [],
   "source": [
    "from utils import one_hot_embedding"
   ]
  },
  {
   "cell_type": "code",
   "execution_count": 135,
   "metadata": {},
   "outputs": [],
   "source": [
    "from models.decayrnn import HawkesDecayRNN, HawkesRNNGen"
   ]
  },
  {
   "cell_type": "markdown",
   "metadata": {},
   "source": [
    "We are going for a recurrent neural structure that can learn from previous events. The intensity process of our neural model will be of the form\n",
    "\n",
    "$$\n",
    "    \\lambda_t = f\\left(W_{\\lambda} h(t)\\right)\n",
    "$$\n",
    "\n",
    "with $f$ a positive-valued activation function (such as ReLU) and $h(t)\\in\\mathbb R^D$ a continuous hidden state, computed as\n",
    "\\begin{equation}\n",
    "    h(t) = h_{i}e^{-\\delta_i(t-t_{i-1})},\\quad \\forall t\\in(t_{i-1},t_i]\n",
    "\\end{equation}\n",
    "\n",
    "Network update formulas: the jump and decay parameters on $(t_i,t_{i+1}]$ are given by\n",
    "$$\n",
    "\\begin{align*}\n",
    "    h_{i+1}      &= \\tanh(W_{hh}h(t_i) + W_{xh}x_i + b_{h}) \\\\\n",
    "    \\delta_{i+1} &= f(W_{hd} h(t_i) + W_{xd}x_i + b_{d})\n",
    "\\end{align*}\n",
    "$$"
   ]
  },
  {
   "cell_type": "code",
   "execution_count": 136,
   "metadata": {},
   "outputs": [],
   "source": [
    "from train_functions import train_decayrnn, plot_loss"
   ]
  },
  {
   "cell_type": "code",
   "execution_count": 137,
   "metadata": {},
   "outputs": [
    {
     "name": "stdout",
     "output_type": "stream",
     "text": [
      "Train size 3000\n",
      "Train event times shape torch.Size([3000, 921])\n",
      "Train event types shape torch.Size([3000, 921])\n",
      "Train seq lengths shape torch.Size([3000])\n"
     ]
    }
   ],
   "source": [
    "# define training data\n",
    "train_size = 3000\n",
    "print(\"Train size %d\" % train_size)\n",
    "\n",
    "train_times_tensor = seq_times[:train_size]\n",
    "train_seq_types = seq_types[:train_size]\n",
    "train_seq_lengths = seq_lengths[:train_size]\n",
    "print(\"Train event times shape {}\".format(train_times_tensor.shape))\n",
    "print(\"Train event types shape {}\".format(train_seq_types.shape))\n",
    "print(\"Train seq lengths shape {}\".format(train_seq_lengths.shape))"
   ]
  },
  {
   "cell_type": "code",
   "execution_count": 139,
   "metadata": {
    "scrolled": true
   },
   "outputs": [
    {
     "name": "stdout",
     "output_type": "stream",
     "text": [
      "Batch size 32\n",
      "Number of epochs 6\n",
      "Train size: 3000\n"
     ]
    },
    {
     "data": {
      "application/vnd.jupyter.widget-view+json": {
       "model_id": "b82dc3d2ebce4618be42099ca14067dc",
       "version_major": 2,
       "version_minor": 0
      },
      "text/plain": [
       "HBox(children=(IntProgress(value=0, description='Epoch 1', max=94, style=ProgressStyle(description_width='init…"
      ]
     },
     "metadata": {},
     "output_type": "display_data"
    },
    {
     "ename": "KeyboardInterrupt",
     "evalue": "",
     "output_type": "error",
     "traceback": [
      "\u001b[0;31m---------------------------------------------------------------------------\u001b[0m",
      "\u001b[0;31mKeyboardInterrupt\u001b[0m                         Traceback (most recent call last)",
      "\u001b[0;32m<ipython-input-139-4838f287bdc2>\u001b[0m in \u001b[0;36m<module>\u001b[0;34m\u001b[0m\n\u001b[1;32m     11\u001b[0m     \u001b[0mmodel\u001b[0m\u001b[0;34m,\u001b[0m \u001b[0moptimizer\u001b[0m\u001b[0;34m,\u001b[0m \u001b[0mtrain_times_tensor\u001b[0m\u001b[0;34m,\u001b[0m\u001b[0;34m\u001b[0m\u001b[0;34m\u001b[0m\u001b[0m\n\u001b[1;32m     12\u001b[0m     \u001b[0mtrain_seq_types\u001b[0m\u001b[0;34m,\u001b[0m \u001b[0mtrain_seq_lengths\u001b[0m\u001b[0;34m,\u001b[0m \u001b[0mtmax\u001b[0m\u001b[0;34m,\u001b[0m\u001b[0;34m\u001b[0m\u001b[0;34m\u001b[0m\u001b[0m\n\u001b[0;32m---> 13\u001b[0;31m     BATCH_SIZE, EPOCHS, use_jupyter=True)\n\u001b[0m",
      "\u001b[0;32m~/Documents/etudes/map511-p3a/train_functions.py\u001b[0m in \u001b[0;36mtrain_decayrnn\u001b[0;34m(model, optimizer, seq_times, seq_types, seq_lengths, tmax, batch_size, n_epochs, use_cuda, use_jupyter)\u001b[0m\n\u001b[1;32m    157\u001b[0m             loss: Tensor = model.compute_loss(batch_seq_times, batch_onehot,\n\u001b[1;32m    158\u001b[0m                                               \u001b[0mpacked_dt\u001b[0m\u001b[0;34m.\u001b[0m\u001b[0mbatch_sizes\u001b[0m\u001b[0;34m,\u001b[0m \u001b[0mhiddens\u001b[0m\u001b[0;34m,\u001b[0m \u001b[0mhiddens_ti\u001b[0m\u001b[0;34m,\u001b[0m\u001b[0;34m\u001b[0m\u001b[0;34m\u001b[0m\u001b[0m\n\u001b[0;32m--> 159\u001b[0;31m                                               decays, tmax)\n\u001b[0m\u001b[1;32m    160\u001b[0m             \u001b[0mloss\u001b[0m\u001b[0;34m.\u001b[0m\u001b[0mbackward\u001b[0m\u001b[0;34m(\u001b[0m\u001b[0;34m)\u001b[0m\u001b[0;34m\u001b[0m\u001b[0;34m\u001b[0m\u001b[0m\n\u001b[1;32m    161\u001b[0m             \u001b[0moptimizer\u001b[0m\u001b[0;34m.\u001b[0m\u001b[0mstep\u001b[0m\u001b[0;34m(\u001b[0m\u001b[0;34m)\u001b[0m\u001b[0;34m\u001b[0m\u001b[0;34m\u001b[0m\u001b[0m\n",
      "\u001b[0;32m~/Documents/etudes/map511-p3a/models/decayrnn.py\u001b[0m in \u001b[0;36mcompute_loss\u001b[0;34m(self, seq_times, seq_onehot_types, batch_sizes, hiddens, hiddens_decayed, decays, tmax)\u001b[0m\n\u001b[1;32m    191\u001b[0m             \u001b[0;31m# print(\"next one\", batch_sizes[i+1], \"with hidden\", hiddens[i+1].shape)\u001b[0m\u001b[0;34m\u001b[0m\u001b[0;34m\u001b[0m\u001b[0;34m\u001b[0m\u001b[0m\n\u001b[1;32m    192\u001b[0m             v = self.compute_intensity(hiddens[i].unsqueeze(-1), decays[i].unsqueeze(-1),\n\u001b[0;32m--> 193\u001b[0;31m                                        taus[:batch_sizes[i], i].unsqueeze(1))\n\u001b[0m\u001b[1;32m    194\u001b[0m             \u001b[0mintens_at_samples\u001b[0m\u001b[0;34m.\u001b[0m\u001b[0mappend\u001b[0m\u001b[0;34m(\u001b[0m\u001b[0mv\u001b[0m\u001b[0;34m)\u001b[0m\u001b[0;34m\u001b[0m\u001b[0;34m\u001b[0m\u001b[0m\n\u001b[1;32m    195\u001b[0m         intens_at_samples: Tensor = nn.utils.rnn.pad_sequence(\n",
      "\u001b[0;32m~/Documents/etudes/map511-p3a/models/decayrnn.py\u001b[0m in \u001b[0;36mcompute_intensity\u001b[0;34m(self, hidden, decay, dt)\u001b[0m\n\u001b[1;32m    125\u001b[0m         \u001b[0;32mif\u001b[0m \u001b[0mh_t\u001b[0m\u001b[0;34m.\u001b[0m\u001b[0mndimension\u001b[0m\u001b[0;34m(\u001b[0m\u001b[0;34m)\u001b[0m \u001b[0;34m>\u001b[0m \u001b[0;36m2\u001b[0m\u001b[0;34m:\u001b[0m\u001b[0;34m\u001b[0m\u001b[0;34m\u001b[0m\u001b[0m\n\u001b[1;32m    126\u001b[0m             \u001b[0mh_t\u001b[0m \u001b[0;34m=\u001b[0m \u001b[0mh_t\u001b[0m\u001b[0;34m.\u001b[0m\u001b[0mtranspose\u001b[0m\u001b[0;34m(\u001b[0m\u001b[0;36m1\u001b[0m\u001b[0;34m,\u001b[0m \u001b[0;36m2\u001b[0m\u001b[0;34m)\u001b[0m\u001b[0;34m\u001b[0m\u001b[0;34m\u001b[0m\u001b[0m\n\u001b[0;32m--> 127\u001b[0;31m         \u001b[0mlbda_t\u001b[0m\u001b[0;34m:\u001b[0m \u001b[0mTensor\u001b[0m \u001b[0;34m=\u001b[0m \u001b[0mself\u001b[0m\u001b[0;34m.\u001b[0m\u001b[0mintensity_layer\u001b[0m\u001b[0;34m(\u001b[0m\u001b[0mh_t\u001b[0m\u001b[0;34m)\u001b[0m\u001b[0;34m\u001b[0m\u001b[0;34m\u001b[0m\u001b[0m\n\u001b[0m\u001b[1;32m    128\u001b[0m         \u001b[0;32mif\u001b[0m \u001b[0mh_t\u001b[0m\u001b[0;34m.\u001b[0m\u001b[0mndimension\u001b[0m\u001b[0;34m(\u001b[0m\u001b[0;34m)\u001b[0m \u001b[0;34m>\u001b[0m \u001b[0;36m2\u001b[0m\u001b[0;34m:\u001b[0m\u001b[0;34m\u001b[0m\u001b[0;34m\u001b[0m\u001b[0m\n\u001b[1;32m    129\u001b[0m             \u001b[0mlbda_t\u001b[0m \u001b[0;34m=\u001b[0m \u001b[0mlbda_t\u001b[0m\u001b[0;34m.\u001b[0m\u001b[0mtranspose\u001b[0m\u001b[0;34m(\u001b[0m\u001b[0;36m1\u001b[0m\u001b[0;34m,\u001b[0m \u001b[0;36m2\u001b[0m\u001b[0;34m)\u001b[0m\u001b[0;34m\u001b[0m\u001b[0;34m\u001b[0m\u001b[0m\n",
      "\u001b[0;32m~/miniconda3/envs/pytorch/lib/python3.7/site-packages/torch/nn/modules/module.py\u001b[0m in \u001b[0;36m__call__\u001b[0;34m(self, *input, **kwargs)\u001b[0m\n\u001b[1;32m    475\u001b[0m             \u001b[0mresult\u001b[0m \u001b[0;34m=\u001b[0m \u001b[0mself\u001b[0m\u001b[0;34m.\u001b[0m\u001b[0m_slow_forward\u001b[0m\u001b[0;34m(\u001b[0m\u001b[0;34m*\u001b[0m\u001b[0minput\u001b[0m\u001b[0;34m,\u001b[0m \u001b[0;34m**\u001b[0m\u001b[0mkwargs\u001b[0m\u001b[0;34m)\u001b[0m\u001b[0;34m\u001b[0m\u001b[0;34m\u001b[0m\u001b[0m\n\u001b[1;32m    476\u001b[0m         \u001b[0;32melse\u001b[0m\u001b[0;34m:\u001b[0m\u001b[0;34m\u001b[0m\u001b[0;34m\u001b[0m\u001b[0m\n\u001b[0;32m--> 477\u001b[0;31m             \u001b[0mresult\u001b[0m \u001b[0;34m=\u001b[0m \u001b[0mself\u001b[0m\u001b[0;34m.\u001b[0m\u001b[0mforward\u001b[0m\u001b[0;34m(\u001b[0m\u001b[0;34m*\u001b[0m\u001b[0minput\u001b[0m\u001b[0;34m,\u001b[0m \u001b[0;34m**\u001b[0m\u001b[0mkwargs\u001b[0m\u001b[0;34m)\u001b[0m\u001b[0;34m\u001b[0m\u001b[0;34m\u001b[0m\u001b[0m\n\u001b[0m\u001b[1;32m    478\u001b[0m         \u001b[0;32mfor\u001b[0m \u001b[0mhook\u001b[0m \u001b[0;32min\u001b[0m \u001b[0mself\u001b[0m\u001b[0;34m.\u001b[0m\u001b[0m_forward_hooks\u001b[0m\u001b[0;34m.\u001b[0m\u001b[0mvalues\u001b[0m\u001b[0;34m(\u001b[0m\u001b[0;34m)\u001b[0m\u001b[0;34m:\u001b[0m\u001b[0;34m\u001b[0m\u001b[0;34m\u001b[0m\u001b[0m\n\u001b[1;32m    479\u001b[0m             \u001b[0mhook_result\u001b[0m \u001b[0;34m=\u001b[0m \u001b[0mhook\u001b[0m\u001b[0;34m(\u001b[0m\u001b[0mself\u001b[0m\u001b[0;34m,\u001b[0m \u001b[0minput\u001b[0m\u001b[0;34m,\u001b[0m \u001b[0mresult\u001b[0m\u001b[0;34m)\u001b[0m\u001b[0;34m\u001b[0m\u001b[0;34m\u001b[0m\u001b[0m\n",
      "\u001b[0;32m~/miniconda3/envs/pytorch/lib/python3.7/site-packages/torch/nn/modules/container.py\u001b[0m in \u001b[0;36mforward\u001b[0;34m(self, input)\u001b[0m\n\u001b[1;32m     89\u001b[0m     \u001b[0;32mdef\u001b[0m \u001b[0mforward\u001b[0m\u001b[0;34m(\u001b[0m\u001b[0mself\u001b[0m\u001b[0;34m,\u001b[0m \u001b[0minput\u001b[0m\u001b[0;34m)\u001b[0m\u001b[0;34m:\u001b[0m\u001b[0;34m\u001b[0m\u001b[0;34m\u001b[0m\u001b[0m\n\u001b[1;32m     90\u001b[0m         \u001b[0;32mfor\u001b[0m \u001b[0mmodule\u001b[0m \u001b[0;32min\u001b[0m \u001b[0mself\u001b[0m\u001b[0;34m.\u001b[0m\u001b[0m_modules\u001b[0m\u001b[0;34m.\u001b[0m\u001b[0mvalues\u001b[0m\u001b[0;34m(\u001b[0m\u001b[0;34m)\u001b[0m\u001b[0;34m:\u001b[0m\u001b[0;34m\u001b[0m\u001b[0;34m\u001b[0m\u001b[0m\n\u001b[0;32m---> 91\u001b[0;31m             \u001b[0minput\u001b[0m \u001b[0;34m=\u001b[0m \u001b[0mmodule\u001b[0m\u001b[0;34m(\u001b[0m\u001b[0minput\u001b[0m\u001b[0;34m)\u001b[0m\u001b[0;34m\u001b[0m\u001b[0;34m\u001b[0m\u001b[0m\n\u001b[0m\u001b[1;32m     92\u001b[0m         \u001b[0;32mreturn\u001b[0m \u001b[0minput\u001b[0m\u001b[0;34m\u001b[0m\u001b[0;34m\u001b[0m\u001b[0m\n\u001b[1;32m     93\u001b[0m \u001b[0;34m\u001b[0m\u001b[0m\n",
      "\u001b[0;32m~/miniconda3/envs/pytorch/lib/python3.7/site-packages/torch/nn/modules/module.py\u001b[0m in \u001b[0;36m__call__\u001b[0;34m(self, *input, **kwargs)\u001b[0m\n\u001b[1;32m    475\u001b[0m             \u001b[0mresult\u001b[0m \u001b[0;34m=\u001b[0m \u001b[0mself\u001b[0m\u001b[0;34m.\u001b[0m\u001b[0m_slow_forward\u001b[0m\u001b[0;34m(\u001b[0m\u001b[0;34m*\u001b[0m\u001b[0minput\u001b[0m\u001b[0;34m,\u001b[0m \u001b[0;34m**\u001b[0m\u001b[0mkwargs\u001b[0m\u001b[0;34m)\u001b[0m\u001b[0;34m\u001b[0m\u001b[0;34m\u001b[0m\u001b[0m\n\u001b[1;32m    476\u001b[0m         \u001b[0;32melse\u001b[0m\u001b[0;34m:\u001b[0m\u001b[0;34m\u001b[0m\u001b[0;34m\u001b[0m\u001b[0m\n\u001b[0;32m--> 477\u001b[0;31m             \u001b[0mresult\u001b[0m \u001b[0;34m=\u001b[0m \u001b[0mself\u001b[0m\u001b[0;34m.\u001b[0m\u001b[0mforward\u001b[0m\u001b[0;34m(\u001b[0m\u001b[0;34m*\u001b[0m\u001b[0minput\u001b[0m\u001b[0;34m,\u001b[0m \u001b[0;34m**\u001b[0m\u001b[0mkwargs\u001b[0m\u001b[0;34m)\u001b[0m\u001b[0;34m\u001b[0m\u001b[0;34m\u001b[0m\u001b[0m\n\u001b[0m\u001b[1;32m    478\u001b[0m         \u001b[0;32mfor\u001b[0m \u001b[0mhook\u001b[0m \u001b[0;32min\u001b[0m \u001b[0mself\u001b[0m\u001b[0;34m.\u001b[0m\u001b[0m_forward_hooks\u001b[0m\u001b[0;34m.\u001b[0m\u001b[0mvalues\u001b[0m\u001b[0;34m(\u001b[0m\u001b[0;34m)\u001b[0m\u001b[0;34m:\u001b[0m\u001b[0;34m\u001b[0m\u001b[0;34m\u001b[0m\u001b[0m\n\u001b[1;32m    479\u001b[0m             \u001b[0mhook_result\u001b[0m \u001b[0;34m=\u001b[0m \u001b[0mhook\u001b[0m\u001b[0;34m(\u001b[0m\u001b[0mself\u001b[0m\u001b[0;34m,\u001b[0m \u001b[0minput\u001b[0m\u001b[0;34m,\u001b[0m \u001b[0mresult\u001b[0m\u001b[0;34m)\u001b[0m\u001b[0;34m\u001b[0m\u001b[0;34m\u001b[0m\u001b[0m\n",
      "\u001b[0;32m~/miniconda3/envs/pytorch/lib/python3.7/site-packages/torch/nn/modules/linear.py\u001b[0m in \u001b[0;36mforward\u001b[0;34m(self, input)\u001b[0m\n\u001b[1;32m     53\u001b[0m \u001b[0;34m\u001b[0m\u001b[0m\n\u001b[1;32m     54\u001b[0m     \u001b[0;32mdef\u001b[0m \u001b[0mforward\u001b[0m\u001b[0;34m(\u001b[0m\u001b[0mself\u001b[0m\u001b[0;34m,\u001b[0m \u001b[0minput\u001b[0m\u001b[0;34m)\u001b[0m\u001b[0;34m:\u001b[0m\u001b[0;34m\u001b[0m\u001b[0;34m\u001b[0m\u001b[0m\n\u001b[0;32m---> 55\u001b[0;31m         \u001b[0;32mreturn\u001b[0m \u001b[0mF\u001b[0m\u001b[0;34m.\u001b[0m\u001b[0mlinear\u001b[0m\u001b[0;34m(\u001b[0m\u001b[0minput\u001b[0m\u001b[0;34m,\u001b[0m \u001b[0mself\u001b[0m\u001b[0;34m.\u001b[0m\u001b[0mweight\u001b[0m\u001b[0;34m,\u001b[0m \u001b[0mself\u001b[0m\u001b[0;34m.\u001b[0m\u001b[0mbias\u001b[0m\u001b[0;34m)\u001b[0m\u001b[0;34m\u001b[0m\u001b[0;34m\u001b[0m\u001b[0m\n\u001b[0m\u001b[1;32m     56\u001b[0m \u001b[0;34m\u001b[0m\u001b[0m\n\u001b[1;32m     57\u001b[0m     \u001b[0;32mdef\u001b[0m \u001b[0mextra_repr\u001b[0m\u001b[0;34m(\u001b[0m\u001b[0mself\u001b[0m\u001b[0;34m)\u001b[0m\u001b[0;34m:\u001b[0m\u001b[0;34m\u001b[0m\u001b[0;34m\u001b[0m\u001b[0m\n",
      "\u001b[0;32m~/miniconda3/envs/pytorch/lib/python3.7/site-packages/torch/nn/functional.py\u001b[0m in \u001b[0;36mlinear\u001b[0;34m(input, weight, bias)\u001b[0m\n\u001b[1;32m   1024\u001b[0m         \u001b[0;32mreturn\u001b[0m \u001b[0mtorch\u001b[0m\u001b[0;34m.\u001b[0m\u001b[0maddmm\u001b[0m\u001b[0;34m(\u001b[0m\u001b[0mbias\u001b[0m\u001b[0;34m,\u001b[0m \u001b[0minput\u001b[0m\u001b[0;34m,\u001b[0m \u001b[0mweight\u001b[0m\u001b[0;34m.\u001b[0m\u001b[0mt\u001b[0m\u001b[0;34m(\u001b[0m\u001b[0;34m)\u001b[0m\u001b[0;34m)\u001b[0m\u001b[0;34m\u001b[0m\u001b[0;34m\u001b[0m\u001b[0m\n\u001b[1;32m   1025\u001b[0m \u001b[0;34m\u001b[0m\u001b[0m\n\u001b[0;32m-> 1026\u001b[0;31m     \u001b[0moutput\u001b[0m \u001b[0;34m=\u001b[0m \u001b[0minput\u001b[0m\u001b[0;34m.\u001b[0m\u001b[0mmatmul\u001b[0m\u001b[0;34m(\u001b[0m\u001b[0mweight\u001b[0m\u001b[0;34m.\u001b[0m\u001b[0mt\u001b[0m\u001b[0;34m(\u001b[0m\u001b[0;34m)\u001b[0m\u001b[0;34m)\u001b[0m\u001b[0;34m\u001b[0m\u001b[0;34m\u001b[0m\u001b[0m\n\u001b[0m\u001b[1;32m   1027\u001b[0m     \u001b[0;32mif\u001b[0m \u001b[0mbias\u001b[0m \u001b[0;32mis\u001b[0m \u001b[0;32mnot\u001b[0m \u001b[0;32mNone\u001b[0m\u001b[0;34m:\u001b[0m\u001b[0;34m\u001b[0m\u001b[0;34m\u001b[0m\u001b[0m\n\u001b[1;32m   1028\u001b[0m         \u001b[0moutput\u001b[0m \u001b[0;34m+=\u001b[0m \u001b[0mbias\u001b[0m\u001b[0;34m\u001b[0m\u001b[0;34m\u001b[0m\u001b[0m\n",
      "\u001b[0;31mKeyboardInterrupt\u001b[0m: "
     ]
    }
   ],
   "source": [
    "process_dim = 2\n",
    "hidden_size = 64\n",
    "model = HawkesDecayRNN(process_dim, hidden_size)\n",
    "optimizer = torch.optim.Adam(model.parameters(), lr=0.020)\n",
    "\n",
    "# Training parameters\n",
    "BATCH_SIZE = 32\n",
    "EPOCHS = 6\n",
    "\n",
    "loss_hist, train_hist = train_decayrnn(\n",
    "    model, optimizer, train_times_tensor,\n",
    "    train_seq_types, train_seq_lengths, tmax,\n",
    "    BATCH_SIZE, EPOCHS, use_jupyter=True)"
   ]
  },
  {
   "cell_type": "code",
   "execution_count": 188,
   "metadata": {
    "scrolled": false
   },
   "outputs": [
    {
     "data": {
      "image/png": "[encoded data removed]",
      "text/plain": [
       "<Figure size 800x400 with 1 Axes>"
      ]
     },
     "metadata": {
      "needs_background": "light"
     },
     "output_type": "display_data"
    }
   ],
   "source": [
    "_ = plot_loss(EPOCHS, loss_hist)"
   ]
  },
  {
   "cell_type": "code",
   "execution_count": 189,
   "metadata": {},
   "outputs": [],
   "source": [
    "import datetime\n",
    "# Generate save params to record the model\n",
    "# Model file dump\n",
    "SAVED_MODELS_PATH = '../saved_models'\n",
    "os.makedirs(SAVED_MODELS_PATH, exist_ok=True)\n",
    "# print(\"Saved models directory: {}\".format(SAVED_MODELS_PATH))"
   ]
  },
  {
   "cell_type": "code",
   "execution_count": 190,
   "metadata": {},
   "outputs": [],
   "source": [
    "# This cell resets the timestamp !!\n",
    "date_format = \"%Y%m%d-%H%M%S\"\n",
    "now_timestamp = datetime.datetime.now().strftime(date_format)\n",
    "extra_tag = \"{}d\".format(process_dim)"
   ]
  },
  {
   "cell_type": "markdown",
   "metadata": {},
   "source": [
    "Now we save the model down to a file, and record the data files on which it was trained."
   ]
  },
  {
   "cell_type": "code",
   "execution_count": 193,
   "metadata": {},
   "outputs": [
    {
     "name": "stdout",
     "output_type": "stream",
     "text": [
      "Model save file path: ../saved_models/HawkesDecayRNN-1d_hidden32-20181202-141923.pth\n"
     ]
    }
   ],
   "source": [
    "import json\n",
    "\n",
    "filename_base = \"{}-{}_hidden{}-{}\".format(\n",
    "    model.__class__.__name__, extra_tag,\n",
    "    hidden_size, now_timestamp)\n",
    "filename_model_save = filename_base + \".pth\"\n",
    "model_filepath = os.path.join(SAVED_MODELS_PATH, filename_model_save)\n",
    "print(\"Model save file path: {}\".format(model_filepath))"
   ]
  },
  {
   "cell_type": "code",
   "execution_count": 194,
   "metadata": {},
   "outputs": [
    {
     "name": "stdout",
     "output_type": "stream",
     "text": [
      "{'model_path': '../saved_models/HawkesDecayRNN-1d_hidden32-20181202-141923.pth', 'data_path': '../data/simulated/hawkes_synthetic_exp_1d_20181202-135203.pkl'}\n"
     ]
    }
   ],
   "source": [
    "file_correspondance = {\n",
    "    \"model_path\": model_filepath,\n",
    "    \"data_path\": chosen_data_file\n",
    "}\n",
    "print(file_correspondance)"
   ]
  },
  {
   "cell_type": "code",
   "execution_count": 195,
   "metadata": {},
   "outputs": [
    {
     "name": "stdout",
     "output_type": "stream",
     "text": [
      "Saving model state dict to ../saved_models/HawkesDecayRNN-1d_hidden32-20181202-141923.pth\n"
     ]
    }
   ],
   "source": [
    "with open(os.path.join(SAVED_MODELS_PATH, \"train_data_correspondance.jsonl\"), \"a\") as f:\n",
    "    json.dump(file_correspondance, f)\n",
    "\n",
    "print(\"Saving model state dict to {}\".format(model_filepath))\n",
    "torch.save(model.state_dict(), model_filepath)"
   ]
  },
  {
   "cell_type": "markdown",
   "metadata": {},
   "source": [
    "# Model evaluation"
   ]
  },
  {
   "cell_type": "code",
   "execution_count": 176,
   "metadata": {},
   "outputs": [],
   "source": [
    "tmax = 3600"
   ]
  },
  {
   "cell_type": "markdown",
   "metadata": {},
   "source": [
    "Let us load up a model"
   ]
  },
  {
   "cell_type": "code",
   "execution_count": 251,
   "metadata": {},
   "outputs": [],
   "source": [
    "from models.decayrnn import HawkesDecayRNN, HawkesRNNGen"
   ]
  },
  {
   "cell_type": "code",
   "execution_count": 178,
   "metadata": {},
   "outputs": [
    {
     "name": "stdout",
     "output_type": "stream",
     "text": [
      "../saved_models/HawkesDecayRNN-2d_hidden64-20181209-003122.pth\n",
      "../saved_models/HawkesLSTM-2d_hidden64-20181207-232335.pth\n",
      "../saved_models/HawkesLSTM-1d_hidden64-20181206-235311.pth\n",
      "../saved_models/HawkesDecayRNN-1d_hidden64-20181206-234848.pth\n"
     ]
    }
   ],
   "source": [
    "MODEL_FILES = glob.glob(\"../saved_models/*.pth\")\n",
    "for p in MODEL_FILES:\n",
    "    print(p)"
   ]
  },
  {
   "cell_type": "code",
   "execution_count": 179,
   "metadata": {},
   "outputs": [
    {
     "name": "stdout",
     "output_type": "stream",
     "text": [
      "chosen file: ../saved_models/HawkesDecayRNN-2d_hidden64-20181209-003122.pth\n",
      "20181209-003122\n"
     ]
    }
   ],
   "source": [
    "load_filename = MODEL_FILES[0]\n",
    "print(\"chosen file:\", load_filename)\n",
    "\n",
    "load_file_timestamp = \"-\".join(os.path.splitext(os.path.basename(load_filename))[0].split('-')[-2:])\n",
    "print(load_file_timestamp)"
   ]
  },
  {
   "cell_type": "code",
   "execution_count": 180,
   "metadata": {},
   "outputs": [
    {
     "name": "stdout",
     "output_type": "stream",
     "text": [
      "Hidden size: 64\n"
     ]
    }
   ],
   "source": [
    "process_dim = 2\n",
    "hidden_size = 64\n",
    "print(\"Hidden size: {}\".format(hidden_size))\n",
    "model = HawkesDecayRNN(process_dim, hidden_size)\n",
    "\n",
    "model.load_state_dict(torch.load(load_filename, map_location={\"cuda:0\": \"cpu\"}))"
   ]
  },
  {
   "cell_type": "markdown",
   "metadata": {},
   "source": [
    "## Sequence generation"
   ]
  },
  {
   "cell_type": "markdown",
   "metadata": {},
   "source": [
    "### Untrained model, random weights"
   ]
  },
  {
   "cell_type": "code",
   "execution_count": 252,
   "metadata": {},
   "outputs": [
    {
     "name": "stdout",
     "output_type": "stream",
     "text": [
      "Real end time: 3600\n"
     ]
    }
   ],
   "source": [
    "print(\"Real end time: {}\".format(tmax))"
   ]
  },
  {
   "cell_type": "code",
   "execution_count": 253,
   "metadata": {},
   "outputs": [
    {
     "name": "stdout",
     "output_type": "stream",
     "text": [
      "Process model dim:\t2\tHidden units:\t64\n"
     ]
    }
   ],
   "source": [
    "raw_model = HawkesDecayRNN(2, hidden_size)\n",
    "generator_base = HawkesRNNGen(raw_model)"
   ]
  },
  {
   "cell_type": "code",
   "execution_count": 258,
   "metadata": {},
   "outputs": [
    {
     "name": "stdout",
     "output_type": "stream",
     "text": [
      "no. of events: 12\n",
      "0: type 0\n",
      "1: type 1\n"
     ]
    },
    {
     "data": {
      "image/png": "[encoded data removed]",
      "text/plain": [
       "<Figure size 900x400 with 1 Axes>"
      ]
     },
     "metadata": {
      "needs_background": "light"
     },
     "output_type": "display_data"
    }
   ],
   "source": [
    "tmax_simu = 60\n",
    "generator_base.generate_sequence(tmax_simu, record_intensity=True)\n",
    "\n",
    "fig = generator_base.plot_events_and_intensity(debug=False)\n",
    "fig.tight_layout()"
   ]
  },
  {
   "cell_type": "markdown",
   "metadata": {},
   "source": [
    "### On trained model"
   ]
  },
  {
   "cell_type": "code",
   "execution_count": 181,
   "metadata": {
    "scrolled": false
   },
   "outputs": [
    {
     "name": "stdout",
     "output_type": "stream",
     "text": [
      "HawkesDecayRNN\n"
     ]
    }
   ],
   "source": [
    "RESULT_BASEDIR = \"../results\"\n",
    "\n",
    "MODEL_NAME = model.__class__.__name__\n",
    "print(MODEL_NAME)"
   ]
  },
  {
   "cell_type": "code",
   "execution_count": 182,
   "metadata": {},
   "outputs": [
    {
     "name": "stdout",
     "output_type": "stream",
     "text": [
      "Process model dim:\t2\tHidden units:\t64\n"
     ]
    }
   ],
   "source": [
    "generator = HawkesRNNGen(model, record_intensity=False)"
   ]
  },
  {
   "cell_type": "code",
   "execution_count": 262,
   "metadata": {},
   "outputs": [
    {
     "name": "stdout",
     "output_type": "stream",
     "text": [
      "no. of events: 33\n",
      "0: type 0\n",
      "1: type 1\n"
     ]
    },
    {
     "data": {
      "image/png": "[encoded data removed]",
      "text/plain": [
       "<Figure size 900x400 with 1 Axes>"
      ]
     },
     "metadata": {
      "needs_background": "light"
     },
     "output_type": "display_data"
    }
   ],
   "source": [
    "tmax_simu = 60\n",
    "generator.generate_sequence(tmax_simu, record_intensity=True)\n",
    "fig_intensity_stream = generator.plot_events_and_intensity()"
   ]
  },
  {
   "cell_type": "code",
   "execution_count": 192,
   "metadata": {},
   "outputs": [],
   "source": [
    "fig_intensity_stream.savefig(\"../results/intensity_{}_{}d_hidden{}_{}.pdf\".format(\n",
    "    MODEL_NAME, process_dim, hidden_size, load_file_timestamp))"
   ]
  },
  {
   "cell_type": "markdown",
   "metadata": {},
   "source": [
    "## Sequence length distribution"
   ]
  },
  {
   "cell_type": "code",
   "execution_count": null,
   "metadata": {},
   "outputs": [],
   "source": []
  },
  {
   "cell_type": "code",
   "execution_count": null,
   "metadata": {},
   "outputs": [],
   "source": []
  },
  {
   "cell_type": "code",
   "execution_count": 193,
   "metadata": {},
   "outputs": [],
   "source": [
    "from utils import evaluation"
   ]
  },
  {
   "cell_type": "code",
   "execution_count": 199,
   "metadata": {},
   "outputs": [],
   "source": [
    "generator.generate_sequence(tmax)"
   ]
  },
  {
   "cell_type": "code",
   "execution_count": 200,
   "metadata": {},
   "outputs": [
    {
     "name": "stdout",
     "output_type": "stream",
     "text": [
      "1426\n",
      "4126\n"
     ]
    }
   ],
   "source": [
    "print(len(generator.event_times))\n",
    "print(len(generator._plot_times))"
   ]
  },
  {
   "cell_type": "code",
   "execution_count": 362,
   "metadata": {
    "scrolled": false
   },
   "outputs": [
    {
     "ename": "KeyboardInterrupt",
     "evalue": "",
     "output_type": "error",
     "traceback": [
      "\u001b[0;31m---------------------------------------------------------------------------\u001b[0m",
      "\u001b[0;31mKeyboardInterrupt\u001b[0m                         Traceback (most recent call last)",
      "\u001b[0;32m<ipython-input-362-9f8dc0070195>\u001b[0m in \u001b[0;36m<module>\u001b[0;34m\u001b[0m\n\u001b[0;32m----> 1\u001b[0;31m \u001b[0mgen_seq_lengths\u001b[0m\u001b[0;34m,\u001b[0m \u001b[0mgen_seq_types_lengths\u001b[0m \u001b[0;34m=\u001b[0m \u001b[0mevaluation\u001b[0m\u001b[0;34m.\u001b[0m\u001b[0mgenerate_multiple_sequences\u001b[0m\u001b[0;34m(\u001b[0m\u001b[0mgenerator\u001b[0m\u001b[0;34m,\u001b[0m \u001b[0mtmax\u001b[0m\u001b[0;34m)\u001b[0m\u001b[0;34m\u001b[0m\u001b[0;34m\u001b[0m\u001b[0m\n\u001b[0m",
      "\u001b[0;32m~/Documents/etudes/map511-p3a/utils/evaluation.py\u001b[0m in \u001b[0;36mgenerate_multiple_sequences\u001b[0;34m(generator, tmax, n_gen_seq)\u001b[0m\n\u001b[1;32m     16\u001b[0m     \u001b[0mgen_seq_types_lengths\u001b[0m \u001b[0;34m=\u001b[0m \u001b[0;34m[\u001b[0m\u001b[0;34m]\u001b[0m\u001b[0;34m\u001b[0m\u001b[0;34m\u001b[0m\u001b[0m\n\u001b[1;32m     17\u001b[0m     \u001b[0;32mfor\u001b[0m \u001b[0mi\u001b[0m \u001b[0;32min\u001b[0m \u001b[0mrange\u001b[0m\u001b[0;34m(\u001b[0m\u001b[0mn_gen_seq\u001b[0m\u001b[0;34m)\u001b[0m\u001b[0;34m:\u001b[0m\u001b[0;34m\u001b[0m\u001b[0;34m\u001b[0m\u001b[0m\n\u001b[0;32m---> 18\u001b[0;31m         \u001b[0mgenerator\u001b[0m\u001b[0;34m.\u001b[0m\u001b[0mgenerate_sequence\u001b[0m\u001b[0;34m(\u001b[0m\u001b[0mtmax\u001b[0m\u001b[0;34m,\u001b[0m \u001b[0mrecord_intensity\u001b[0m\u001b[0;34m=\u001b[0m\u001b[0;32mFalse\u001b[0m\u001b[0;34m)\u001b[0m\u001b[0;34m\u001b[0m\u001b[0;34m\u001b[0m\u001b[0m\n\u001b[0m\u001b[1;32m     19\u001b[0m         \u001b[0mgen_seq_times\u001b[0m \u001b[0;34m=\u001b[0m \u001b[0mgenerator\u001b[0m\u001b[0;34m.\u001b[0m\u001b[0mevent_times\u001b[0m\u001b[0;34m\u001b[0m\u001b[0;34m\u001b[0m\u001b[0m\n\u001b[1;32m     20\u001b[0m         \u001b[0mgen_seq_types\u001b[0m \u001b[0;34m=\u001b[0m \u001b[0mnp\u001b[0m\u001b[0;34m.\u001b[0m\u001b[0marray\u001b[0m\u001b[0;34m(\u001b[0m\u001b[0mgenerator\u001b[0m\u001b[0;34m.\u001b[0m\u001b[0mevent_types\u001b[0m\u001b[0;34m)\u001b[0m\u001b[0;34m\u001b[0m\u001b[0;34m\u001b[0m\u001b[0m\n",
      "\u001b[0;32m~/Documents/etudes/map511-p3a/models/decayrnn.py\u001b[0m in \u001b[0;36mgenerate_sequence\u001b[0;34m(self, tmax, record_intensity, mult_ub)\u001b[0m\n\u001b[1;32m    269\u001b[0m                 \u001b[0;31m# adaptive sampling: always update the hidden state\u001b[0m\u001b[0;34m\u001b[0m\u001b[0;34m\u001b[0m\u001b[0;34m\u001b[0m\u001b[0m\n\u001b[1;32m    270\u001b[0m                 \u001b[0mhidden\u001b[0m \u001b[0;34m=\u001b[0m \u001b[0mhidden\u001b[0m \u001b[0;34m*\u001b[0m \u001b[0mtorch\u001b[0m\u001b[0;34m.\u001b[0m\u001b[0mexp\u001b[0m\u001b[0;34m(\u001b[0m\u001b[0;34m-\u001b[0m\u001b[0mdecay\u001b[0m \u001b[0;34m*\u001b[0m \u001b[0mds\u001b[0m\u001b[0;34m)\u001b[0m\u001b[0;34m\u001b[0m\u001b[0;34m\u001b[0m\u001b[0m\n\u001b[0;32m--> 271\u001b[0;31m                 \u001b[0mmax_lbda\u001b[0m \u001b[0;34m=\u001b[0m \u001b[0mmult_ub\u001b[0m \u001b[0;34m*\u001b[0m \u001b[0mself\u001b[0m\u001b[0;34m.\u001b[0m\u001b[0mupdate_lbda_bound\u001b[0m\u001b[0;34m(\u001b[0m\u001b[0mhidden\u001b[0m\u001b[0;34m)\u001b[0m\u001b[0;34m.\u001b[0m\u001b[0msum\u001b[0m\u001b[0;34m(\u001b[0m\u001b[0;34m)\u001b[0m\u001b[0;34m\u001b[0m\u001b[0;34m\u001b[0m\u001b[0m\n\u001b[0m\u001b[1;32m    272\u001b[0m                 \u001b[0mintens_candidate\u001b[0m \u001b[0;34m=\u001b[0m \u001b[0mmodel\u001b[0m\u001b[0;34m.\u001b[0m\u001b[0mintensity_layer\u001b[0m\u001b[0;34m(\u001b[0m\u001b[0mhidden\u001b[0m\u001b[0;34m)\u001b[0m\u001b[0;34m\u001b[0m\u001b[0;34m\u001b[0m\u001b[0m\n\u001b[1;32m    273\u001b[0m                 \u001b[0mself\u001b[0m\u001b[0;34m.\u001b[0m\u001b[0mintens_hist\u001b[0m\u001b[0;34m.\u001b[0m\u001b[0mappend\u001b[0m\u001b[0;34m(\u001b[0m\u001b[0mintens_candidate\u001b[0m\u001b[0;34m.\u001b[0m\u001b[0mnumpy\u001b[0m\u001b[0;34m(\u001b[0m\u001b[0;34m)\u001b[0m\u001b[0;34m)\u001b[0m\u001b[0;34m\u001b[0m\u001b[0;34m\u001b[0m\u001b[0m\n",
      "\u001b[0;32m~/Documents/etudes/map511-p3a/models/decayrnn.py\u001b[0m in \u001b[0;36mupdate_lbda_bound\u001b[0;34m(self, hidden)\u001b[0m\n\u001b[1;32m    217\u001b[0m         \u001b[0mmatrix\u001b[0m \u001b[0;34m=\u001b[0m \u001b[0mw_alpha\u001b[0m\u001b[0;34m*\u001b[0m\u001b[0mhidden\u001b[0m\u001b[0;34m\u001b[0m\u001b[0;34m\u001b[0m\u001b[0m\n\u001b[1;32m    218\u001b[0m         \u001b[0mmatrix\u001b[0m\u001b[0;34m[\u001b[0m\u001b[0mincreasing_index_\u001b[0m\u001b[0;34m]\u001b[0m \u001b[0;34m=\u001b[0m \u001b[0;36m0.0\u001b[0m\u001b[0;34m\u001b[0m\u001b[0;34m\u001b[0m\u001b[0m\n\u001b[0;32m--> 219\u001b[0;31m         \u001b[0mpre_lbda\u001b[0m \u001b[0;34m=\u001b[0m \u001b[0mtorch\u001b[0m\u001b[0;34m.\u001b[0m\u001b[0msum\u001b[0m\u001b[0;34m(\u001b[0m\u001b[0mmatrix\u001b[0m\u001b[0;34m,\u001b[0m \u001b[0mdim\u001b[0m\u001b[0;34m=\u001b[0m\u001b[0;36m1\u001b[0m\u001b[0;34m)\u001b[0m\u001b[0;34m\u001b[0m\u001b[0;34m\u001b[0m\u001b[0m\n\u001b[0m\u001b[1;32m    220\u001b[0m         \u001b[0;32mreturn\u001b[0m \u001b[0mself\u001b[0m\u001b[0;34m.\u001b[0m\u001b[0mmodel\u001b[0m\u001b[0;34m.\u001b[0m\u001b[0mintensity_layer\u001b[0m\u001b[0;34m[\u001b[0m\u001b[0;36m1\u001b[0m\u001b[0;34m]\u001b[0m\u001b[0;34m(\u001b[0m\u001b[0mpre_lbda\u001b[0m\u001b[0;34m)\u001b[0m\u001b[0;34m\u001b[0m\u001b[0;34m\u001b[0m\u001b[0m\n\u001b[1;32m    221\u001b[0m \u001b[0;34m\u001b[0m\u001b[0m\n",
      "\u001b[0;31mKeyboardInterrupt\u001b[0m: "
     ]
    }
   ],
   "source": [
    "gen_seq_lengths, gen_seq_types_lengths = evaluation.generate_multiple_sequences(generator, tmax)"
   ]
  },
  {
   "cell_type": "code",
   "execution_count": 109,
   "metadata": {
    "scrolled": false
   },
   "outputs": [
    {
     "data": {
      "image/png": "[encoded data removed]",
      "text/plain": [
       "<Figure size 800x400 with 1 Axes>"
      ]
     },
     "metadata": {
      "needs_background": "light"
     },
     "output_type": "display_data"
    }
   ],
   "source": [
    "if process_dim > 1:\n",
    "    num_plots = process_dim + 1\n",
    "else:\n",
    "    num_plots = 1\n",
    "fig, axes = plt.subplots(num_plots, 1, figsize=(8,4+(num_plots-1)*3), dpi=100)\n",
    "ax0 = axes[0] if num_plots > 1 else axes\n",
    "hist_opts = {\n",
    "    \"rwidth\": 0.8,\n",
    "    \"alpha\": 0.4,\n",
    "    \"density\": True\n",
    "}\n",
    "gen_label = \"Sequence lengths (generated by {:})\".format(MODEL_NAME)\n",
    "_ = ax0.hist(seq_lengths, bins=2*int(n_gen_seq**(1/3)),\n",
    "            label=\"Sequence lengths (base model)\",\n",
    "            **hist_opts)\n",
    "_ = ax0.hist(gen_seq_lengths, bins=2*int(n_gen_seq**(1/3)),\n",
    "            label=gen_label,\n",
    "            color='red', **hist_opts)\n",
    "ax0.legend()\n",
    "if num_plots > 1:\n",
    "    ax0.set_title('no. of events (all types, including starter type)')\n",
    "else:\n",
    "    ax0.set_title('no. of  events')\n",
    "ax0.set_ylabel('Proportion')\n",
    "ax0.set_xlabel('Number of events $N_T$')\n",
    "if num_plots > 1:\n",
    "    axt = axes[1:]\n",
    "    for i, ax in enumerate(axt):\n",
    "        # get the sequence lengths for the event types\n",
    "        typ_seq_lengths = (seq_types == i).sum(dim=1)\n",
    "        gen_typ_seq_lengths = gen_seq_types_lengths[:, i]\n",
    "        ax.hist(typ_seq_lengths, bins=2*int(typ_seq_lengths.size(0)**(1/3)),\n",
    "                label=\"Sequence lengths (base model)\",\n",
    "                **hist_opts)\n",
    "        ax.hist(gen_typ_seq_lengths,\n",
    "                bins=2*int(gen_typ_seq_lengths.shape[0]**(1/3)),\n",
    "                label=gen_label,\n",
    "                color='red', **hist_opts)\n",
    "        ax.set_xlabel(\"Number of events of type {}, $N_T^{}$\".format(i, i))\n",
    "        ax.set_title('no. of events of type $i={}$'.format(i))\n",
    "\n",
    "fig.tight_layout()"
   ]
  },
  {
   "cell_type": "code",
   "execution_count": 110,
   "metadata": {},
   "outputs": [],
   "source": [
    "os.makedirs(RESULT_BASEDIR, exist_ok=True)\n",
    "model_perf_indicator = \"length_distrib\"\n",
    "distrib_plot_filepath = \"{:}/{:}_{:}-{}-hidden_{}-{}.pdf\".format(\n",
    "    RESULT_BASEDIR, model_perf_indicator, MODEL_NAME,\n",
    "    extra_tag, model.hidden_size, load_file_timestamp)\n",
    "fig.savefig(distrib_plot_filepath)"
   ]
  },
  {
   "cell_type": "markdown",
   "metadata": {},
   "source": [
    "## Event prediction"
   ]
  },
  {
   "cell_type": "markdown",
   "metadata": {},
   "source": [
    "The $L_2$-wise best estimator for the next event occurrence time is given by"
   ]
  },
  {
   "cell_type": "markdown",
   "metadata": {},
   "source": [
    "$$\n",
    "\\begin{aligned}\n",
    "    \\hat{t}_i &= \\mathbb{E}[t_i\\mid\\mathcal F_{t_{i-1}}] \\\\\n",
    "    &= t_{i-1} + \\int_0^\\infty u p_i(u)\\, du\n",
    "\\end{aligned}\n",
    "$$"
   ]
  },
  {
   "cell_type": "code",
   "execution_count": 201,
   "metadata": {},
   "outputs": [],
   "source": [
    "import tqdm\n",
    "from models.decayrnn import read_predict"
   ]
  },
  {
   "cell_type": "code",
   "execution_count": 202,
   "metadata": {},
   "outputs": [
    {
     "name": "stdout",
     "output_type": "stream",
     "text": [
      "4000\n"
     ]
    }
   ],
   "source": [
    "dataset_size = seq_times.shape[0]\n",
    "print(dataset_size)\n",
    "\n",
    "train_size = 3000\n",
    "test_size = 1000"
   ]
  },
  {
   "cell_type": "code",
   "execution_count": 239,
   "metadata": {},
   "outputs": [
    {
     "name": "stdout",
     "output_type": "stream",
     "text": [
      "3986\n",
      "last event: time 3594.855 type 1.000\n",
      "next event: time 3599.079 type 1.000, in 4.225\n",
      "type probabilities: tensor([0.1044, 0.8756])\n",
      "(tensor(2.3181), tensor(4.2246), tensor(3.6346), tensor(1), tensor(1))\n"
     ]
    },
    {
     "data": {
      "image/png": "[encoded data removed]",
      "text/plain": [
       "<Figure size 1000x400 with 2 Axes>"
      ]
     },
     "metadata": {
      "needs_background": "light"
     },
     "output_type": "display_data"
    }
   ],
   "source": [
    "my_index = torch.randint(0, dataset_size, (1,)).int().item()\n",
    "print(my_index)\n",
    "\n",
    "_seq_data = (seq_times[my_index],\n",
    "             seq_types[my_index],\n",
    "             seq_lengths[my_index])\n",
    "\n",
    "restup, fig = read_predict(model, *_seq_data, plot=True, print_info=True)\n",
    "print(restup)"
   ]
  },
  {
   "cell_type": "code",
   "execution_count": null,
   "metadata": {},
   "outputs": [],
   "source": []
  },
  {
   "cell_type": "code",
   "execution_count": 385,
   "metadata": {},
   "outputs": [],
   "source": [
    "fig.savefig('decayrnn_2d_prediction_graphs__.pdf')"
   ]
  },
  {
   "cell_type": "code",
   "execution_count": null,
   "metadata": {},
   "outputs": [],
   "source": []
  },
  {
   "cell_type": "code",
   "execution_count": 240,
   "metadata": {},
   "outputs": [
    {
     "data": {
      "application/vnd.jupyter.widget-view+json": {
       "model_id": "723c548572194ba4b90d51e39c30c331",
       "version_major": 2,
       "version_minor": 0
      },
      "text/plain": [
       "HBox(children=(IntProgress(value=0, max=1000), HTML(value='')))"
      ]
     },
     "metadata": {},
     "output_type": "display_data"
    }
   ],
   "source": [
    "estimates = []\n",
    "real_incrs = []\n",
    "errors = []\n",
    "real_types = []\n",
    "est_types = []\n",
    "index_range_ = tqdm.tnrange(3000, 3000+test_size)\n",
    "for index_ in index_range_:\n",
    "    _seq_data = (seq_times[index_],\n",
    "                 seq_types[index_],\n",
    "                 seq_lengths[index_])\n",
    "\n",
    "    est, real_dt, err, real_type, est_type = read_predict(model, *_seq_data)\n",
    "    estimates.append(est)\n",
    "    real_incrs.append(real_dt)\n",
    "    errors.append(err)\n",
    "    real_types.append(real_type)\n",
    "    est_types.append(est_type)"
   ]
  },
  {
   "cell_type": "code",
   "execution_count": null,
   "metadata": {},
   "outputs": [],
   "source": []
  },
  {
   "cell_type": "code",
   "execution_count": null,
   "metadata": {},
   "outputs": [],
   "source": []
  },
  {
   "cell_type": "code",
   "execution_count": 245,
   "metadata": {},
   "outputs": [],
   "source": [
    "import json"
   ]
  },
  {
   "cell_type": "code",
   "execution_count": 246,
   "metadata": {},
   "outputs": [
    {
     "name": "stdout",
     "output_type": "stream",
     "text": [
      "5.718216667945721\n",
      "7483.122071459181\n",
      "0.3271615306834598\n"
     ]
    }
   ],
   "source": [
    "avg_rmse = np.sqrt(np.mean(errors), dtype=np.float64)\n",
    "print(avg_rmse)\n",
    "\n",
    "mse_var = np.var(errors, dtype=np.float64)\n",
    "print(mse_var)\n",
    "\n",
    "delta_meth_stderr = 1/test_size*mse_var/(4*avg_rmse)\n",
    "print(delta_meth_stderr)"
   ]
  },
  {
   "cell_type": "code",
   "execution_count": 247,
   "metadata": {},
   "outputs": [
    {
     "name": "stdout",
     "output_type": "stream",
     "text": [
      "0.522\n"
     ]
    }
   ],
   "source": [
    "real_types = np.array(real_types)\n",
    "est_types = np.array(est_types)\n",
    "\n",
    "error_types = np.mean((real_types - est_types) == 0)\n",
    "print(error_types)"
   ]
  },
  {
   "cell_type": "code",
   "execution_count": null,
   "metadata": {},
   "outputs": [],
   "source": []
  },
  {
   "cell_type": "code",
   "execution_count": 430,
   "metadata": {},
   "outputs": [
    {
     "data": {
      "text/plain": [
       "{'model_name': 'HawkesDecayRNN',\n",
       " 'process_dim': 2,\n",
       " 'hidden_size': 64,\n",
       " 'data_file': '../data/simulated/hawkes_synthetic_exp_2d_20181207-220402.pkl',\n",
       " 'avg_rmse': 5.220785326583495,\n",
       " 'var_mse': 4488.857833458602,\n",
       " 'std_rmse': 0.2149512742174045,\n",
       " 'error_types': 0.522}"
      ]
     },
     "execution_count": 430,
     "metadata": {},
     "output_type": "execute_result"
    }
   ],
   "source": [
    "predict_data = {\n",
    "    \"model_name\": MODEL_NAME,\n",
    "    \"process_dim\": process_dim,\n",
    "    \"hidden_size\": hidden_size,\n",
    "    \"data_file\": chosen_data_file,\n",
    "    \"avg_rmse\": avg_rmse,\n",
    "    \"var_mse\": mse_var,\n",
    "    \"std_rmse\": delta_meth_stderr,\n",
    "    \"error_types\": error_types\n",
    "}\n",
    "\n",
    "predict_data"
   ]
  },
  {
   "cell_type": "code",
   "execution_count": null,
   "metadata": {},
   "outputs": [],
   "source": []
  },
  {
   "cell_type": "code",
   "execution_count": 437,
   "metadata": {},
   "outputs": [],
   "source": [
    "predict_res_file = \"predict_results.json\""
   ]
  },
  {
   "cell_type": "code",
   "execution_count": 438,
   "metadata": {},
   "outputs": [
    {
     "data": {
      "text/plain": [
       "dict_keys(['model_name', 'process_dim', 'hidden_size', 'data_file', 'avg_rmse', 'var_mse', 'std_rmse', 'error_types'])"
      ]
     },
     "execution_count": 438,
     "metadata": {},
     "output_type": "execute_result"
    }
   ],
   "source": [
    "predict_data.keys()"
   ]
  },
  {
   "cell_type": "code",
   "execution_count": 439,
   "metadata": {},
   "outputs": [],
   "source": [
    "with open(predict_res_file, \"a\", encoding='utf-8', newline='\\n') as fp:\n",
    "    json.dump(predict_data, fp)"
   ]
  },
  {
   "cell_type": "code",
   "execution_count": null,
   "metadata": {},
   "outputs": [],
   "source": []
  },
  {
   "cell_type": "code",
   "execution_count": null,
   "metadata": {},
   "outputs": [],
   "source": []
  },
  {
   "cell_type": "code",
   "execution_count": null,
   "metadata": {},
   "outputs": [],
   "source": []
  },
  {
   "cell_type": "code",
   "execution_count": null,
   "metadata": {},
   "outputs": [],
   "source": []
  }
 ],
 "metadata": {
  "kernelspec": {
   "display_name": "Python [conda env:pytorch]",
   "language": "python",
   "name": "conda-env-pytorch-py"
  },
  "language_info": {
   "codemirror_mode": {
    "name": "ipython",
    "version": 3
   },
   "file_extension": ".py",
   "mimetype": "text/x-python",
   "name": "python",
   "nbconvert_exporter": "python",
   "pygments_lexer": "ipython3",
   "version": "3.7.1"
  }
 },
 "nbformat": 4,
 "nbformat_minor": 2
}
