{
 "cells": [
  {
   "cell_type": "code",
   "execution_count": 1,
   "metadata": {
    "scrolled": true
   },
   "outputs": [],
   "source": [
    "%matplotlib inline\n",
    "%load_ext autoreload\n",
    "%autoreload 2"
   ]
  },
  {
   "cell_type": "code",
   "execution_count": 2,
   "metadata": {},
   "outputs": [],
   "source": [
    "import matplotlib.pyplot as plt\n",
    "import matplotlib.ticker as mticker\n",
    "import numpy as np"
   ]
  },
  {
   "cell_type": "code",
   "execution_count": 3,
   "metadata": {},
   "outputs": [],
   "source": [
    "import torch\n",
    "from torch import nn"
   ]
  },
  {
   "cell_type": "code",
   "execution_count": 6,
   "metadata": {},
   "outputs": [
    {
     "data": {
      "text/plain": [
       "<torch._C.Generator at 0x7f118d35ed30>"
      ]
     },
     "execution_count": 6,
     "metadata": {},
     "output_type": "execute_result"
    }
   ],
   "source": [
    "torch.manual_seed(1)"
   ]
  },
  {
   "cell_type": "code",
   "execution_count": 4,
   "metadata": {},
   "outputs": [],
   "source": [
    "import os\n",
    "import sys\n",
    "import tqdm"
   ]
  },
  {
   "cell_type": "code",
   "execution_count": 5,
   "metadata": {},
   "outputs": [
    {
     "name": "stdout",
     "output_type": "stream",
     "text": [
      "Notebook dir /home/manifold/Documents/etudes/map511-p3a\n",
      "Python interpreter path:\n",
      "\n",
      "/home/manifold/Documents/etudes/map511-p3a/notebooks\n",
      "/home/manifold/miniconda3/envs/pytorch/lib/python37.zip\n",
      "/home/manifold/miniconda3/envs/pytorch/lib/python3.7\n",
      "/home/manifold/miniconda3/envs/pytorch/lib/python3.7/lib-dynload\n",
      "/home/manifold/miniconda3/envs/pytorch/lib/python3.7/site-packages\n",
      "/home/manifold/miniconda3/envs/pytorch/lib/python3.7/site-packages/pointprocesses-0.4.1-py3.7-linux-x86_64.egg\n",
      "/home/manifold/miniconda3/envs/pytorch/lib/python3.7/site-packages/torchvision-0.2.1-py3.7.egg\n",
      "/home/manifold/miniconda3/envs/pytorch/lib/python3.7/site-packages/IPython/extensions\n",
      "/home/manifold/.ipython\n",
      "/home/manifold/Documents/etudes/map511-p3a\n"
     ]
    }
   ],
   "source": [
    "# Add parent dir to interpreter path\n",
    "nb_dir = os.path.split(os.getcwd())[0]\n",
    "print(\"Notebook dir {:}\".format(nb_dir))\n",
    "if nb_dir not in sys.path:\n",
    "    sys.path.append(nb_dir)\n",
    "print(\"Python interpreter path:\")\n",
    "for path in sys.path:\n",
    "    print(path)"
   ]
  },
  {
   "cell_type": "markdown",
   "metadata": {},
   "source": [
    "# Loading synthetic data"
   ]
  },
  {
   "cell_type": "markdown",
   "metadata": {},
   "source": [
    "We will be loading simulated Hawkes data."
   ]
  },
  {
   "cell_type": "code",
   "execution_count": 225,
   "metadata": {},
   "outputs": [],
   "source": [
    "import glob\n",
    "import pickle"
   ]
  },
  {
   "cell_type": "code",
   "execution_count": 226,
   "metadata": {},
   "outputs": [
    {
     "data": {
      "text/plain": [
       "['../data/simulated/hawkes_synth_data_1d.pkl',\n",
       " '../data/simulated/hawkes_synth_data_2d.pkl',\n",
       " '../data/simulated/README.md']"
      ]
     },
     "execution_count": 226,
     "metadata": {},
     "output_type": "execute_result"
    }
   ],
   "source": [
    "glob.glob('../data/simulated/*')"
   ]
  },
  {
   "cell_type": "code",
   "execution_count": 227,
   "metadata": {},
   "outputs": [],
   "source": [
    "def process_loaded_sequences(loaded_hawkes_data: dict):\n",
    "    # Tensor of sequence lengths\n",
    "    seq_lengths = torch.Tensor(loaded_hawkes_data['lengths']).int()\n",
    "    # Reorder by decreasing order for PyTorch to understand\n",
    "    seq_lengths, reorder_indices_ = seq_lengths.sort(descending=True)\n",
    "\n",
    "    event_times_list = loaded_hawkes_data['timestamps']\n",
    "    event_types_list = loaded_hawkes_data['types']\n",
    "    event_times_list = [torch.from_numpy(e) for e in event_times_list]\n",
    "    event_types_list = [torch.from_numpy(e) for e in event_types_list]\n",
    "\n",
    "    # Build a data tensor by padding\n",
    "    times_tensor = nn.utils.rnn.pad_sequence(event_times_list).float()\n",
    "    times_tensor = torch.cat((torch.zeros_like(times_tensor[:1,:]), times_tensor))\n",
    "    # Reorder by descending sequence length\n",
    "    times_tensor = times_tensor[:, reorder_indices_]\n",
    "    \n",
    "    # Build a types data tensor by padding\n",
    "    types_tensor = nn.utils.rnn.pad_sequence(event_types_list)\n",
    "    process_dim = types_tensor.max()\n",
    "    # K is the Beginning-of-sequence event now; shift all other event types\n",
    "    types_tensor = torch.cat(\n",
    "        ((process_dim+1)*torch.ones_like(types_tensor[:1,:]), types_tensor))\n",
    "    # Reorder by descending sequence length\n",
    "    types_tensor = types_tensor[:, reorder_indices_]\n",
    "    return times_tensor, types_tensor, seq_lengths"
   ]
  },
  {
   "cell_type": "markdown",
   "metadata": {},
   "source": [
    "## 1D process"
   ]
  },
  {
   "cell_type": "code",
   "execution_count": 10,
   "metadata": {},
   "outputs": [],
   "source": [
    "# Load data simulated using tick\n",
    "with open(\"../data/simulated/hawkes_synth_data_1d.pkl\", \"rb\") as f:\n",
    "    loaded_hawkes_data = pickle.load(f)"
   ]
  },
  {
   "cell_type": "code",
   "execution_count": 11,
   "metadata": {},
   "outputs": [
    {
     "data": {
      "text/plain": [
       "dict_keys(['mu', 'alpha', 'decay', 'tmax', 'timestamps', 'types', 'lengths'])"
      ]
     },
     "execution_count": 11,
     "metadata": {},
     "output_type": "execute_result"
    }
   ],
   "source": [
    "loaded_hawkes_data.keys()"
   ]
  },
  {
   "cell_type": "code",
   "execution_count": 12,
   "metadata": {},
   "outputs": [
    {
     "name": "stdout",
     "output_type": "stream",
     "text": [
      "1.0\n",
      "5.0\n",
      "60.0\n"
     ]
    }
   ],
   "source": [
    "mu = loaded_hawkes_data['mu']\n",
    "decay = loaded_hawkes_data['decay']\n",
    "tmax = loaded_hawkes_data['tmax']\n",
    "print(mu)\n",
    "print(decay)\n",
    "print(tmax)"
   ]
  },
  {
   "cell_type": "code",
   "execution_count": 13,
   "metadata": {},
   "outputs": [],
   "source": [
    "times_tensor, types_tensor, seq_lengths = process_loaded_sequences(\n",
    "    loaded_hawkes_data)"
   ]
  },
  {
   "cell_type": "markdown",
   "metadata": {},
   "source": [
    "## 2D process"
   ]
  },
  {
   "cell_type": "code",
   "execution_count": 228,
   "metadata": {},
   "outputs": [],
   "source": [
    "# Load data simulated using tick\n",
    "with open(\"../data/simulated/hawkes_synth_data_2d.pkl\", \"rb\") as f:\n",
    "    loaded_hawkes_2d_data = pickle.load(f)"
   ]
  },
  {
   "cell_type": "code",
   "execution_count": 229,
   "metadata": {},
   "outputs": [
    {
     "data": {
      "text/plain": [
       "dict_keys(['mu', 'alpha', 'decay', 'tmax', 'timestamps', 'types', 'lengths'])"
      ]
     },
     "execution_count": 229,
     "metadata": {},
     "output_type": "execute_result"
    }
   ],
   "source": [
    "loaded_hawkes_2d_data.keys()"
   ]
  },
  {
   "cell_type": "code",
   "execution_count": 230,
   "metadata": {},
   "outputs": [
    {
     "name": "stdout",
     "output_type": "stream",
     "text": [
      "[0.7 1. ]\n",
      "[[0.1  0.15]\n",
      " [0.01 0.01]]\n",
      "0.01\n",
      "tmax: 60.0\n"
     ]
    }
   ],
   "source": [
    "print(loaded_hawkes_2d_data['mu'])\n",
    "print(loaded_hawkes_2d_data['alpha'])\n",
    "print(loaded_hawkes_2d_data['decay'])\n",
    "tmax = loaded_hawkes_2d_data['tmax']\n",
    "print(f\"tmax: {tmax}\")"
   ]
  },
  {
   "cell_type": "code",
   "execution_count": 231,
   "metadata": {},
   "outputs": [],
   "source": [
    "times_tensor, seq_types, seq_lengths = process_loaded_sequences(\n",
    "    loaded_hawkes_2d_data)"
   ]
  },
  {
   "cell_type": "code",
   "execution_count": null,
   "metadata": {},
   "outputs": [],
   "source": []
  },
  {
   "cell_type": "code",
   "execution_count": 233,
   "metadata": {},
   "outputs": [],
   "source": [
    "def one_hot_embedding(labels, num_classes):\n",
    "    \"\"\"Embedding labels to one-hot form.\n",
    "\n",
    "    Args:\n",
    "      labels: (LongTensor) class labels, sized [N,].\n",
    "      num_classes: (int) number of classes.\n",
    "\n",
    "    Returns:\n",
    "      (tensor) encoded labels, sized [N, #classes].\n",
    "    \"\"\"\n",
    "    y = torch.eye(num_classes)\n",
    "    return y[labels]"
   ]
  },
  {
   "cell_type": "code",
   "execution_count": 234,
   "metadata": {},
   "outputs": [],
   "source": [
    "onehot_types = one_hot_embedding(seq_types, 3)"
   ]
  },
  {
   "cell_type": "markdown",
   "metadata": {},
   "source": [
    "# Neural network"
   ]
  },
  {
   "cell_type": "markdown",
   "metadata": {},
   "source": [
    "We are going for a recurrent neural structure that can learn from previous events. The intensity process of our neural model will be of the form\n",
    "\n",
    "$$\n",
    "    \\lambda_t = \\phi\\left(W_{\\lambda} h(t)\\right)\n",
    "$$\n",
    "\n",
    "with $\\phi$ a positive-valued activation function (such as ReLU) and $h(t)\\in\\mathbb R^D$ a continuous hidden state, computed as\n",
    "\\begin{equation}\n",
    "    h(t) = h_{i}e^{-\\delta_i(t-t_{i-1})},\\quad \\forall t\\in(t_{i-1},t_i]\n",
    "\\end{equation}\n",
    "\n",
    "Network update formulas: the jump and decay parameters on $(t_i,t_{i+1}]$ are given by\n",
    "$$\n",
    "\\begin{align*}\n",
    "    h_{i+1}      &= \\tanh(W_{hh}h(t_i) + W_{xh}x_i + b_{h}) \\\\\n",
    "    \\delta_{i+1} &= \\sigma(W_{hd} h(t_i) + W_{xd}x_i + b_{d})\n",
    "\\end{align*}\n",
    "$$"
   ]
  },
  {
   "cell_type": "code",
   "execution_count": 304,
   "metadata": {},
   "outputs": [],
   "source": [
    "from models.decayrnn import HawkesDecayRNN\n",
    "from train_functions import train_decayrnn"
   ]
  },
  {
   "cell_type": "code",
   "execution_count": 305,
   "metadata": {},
   "outputs": [],
   "source": [
    "hidden_size = 16\n",
    "model = HawkesDecayRNN(2, hidden_size)\n",
    "optimizer = torch.optim.Adagrad(model.parameters(), lr=0.01)"
   ]
  },
  {
   "cell_type": "code",
   "execution_count": 306,
   "metadata": {},
   "outputs": [
    {
     "name": "stdout",
     "output_type": "stream",
     "text": [
      "Train size 800\n"
     ]
    }
   ],
   "source": [
    "# define training loop\n",
    "train_size = int(0.4*times_tensor.size(1))\n",
    "EPOCHS = 10\n",
    "BATCH_SIZE = 32\n",
    "print(\"Train size %d\" % train_size)"
   ]
  },
  {
   "cell_type": "code",
   "execution_count": 307,
   "metadata": {
    "scrolled": false
   },
   "outputs": [
    {
     "data": {
      "application/vnd.jupyter.widget-view+json": {
       "model_id": "5302262d91d34108a0879d8ba2106e14",
       "version_major": 2,
       "version_minor": 0
      },
      "text/plain": [
       "HBox(children=(IntProgress(value=0, description='Epoch 1', max=25, style=ProgressStyle(description_width='init…"
      ]
     },
     "metadata": {},
     "output_type": "display_data"
    },
    {
     "data": {
      "application/vnd.jupyter.widget-view+json": {
       "model_id": "5aee3190c40049e8867df2c59ec0e8e4",
       "version_major": 2,
       "version_minor": 0
      },
      "text/plain": [
       "HBox(children=(IntProgress(value=0, description='Epoch 2', max=25, style=ProgressStyle(description_width='init…"
      ]
     },
     "metadata": {},
     "output_type": "display_data"
    },
    {
     "data": {
      "application/vnd.jupyter.widget-view+json": {
       "model_id": "f1a0f658f266484689adc15d067c33b4",
       "version_major": 2,
       "version_minor": 0
      },
      "text/plain": [
       "HBox(children=(IntProgress(value=0, description='Epoch 3', max=25, style=ProgressStyle(description_width='init…"
      ]
     },
     "metadata": {},
     "output_type": "display_data"
    },
    {
     "data": {
      "application/vnd.jupyter.widget-view+json": {
       "model_id": "5cc74381c45b472a8d6d9a47a448bade",
       "version_major": 2,
       "version_minor": 0
      },
      "text/plain": [
       "HBox(children=(IntProgress(value=0, description='Epoch 4', max=25, style=ProgressStyle(description_width='init…"
      ]
     },
     "metadata": {},
     "output_type": "display_data"
    },
    {
     "data": {
      "application/vnd.jupyter.widget-view+json": {
       "model_id": "0247d335d9a443f8b4d28cde641758a0",
       "version_major": 2,
       "version_minor": 0
      },
      "text/plain": [
       "HBox(children=(IntProgress(value=0, description='Epoch 5', max=25, style=ProgressStyle(description_width='init…"
      ]
     },
     "metadata": {},
     "output_type": "display_data"
    },
    {
     "data": {
      "application/vnd.jupyter.widget-view+json": {
       "model_id": "cffb9cf56ffe446288c0270ef0db8502",
       "version_major": 2,
       "version_minor": 0
      },
      "text/plain": [
       "HBox(children=(IntProgress(value=0, description='Epoch 6', max=25, style=ProgressStyle(description_width='init…"
      ]
     },
     "metadata": {},
     "output_type": "display_data"
    },
    {
     "data": {
      "application/vnd.jupyter.widget-view+json": {
       "model_id": "81c66ade4f2d417288862e9182d1577b",
       "version_major": 2,
       "version_minor": 0
      },
      "text/plain": [
       "HBox(children=(IntProgress(value=0, description='Epoch 7', max=25, style=ProgressStyle(description_width='init…"
      ]
     },
     "metadata": {},
     "output_type": "display_data"
    },
    {
     "data": {
      "application/vnd.jupyter.widget-view+json": {
       "model_id": "54579443c79e466cb9fceebd65060fa2",
       "version_major": 2,
       "version_minor": 0
      },
      "text/plain": [
       "HBox(children=(IntProgress(value=0, description='Epoch 8', max=25, style=ProgressStyle(description_width='init…"
      ]
     },
     "metadata": {},
     "output_type": "display_data"
    },
    {
     "data": {
      "application/vnd.jupyter.widget-view+json": {
       "model_id": "539dc2ba0ba64cdca119c6f5238ea770",
       "version_major": 2,
       "version_minor": 0
      },
      "text/plain": [
       "HBox(children=(IntProgress(value=0, description='Epoch 9', max=25, style=ProgressStyle(description_width='init…"
      ]
     },
     "metadata": {},
     "output_type": "display_data"
    },
    {
     "data": {
      "application/vnd.jupyter.widget-view+json": {
       "model_id": "91b2807863fe48f882d581a3d276eb82",
       "version_major": 2,
       "version_minor": 0
      },
      "text/plain": [
       "HBox(children=(IntProgress(value=0, description='Epoch 10', max=25, style=ProgressStyle(description_width='ini…"
      ]
     },
     "metadata": {},
     "output_type": "display_data"
    }
   ],
   "source": [
    "loss_hist = []\n",
    "for e in range(1, EPOCHS+1):\n",
    "    # Epoch loop\n",
    "    epoch_loss = []\n",
    "    tr_loop_range = tqdm.tqdm_notebook(range(0, train_size, BATCH_SIZE),\n",
    "                                       file=sys.stdout, desc=\"Epoch %d\" % e)\n",
    "    for i in tr_loop_range:\n",
    "        sequence = times_tensor[:, i:(i+BATCH_SIZE)]\n",
    "        sub_seq_types = onehot_types[:, i:(i+BATCH_SIZE)]\n",
    "        sub_seq_lengths = seq_lengths[i:(i+BATCH_SIZE)]\n",
    "        train_info, loss = train_decayrnn(model, optimizer, sequence,\n",
    "                                          sub_seq_types, sub_seq_lengths,\n",
    "                                          tmax)\n",
    "        epoch_loss.append(loss)\n",
    "    epoch_loss = np.mean(epoch_loss)\n",
    "    loss_hist.append(epoch_loss)  # append the final loss of each epoch"
   ]
  },
  {
   "cell_type": "code",
   "execution_count": 308,
   "metadata": {},
   "outputs": [
    {
     "data": {
      "text/plain": [
       "[133.05238677978517,\n",
       " 69.41695053100585,\n",
       " 48.487069549560545,\n",
       " 34.290969619750975,\n",
       " 22.757902297973633,\n",
       " 13.752225017547607,\n",
       " 5.150346813201904,\n",
       " -1.846546641588211,\n",
       " -10.113618259429932,\n",
       " -17.937970428466798]"
      ]
     },
     "execution_count": 308,
     "metadata": {},
     "output_type": "execute_result"
    }
   ],
   "source": [
    "loss_hist"
   ]
  },
  {
   "cell_type": "code",
   "execution_count": 309,
   "metadata": {
    "scrolled": false
   },
   "outputs": [
    {
     "data": {
      "text/plain": [
       "Text(0, 0.5, 'Loss')"
      ]
     },
     "execution_count": 309,
     "metadata": {},
     "output_type": "execute_result"
    },
    {
     "data": {
      "image/png": "[encoded data removed]",
      "text/plain": [
       "<Figure size 800x400 with 1 Axes>"
      ]
     },
     "metadata": {
      "needs_background": "light"
     },
     "output_type": "display_data"
    }
   ],
   "source": [
    "fig, ax = plt.subplots(1,1, figsize=(8,4), dpi=100)\n",
    "epochs_range = list(range(1, EPOCHS+1))\n",
    "ax.plot(epochs_range, loss_hist, color='red',\n",
    "         linewidth=.7, marker='.')\n",
    "ax.set_xlabel(\"Epochs\")\n",
    "ax.set_ylabel(\"Loss\")"
   ]
  },
  {
   "cell_type": "markdown",
   "metadata": {},
   "source": [
    "the following tensor has shape 2 * 2 * 3, and on the third dim, we have three values and only one is right (1 instead of zero)"
   ]
  },
  {
   "cell_type": "code",
   "execution_count": 275,
   "metadata": {},
   "outputs": [],
   "source": [
    "x = torch.Tensor([\n",
    "    [\n",
    "        [0, 2, -1],\n",
    "        [2, 0, 0]\n",
    "    ],\n",
    "    [\n",
    "        [5, 0, 0],\n",
    "        [0, 3, 0]\n",
    "    ]\n",
    "])"
   ]
  },
  {
   "cell_type": "code",
   "execution_count": 253,
   "metadata": {},
   "outputs": [
    {
     "data": {
      "text/plain": [
       "torch.Size([2, 2, 3])"
      ]
     },
     "execution_count": 253,
     "metadata": {},
     "output_type": "execute_result"
    }
   ],
   "source": [
    "x.shape"
   ]
  },
  {
   "cell_type": "code",
   "execution_count": 276,
   "metadata": {},
   "outputs": [],
   "source": [
    "indices = torch.LongTensor([\n",
    "    [\n",
    "        [0, 1, 0],\n",
    "        [1, 0, 0]\n",
    "    ],\n",
    "    [\n",
    "        [1, 0, 0],\n",
    "        [0, 1, 0]\n",
    "    ]\n",
    "])"
   ]
  },
  {
   "cell_type": "code",
   "execution_count": 277,
   "metadata": {},
   "outputs": [
    {
     "data": {
      "text/plain": [
       "tensor([[[ 0.,  2., -0.],\n",
       "         [ 2.,  0.,  0.]],\n",
       "\n",
       "        [[ 5.,  0.,  0.],\n",
       "         [ 0.,  3.,  0.]]])"
      ]
     },
     "execution_count": 277,
     "metadata": {},
     "output_type": "execute_result"
    }
   ],
   "source": [
    "x*indices.float()"
   ]
  },
  {
   "cell_type": "code",
   "execution_count": null,
   "metadata": {},
   "outputs": [],
   "source": []
  },
  {
   "cell_type": "code",
   "execution_count": 266,
   "metadata": {},
   "outputs": [
    {
     "ename": "RuntimeError",
     "evalue": "invalid argument 3: Index is supposed to be an empty tensor or a vector at /opt/conda/conda-bld/pytorch_1533739672741/work/aten/src/TH/generic/THTensorMath.cpp:318",
     "output_type": "error",
     "traceback": [
      "\u001b[0;31m---------------------------------------------------------------------------\u001b[0m",
      "\u001b[0;31mRuntimeError\u001b[0m                              Traceback (most recent call last)",
      "\u001b[0;32m<ipython-input-266-fecea424167d>\u001b[0m in \u001b[0;36m<module>\u001b[0;34m\u001b[0m\n\u001b[0;32m----> 1\u001b[0;31m \u001b[0mtorch\u001b[0m\u001b[0;34m.\u001b[0m\u001b[0mindex_select\u001b[0m\u001b[0;34m(\u001b[0m\u001b[0mx\u001b[0m\u001b[0;34m,\u001b[0m \u001b[0;36m2\u001b[0m\u001b[0;34m,\u001b[0m \u001b[0mindices\u001b[0m\u001b[0;34m)\u001b[0m\u001b[0;34m\u001b[0m\u001b[0m\n\u001b[0m",
      "\u001b[0;31mRuntimeError\u001b[0m: invalid argument 3: Index is supposed to be an empty tensor or a vector at /opt/conda/conda-bld/pytorch_1533739672741/work/aten/src/TH/generic/THTensorMath.cpp:318"
     ]
    }
   ],
   "source": [
    "torch.index_select(x, 2, indices)"
   ]
  },
  {
   "cell_type": "code",
   "execution_count": null,
   "metadata": {},
   "outputs": [],
   "source": []
  },
  {
   "cell_type": "code",
   "execution_count": null,
   "metadata": {},
   "outputs": [],
   "source": []
  },
  {
   "cell_type": "code",
   "execution_count": null,
   "metadata": {},
   "outputs": [],
   "source": []
  },
  {
   "cell_type": "code",
   "execution_count": 56,
   "metadata": {
    "scrolled": false
   },
   "outputs": [
    {
     "ename": "ValueError",
     "evalue": "only one element tensors can be converted to Python scalars",
     "output_type": "error",
     "traceback": [
      "\u001b[0;31m---------------------------------------------------------------------------\u001b[0m",
      "\u001b[0;31mValueError\u001b[0m                                Traceback (most recent call last)",
      "\u001b[0;32m<ipython-input-56-cdd686a92986>\u001b[0m in \u001b[0;36m<module>\u001b[0;34m\u001b[0m\n\u001b[0;32m----> 1\u001b[0;31m \u001b[0mgen_event_times\u001b[0m\u001b[0;34m,\u001b[0m \u001b[0mgen_event_intens\u001b[0m\u001b[0;34m,\u001b[0m \u001b[0mgen_event_decay\u001b[0m \u001b[0;34m=\u001b[0m \u001b[0mmodel\u001b[0m\u001b[0;34m.\u001b[0m\u001b[0mgenerate_sequence\u001b[0m\u001b[0;34m(\u001b[0m\u001b[0mtmax\u001b[0m\u001b[0;34m)\u001b[0m\u001b[0;34m\u001b[0m\u001b[0m\n\u001b[0m",
      "\u001b[0;32m~/Documents/etudes/map511-p3a/models/decayrnn.py\u001b[0m in \u001b[0;36mgenerate_sequence\u001b[0;34m(self, tmax)\u001b[0m\n\u001b[1;32m    176\u001b[0m                 \u001b[0mu1\u001b[0m \u001b[0;34m=\u001b[0m \u001b[0mtorch\u001b[0m\u001b[0;34m.\u001b[0m\u001b[0mrand\u001b[0m\u001b[0;34m(\u001b[0m\u001b[0;36m1\u001b[0m\u001b[0;34m)\u001b[0m\u001b[0;34m\u001b[0m\u001b[0m\n\u001b[1;32m    177\u001b[0m                 \u001b[0;31m# Candidate inter-arrival time\u001b[0m\u001b[0;34m\u001b[0m\u001b[0;34m\u001b[0m\u001b[0m\n\u001b[0;32m--> 178\u001b[0;31m                 \u001b[0mds\u001b[0m\u001b[0;34m:\u001b[0m \u001b[0mTensor\u001b[0m \u001b[0;34m=\u001b[0m \u001b[0mtorch\u001b[0m\u001b[0;34m.\u001b[0m\u001b[0mempty_like\u001b[0m\u001b[0;34m(\u001b[0m\u001b[0mu1\u001b[0m\u001b[0;34m)\u001b[0m\u001b[0;34m.\u001b[0m\u001b[0mexponential_\u001b[0m\u001b[0;34m(\u001b[0m\u001b[0mlambd\u001b[0m\u001b[0;34m=\u001b[0m\u001b[0mmax_lbda\u001b[0m\u001b[0;34m.\u001b[0m\u001b[0mitem\u001b[0m\u001b[0;34m(\u001b[0m\u001b[0;34m)\u001b[0m\u001b[0;34m)\u001b[0m\u001b[0;34m\u001b[0m\u001b[0m\n\u001b[0m\u001b[1;32m    179\u001b[0m                 \u001b[0;31m# update last tried time\u001b[0m\u001b[0;34m\u001b[0m\u001b[0;34m\u001b[0m\u001b[0m\n\u001b[1;32m    180\u001b[0m                 \u001b[0ms\u001b[0m \u001b[0;34m=\u001b[0m \u001b[0ms\u001b[0m\u001b[0;34m.\u001b[0m\u001b[0mclone\u001b[0m\u001b[0;34m(\u001b[0m\u001b[0;34m)\u001b[0m \u001b[0;34m+\u001b[0m \u001b[0mds\u001b[0m\u001b[0;34m\u001b[0m\u001b[0m\n",
      "\u001b[0;31mValueError\u001b[0m: only one element tensors can be converted to Python scalars"
     ]
    }
   ],
   "source": [
    "gen_event_times, gen_event_intens, gen_event_decay = model.generate_sequence(tmax)"
   ]
  },
  {
   "cell_type": "code",
   "execution_count": 169,
   "metadata": {},
   "outputs": [],
   "source": [
    "# Build a statistic for the no. of events\n",
    "gen_seq_lengths = []\n",
    "n_gen_seq = 1000 # number of generated sequences\n",
    "for i in range(n_gen_seq):\n",
    "    gen_event_times, gen_event_intens, gen_event_decay = model.generate_sequence(tmax)\n",
    "    gen_seq_lengths.append(len(gen_event_times) - 1)"
   ]
  },
  {
   "cell_type": "code",
   "execution_count": 170,
   "metadata": {},
   "outputs": [],
   "source": [
    "MODEL_NAME = \"Decay-RNN\""
   ]
  },
  {
   "cell_type": "code",
   "execution_count": 171,
   "metadata": {
    "scrolled": false
   },
   "outputs": [
    {
     "data": {
      "image/png": "[encoded data removed]",
      "text/plain": [
       "<Figure size 800x500 with 1 Axes>"
      ]
     },
     "metadata": {
      "needs_background": "light"
     },
     "output_type": "display_data"
    }
   ],
   "source": [
    "fig, ax = plt.subplots(1, 1, figsize=(8,5), dpi=100)\n",
    "_ = ax.hist(seq_lengths, bins=2*int(seq_lengths.size(0)**(1/3)),\n",
    "            label=\"Sequence lengths (base model)\",\n",
    "            rwidth=0.8, alpha=0.5, density=True)\n",
    "_ = ax.hist(gen_seq_lengths, bins=2*int(n_gen_seq**(1/3)),\n",
    "            label=\"Sequence lengths (generated by {:})\".format(MODEL_NAME),\n",
    "            rwidth=0.8, alpha=0.5, color='red', density=True)\n",
    "ax.legend()\n",
    "ax.set_ylabel('Proportion')\n",
    "ax.set_xlabel('Number of events $N_T$')\n",
    "ax.set_title(\"\"\"Distribution of sequence lengths\n",
    "Base Hawkes model vs. {:}\n",
    "\"\"\".format(MODEL_NAME))\n",
    "fig.tight_layout()"
   ]
  },
  {
   "cell_type": "code",
   "execution_count": 172,
   "metadata": {},
   "outputs": [],
   "source": [
    "RESULT_BASEDIR = \"../results\"\n",
    "os.makedirs(RESULT_BASEDIR, exist_ok=True)\n",
    "model_perf_indicator = \"seq_length_distrib\"\n",
    "fig.savefig(\"{:}/{:}.{:}.pdf\".format(RESULT_BASEDIR, model_perf_indicator, MODEL_NAME))"
   ]
  },
  {
   "cell_type": "markdown",
   "metadata": {},
   "source": [
    "The number of events does not fit."
   ]
  },
  {
   "cell_type": "code",
   "execution_count": 173,
   "metadata": {},
   "outputs": [],
   "source": [
    "def plot_events_and_intensity(event_times, hidden_states, event_decay):\n",
    "    fig, (ax0, ax1) = plt.subplots(2, 1, sharex=True,\n",
    "                                   dpi=120,\n",
    "                                   gridspec_kw = {'height_ratios':[3, 0.3]},\n",
    "                                   figsize=(10,6))\n",
    "    time_arr = np.linspace(0, tmax, 1000)\n",
    "    n_events = event_times.shape[0] - 1\n",
    "    max_intens = max(e.max() for e in hidden_states)\n",
    "    min_intens = min(e.min() for e in hidden_states)\n",
    "    y_intens = []\n",
    "    curr_index = 0\n",
    "    for ti in time_arr:\n",
    "        if curr_index < len(hidden_states)-1 and ti > event_times[curr_index+1]:\n",
    "            curr_index += 1\n",
    "        hi = hidden_states[curr_index]\n",
    "        li = model.intensity_activ(model.intensity_layer(hi)).detach().numpy()\n",
    "        dec = event_decay[curr_index].numpy()\n",
    "        t_incr = ti - event_times[curr_index]  # >= 0 by construction\n",
    "        y_intens.append(li*np.exp(-dec*t_incr))\n",
    "    event_intens = [model.intensity_activ(model.intensity_layer(h)).item()\n",
    "                    for h in hidden_states]\n",
    "    ax0.scatter(event_times[1:], event_intens,\n",
    "                facecolor='k',\n",
    "                s=6, alpha=0.7)\n",
    "    ax0.set_ylabel(\"Event intensities $\\lambda_t$\")\n",
    "    ax0.plot(time_arr, y_intens, color='r',\n",
    "             linewidth=.7, linestyle='--')\n",
    "    ax1.scatter(event_times[1:], np.random.rand(n_events),\n",
    "                alpha=0.4, s=16)\n",
    "    ax1.set_ylim((-0.3,1.3))\n",
    "    ax1.set_xlabel(\"Time $t$\")"
   ]
  },
  {
   "cell_type": "code",
   "execution_count": 174,
   "metadata": {
    "scrolled": false
   },
   "outputs": [
    {
     "data": {
      "image/png": "[encoded data removed]",
      "text/plain": [
       "<Figure size 1200x720 with 2 Axes>"
      ]
     },
     "metadata": {
      "needs_background": "light"
     },
     "output_type": "display_data"
    }
   ],
   "source": [
    "gen_event_times, gen_event_intens, gen_event_decay = model.generate_sequence(tmax)\n",
    "plot_events_and_intensity(gen_event_times, gen_event_intens, gen_event_decay)"
   ]
  }
 ],
 "metadata": {
  "kernelspec": {
   "display_name": "Python [conda env:pytorch]",
   "language": "python",
   "name": "conda-env-pytorch-py"
  },
  "language_info": {
   "codemirror_mode": {
    "name": "ipython",
    "version": 3
   },
   "file_extension": ".py",
   "mimetype": "text/x-python",
   "name": "python",
   "nbconvert_exporter": "python",
   "pygments_lexer": "ipython3",
   "version": "3.7.0"
  }
 },
 "nbformat": 4,
 "nbformat_minor": 2
}
