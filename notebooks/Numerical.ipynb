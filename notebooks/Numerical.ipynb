version https://git-lfs.github.com/spec/v1
oid sha256:3e51aad775ebb2187b95e45d4ed86bf1459f2f0b62c759a5d1d131d331791a1b
size 2012
