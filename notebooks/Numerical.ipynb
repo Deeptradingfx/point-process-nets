{
 "cells": [
  {
   "cell_type": "markdown",
   "metadata": {},
   "source": [
    "# Numerical Method for numerical evaluaiton of improper integral"
   ]
  },
  {
   "cell_type": "markdown",
   "metadata": {},
   "source": [
    "### $\\int_{a}^{b} f(x) dx = \\int_{\\frac{1}{b}}^{\\frac{1}{a}} \\frac{1}{t^2}f(\\frac{1}{t}) dt $"
   ]
  },
  {
   "cell_type": "markdown",
   "metadata": {},
   "source": [
    "#### Then evalutation with trapezoidal method $h\\sum_{i=0}^{N-1} \\frac{g(x_{i}) + g(x_{i+1})}{2}$ where $g(t) = \\frac{1}{t^2}f(\\frac{1}{t})$"
   ]
  },
  {
   "cell_type": "code",
   "execution_count": 266,
   "metadata": {},
   "outputs": [],
   "source": [
    "import numpy as np\n",
    "import matplotlib.pyplot as plt\n",
    "import scipy.integrate as integrale"
   ]
  },
  {
   "cell_type": "code",
   "execution_count": 516,
   "metadata": {},
   "outputs": [
    {
     "data": {
      "text/plain": [
       "array([-2.10879948])"
      ]
     },
     "execution_count": 516,
     "metadata": {},
     "output_type": "execute_result"
    }
   ],
   "source": [
    "tj = 1.5\n",
    "a,b,c = np.random.randn(1),np.random.randn(1), np.random.randn(1)\n",
    "b = -1*np.exp(b)\n",
    "b"
   ]
  },
  {
   "cell_type": "markdown",
   "metadata": {},
   "source": [
    "####  $t_{j+1} = \\int_{t_{j}}^{\\infty} t .f^{*}(t) dt $ where $f^{*}(t) = \\exp(at+b +c\\exp(dt+e)-c\\exp(at+b))$ a,b,c,d and e are randomly selected "
   ]
  },
  {
   "cell_type": "code",
   "execution_count": 268,
   "metadata": {},
   "outputs": [],
   "source": [
    "def f(t,tj):\n",
    "    return (t<=tj)*0 + (t>tj)*np.exp(a + b*(t-tj) + c*np.exp(a) - c * np.exp(a + b*(t-tj)))\n",
    "\n",
    "def g(t,tj):\n",
    "    return 1/(t**2) * f(1/t,tj)\n"
   ]
  },
  {
   "cell_type": "code",
   "execution_count": 269,
   "metadata": {},
   "outputs": [
    {
     "data": {
      "text/plain": [
       "[<matplotlib.lines.Line2D at 0x1525f534a8>]"
      ]
     },
     "execution_count": 269,
     "metadata": {},
     "output_type": "execute_result"
    },
    {
     "data": {
      "image/png": "[encoded data removed]",
      "text/plain": [
       "<Figure size 432x288 with 1 Axes>"
      ]
     },
     "metadata": {
      "needs_background": "light"
     },
     "output_type": "display_data"
    }
   ],
   "source": [
    "t = np.linspace(tj,22,1000)\n",
    "y = f(t,tj)\n",
    "plt.plot(t,y)"
   ]
  },
  {
   "cell_type": "code",
   "execution_count": 265,
   "metadata": {},
   "outputs": [
    {
     "data": {
      "text/plain": [
       "(0.3207616335924402, 3.365439704694495e-09)"
      ]
     },
     "execution_count": 265,
     "metadata": {},
     "output_type": "execute_result"
    }
   ],
   "source": [
    "def f_(t):\n",
    "    return f(t,tj)\n",
    "integrale.quad(f_,0,np.infty)"
   ]
  },
  {
   "cell_type": "code",
   "execution_count": 525,
   "metadata": {},
   "outputs": [],
   "source": [
    "def Integration_trapez(function,a,b,N=10000):\n",
    "    DeltaT = (b-a)/N  \n",
    "    n = np.size(DeltaT)\n",
    "    DeltaT = DeltaT.reshape((n,1))\n",
    "    dt = DeltaT.repeat(N,axis=1)\n",
    "    c_ = np.array([a]*n).reshape((n,1))\n",
    "    dt = np.concatenate((c_,dt),axis=1)\n",
    "    \n",
    "    discrete_time = np.cumsum(dt,axis=1)\n",
    "    discrete_f = function(discrete_time)\n",
    "    \n",
    "    sum_ = DeltaT * np.sum((discrete_f[:,1:] + discrete_f[:,:-1])/2,axis=1).reshape((n,1)) #trapezoidal rule\n",
    "    sum_ = sum_.reshape(n)\n",
    "    \n",
    "    return sum_\n",
    "    "
   ]
  },
  {
   "cell_type": "code",
   "execution_count": 526,
   "metadata": {},
   "outputs": [
    {
     "name": "stdout",
     "output_type": "stream",
     "text": [
      "(2, 1)\n",
      "(2,)\n"
     ]
    }
   ],
   "source": [
    "\n",
    "m = np.array([1,2])\n",
    "c = np.array([2,3])\n",
    "\n",
    "m = m.reshape((2,1))\n",
    "print(np.shape(m))\n",
    "m = m.reshape(2)\n",
    "print((np.shape(m)))"
   ]
  },
  {
   "cell_type": "code",
   "execution_count": null,
   "metadata": {},
   "outputs": [],
   "source": []
  },
  {
   "cell_type": "markdown",
   "metadata": {},
   "source": [
    "### f* is thus not a distribution function because its integration is not equal to 1"
   ]
  },
  {
   "cell_type": "markdown",
   "metadata": {},
   "source": [
    " #### $f^{*}(t,t_{j}) = \\lambda^{*}(t)\\exp(-\\int_{t_{j}}^{t} \\lambda^{*}(\\tau) d\\tau) $ with $\\lambda^{*}(t) = \\exp(a(t-t_{j})+b)$ and $ a < 0$"
   ]
  },
  {
   "cell_type": "code",
   "execution_count": 527,
   "metadata": {},
   "outputs": [],
   "source": [
    "a = np.random.randn(1)\n",
    "b = np.random.randn(1)\n",
    "a = -1*np.exp(a)"
   ]
  },
  {
   "cell_type": "code",
   "execution_count": 528,
   "metadata": {},
   "outputs": [],
   "source": [
    "def lambda_(t): \n",
    "    return np.exp(a*(t-tj) + b)"
   ]
  },
  {
   "cell_type": "code",
   "execution_count": 529,
   "metadata": {},
   "outputs": [
    {
     "data": {
      "text/plain": [
       "Text(0, 0.5, 'intensity profile for t greater than tj')"
      ]
     },
     "execution_count": 529,
     "metadata": {},
     "output_type": "execute_result"
    },
    {
     "data": {
      "image/png": "[encoded data removed]",
      "text/plain": [
       "<Figure size 432x288 with 1 Axes>"
      ]
     },
     "metadata": {
      "needs_background": "light"
     },
     "output_type": "display_data"
    }
   ],
   "source": [
    "t =np.linspace(tj, tj+ 10, 1000)\n",
    "l = lambda_(t)\n",
    "plt.plot(t,l)\n",
    "plt.xlabel(\"t > tj\")\n",
    "\n",
    "plt.ylabel(\"intensity profile for t greater than tj\")"
   ]
  },
  {
   "cell_type": "code",
   "execution_count": 530,
   "metadata": {},
   "outputs": [],
   "source": [
    "def f__(t,tj):\n",
    "    value = Integration_trapez(lambda_,tj,t)\n",
    "    #print(value)\n",
    "    return (t>=tj)*lambda_(t)*np.exp(-1*value) + (t<tj)*0"
   ]
  },
  {
   "cell_type": "code",
   "execution_count": 531,
   "metadata": {},
   "outputs": [
    {
     "name": "stdout",
     "output_type": "stream",
     "text": [
      "0.27262545195364274\n"
     ]
    },
    {
     "data": {
      "image/png": "[encoded data removed]",
      "text/plain": [
       "<Figure size 432x288 with 1 Axes>"
      ]
     },
     "metadata": {
      "needs_background": "light"
     },
     "output_type": "display_data"
    }
   ],
   "source": [
    "t =np.linspace(0,20, 10000)\n",
    "y = f__(t,tj)\n",
    "plt.plot(t,y)\n",
    "plt.xlabel(\"t\")\n",
    "plt.ylabel(\"probability distribution $f^{*}$\")\n",
    "print(t[1]*np.sum(y))\n"
   ]
  },
  {
   "cell_type": "code",
   "execution_count": null,
   "metadata": {},
   "outputs": [],
   "source": []
  }
 ],
 "metadata": {
  "kernelspec": {
   "display_name": "Python 3",
   "language": "python",
   "name": "python3"
  },
  "language_info": {
   "codemirror_mode": {
    "name": "ipython",
    "version": 3
   },
   "file_extension": ".py",
   "mimetype": "text/x-python",
   "name": "python",
   "nbconvert_exporter": "python",
   "pygments_lexer": "ipython3",
   "version": "3.6.6"
  }
 },
 "nbformat": 4,
 "nbformat_minor": 2
}
