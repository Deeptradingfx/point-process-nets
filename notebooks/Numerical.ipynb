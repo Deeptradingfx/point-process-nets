{
 "cells": [
  {
   "cell_type": "markdown",
   "metadata": {},
   "source": [
    "# Numerical Method for numerical evaluaiton of improper integral"
   ]
  },
  {
   "cell_type": "markdown",
   "metadata": {},
   "source": [
    "### $\\int_{a}^{b} f(x) dx = \\int_{\\frac{1}{b}}^{\\frac{1}{a}} \\frac{1}{t^2}f(\\frac{1}{t}) dt $"
   ]
  },
  {
   "cell_type": "markdown",
   "metadata": {},
   "source": [
    "#### Then evalutation with trapezoidal method $h\\sum_{i=0}^{N-1} \\frac{g(x_{i}) + g(x_{i+1})}{2}$ where $g(t) = \\frac{1}{t^2}f(\\frac{1}{t})$"
   ]
  },
  {
   "cell_type": "code",
   "execution_count": 77,
   "metadata": {},
   "outputs": [],
   "source": [
    "import numpy as np\n",
    "import matplotlib.pyplot as plt\n",
    "import scipy.integrate as integrale"
   ]
  },
  {
   "cell_type": "code",
   "execution_count": 194,
   "metadata": {},
   "outputs": [
    {
     "data": {
      "text/plain": [
       "-1.4378200412148576"
      ]
     },
     "execution_count": 194,
     "metadata": {},
     "output_type": "execute_result"
    }
   ],
   "source": [
    "tj = 0.5\n",
    "a,b,c,d,e = -1*(np.random.uniform(0,1))-0.5,np.random.uniform(0,1),np.random.uniform(0,1),np.random.uniform(0,1),np.random.uniform(0,1)\n",
    "a"
   ]
  },
  {
   "cell_type": "markdown",
   "metadata": {},
   "source": [
    "####  $t_{j+1} = \\int_{t_{j}}^{\\infty} t .f^{*}(t) dt $ where $f^{*}(t) = \\exp(at+b +c\\exp(dt+e)-c\\exp(at+b))$ a,b,c,d and e are randomly selected "
   ]
  },
  {
   "cell_type": "code",
   "execution_count": 104,
   "metadata": {},
   "outputs": [],
   "source": [
    "def f(t):\n",
    "    return np.exp(a*t + b +c * np.exp(d*t + e) - c* np.exp(a*t+b))\n",
    "\n",
    "def g(t):\n",
    "    return 1/(t**2) * f(1/t)\n"
   ]
  },
  {
   "cell_type": "code",
   "execution_count": 186,
   "metadata": {},
   "outputs": [],
   "source": [
    "def Integration_trapez(function,a,b,N=10000):\n",
    "    DeltaT = (b-a)/N  \n",
    "    discrete_time = np.array([DeltaT]*(N))\n",
    "    discrete_time = np.concatenate((np.array([a]),discrete_time))\n",
    "    discrete_time = np.cumsum(discrete_time)\n",
    "    discrete_f = function(discrete_time)\n",
    "    sum_ = DeltaT * np.sum((discrete_f[1:] + discrete_f[:-1])/2) #trapezoidal rule\n",
    "    \n",
    "    return sum_\n",
    "    \n"
   ]
  },
  {
   "cell_type": "code",
   "execution_count": 193,
   "metadata": {},
   "outputs": [
    {
     "name": "stdout",
     "output_type": "stream",
     "text": [
      "nan\n"
     ]
    },
    {
     "name": "stderr",
     "output_type": "stream",
     "text": [
      "/anaconda3/lib/python3.6/site-packages/ipykernel_launcher.py:5: RuntimeWarning: divide by zero encountered in true_divide\n",
      "  \"\"\"\n",
      "/anaconda3/lib/python3.6/site-packages/ipykernel_launcher.py:2: RuntimeWarning: invalid value encountered in add\n",
      "  \n"
     ]
    }
   ],
   "source": [
    "h = lambda x: x**2\n",
    "print(Integration_trapez(g,0,1/tj))\n",
    "#print(integrale.quad(h,0,1))\n"
   ]
  },
  {
   "cell_type": "code",
   "execution_count": null,
   "metadata": {},
   "outputs": [],
   "source": [
    "t = "
   ]
  }
 ],
 "metadata": {
  "kernelspec": {
   "display_name": "Python 3",
   "language": "python",
   "name": "python3"
  },
  "language_info": {
   "codemirror_mode": {
    "name": "ipython",
    "version": 3
   },
   "file_extension": ".py",
   "mimetype": "text/x-python",
   "name": "python",
   "nbconvert_exporter": "python",
   "pygments_lexer": "ipython3",
   "version": "3.6.6"
  }
 },
 "nbformat": 4,
 "nbformat_minor": 2
}
