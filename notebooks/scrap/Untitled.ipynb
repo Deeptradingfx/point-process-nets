{
 "cells": [
  {
   "cell_type": "code",
   "execution_count": 20,
   "metadata": {},
   "outputs": [
    {
     "data": {
      "text/plain": [
       "[1, 2, 3, 4]"
      ]
     },
     "execution_count": 20,
     "metadata": {},
     "output_type": "execute_result"
    }
   ],
   "source": [
    "a = [3,1,4,2]\n",
    "n = len(a)\n",
    "for i in range(n) : # on cherche k tel que ak = min(aj )j\u0015i\n",
    "    k = i\n",
    "    for j in range(i+1,n) :\n",
    "        if a[k] > a[j] : k = j\n",
    "    a[k],a[i] = a[i],a[k]\n",
    "a"
   ]
  },
  {
   "cell_type": "code",
   "execution_count": 19,
   "metadata": {},
   "outputs": [
    {
     "data": {
      "text/plain": [
       "[3, 1, 4, 2]"
      ]
     },
     "execution_count": 19,
     "metadata": {},
     "output_type": "execute_result"
    }
   ],
   "source": [
    "array_ = [3,1,4,2]\n",
    "n = len(array_)\n",
    "\n",
    "for i in range(n):\n",
    "    k = i\n",
    "    for j in range(i+1,n):\n",
    "        if(array_[k]>array_[j]): k = j\n",
    "    array_[k],array_[i],array_[i],array_[k]\n",
    "\n",
    "    array_"
   ]
  },
  {
   "cell_type": "code",
   "execution_count": 26,
   "metadata": {},
   "outputs": [
    {
     "data": {
      "text/plain": [
       "[[0, 2], [3, 4]]"
      ]
     },
     "execution_count": 26,
     "metadata": {},
     "output_type": "execute_result"
    }
   ],
   "source": [
    "after = [[1,2],[3,4]]\n",
    "n = len(after)\n",
    "m = len(after[0])\n",
    "before=[[0]*m]*n\n",
    "for i in range(n):\n",
    "    \n",
    "    before[i][0] = after[i][0]\n",
    "after[0][0] = 0\n",
    "after"
   ]
  },
  {
   "cell_type": "code",
   "execution_count": 33,
   "metadata": {},
   "outputs": [],
   "source": [
    "L = range(1,0)\n",
    "for i in L:\n",
    "    print(i)"
   ]
  }
 ],
 "metadata": {
  "kernelspec": {
   "display_name": "Python 3",
   "language": "python",
   "name": "python3"
  },
  "language_info": {
   "codemirror_mode": {
    "name": "ipython",
    "version": 3
   },
   "file_extension": ".py",
   "mimetype": "text/x-python",
   "name": "python",
   "nbconvert_exporter": "python",
   "pygments_lexer": "ipython3",
   "version": "3.6.6"
  }
 },
 "nbformat": 4,
 "nbformat_minor": 2
}
