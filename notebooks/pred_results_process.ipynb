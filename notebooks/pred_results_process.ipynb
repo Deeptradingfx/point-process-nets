{
 "cells": [
  {
   "cell_type": "code",
   "execution_count": 34,
   "metadata": {},
   "outputs": [],
   "source": [
    "%matplotlib inline"
   ]
  },
  {
   "cell_type": "code",
   "execution_count": 35,
   "metadata": {},
   "outputs": [],
   "source": [
    "import pandas as pd\n",
    "import matplotlib.pyplot as plt"
   ]
  },
  {
   "cell_type": "code",
   "execution_count": 36,
   "metadata": {},
   "outputs": [],
   "source": [
    "PRED_RES_FILE = \"predict_results.json\""
   ]
  },
  {
   "cell_type": "code",
   "execution_count": 37,
   "metadata": {},
   "outputs": [],
   "source": [
    "df_all = pd.read_json(PRED_RES_FILE)"
   ]
  },
  {
   "cell_type": "code",
   "execution_count": 46,
   "metadata": {},
   "outputs": [
    {
     "data": {
      "text/html": [
       "<div>\n",
       "<style scoped>\n",
       "    .dataframe tbody tr th:only-of-type {\n",
       "        vertical-align: middle;\n",
       "    }\n",
       "\n",
       "    .dataframe tbody tr th {\n",
       "        vertical-align: top;\n",
       "    }\n",
       "\n",
       "    .dataframe thead th {\n",
       "        text-align: right;\n",
       "    }\n",
       "</style>\n",
       "<table border=\"1\" class=\"dataframe\">\n",
       "  <thead>\n",
       "    <tr style=\"text-align: right;\">\n",
       "      <th></th>\n",
       "      <th>avg_rmse</th>\n",
       "      <th>data_file</th>\n",
       "      <th>hidden_size</th>\n",
       "      <th>model_name</th>\n",
       "      <th>model_timestamp</th>\n",
       "      <th>pred_score</th>\n",
       "      <th>process_dim</th>\n",
       "      <th>std_rmse</th>\n",
       "      <th>var_mse</th>\n",
       "    </tr>\n",
       "  </thead>\n",
       "  <tbody>\n",
       "    <tr>\n",
       "      <th>0</th>\n",
       "      <td>4.691359</td>\n",
       "      <td>../data/simulated/hawkes_synthetic_exp_2d_2018...</td>\n",
       "      <td>128</td>\n",
       "      <td>HawkesDecayRNN</td>\n",
       "      <td>20181209-153942</td>\n",
       "      <td>0.543333</td>\n",
       "      <td>2</td>\n",
       "      <td>0.251297</td>\n",
       "      <td>2829.415253</td>\n",
       "    </tr>\n",
       "    <tr>\n",
       "      <th>1</th>\n",
       "      <td>5.024230</td>\n",
       "      <td>../data/simulated/hawkes_synthetic_exp_2d_2018...</td>\n",
       "      <td>128</td>\n",
       "      <td>HawkesLSTM</td>\n",
       "      <td>20181209-154233</td>\n",
       "      <td>0.518333</td>\n",
       "      <td>2</td>\n",
       "      <td>0.401749</td>\n",
       "      <td>4844.353941</td>\n",
       "    </tr>\n",
       "  </tbody>\n",
       "</table>\n",
       "</div>"
      ],
      "text/plain": [
       "   avg_rmse                                          data_file  hidden_size  \\\n",
       "0  4.691359  ../data/simulated/hawkes_synthetic_exp_2d_2018...          128   \n",
       "1  5.024230  ../data/simulated/hawkes_synthetic_exp_2d_2018...          128   \n",
       "\n",
       "       model_name  model_timestamp  pred_score  process_dim  std_rmse  \\\n",
       "0  HawkesDecayRNN  20181209-153942    0.543333            2  0.251297   \n",
       "1      HawkesLSTM  20181209-154233    0.518333            2  0.401749   \n",
       "\n",
       "       var_mse  \n",
       "0  2829.415253  \n",
       "1  4844.353941  "
      ]
     },
     "execution_count": 46,
     "metadata": {},
     "output_type": "execute_result"
    }
   ],
   "source": [
    "df_all"
   ]
  },
  {
   "cell_type": "code",
   "execution_count": 39,
   "metadata": {},
   "outputs": [],
   "source": [
    "df_ = df_all[df_all.process_dim == 2]"
   ]
  },
  {
   "cell_type": "code",
   "execution_count": 40,
   "metadata": {},
   "outputs": [],
   "source": [
    "labels = df_.model_name.values"
   ]
  },
  {
   "cell_type": "code",
   "execution_count": 41,
   "metadata": {},
   "outputs": [],
   "source": [
    "means = df_.avg_rmse.values"
   ]
  },
  {
   "cell_type": "code",
   "execution_count": 42,
   "metadata": {},
   "outputs": [],
   "source": [
    "stds = df_.std_rmse.values"
   ]
  },
  {
   "cell_type": "code",
   "execution_count": 43,
   "metadata": {},
   "outputs": [],
   "source": [
    "yerr = 3*stds"
   ]
  },
  {
   "cell_type": "code",
   "execution_count": 48,
   "metadata": {},
   "outputs": [],
   "source": [
    "scores = df_.pred_score.values"
   ]
  },
  {
   "cell_type": "code",
   "execution_count": 51,
   "metadata": {},
   "outputs": [
    {
     "data": {
      "text/plain": [
       "Text(0, 0.5, 'Précision, prédiction du type $k$')"
      ]
     },
     "execution_count": 51,
     "metadata": {},
     "output_type": "execute_result"
    },
    {
     "data": {
      "image/png": "[encoded data removed]",
      "text/plain": [
       "<Figure size 800x320 with 2 Axes>"
      ]
     },
     "metadata": {
      "needs_background": "light"
     },
     "output_type": "display_data"
    }
   ],
   "source": [
    "fig, (ax0, ax1) = plt.subplots(1, 2, figsize=(10,4), dpi=80)\n",
    "ax0.bar(range(len(means)), means, alpha=0.7,\n",
    "        yerr=yerr, color=['blue', 'red'])\n",
    "ax0.set_xlabel(\"Model\")\n",
    "ax0.set_xticks(range(len(means)))\n",
    "ax0.set_xticklabels(labels)\n",
    "ax0.set_ylabel(\"RMSE\")\n",
    "ax0.set_ylim((3.5, 6.5))\n",
    "\n",
    "ax1.bar(range(len(means)), scores, alpha=0.7,\n",
    "        color=['blue', 'red'])\n",
    "ax1.set_xlabel(\"Model\")\n",
    "ax1.set_xticks(range(len(means)))\n",
    "ax1.set_xticklabels(labels)\n",
    "ax1.set_ylabel(\"Précision, prédiction du type $k$\")"
   ]
  },
  {
   "cell_type": "code",
   "execution_count": null,
   "metadata": {},
   "outputs": [],
   "source": []
  },
  {
   "cell_type": "code",
   "execution_count": 52,
   "metadata": {},
   "outputs": [],
   "source": [
    "import datetime\n",
    "now = datetime.datetime.now()"
   ]
  },
  {
   "cell_type": "code",
   "execution_count": 53,
   "metadata": {},
   "outputs": [
    {
     "name": "stdout",
     "output_type": "stream",
     "text": [
      "20181209-172023\n"
     ]
    }
   ],
   "source": [
    "now_timestamp = now.strftime(\"%Y%m%d-%H%M%S\")\n",
    "print(now_timestamp)"
   ]
  },
  {
   "cell_type": "code",
   "execution_count": 54,
   "metadata": {},
   "outputs": [],
   "source": [
    "fig.savefig('../results/2D_Hawkes_Data_RMSE_{}.pdf'\n",
    "            .format(now_timestamp))"
   ]
  },
  {
   "cell_type": "code",
   "execution_count": null,
   "metadata": {},
   "outputs": [],
   "source": []
  },
  {
   "cell_type": "code",
   "execution_count": null,
   "metadata": {},
   "outputs": [],
   "source": []
  },
  {
   "cell_type": "code",
   "execution_count": null,
   "metadata": {},
   "outputs": [],
   "source": []
  },
  {
   "cell_type": "code",
   "execution_count": null,
   "metadata": {},
   "outputs": [],
   "source": []
  },
  {
   "cell_type": "code",
   "execution_count": null,
   "metadata": {},
   "outputs": [],
   "source": []
  },
  {
   "cell_type": "code",
   "execution_count": null,
   "metadata": {},
   "outputs": [],
   "source": []
  }
 ],
 "metadata": {
  "kernelspec": {
   "display_name": "Python [conda env:pytorch]",
   "language": "python",
   "name": "conda-env-pytorch-py"
  },
  "language_info": {
   "codemirror_mode": {
    "name": "ipython",
    "version": 3
   },
   "file_extension": ".py",
   "mimetype": "text/x-python",
   "name": "python",
   "nbconvert_exporter": "python",
   "pygments_lexer": "ipython3",
   "version": "3.7.1"
  }
 },
 "nbformat": 4,
 "nbformat_minor": 2
}
