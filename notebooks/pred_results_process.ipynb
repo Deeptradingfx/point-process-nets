{
 "cells": [
  {
   "cell_type": "code",
   "execution_count": 180,
   "metadata": {},
   "outputs": [],
   "source": [
    "%matplotlib inline"
   ]
  },
  {
   "cell_type": "code",
   "execution_count": 208,
   "metadata": {},
   "outputs": [],
   "source": [
    "import glob\n",
    "import pandas as pd\n",
    "import matplotlib.pyplot as plt"
   ]
  },
  {
   "cell_type": "code",
   "execution_count": 210,
   "metadata": {},
   "outputs": [
    {
     "data": {
      "text/plain": [
       "['predict_results_2d_asymmetrical.json', 'predict_results_2d.json']"
      ]
     },
     "execution_count": 210,
     "metadata": {},
     "output_type": "execute_result"
    }
   ],
   "source": [
    "glob.glob(\"*.json\")"
   ]
  },
  {
   "cell_type": "code",
   "execution_count": 211,
   "metadata": {},
   "outputs": [],
   "source": [
    "PRED_RES_FILE = \"predict_results_2d_asymmetrical.json\""
   ]
  },
  {
   "cell_type": "code",
   "execution_count": 214,
   "metadata": {},
   "outputs": [],
   "source": [
    "df_all = pd.read_json(PRED_RES_FILE)"
   ]
  },
  {
   "cell_type": "code",
   "execution_count": 215,
   "metadata": {},
   "outputs": [
    {
     "data": {
      "text/html": [
       "<div>\n",
       "<style scoped>\n",
       "    .dataframe tbody tr th:only-of-type {\n",
       "        vertical-align: middle;\n",
       "    }\n",
       "\n",
       "    .dataframe tbody tr th {\n",
       "        vertical-align: top;\n",
       "    }\n",
       "\n",
       "    .dataframe thead th {\n",
       "        text-align: right;\n",
       "    }\n",
       "</style>\n",
       "<table border=\"1\" class=\"dataframe\">\n",
       "  <thead>\n",
       "    <tr style=\"text-align: right;\">\n",
       "      <th></th>\n",
       "      <th>avg_rmse</th>\n",
       "      <th>data_file</th>\n",
       "      <th>hidden_size</th>\n",
       "      <th>model_name</th>\n",
       "      <th>model_timestamp</th>\n",
       "      <th>pred_score</th>\n",
       "      <th>process_dim</th>\n",
       "      <th>std_rmse</th>\n",
       "      <th>test_size</th>\n",
       "      <th>train_size</th>\n",
       "      <th>var_mse</th>\n",
       "    </tr>\n",
       "  </thead>\n",
       "  <tbody>\n",
       "    <tr>\n",
       "      <th>0</th>\n",
       "      <td>2.368277</td>\n",
       "      <td>../data/simulated/hawkes_synthetic_exp_2d_2018...</td>\n",
       "      <td>128</td>\n",
       "      <td>HawkesDecayRNN</td>\n",
       "      <td>20181209-212603</td>\n",
       "      <td>0.765</td>\n",
       "      <td>2</td>\n",
       "      <td>0.021734</td>\n",
       "      <td>1000</td>\n",
       "      <td>1200</td>\n",
       "      <td>205.887481</td>\n",
       "    </tr>\n",
       "    <tr>\n",
       "      <th>1</th>\n",
       "      <td>2.398096</td>\n",
       "      <td>../data/simulated/hawkes_synthetic_exp_2d_2018...</td>\n",
       "      <td>128</td>\n",
       "      <td>HawkesLSTM</td>\n",
       "      <td>20181209-214506</td>\n",
       "      <td>0.757</td>\n",
       "      <td>2</td>\n",
       "      <td>0.025038</td>\n",
       "      <td>1000</td>\n",
       "      <td>1600</td>\n",
       "      <td>240.169554</td>\n",
       "    </tr>\n",
       "  </tbody>\n",
       "</table>\n",
       "</div>"
      ],
      "text/plain": [
       "   avg_rmse                                          data_file  hidden_size  \\\n",
       "0  2.368277  ../data/simulated/hawkes_synthetic_exp_2d_2018...          128   \n",
       "1  2.398096  ../data/simulated/hawkes_synthetic_exp_2d_2018...          128   \n",
       "\n",
       "       model_name  model_timestamp  pred_score  process_dim  std_rmse  \\\n",
       "0  HawkesDecayRNN  20181209-212603       0.765            2  0.021734   \n",
       "1      HawkesLSTM  20181209-214506       0.757            2  0.025038   \n",
       "\n",
       "   test_size  train_size     var_mse  \n",
       "0       1000        1200  205.887481  \n",
       "1       1000        1600  240.169554  "
      ]
     },
     "execution_count": 215,
     "metadata": {},
     "output_type": "execute_result"
    }
   ],
   "source": [
    "df_all"
   ]
  },
  {
   "cell_type": "code",
   "execution_count": 219,
   "metadata": {},
   "outputs": [],
   "source": [
    "df_ = df_all[df_all.process_dim == 2]"
   ]
  },
  {
   "cell_type": "code",
   "execution_count": 220,
   "metadata": {},
   "outputs": [],
   "source": [
    "labels = [v + \"\\n($D={}$)\\ntrain {}\".format(p, tr)\n",
    "          for v,p,tr in zip(df_.model_name.values, df_.hidden_size.values, df_.train_size.values)]"
   ]
  },
  {
   "cell_type": "code",
   "execution_count": 221,
   "metadata": {},
   "outputs": [
    {
     "data": {
      "text/plain": [
       "['HawkesDecayRNN\\n($D=128$)\\ntrain 1200', 'HawkesLSTM\\n($D=128$)\\ntrain 1600']"
      ]
     },
     "execution_count": 221,
     "metadata": {},
     "output_type": "execute_result"
    }
   ],
   "source": [
    "labels"
   ]
  },
  {
   "cell_type": "code",
   "execution_count": 222,
   "metadata": {},
   "outputs": [],
   "source": [
    "means = df_.avg_rmse.values"
   ]
  },
  {
   "cell_type": "code",
   "execution_count": 223,
   "metadata": {},
   "outputs": [],
   "source": [
    "stds = df_.std_rmse.values"
   ]
  },
  {
   "cell_type": "code",
   "execution_count": 224,
   "metadata": {},
   "outputs": [],
   "source": [
    "yerr = stds"
   ]
  },
  {
   "cell_type": "code",
   "execution_count": 225,
   "metadata": {},
   "outputs": [],
   "source": [
    "scores = df_.pred_score.values"
   ]
  },
  {
   "cell_type": "code",
   "execution_count": 231,
   "metadata": {},
   "outputs": [
    {
     "data": {
      "image/png": "[encoded data removed]",
      "text/plain": [
       "<Figure size 1000x400 with 2 Axes>"
      ]
     },
     "metadata": {
      "needs_background": "light"
     },
     "output_type": "display_data"
    }
   ],
   "source": [
    "fig, (ax0, ax1) = plt.subplots(1, 2, figsize=(10,4), dpi=100)\n",
    "ax0.bar(range(len(means)), means, alpha=0.7,\n",
    "        yerr=yerr,\n",
    "        error_kw=dict(\n",
    "            capsize=3,\n",
    "            ecolor=\"darkred\",))\n",
    "ax0.set_xlabel(\"Model\")\n",
    "ax0.set_xticks(range(len(means)))\n",
    "ax0.set_xticklabels(labels)\n",
    "ax0.set_ylabel(\"RMSE\")\n",
    "ax0.set_ylim((2.1, 2.5))\n",
    "\n",
    "ax1.bar(range(len(means)), scores, alpha=0.7)\n",
    "ax1.set_xlabel(\"Model\")\n",
    "ax1.set_xticks(range(len(means)))\n",
    "ax1.set_xticklabels(labels)\n",
    "ax1.set_ylabel(\"Précision, prédiction du type $k$\")\n",
    "ax1.set_ylim((0.7, 0.8))\n",
    "fig.tight_layout()"
   ]
  },
  {
   "cell_type": "code",
   "execution_count": null,
   "metadata": {},
   "outputs": [],
   "source": []
  },
  {
   "cell_type": "code",
   "execution_count": 232,
   "metadata": {},
   "outputs": [],
   "source": [
    "import datetime\n",
    "now = datetime.datetime.now()"
   ]
  },
  {
   "cell_type": "code",
   "execution_count": 233,
   "metadata": {},
   "outputs": [
    {
     "name": "stdout",
     "output_type": "stream",
     "text": [
      "20181209-221850\n"
     ]
    }
   ],
   "source": [
    "now_timestamp = now.strftime(\"%Y%m%d-%H%M%S\")\n",
    "print(now_timestamp)"
   ]
  },
  {
   "cell_type": "code",
   "execution_count": 234,
   "metadata": {},
   "outputs": [],
   "source": [
    "fig.savefig('../results/2D_Hawkes_Asymmetrical_Data_RMSE_{}.pdf'\n",
    "            .format(now_timestamp))"
   ]
  },
  {
   "cell_type": "code",
   "execution_count": null,
   "metadata": {},
   "outputs": [],
   "source": []
  },
  {
   "cell_type": "code",
   "execution_count": null,
   "metadata": {},
   "outputs": [],
   "source": []
  },
  {
   "cell_type": "code",
   "execution_count": null,
   "metadata": {},
   "outputs": [],
   "source": []
  },
  {
   "cell_type": "code",
   "execution_count": null,
   "metadata": {},
   "outputs": [],
   "source": []
  },
  {
   "cell_type": "code",
   "execution_count": null,
   "metadata": {},
   "outputs": [],
   "source": []
  },
  {
   "cell_type": "code",
   "execution_count": null,
   "metadata": {},
   "outputs": [],
   "source": []
  }
 ],
 "metadata": {
  "kernelspec": {
   "display_name": "Python [conda env:pytorch]",
   "language": "python",
   "name": "conda-env-pytorch-py"
  },
  "language_info": {
   "codemirror_mode": {
    "name": "ipython",
    "version": 3
   },
   "file_extension": ".py",
   "mimetype": "text/x-python",
   "name": "python",
   "nbconvert_exporter": "python",
   "pygments_lexer": "ipython3",
   "version": "3.7.1"
  }
 },
 "nbformat": 4,
 "nbformat_minor": 2
}
