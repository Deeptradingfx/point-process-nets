{
 "cells": [
  {
   "cell_type": "code",
   "execution_count": 9,
   "metadata": {},
   "outputs": [],
   "source": [
    "%matplotlib inline\n",
    "%load_ext autoreload\n",
    "%autoreload 2"
   ]
  },
  {
   "cell_type": "code",
   "execution_count": 10,
   "metadata": {},
   "outputs": [],
   "source": [
    "import os\n",
    "import sys\n",
    "import glob\n",
    "import pandas as pd\n",
    "import matplotlib.pyplot as plt\n",
    "import torch\n",
    "import numpy as np"
   ]
  },
  {
   "cell_type": "code",
   "execution_count": 11,
   "metadata": {},
   "outputs": [],
   "source": [
    "# Add parent dir to interpreter path\n",
    "nb_dir = os.path.split(os.getcwd())[0]\n",
    "if nb_dir not in sys.path:\n",
    "    sys.path.append(nb_dir)"
   ]
  },
  {
   "cell_type": "code",
   "execution_count": 12,
   "metadata": {},
   "outputs": [
    {
     "data": {
      "text/plain": [
       "['../data/german_equity', '../data/dax-euro', '../data/simulated']"
      ]
     },
     "execution_count": 12,
     "metadata": {},
     "output_type": "execute_result"
    }
   ],
   "source": [
    "DATA_DIRS_LIST = glob.glob(\"../data/*\")\n",
    "DATA_DIRS_LIST"
   ]
  },
  {
   "cell_type": "code",
   "execution_count": 13,
   "metadata": {},
   "outputs": [
    {
     "data": {
      "text/plain": [
       "['../data/german_equity/xFGBS',\n",
       " '../data/german_equity/xFGBM',\n",
       " '../data/german_equity/xFGBL',\n",
       " '../data/german_equity/README']"
      ]
     },
     "execution_count": 13,
     "metadata": {},
     "output_type": "execute_result"
    }
   ],
   "source": [
    "glob.glob(os.path.join(DATA_DIRS_LIST[0], \"*\"))"
   ]
  },
  {
   "cell_type": "code",
   "execution_count": 14,
   "metadata": {},
   "outputs": [
    {
     "data": {
      "text/plain": [
       "['../data/dax-euro/xFSXE', '../data/dax-euro/README', '../data/dax-euro/xFDAX']"
      ]
     },
     "execution_count": 14,
     "metadata": {},
     "output_type": "execute_result"
    }
   ],
   "source": [
    "glob.glob(os.path.join(DATA_DIRS_LIST[1], \"*\"))"
   ]
  },
  {
   "cell_type": "markdown",
   "metadata": {},
   "source": [
    "## Low-tick asset: DAX"
   ]
  },
  {
   "cell_type": "markdown",
   "metadata": {},
   "source": [
    "Side:\n",
    "* $-1$: ask\n",
    "* $1$: bid\n",
    "\n",
    "Type:\n",
    "* $-1$: limit\n",
    "* $0$: cancel\n",
    "* $1$: trade"
   ]
  },
  {
   "cell_type": "code",
   "execution_count": 15,
   "metadata": {},
   "outputs": [],
   "source": [
    "DAX_DATA_PATH = \"../data/dax-euro/xFDAX\"\n",
    "DAX_DATA_LIST = glob.glob(os.path.join(DAX_DATA_PATH, \"*\"))\n",
    "DAX_DATA_LIST.sort()"
   ]
  },
  {
   "cell_type": "code",
   "execution_count": 16,
   "metadata": {},
   "outputs": [
    {
     "name": "stdout",
     "output_type": "stream",
     "text": [
      "['../data/dax-euro/xFDAX/xFDAX_20130701.csv', '../data/dax-euro/xFDAX/xFDAX_20130702.csv', '../data/dax-euro/xFDAX/xFDAX_20130703.csv', '../data/dax-euro/xFDAX/xFDAX_20130704.csv', '../data/dax-euro/xFDAX/xFDAX_20130705.csv', '../data/dax-euro/xFDAX/xFDAX_20130708.csv', '../data/dax-euro/xFDAX/xFDAX_20130709.csv', '../data/dax-euro/xFDAX/xFDAX_20130710.csv']\n"
     ]
    }
   ],
   "source": [
    "FILES = DAX_DATA_LIST[:8]\n",
    "print(FILES)"
   ]
  },
  {
   "cell_type": "code",
   "execution_count": 17,
   "metadata": {},
   "outputs": [
    {
     "name": "stdout",
     "output_type": "stream",
     "text": [
      "../data/dax-euro/xFDAX/xFDAX_20130701.csv\n",
      "../data/dax-euro/xFDAX/xFDAX_20130702.csv\n",
      "../data/dax-euro/xFDAX/xFDAX_20130703.csv\n",
      "../data/dax-euro/xFDAX/xFDAX_20130704.csv\n",
      "../data/dax-euro/xFDAX/xFDAX_20130705.csv\n",
      "../data/dax-euro/xFDAX/xFDAX_20130708.csv\n",
      "../data/dax-euro/xFDAX/xFDAX_20130709.csv\n",
      "../data/dax-euro/xFDAX/xFDAX_20130710.csv\n"
     ]
    }
   ],
   "source": [
    "frames_ = []\n",
    "indices_ = [0]\n",
    "for file in FILES:\n",
    "    print(file)\n",
    "    df_ = pd.read_csv(file)\n",
    "    frames_.append(df_)\n",
    "    indices_.append(indices_[-1] + len(df_))\n",
    "    \n",
    "df = pd.concat(frames_, ignore_index=True)\n",
    "\n",
    "df['MidPrice'] = 0.5*(df.AskPriceAfter + df.BidPriceAfter)\n",
    "\n",
    "df['MidPriceVar'] = df.MidPrice.diff()"
   ]
  },
  {
   "cell_type": "code",
   "execution_count": 18,
   "metadata": {},
   "outputs": [
    {
     "data": {
      "text/html": [
       "<div>\n",
       "<style scoped>\n",
       "    .dataframe tbody tr th:only-of-type {\n",
       "        vertical-align: middle;\n",
       "    }\n",
       "\n",
       "    .dataframe tbody tr th {\n",
       "        vertical-align: top;\n",
       "    }\n",
       "\n",
       "    .dataframe thead th {\n",
       "        text-align: right;\n",
       "    }\n",
       "</style>\n",
       "<table border=\"1\" class=\"dataframe\">\n",
       "  <thead>\n",
       "    <tr style=\"text-align: right;\">\n",
       "      <th></th>\n",
       "      <th>Date</th>\n",
       "      <th>Time</th>\n",
       "      <th>Volume</th>\n",
       "      <th>OrderType</th>\n",
       "      <th>Side</th>\n",
       "      <th>AskPriceAfter</th>\n",
       "      <th>AskQtyAfter</th>\n",
       "      <th>AskSplitAfter</th>\n",
       "      <th>BidPriceAfter</th>\n",
       "      <th>BidQtyAfter</th>\n",
       "      <th>BidSplitAfter</th>\n",
       "      <th>MidPrice</th>\n",
       "      <th>MidPriceVar</th>\n",
       "    </tr>\n",
       "  </thead>\n",
       "  <tbody>\n",
       "    <tr>\n",
       "      <th>0</th>\n",
       "      <td>20130701</td>\n",
       "      <td>28806.446250</td>\n",
       "      <td>13</td>\n",
       "      <td>1</td>\n",
       "      <td>1</td>\n",
       "      <td>7956.0</td>\n",
       "      <td>1</td>\n",
       "      <td>1</td>\n",
       "      <td>7955.5</td>\n",
       "      <td>30</td>\n",
       "      <td>2</td>\n",
       "      <td>7955.75</td>\n",
       "      <td>NaN</td>\n",
       "    </tr>\n",
       "    <tr>\n",
       "      <th>1</th>\n",
       "      <td>20130701</td>\n",
       "      <td>28806.584304</td>\n",
       "      <td>4</td>\n",
       "      <td>1</td>\n",
       "      <td>1</td>\n",
       "      <td>7956.0</td>\n",
       "      <td>1</td>\n",
       "      <td>1</td>\n",
       "      <td>7955.5</td>\n",
       "      <td>34</td>\n",
       "      <td>3</td>\n",
       "      <td>7955.75</td>\n",
       "      <td>0.00</td>\n",
       "    </tr>\n",
       "    <tr>\n",
       "      <th>2</th>\n",
       "      <td>20130701</td>\n",
       "      <td>28806.601666</td>\n",
       "      <td>1</td>\n",
       "      <td>0</td>\n",
       "      <td>-1</td>\n",
       "      <td>7957.0</td>\n",
       "      <td>5</td>\n",
       "      <td>2</td>\n",
       "      <td>7955.5</td>\n",
       "      <td>34</td>\n",
       "      <td>3</td>\n",
       "      <td>7956.25</td>\n",
       "      <td>0.50</td>\n",
       "    </tr>\n",
       "    <tr>\n",
       "      <th>3</th>\n",
       "      <td>20130701</td>\n",
       "      <td>28806.603896</td>\n",
       "      <td>4</td>\n",
       "      <td>1</td>\n",
       "      <td>1</td>\n",
       "      <td>7957.0</td>\n",
       "      <td>5</td>\n",
       "      <td>2</td>\n",
       "      <td>7955.5</td>\n",
       "      <td>38</td>\n",
       "      <td>4</td>\n",
       "      <td>7956.25</td>\n",
       "      <td>0.00</td>\n",
       "    </tr>\n",
       "    <tr>\n",
       "      <th>4</th>\n",
       "      <td>20130701</td>\n",
       "      <td>28806.752690</td>\n",
       "      <td>1</td>\n",
       "      <td>1</td>\n",
       "      <td>1</td>\n",
       "      <td>7957.0</td>\n",
       "      <td>5</td>\n",
       "      <td>2</td>\n",
       "      <td>7956.5</td>\n",
       "      <td>1</td>\n",
       "      <td>1</td>\n",
       "      <td>7956.75</td>\n",
       "      <td>0.50</td>\n",
       "    </tr>\n",
       "    <tr>\n",
       "      <th>5</th>\n",
       "      <td>20130701</td>\n",
       "      <td>28806.891006</td>\n",
       "      <td>1</td>\n",
       "      <td>1</td>\n",
       "      <td>-1</td>\n",
       "      <td>7957.0</td>\n",
       "      <td>6</td>\n",
       "      <td>3</td>\n",
       "      <td>7956.5</td>\n",
       "      <td>1</td>\n",
       "      <td>1</td>\n",
       "      <td>7956.75</td>\n",
       "      <td>0.00</td>\n",
       "    </tr>\n",
       "    <tr>\n",
       "      <th>6</th>\n",
       "      <td>20130701</td>\n",
       "      <td>28806.892582</td>\n",
       "      <td>1</td>\n",
       "      <td>1</td>\n",
       "      <td>-1</td>\n",
       "      <td>7957.0</td>\n",
       "      <td>7</td>\n",
       "      <td>4</td>\n",
       "      <td>7956.5</td>\n",
       "      <td>1</td>\n",
       "      <td>1</td>\n",
       "      <td>7956.75</td>\n",
       "      <td>0.00</td>\n",
       "    </tr>\n",
       "    <tr>\n",
       "      <th>7</th>\n",
       "      <td>20130701</td>\n",
       "      <td>28807.066006</td>\n",
       "      <td>1</td>\n",
       "      <td>1</td>\n",
       "      <td>1</td>\n",
       "      <td>7957.0</td>\n",
       "      <td>7</td>\n",
       "      <td>4</td>\n",
       "      <td>7956.5</td>\n",
       "      <td>2</td>\n",
       "      <td>2</td>\n",
       "      <td>7956.75</td>\n",
       "      <td>0.00</td>\n",
       "    </tr>\n",
       "    <tr>\n",
       "      <th>8</th>\n",
       "      <td>20130701</td>\n",
       "      <td>28807.096734</td>\n",
       "      <td>1</td>\n",
       "      <td>0</td>\n",
       "      <td>-1</td>\n",
       "      <td>7957.0</td>\n",
       "      <td>6</td>\n",
       "      <td>3</td>\n",
       "      <td>7956.5</td>\n",
       "      <td>2</td>\n",
       "      <td>2</td>\n",
       "      <td>7956.75</td>\n",
       "      <td>0.00</td>\n",
       "    </tr>\n",
       "    <tr>\n",
       "      <th>9</th>\n",
       "      <td>20130701</td>\n",
       "      <td>28807.097236</td>\n",
       "      <td>3</td>\n",
       "      <td>0</td>\n",
       "      <td>-1</td>\n",
       "      <td>7957.0</td>\n",
       "      <td>3</td>\n",
       "      <td>3</td>\n",
       "      <td>7956.5</td>\n",
       "      <td>2</td>\n",
       "      <td>2</td>\n",
       "      <td>7956.75</td>\n",
       "      <td>0.00</td>\n",
       "    </tr>\n",
       "    <tr>\n",
       "      <th>10</th>\n",
       "      <td>20130701</td>\n",
       "      <td>28807.097571</td>\n",
       "      <td>3</td>\n",
       "      <td>0</td>\n",
       "      <td>-1</td>\n",
       "      <td>7957.5</td>\n",
       "      <td>4</td>\n",
       "      <td>2</td>\n",
       "      <td>7956.5</td>\n",
       "      <td>2</td>\n",
       "      <td>2</td>\n",
       "      <td>7957.00</td>\n",
       "      <td>0.25</td>\n",
       "    </tr>\n",
       "    <tr>\n",
       "      <th>11</th>\n",
       "      <td>20130701</td>\n",
       "      <td>28807.100431</td>\n",
       "      <td>1</td>\n",
       "      <td>1</td>\n",
       "      <td>1</td>\n",
       "      <td>7957.5</td>\n",
       "      <td>4</td>\n",
       "      <td>2</td>\n",
       "      <td>7956.5</td>\n",
       "      <td>3</td>\n",
       "      <td>3</td>\n",
       "      <td>7957.00</td>\n",
       "      <td>0.00</td>\n",
       "    </tr>\n",
       "    <tr>\n",
       "      <th>12</th>\n",
       "      <td>20130701</td>\n",
       "      <td>28807.242261</td>\n",
       "      <td>1</td>\n",
       "      <td>1</td>\n",
       "      <td>1</td>\n",
       "      <td>7957.5</td>\n",
       "      <td>4</td>\n",
       "      <td>2</td>\n",
       "      <td>7957.0</td>\n",
       "      <td>1</td>\n",
       "      <td>1</td>\n",
       "      <td>7957.25</td>\n",
       "      <td>0.25</td>\n",
       "    </tr>\n",
       "    <tr>\n",
       "      <th>13</th>\n",
       "      <td>20130701</td>\n",
       "      <td>28807.283512</td>\n",
       "      <td>1</td>\n",
       "      <td>0</td>\n",
       "      <td>-1</td>\n",
       "      <td>7957.5</td>\n",
       "      <td>3</td>\n",
       "      <td>2</td>\n",
       "      <td>7957.0</td>\n",
       "      <td>1</td>\n",
       "      <td>1</td>\n",
       "      <td>7957.25</td>\n",
       "      <td>0.00</td>\n",
       "    </tr>\n",
       "    <tr>\n",
       "      <th>14</th>\n",
       "      <td>20130701</td>\n",
       "      <td>28807.283840</td>\n",
       "      <td>3</td>\n",
       "      <td>0</td>\n",
       "      <td>-1</td>\n",
       "      <td>7958.0</td>\n",
       "      <td>2</td>\n",
       "      <td>1</td>\n",
       "      <td>7957.0</td>\n",
       "      <td>1</td>\n",
       "      <td>1</td>\n",
       "      <td>7957.50</td>\n",
       "      <td>0.25</td>\n",
       "    </tr>\n",
       "    <tr>\n",
       "      <th>15</th>\n",
       "      <td>20130701</td>\n",
       "      <td>28807.309478</td>\n",
       "      <td>1</td>\n",
       "      <td>1</td>\n",
       "      <td>-1</td>\n",
       "      <td>7957.5</td>\n",
       "      <td>1</td>\n",
       "      <td>1</td>\n",
       "      <td>7957.0</td>\n",
       "      <td>1</td>\n",
       "      <td>1</td>\n",
       "      <td>7957.25</td>\n",
       "      <td>-0.25</td>\n",
       "    </tr>\n",
       "    <tr>\n",
       "      <th>16</th>\n",
       "      <td>20130701</td>\n",
       "      <td>28807.327985</td>\n",
       "      <td>1</td>\n",
       "      <td>-1</td>\n",
       "      <td>-1</td>\n",
       "      <td>7958.0</td>\n",
       "      <td>2</td>\n",
       "      <td>1</td>\n",
       "      <td>7957.0</td>\n",
       "      <td>1</td>\n",
       "      <td>1</td>\n",
       "      <td>7957.50</td>\n",
       "      <td>0.25</td>\n",
       "    </tr>\n",
       "    <tr>\n",
       "      <th>17</th>\n",
       "      <td>20130701</td>\n",
       "      <td>28807.343220</td>\n",
       "      <td>2</td>\n",
       "      <td>1</td>\n",
       "      <td>1</td>\n",
       "      <td>7958.0</td>\n",
       "      <td>2</td>\n",
       "      <td>1</td>\n",
       "      <td>7957.0</td>\n",
       "      <td>3</td>\n",
       "      <td>2</td>\n",
       "      <td>7957.50</td>\n",
       "      <td>0.00</td>\n",
       "    </tr>\n",
       "    <tr>\n",
       "      <th>18</th>\n",
       "      <td>20130701</td>\n",
       "      <td>28807.482091</td>\n",
       "      <td>1</td>\n",
       "      <td>1</td>\n",
       "      <td>1</td>\n",
       "      <td>7958.0</td>\n",
       "      <td>2</td>\n",
       "      <td>1</td>\n",
       "      <td>7957.5</td>\n",
       "      <td>1</td>\n",
       "      <td>1</td>\n",
       "      <td>7957.75</td>\n",
       "      <td>0.25</td>\n",
       "    </tr>\n",
       "    <tr>\n",
       "      <th>19</th>\n",
       "      <td>20130701</td>\n",
       "      <td>28807.519796</td>\n",
       "      <td>1</td>\n",
       "      <td>0</td>\n",
       "      <td>1</td>\n",
       "      <td>7958.0</td>\n",
       "      <td>2</td>\n",
       "      <td>1</td>\n",
       "      <td>7957.0</td>\n",
       "      <td>3</td>\n",
       "      <td>2</td>\n",
       "      <td>7957.50</td>\n",
       "      <td>-0.25</td>\n",
       "    </tr>\n",
       "    <tr>\n",
       "      <th>20</th>\n",
       "      <td>20130701</td>\n",
       "      <td>28807.618048</td>\n",
       "      <td>1</td>\n",
       "      <td>0</td>\n",
       "      <td>-1</td>\n",
       "      <td>7958.0</td>\n",
       "      <td>1</td>\n",
       "      <td>1</td>\n",
       "      <td>7957.0</td>\n",
       "      <td>3</td>\n",
       "      <td>2</td>\n",
       "      <td>7957.50</td>\n",
       "      <td>0.00</td>\n",
       "    </tr>\n",
       "    <tr>\n",
       "      <th>21</th>\n",
       "      <td>20130701</td>\n",
       "      <td>28807.667586</td>\n",
       "      <td>1</td>\n",
       "      <td>1</td>\n",
       "      <td>1</td>\n",
       "      <td>7958.0</td>\n",
       "      <td>1</td>\n",
       "      <td>1</td>\n",
       "      <td>7957.0</td>\n",
       "      <td>4</td>\n",
       "      <td>3</td>\n",
       "      <td>7957.50</td>\n",
       "      <td>0.00</td>\n",
       "    </tr>\n",
       "    <tr>\n",
       "      <th>22</th>\n",
       "      <td>20130701</td>\n",
       "      <td>28807.732217</td>\n",
       "      <td>1</td>\n",
       "      <td>0</td>\n",
       "      <td>-1</td>\n",
       "      <td>7958.5</td>\n",
       "      <td>1</td>\n",
       "      <td>1</td>\n",
       "      <td>7957.5</td>\n",
       "      <td>1</td>\n",
       "      <td>1</td>\n",
       "      <td>7958.00</td>\n",
       "      <td>0.50</td>\n",
       "    </tr>\n",
       "    <tr>\n",
       "      <th>23</th>\n",
       "      <td>20130701</td>\n",
       "      <td>28808.235778</td>\n",
       "      <td>1</td>\n",
       "      <td>1</td>\n",
       "      <td>1</td>\n",
       "      <td>7958.5</td>\n",
       "      <td>1</td>\n",
       "      <td>1</td>\n",
       "      <td>7957.5</td>\n",
       "      <td>1</td>\n",
       "      <td>1</td>\n",
       "      <td>7958.00</td>\n",
       "      <td>0.00</td>\n",
       "    </tr>\n",
       "    <tr>\n",
       "      <th>24</th>\n",
       "      <td>20130701</td>\n",
       "      <td>28808.244892</td>\n",
       "      <td>1</td>\n",
       "      <td>0</td>\n",
       "      <td>-1</td>\n",
       "      <td>7959.0</td>\n",
       "      <td>5</td>\n",
       "      <td>2</td>\n",
       "      <td>7957.5</td>\n",
       "      <td>1</td>\n",
       "      <td>1</td>\n",
       "      <td>7958.25</td>\n",
       "      <td>0.25</td>\n",
       "    </tr>\n",
       "    <tr>\n",
       "      <th>25</th>\n",
       "      <td>20130701</td>\n",
       "      <td>28808.329979</td>\n",
       "      <td>2</td>\n",
       "      <td>0</td>\n",
       "      <td>1</td>\n",
       "      <td>7959.0</td>\n",
       "      <td>5</td>\n",
       "      <td>2</td>\n",
       "      <td>7957.0</td>\n",
       "      <td>3</td>\n",
       "      <td>3</td>\n",
       "      <td>7958.00</td>\n",
       "      <td>-0.25</td>\n",
       "    </tr>\n",
       "    <tr>\n",
       "      <th>26</th>\n",
       "      <td>20130701</td>\n",
       "      <td>28808.411807</td>\n",
       "      <td>3</td>\n",
       "      <td>0</td>\n",
       "      <td>-1</td>\n",
       "      <td>7959.0</td>\n",
       "      <td>2</td>\n",
       "      <td>2</td>\n",
       "      <td>7957.0</td>\n",
       "      <td>3</td>\n",
       "      <td>3</td>\n",
       "      <td>7958.00</td>\n",
       "      <td>0.00</td>\n",
       "    </tr>\n",
       "    <tr>\n",
       "      <th>27</th>\n",
       "      <td>20130701</td>\n",
       "      <td>28808.439373</td>\n",
       "      <td>1</td>\n",
       "      <td>0</td>\n",
       "      <td>-1</td>\n",
       "      <td>7959.0</td>\n",
       "      <td>1</td>\n",
       "      <td>1</td>\n",
       "      <td>7957.0</td>\n",
       "      <td>3</td>\n",
       "      <td>3</td>\n",
       "      <td>7958.00</td>\n",
       "      <td>0.00</td>\n",
       "    </tr>\n",
       "    <tr>\n",
       "      <th>28</th>\n",
       "      <td>20130701</td>\n",
       "      <td>28808.487331</td>\n",
       "      <td>1</td>\n",
       "      <td>1</td>\n",
       "      <td>1</td>\n",
       "      <td>7959.0</td>\n",
       "      <td>1</td>\n",
       "      <td>1</td>\n",
       "      <td>7957.5</td>\n",
       "      <td>1</td>\n",
       "      <td>1</td>\n",
       "      <td>7958.25</td>\n",
       "      <td>0.25</td>\n",
       "    </tr>\n",
       "    <tr>\n",
       "      <th>29</th>\n",
       "      <td>20130701</td>\n",
       "      <td>28809.246585</td>\n",
       "      <td>1</td>\n",
       "      <td>1</td>\n",
       "      <td>-1</td>\n",
       "      <td>7958.5</td>\n",
       "      <td>1</td>\n",
       "      <td>1</td>\n",
       "      <td>7958.0</td>\n",
       "      <td>2</td>\n",
       "      <td>2</td>\n",
       "      <td>7958.25</td>\n",
       "      <td>0.00</td>\n",
       "    </tr>\n",
       "    <tr>\n",
       "      <th>...</th>\n",
       "      <td>...</td>\n",
       "      <td>...</td>\n",
       "      <td>...</td>\n",
       "      <td>...</td>\n",
       "      <td>...</td>\n",
       "      <td>...</td>\n",
       "      <td>...</td>\n",
       "      <td>...</td>\n",
       "      <td>...</td>\n",
       "      <td>...</td>\n",
       "      <td>...</td>\n",
       "      <td>...</td>\n",
       "      <td>...</td>\n",
       "    </tr>\n",
       "    <tr>\n",
       "      <th>3502215</th>\n",
       "      <td>20130710</td>\n",
       "      <td>79189.091054</td>\n",
       "      <td>1</td>\n",
       "      <td>1</td>\n",
       "      <td>-1</td>\n",
       "      <td>8076.0</td>\n",
       "      <td>6</td>\n",
       "      <td>5</td>\n",
       "      <td>8075.5</td>\n",
       "      <td>10</td>\n",
       "      <td>1</td>\n",
       "      <td>8075.75</td>\n",
       "      <td>0.00</td>\n",
       "    </tr>\n",
       "    <tr>\n",
       "      <th>3502216</th>\n",
       "      <td>20130710</td>\n",
       "      <td>79190.096671</td>\n",
       "      <td>1</td>\n",
       "      <td>-1</td>\n",
       "      <td>-1</td>\n",
       "      <td>8076.0</td>\n",
       "      <td>5</td>\n",
       "      <td>4</td>\n",
       "      <td>8075.5</td>\n",
       "      <td>10</td>\n",
       "      <td>1</td>\n",
       "      <td>8075.75</td>\n",
       "      <td>0.00</td>\n",
       "    </tr>\n",
       "    <tr>\n",
       "      <th>3502217</th>\n",
       "      <td>20130710</td>\n",
       "      <td>79190.545588</td>\n",
       "      <td>2</td>\n",
       "      <td>1</td>\n",
       "      <td>-1</td>\n",
       "      <td>8076.0</td>\n",
       "      <td>7</td>\n",
       "      <td>5</td>\n",
       "      <td>8075.5</td>\n",
       "      <td>10</td>\n",
       "      <td>1</td>\n",
       "      <td>8075.75</td>\n",
       "      <td>0.00</td>\n",
       "    </tr>\n",
       "    <tr>\n",
       "      <th>3502218</th>\n",
       "      <td>20130710</td>\n",
       "      <td>79190.548809</td>\n",
       "      <td>4</td>\n",
       "      <td>1</td>\n",
       "      <td>1</td>\n",
       "      <td>8076.0</td>\n",
       "      <td>7</td>\n",
       "      <td>5</td>\n",
       "      <td>8075.5</td>\n",
       "      <td>14</td>\n",
       "      <td>2</td>\n",
       "      <td>8075.75</td>\n",
       "      <td>0.00</td>\n",
       "    </tr>\n",
       "    <tr>\n",
       "      <th>3502219</th>\n",
       "      <td>20130710</td>\n",
       "      <td>79190.549830</td>\n",
       "      <td>1</td>\n",
       "      <td>1</td>\n",
       "      <td>-1</td>\n",
       "      <td>8076.0</td>\n",
       "      <td>8</td>\n",
       "      <td>6</td>\n",
       "      <td>8075.5</td>\n",
       "      <td>14</td>\n",
       "      <td>2</td>\n",
       "      <td>8075.75</td>\n",
       "      <td>0.00</td>\n",
       "    </tr>\n",
       "    <tr>\n",
       "      <th>3502220</th>\n",
       "      <td>20130710</td>\n",
       "      <td>79190.881657</td>\n",
       "      <td>2</td>\n",
       "      <td>-1</td>\n",
       "      <td>-1</td>\n",
       "      <td>8076.0</td>\n",
       "      <td>6</td>\n",
       "      <td>5</td>\n",
       "      <td>8075.5</td>\n",
       "      <td>14</td>\n",
       "      <td>2</td>\n",
       "      <td>8075.75</td>\n",
       "      <td>0.00</td>\n",
       "    </tr>\n",
       "    <tr>\n",
       "      <th>3502221</th>\n",
       "      <td>20130710</td>\n",
       "      <td>79191.012103</td>\n",
       "      <td>1</td>\n",
       "      <td>-1</td>\n",
       "      <td>-1</td>\n",
       "      <td>8076.0</td>\n",
       "      <td>5</td>\n",
       "      <td>4</td>\n",
       "      <td>8075.5</td>\n",
       "      <td>14</td>\n",
       "      <td>2</td>\n",
       "      <td>8075.75</td>\n",
       "      <td>0.00</td>\n",
       "    </tr>\n",
       "    <tr>\n",
       "      <th>3502222</th>\n",
       "      <td>20130710</td>\n",
       "      <td>79191.012891</td>\n",
       "      <td>1</td>\n",
       "      <td>-1</td>\n",
       "      <td>-1</td>\n",
       "      <td>8076.0</td>\n",
       "      <td>4</td>\n",
       "      <td>3</td>\n",
       "      <td>8075.5</td>\n",
       "      <td>14</td>\n",
       "      <td>2</td>\n",
       "      <td>8075.75</td>\n",
       "      <td>0.00</td>\n",
       "    </tr>\n",
       "    <tr>\n",
       "      <th>3502223</th>\n",
       "      <td>20130710</td>\n",
       "      <td>79191.029644</td>\n",
       "      <td>1</td>\n",
       "      <td>0</td>\n",
       "      <td>1</td>\n",
       "      <td>8076.0</td>\n",
       "      <td>4</td>\n",
       "      <td>3</td>\n",
       "      <td>8075.5</td>\n",
       "      <td>13</td>\n",
       "      <td>2</td>\n",
       "      <td>8075.75</td>\n",
       "      <td>0.00</td>\n",
       "    </tr>\n",
       "    <tr>\n",
       "      <th>3502224</th>\n",
       "      <td>20130710</td>\n",
       "      <td>79191.116420</td>\n",
       "      <td>1</td>\n",
       "      <td>-1</td>\n",
       "      <td>-1</td>\n",
       "      <td>8076.0</td>\n",
       "      <td>3</td>\n",
       "      <td>2</td>\n",
       "      <td>8075.5</td>\n",
       "      <td>13</td>\n",
       "      <td>2</td>\n",
       "      <td>8075.75</td>\n",
       "      <td>0.00</td>\n",
       "    </tr>\n",
       "    <tr>\n",
       "      <th>3502225</th>\n",
       "      <td>20130710</td>\n",
       "      <td>79191.583516</td>\n",
       "      <td>2</td>\n",
       "      <td>0</td>\n",
       "      <td>-1</td>\n",
       "      <td>8076.0</td>\n",
       "      <td>1</td>\n",
       "      <td>1</td>\n",
       "      <td>8075.5</td>\n",
       "      <td>13</td>\n",
       "      <td>2</td>\n",
       "      <td>8075.75</td>\n",
       "      <td>0.00</td>\n",
       "    </tr>\n",
       "    <tr>\n",
       "      <th>3502226</th>\n",
       "      <td>20130710</td>\n",
       "      <td>79191.625428</td>\n",
       "      <td>1</td>\n",
       "      <td>1</td>\n",
       "      <td>-1</td>\n",
       "      <td>8076.0</td>\n",
       "      <td>2</td>\n",
       "      <td>2</td>\n",
       "      <td>8075.5</td>\n",
       "      <td>13</td>\n",
       "      <td>2</td>\n",
       "      <td>8075.75</td>\n",
       "      <td>0.00</td>\n",
       "    </tr>\n",
       "    <tr>\n",
       "      <th>3502227</th>\n",
       "      <td>20130710</td>\n",
       "      <td>79191.775426</td>\n",
       "      <td>5</td>\n",
       "      <td>0</td>\n",
       "      <td>1</td>\n",
       "      <td>8076.0</td>\n",
       "      <td>2</td>\n",
       "      <td>2</td>\n",
       "      <td>8075.5</td>\n",
       "      <td>8</td>\n",
       "      <td>2</td>\n",
       "      <td>8075.75</td>\n",
       "      <td>0.00</td>\n",
       "    </tr>\n",
       "    <tr>\n",
       "      <th>3502228</th>\n",
       "      <td>20130710</td>\n",
       "      <td>79192.127372</td>\n",
       "      <td>5</td>\n",
       "      <td>0</td>\n",
       "      <td>1</td>\n",
       "      <td>8076.0</td>\n",
       "      <td>2</td>\n",
       "      <td>2</td>\n",
       "      <td>8075.5</td>\n",
       "      <td>3</td>\n",
       "      <td>1</td>\n",
       "      <td>8075.75</td>\n",
       "      <td>0.00</td>\n",
       "    </tr>\n",
       "    <tr>\n",
       "      <th>3502229</th>\n",
       "      <td>20130710</td>\n",
       "      <td>79192.640298</td>\n",
       "      <td>2</td>\n",
       "      <td>1</td>\n",
       "      <td>-1</td>\n",
       "      <td>8076.0</td>\n",
       "      <td>4</td>\n",
       "      <td>3</td>\n",
       "      <td>8075.5</td>\n",
       "      <td>3</td>\n",
       "      <td>1</td>\n",
       "      <td>8075.75</td>\n",
       "      <td>0.00</td>\n",
       "    </tr>\n",
       "    <tr>\n",
       "      <th>3502230</th>\n",
       "      <td>20130710</td>\n",
       "      <td>79192.715075</td>\n",
       "      <td>1</td>\n",
       "      <td>-1</td>\n",
       "      <td>-1</td>\n",
       "      <td>8076.0</td>\n",
       "      <td>3</td>\n",
       "      <td>2</td>\n",
       "      <td>8075.5</td>\n",
       "      <td>2</td>\n",
       "      <td>1</td>\n",
       "      <td>8075.75</td>\n",
       "      <td>0.00</td>\n",
       "    </tr>\n",
       "    <tr>\n",
       "      <th>3502231</th>\n",
       "      <td>20130710</td>\n",
       "      <td>79192.715075</td>\n",
       "      <td>1</td>\n",
       "      <td>0</td>\n",
       "      <td>1</td>\n",
       "      <td>8076.0</td>\n",
       "      <td>3</td>\n",
       "      <td>2</td>\n",
       "      <td>8075.5</td>\n",
       "      <td>2</td>\n",
       "      <td>1</td>\n",
       "      <td>8075.75</td>\n",
       "      <td>0.00</td>\n",
       "    </tr>\n",
       "    <tr>\n",
       "      <th>3502232</th>\n",
       "      <td>20130710</td>\n",
       "      <td>79193.000194</td>\n",
       "      <td>1</td>\n",
       "      <td>0</td>\n",
       "      <td>-1</td>\n",
       "      <td>8076.0</td>\n",
       "      <td>2</td>\n",
       "      <td>1</td>\n",
       "      <td>8075.5</td>\n",
       "      <td>2</td>\n",
       "      <td>1</td>\n",
       "      <td>8075.75</td>\n",
       "      <td>0.00</td>\n",
       "    </tr>\n",
       "    <tr>\n",
       "      <th>3502233</th>\n",
       "      <td>20130710</td>\n",
       "      <td>79193.372128</td>\n",
       "      <td>2</td>\n",
       "      <td>0</td>\n",
       "      <td>-1</td>\n",
       "      <td>8076.5</td>\n",
       "      <td>3</td>\n",
       "      <td>2</td>\n",
       "      <td>8075.5</td>\n",
       "      <td>2</td>\n",
       "      <td>1</td>\n",
       "      <td>8076.00</td>\n",
       "      <td>0.25</td>\n",
       "    </tr>\n",
       "    <tr>\n",
       "      <th>3502234</th>\n",
       "      <td>20130710</td>\n",
       "      <td>79193.459608</td>\n",
       "      <td>1</td>\n",
       "      <td>0</td>\n",
       "      <td>1</td>\n",
       "      <td>8076.5</td>\n",
       "      <td>3</td>\n",
       "      <td>2</td>\n",
       "      <td>8075.5</td>\n",
       "      <td>1</td>\n",
       "      <td>1</td>\n",
       "      <td>8076.00</td>\n",
       "      <td>0.00</td>\n",
       "    </tr>\n",
       "    <tr>\n",
       "      <th>3502235</th>\n",
       "      <td>20130710</td>\n",
       "      <td>79193.466449</td>\n",
       "      <td>1</td>\n",
       "      <td>1</td>\n",
       "      <td>-1</td>\n",
       "      <td>8076.5</td>\n",
       "      <td>4</td>\n",
       "      <td>3</td>\n",
       "      <td>8075.5</td>\n",
       "      <td>1</td>\n",
       "      <td>1</td>\n",
       "      <td>8076.00</td>\n",
       "      <td>0.00</td>\n",
       "    </tr>\n",
       "    <tr>\n",
       "      <th>3502236</th>\n",
       "      <td>20130710</td>\n",
       "      <td>79195.699034</td>\n",
       "      <td>9</td>\n",
       "      <td>1</td>\n",
       "      <td>-1</td>\n",
       "      <td>8075.5</td>\n",
       "      <td>9</td>\n",
       "      <td>1</td>\n",
       "      <td>8075.0</td>\n",
       "      <td>3</td>\n",
       "      <td>3</td>\n",
       "      <td>8075.25</td>\n",
       "      <td>-0.75</td>\n",
       "    </tr>\n",
       "    <tr>\n",
       "      <th>3502237</th>\n",
       "      <td>20130710</td>\n",
       "      <td>79195.699034</td>\n",
       "      <td>1</td>\n",
       "      <td>0</td>\n",
       "      <td>1</td>\n",
       "      <td>8075.5</td>\n",
       "      <td>9</td>\n",
       "      <td>1</td>\n",
       "      <td>8075.0</td>\n",
       "      <td>3</td>\n",
       "      <td>3</td>\n",
       "      <td>8075.25</td>\n",
       "      <td>0.00</td>\n",
       "    </tr>\n",
       "    <tr>\n",
       "      <th>3502238</th>\n",
       "      <td>20130710</td>\n",
       "      <td>79196.413508</td>\n",
       "      <td>1</td>\n",
       "      <td>-1</td>\n",
       "      <td>1</td>\n",
       "      <td>8075.5</td>\n",
       "      <td>9</td>\n",
       "      <td>1</td>\n",
       "      <td>8075.0</td>\n",
       "      <td>2</td>\n",
       "      <td>2</td>\n",
       "      <td>8075.25</td>\n",
       "      <td>0.00</td>\n",
       "    </tr>\n",
       "    <tr>\n",
       "      <th>3502239</th>\n",
       "      <td>20130710</td>\n",
       "      <td>79196.502362</td>\n",
       "      <td>1</td>\n",
       "      <td>1</td>\n",
       "      <td>-1</td>\n",
       "      <td>8075.5</td>\n",
       "      <td>10</td>\n",
       "      <td>2</td>\n",
       "      <td>8075.0</td>\n",
       "      <td>2</td>\n",
       "      <td>2</td>\n",
       "      <td>8075.25</td>\n",
       "      <td>0.00</td>\n",
       "    </tr>\n",
       "    <tr>\n",
       "      <th>3502240</th>\n",
       "      <td>20130710</td>\n",
       "      <td>79196.502515</td>\n",
       "      <td>1</td>\n",
       "      <td>-1</td>\n",
       "      <td>1</td>\n",
       "      <td>8075.5</td>\n",
       "      <td>10</td>\n",
       "      <td>2</td>\n",
       "      <td>8075.0</td>\n",
       "      <td>1</td>\n",
       "      <td>1</td>\n",
       "      <td>8075.25</td>\n",
       "      <td>0.00</td>\n",
       "    </tr>\n",
       "    <tr>\n",
       "      <th>3502241</th>\n",
       "      <td>20130710</td>\n",
       "      <td>79196.533297</td>\n",
       "      <td>1</td>\n",
       "      <td>-1</td>\n",
       "      <td>1</td>\n",
       "      <td>8075.5</td>\n",
       "      <td>10</td>\n",
       "      <td>2</td>\n",
       "      <td>8074.5</td>\n",
       "      <td>2</td>\n",
       "      <td>2</td>\n",
       "      <td>8075.00</td>\n",
       "      <td>-0.25</td>\n",
       "    </tr>\n",
       "    <tr>\n",
       "      <th>3502242</th>\n",
       "      <td>20130710</td>\n",
       "      <td>79196.879573</td>\n",
       "      <td>1</td>\n",
       "      <td>1</td>\n",
       "      <td>-1</td>\n",
       "      <td>8075.5</td>\n",
       "      <td>11</td>\n",
       "      <td>3</td>\n",
       "      <td>8074.5</td>\n",
       "      <td>2</td>\n",
       "      <td>2</td>\n",
       "      <td>8075.00</td>\n",
       "      <td>0.00</td>\n",
       "    </tr>\n",
       "    <tr>\n",
       "      <th>3502243</th>\n",
       "      <td>20130710</td>\n",
       "      <td>79198.014544</td>\n",
       "      <td>1</td>\n",
       "      <td>0</td>\n",
       "      <td>1</td>\n",
       "      <td>8075.5</td>\n",
       "      <td>11</td>\n",
       "      <td>3</td>\n",
       "      <td>8074.5</td>\n",
       "      <td>1</td>\n",
       "      <td>1</td>\n",
       "      <td>8075.00</td>\n",
       "      <td>0.00</td>\n",
       "    </tr>\n",
       "    <tr>\n",
       "      <th>3502244</th>\n",
       "      <td>20130710</td>\n",
       "      <td>79198.708891</td>\n",
       "      <td>2</td>\n",
       "      <td>0</td>\n",
       "      <td>-1</td>\n",
       "      <td>8075.5</td>\n",
       "      <td>9</td>\n",
       "      <td>3</td>\n",
       "      <td>8074.5</td>\n",
       "      <td>1</td>\n",
       "      <td>1</td>\n",
       "      <td>8075.00</td>\n",
       "      <td>0.00</td>\n",
       "    </tr>\n",
       "  </tbody>\n",
       "</table>\n",
       "<p>3502245 rows × 13 columns</p>\n",
       "</div>"
      ],
      "text/plain": [
       "             Date          Time  Volume  OrderType  Side  AskPriceAfter  \\\n",
       "0        20130701  28806.446250      13          1     1         7956.0   \n",
       "1        20130701  28806.584304       4          1     1         7956.0   \n",
       "2        20130701  28806.601666       1          0    -1         7957.0   \n",
       "3        20130701  28806.603896       4          1     1         7957.0   \n",
       "4        20130701  28806.752690       1          1     1         7957.0   \n",
       "5        20130701  28806.891006       1          1    -1         7957.0   \n",
       "6        20130701  28806.892582       1          1    -1         7957.0   \n",
       "7        20130701  28807.066006       1          1     1         7957.0   \n",
       "8        20130701  28807.096734       1          0    -1         7957.0   \n",
       "9        20130701  28807.097236       3          0    -1         7957.0   \n",
       "10       20130701  28807.097571       3          0    -1         7957.5   \n",
       "11       20130701  28807.100431       1          1     1         7957.5   \n",
       "12       20130701  28807.242261       1          1     1         7957.5   \n",
       "13       20130701  28807.283512       1          0    -1         7957.5   \n",
       "14       20130701  28807.283840       3          0    -1         7958.0   \n",
       "15       20130701  28807.309478       1          1    -1         7957.5   \n",
       "16       20130701  28807.327985       1         -1    -1         7958.0   \n",
       "17       20130701  28807.343220       2          1     1         7958.0   \n",
       "18       20130701  28807.482091       1          1     1         7958.0   \n",
       "19       20130701  28807.519796       1          0     1         7958.0   \n",
       "20       20130701  28807.618048       1          0    -1         7958.0   \n",
       "21       20130701  28807.667586       1          1     1         7958.0   \n",
       "22       20130701  28807.732217       1          0    -1         7958.5   \n",
       "23       20130701  28808.235778       1          1     1         7958.5   \n",
       "24       20130701  28808.244892       1          0    -1         7959.0   \n",
       "25       20130701  28808.329979       2          0     1         7959.0   \n",
       "26       20130701  28808.411807       3          0    -1         7959.0   \n",
       "27       20130701  28808.439373       1          0    -1         7959.0   \n",
       "28       20130701  28808.487331       1          1     1         7959.0   \n",
       "29       20130701  28809.246585       1          1    -1         7958.5   \n",
       "...           ...           ...     ...        ...   ...            ...   \n",
       "3502215  20130710  79189.091054       1          1    -1         8076.0   \n",
       "3502216  20130710  79190.096671       1         -1    -1         8076.0   \n",
       "3502217  20130710  79190.545588       2          1    -1         8076.0   \n",
       "3502218  20130710  79190.548809       4          1     1         8076.0   \n",
       "3502219  20130710  79190.549830       1          1    -1         8076.0   \n",
       "3502220  20130710  79190.881657       2         -1    -1         8076.0   \n",
       "3502221  20130710  79191.012103       1         -1    -1         8076.0   \n",
       "3502222  20130710  79191.012891       1         -1    -1         8076.0   \n",
       "3502223  20130710  79191.029644       1          0     1         8076.0   \n",
       "3502224  20130710  79191.116420       1         -1    -1         8076.0   \n",
       "3502225  20130710  79191.583516       2          0    -1         8076.0   \n",
       "3502226  20130710  79191.625428       1          1    -1         8076.0   \n",
       "3502227  20130710  79191.775426       5          0     1         8076.0   \n",
       "3502228  20130710  79192.127372       5          0     1         8076.0   \n",
       "3502229  20130710  79192.640298       2          1    -1         8076.0   \n",
       "3502230  20130710  79192.715075       1         -1    -1         8076.0   \n",
       "3502231  20130710  79192.715075       1          0     1         8076.0   \n",
       "3502232  20130710  79193.000194       1          0    -1         8076.0   \n",
       "3502233  20130710  79193.372128       2          0    -1         8076.5   \n",
       "3502234  20130710  79193.459608       1          0     1         8076.5   \n",
       "3502235  20130710  79193.466449       1          1    -1         8076.5   \n",
       "3502236  20130710  79195.699034       9          1    -1         8075.5   \n",
       "3502237  20130710  79195.699034       1          0     1         8075.5   \n",
       "3502238  20130710  79196.413508       1         -1     1         8075.5   \n",
       "3502239  20130710  79196.502362       1          1    -1         8075.5   \n",
       "3502240  20130710  79196.502515       1         -1     1         8075.5   \n",
       "3502241  20130710  79196.533297       1         -1     1         8075.5   \n",
       "3502242  20130710  79196.879573       1          1    -1         8075.5   \n",
       "3502243  20130710  79198.014544       1          0     1         8075.5   \n",
       "3502244  20130710  79198.708891       2          0    -1         8075.5   \n",
       "\n",
       "         AskQtyAfter  AskSplitAfter  BidPriceAfter  BidQtyAfter  \\\n",
       "0                  1              1         7955.5           30   \n",
       "1                  1              1         7955.5           34   \n",
       "2                  5              2         7955.5           34   \n",
       "3                  5              2         7955.5           38   \n",
       "4                  5              2         7956.5            1   \n",
       "5                  6              3         7956.5            1   \n",
       "6                  7              4         7956.5            1   \n",
       "7                  7              4         7956.5            2   \n",
       "8                  6              3         7956.5            2   \n",
       "9                  3              3         7956.5            2   \n",
       "10                 4              2         7956.5            2   \n",
       "11                 4              2         7956.5            3   \n",
       "12                 4              2         7957.0            1   \n",
       "13                 3              2         7957.0            1   \n",
       "14                 2              1         7957.0            1   \n",
       "15                 1              1         7957.0            1   \n",
       "16                 2              1         7957.0            1   \n",
       "17                 2              1         7957.0            3   \n",
       "18                 2              1         7957.5            1   \n",
       "19                 2              1         7957.0            3   \n",
       "20                 1              1         7957.0            3   \n",
       "21                 1              1         7957.0            4   \n",
       "22                 1              1         7957.5            1   \n",
       "23                 1              1         7957.5            1   \n",
       "24                 5              2         7957.5            1   \n",
       "25                 5              2         7957.0            3   \n",
       "26                 2              2         7957.0            3   \n",
       "27                 1              1         7957.0            3   \n",
       "28                 1              1         7957.5            1   \n",
       "29                 1              1         7958.0            2   \n",
       "...              ...            ...            ...          ...   \n",
       "3502215            6              5         8075.5           10   \n",
       "3502216            5              4         8075.5           10   \n",
       "3502217            7              5         8075.5           10   \n",
       "3502218            7              5         8075.5           14   \n",
       "3502219            8              6         8075.5           14   \n",
       "3502220            6              5         8075.5           14   \n",
       "3502221            5              4         8075.5           14   \n",
       "3502222            4              3         8075.5           14   \n",
       "3502223            4              3         8075.5           13   \n",
       "3502224            3              2         8075.5           13   \n",
       "3502225            1              1         8075.5           13   \n",
       "3502226            2              2         8075.5           13   \n",
       "3502227            2              2         8075.5            8   \n",
       "3502228            2              2         8075.5            3   \n",
       "3502229            4              3         8075.5            3   \n",
       "3502230            3              2         8075.5            2   \n",
       "3502231            3              2         8075.5            2   \n",
       "3502232            2              1         8075.5            2   \n",
       "3502233            3              2         8075.5            2   \n",
       "3502234            3              2         8075.5            1   \n",
       "3502235            4              3         8075.5            1   \n",
       "3502236            9              1         8075.0            3   \n",
       "3502237            9              1         8075.0            3   \n",
       "3502238            9              1         8075.0            2   \n",
       "3502239           10              2         8075.0            2   \n",
       "3502240           10              2         8075.0            1   \n",
       "3502241           10              2         8074.5            2   \n",
       "3502242           11              3         8074.5            2   \n",
       "3502243           11              3         8074.5            1   \n",
       "3502244            9              3         8074.5            1   \n",
       "\n",
       "         BidSplitAfter  MidPrice  MidPriceVar  \n",
       "0                    2   7955.75          NaN  \n",
       "1                    3   7955.75         0.00  \n",
       "2                    3   7956.25         0.50  \n",
       "3                    4   7956.25         0.00  \n",
       "4                    1   7956.75         0.50  \n",
       "5                    1   7956.75         0.00  \n",
       "6                    1   7956.75         0.00  \n",
       "7                    2   7956.75         0.00  \n",
       "8                    2   7956.75         0.00  \n",
       "9                    2   7956.75         0.00  \n",
       "10                   2   7957.00         0.25  \n",
       "11                   3   7957.00         0.00  \n",
       "12                   1   7957.25         0.25  \n",
       "13                   1   7957.25         0.00  \n",
       "14                   1   7957.50         0.25  \n",
       "15                   1   7957.25        -0.25  \n",
       "16                   1   7957.50         0.25  \n",
       "17                   2   7957.50         0.00  \n",
       "18                   1   7957.75         0.25  \n",
       "19                   2   7957.50        -0.25  \n",
       "20                   2   7957.50         0.00  \n",
       "21                   3   7957.50         0.00  \n",
       "22                   1   7958.00         0.50  \n",
       "23                   1   7958.00         0.00  \n",
       "24                   1   7958.25         0.25  \n",
       "25                   3   7958.00        -0.25  \n",
       "26                   3   7958.00         0.00  \n",
       "27                   3   7958.00         0.00  \n",
       "28                   1   7958.25         0.25  \n",
       "29                   2   7958.25         0.00  \n",
       "...                ...       ...          ...  \n",
       "3502215              1   8075.75         0.00  \n",
       "3502216              1   8075.75         0.00  \n",
       "3502217              1   8075.75         0.00  \n",
       "3502218              2   8075.75         0.00  \n",
       "3502219              2   8075.75         0.00  \n",
       "3502220              2   8075.75         0.00  \n",
       "3502221              2   8075.75         0.00  \n",
       "3502222              2   8075.75         0.00  \n",
       "3502223              2   8075.75         0.00  \n",
       "3502224              2   8075.75         0.00  \n",
       "3502225              2   8075.75         0.00  \n",
       "3502226              2   8075.75         0.00  \n",
       "3502227              2   8075.75         0.00  \n",
       "3502228              1   8075.75         0.00  \n",
       "3502229              1   8075.75         0.00  \n",
       "3502230              1   8075.75         0.00  \n",
       "3502231              1   8075.75         0.00  \n",
       "3502232              1   8075.75         0.00  \n",
       "3502233              1   8076.00         0.25  \n",
       "3502234              1   8076.00         0.00  \n",
       "3502235              1   8076.00         0.00  \n",
       "3502236              3   8075.25        -0.75  \n",
       "3502237              3   8075.25         0.00  \n",
       "3502238              2   8075.25         0.00  \n",
       "3502239              2   8075.25         0.00  \n",
       "3502240              1   8075.25         0.00  \n",
       "3502241              2   8075.00        -0.25  \n",
       "3502242              2   8075.00         0.00  \n",
       "3502243              1   8075.00         0.00  \n",
       "3502244              1   8075.00         0.00  \n",
       "\n",
       "[3502245 rows x 13 columns]"
      ]
     },
     "execution_count": 18,
     "metadata": {},
     "output_type": "execute_result"
    }
   ],
   "source": [
    "df"
   ]
  },
  {
   "cell_type": "markdown",
   "metadata": {},
   "source": [
    "### Model"
   ]
  },
  {
   "cell_type": "markdown",
   "metadata": {},
   "source": [
    "* 0: midprice goes down $N_t^1$\n",
    "* 1: midprice goes up $N_t^2$"
   ]
  },
  {
   "cell_type": "code",
   "execution_count": null,
   "metadata": {},
   "outputs": [],
   "source": []
  },
  {
   "cell_type": "markdown",
   "metadata": {},
   "source": [
    "# Influence of ask and bid"
   ]
  },
  {
   "cell_type": "code",
   "execution_count": 19,
   "metadata": {},
   "outputs": [],
   "source": [
    "from torch import nn\n",
    "\n",
    "from models import HawkesDecayRNN\n",
    "from train_functions import train_decayrnn"
   ]
  },
  {
   "cell_type": "code",
   "execution_count": 20,
   "metadata": {},
   "outputs": [],
   "source": [
    "num_of_splits = 60"
   ]
  },
  {
   "cell_type": "code",
   "execution_count": 22,
   "metadata": {},
   "outputs": [],
   "source": [
    "process_dim = 2"
   ]
  },
  {
   "cell_type": "code",
   "execution_count": 23,
   "metadata": {},
   "outputs": [
    {
     "name": "stdout",
     "output_type": "stream",
     "text": [
      "Day 20130701\n"
     ]
    },
    {
     "name": "stderr",
     "output_type": "stream",
     "text": [
      "/home/manifold/miniconda3/envs/pytorch/lib/python3.7/site-packages/ipykernel_launcher.py:11: SettingWithCopyWarning: \n",
      "A value is trying to be set on a copy of a slice from a DataFrame.\n",
      "Try using .loc[row_indexer,col_indexer] = value instead\n",
      "\n",
      "See the caveats in the documentation: http://pandas.pydata.org/pandas-docs/stable/indexing.html#indexing-view-versus-copy\n",
      "  # This is added back by InteractiveShellApp.init_path()\n"
     ]
    },
    {
     "name": "stdout",
     "output_type": "stream",
     "text": [
      "Day 20130702\n",
      "Day 20130703\n",
      "Day 20130704\n",
      "Day 20130705\n",
      "Day 20130708\n",
      "Day 20130709\n",
      "Day 20130710\n",
      "torch.Size([480, 1995])\n"
     ]
    }
   ],
   "source": [
    "split_times_list = []\n",
    "split_types_list = []\n",
    "seq_lengths = []\n",
    "for file in FILES:\n",
    "    df = pd.read_csv(file)\n",
    "    day_stamp = df.Date.values[0]\n",
    "    print(\"Day\", day_stamp)\n",
    "    df['MidPrice'] = 0.5*(df.AskPriceAfter + df.BidPriceAfter)\n",
    "    df['MidPriceVar'] = df.MidPrice.diff()\n",
    "    df_filtered: pd.DataFrame = df[df.MidPriceVar != 0]\n",
    "    df_filtered['MidPriceChangeType'] = (df.MidPriceVar > 0).astype(int)\n",
    "    # Arrange our data\n",
    "    evt_times = df_filtered.Time.values\n",
    "    evt_types = df_filtered.MidPriceChangeType.values\n",
    "\n",
    "    sttl_ = np.array_split(evt_times, num_of_splits)\n",
    "    stpl_ = np.array_split(evt_types, num_of_splits)\n",
    "    seq_lengths += [len(e) for e in sttl_]\n",
    "    split_times_list += [torch.from_numpy(e) for e in sttl_]\n",
    "    split_types_list += [torch.from_numpy(e) for e in stpl_]\n",
    "seq_lengths = torch.LongTensor(seq_lengths) - 1\n",
    "seq_times = nn.utils.rnn.pad_sequence(split_times_list, batch_first=True).to(torch.float32)\n",
    "seq_types = nn.utils.rnn.pad_sequence(split_types_list, batch_first=True, padding_value=process_dim)\n",
    "print(seq_times.shape)"
   ]
  },
  {
   "cell_type": "code",
   "execution_count": 24,
   "metadata": {},
   "outputs": [],
   "source": [
    "from torch.nn import functional as F"
   ]
  },
  {
   "cell_type": "markdown",
   "metadata": {},
   "source": [
    "# Evaluation"
   ]
  },
  {
   "cell_type": "markdown",
   "metadata": {},
   "source": [
    "## RNN model"
   ]
  },
  {
   "cell_type": "code",
   "execution_count": 25,
   "metadata": {},
   "outputs": [],
   "source": [
    "process_dim = 2\n",
    "hidden_size = 128"
   ]
  },
  {
   "cell_type": "code",
   "execution_count": 26,
   "metadata": {},
   "outputs": [],
   "source": [
    "rnn_model = HawkesDecayRNN(process_dim, hidden_size)"
   ]
  },
  {
   "cell_type": "code",
   "execution_count": 27,
   "metadata": {},
   "outputs": [
    {
     "data": {
      "text/plain": [
       "['../saved_models/HawkesDecayRNN-2d_hidden128-20181210-234746.pth',\n",
       " '../saved_models/HawkesDecayRNN-2d_hidden128-20181210-013110.pth',\n",
       " '../saved_models/HawkesDecayRNN-2d_hidden128-20181209-212603.pth',\n",
       " '../saved_models/HawkesDecayRNN-2d_hidden128-20181209-153942.pth']"
      ]
     },
     "execution_count": 27,
     "metadata": {},
     "output_type": "execute_result"
    }
   ],
   "source": [
    "MODEL_FILES = glob.glob(\"../saved_models/HawkesDecay*\")\n",
    "MODEL_FILES.sort(reverse=True)\n",
    "MODEL_FILES"
   ]
  },
  {
   "cell_type": "code",
   "execution_count": 28,
   "metadata": {},
   "outputs": [
    {
     "name": "stdout",
     "output_type": "stream",
     "text": [
      "../saved_models/HawkesDecayRNN-2d_hidden128-20181210-234746.pth\n"
     ]
    }
   ],
   "source": [
    "_model_file = MODEL_FILES[0]\n",
    "print(_model_file)\n",
    "rnn_model.load_state_dict(torch.load(MODEL_FILES[0], map_location={\"cuda:0\": \"cpu\"}))"
   ]
  },
  {
   "cell_type": "code",
   "execution_count": 29,
   "metadata": {},
   "outputs": [],
   "source": [
    "from utils import evaluation"
   ]
  },
  {
   "cell_type": "code",
   "execution_count": 30,
   "metadata": {},
   "outputs": [
    {
     "name": "stdout",
     "output_type": "stream",
     "text": [
      "Dataset size: 480\n"
     ]
    }
   ],
   "source": [
    "dataset_size = seq_times.shape[0]\n",
    "print(\"Dataset size:\", dataset_size)\n",
    "\n",
    "train_size = 420\n",
    "test_size = 120"
   ]
  },
  {
   "cell_type": "code",
   "execution_count": 34,
   "metadata": {},
   "outputs": [
    {
     "name": "stdout",
     "output_type": "stream",
     "text": [
      "last event: time 39947.578 type 1.000\n",
      "next event: time 39947.578 type 1.000, in 0.000\n",
      "sum of density: tensor(0.8214)\n",
      "type probabilities: tensor([0.3993, 0.4028])\n"
     ]
    },
    {
     "data": {
      "text/plain": [
       "((tensor(0.0984), tensor(0.), tensor(0.0097), tensor(1), tensor(1)),\n",
       " <Figure size 1000x400 with 2 Axes>)"
      ]
     },
     "execution_count": 34,
     "metadata": {},
     "output_type": "execute_result"
    },
    {
     "data": {
      "image/png": "[encoded data removed]",
      "text/plain": [
       "<Figure size 1000x400 with 2 Axes>"
      ]
     },
     "metadata": {
      "needs_background": "light"
     },
     "output_type": "display_data"
    }
   ],
   "source": [
    "index_ = torch.randint(0, dataset_size, (1,)).int().item()\n",
    "\n",
    "rnn_model.read_predict(seq_times[index_], seq_types[index_], seq_lengths[index_],\n",
    "                   hmax=1.6, n_samples=8000, plot=True, print_info=True)"
   ]
  },
  {
   "cell_type": "code",
   "execution_count": 35,
   "metadata": {},
   "outputs": [
    {
     "data": {
      "text/plain": [
       "torch.Size([60, 1995])"
      ]
     },
     "execution_count": 35,
     "metadata": {},
     "output_type": "execute_result"
    }
   ],
   "source": [
    "beg_index_ = train_size\n",
    "test_data = (seq_times[train_size:], seq_types[train_size:], seq_lengths[train_size])\n",
    "test_data[0].shape"
   ]
  },
  {
   "cell_type": "code",
   "execution_count": 69,
   "metadata": {},
   "outputs": [
    {
     "data": {
      "application/vnd.jupyter.widget-view+json": {
       "model_id": "5983d5e1649c46e7880e5140811ba4cc",
       "version_major": 2,
       "version_minor": 0
      },
      "text/plain": [
       "HBox(children=(IntProgress(value=0, max=1000), HTML(value='')))"
      ]
     },
     "metadata": {},
     "output_type": "display_data"
    },
    {
     "name": "stdout",
     "output_type": "stream",
     "text": [
      "\n"
     ]
    }
   ],
   "source": [
    "incr_estimates, incr_errors, types_real, types_estimates = evaluation.predict_test(\n",
    "    model, *test_data,\n",
    "    hmax=0.7, use_jupyter=True)"
   ]
  },
  {
   "cell_type": "code",
   "execution_count": 70,
   "metadata": {},
   "outputs": [
    {
     "name": "stdout",
     "output_type": "stream",
     "text": [
      "rmse 0.43237952599606266\n",
      "mse var 2.6977105307954954\n",
      "rmse var 0.039494363353466524\n"
     ]
    }
   ],
   "source": [
    "avg_rmse = np.sqrt(np.mean(incr_errors), dtype=np.float64)\n",
    "print(\"rmse\", avg_rmse)\n",
    "\n",
    "mse_var = np.var(incr_errors, dtype=np.float64)\n",
    "print(\"mse var\", mse_var)\n",
    "\n",
    "delta_meth_stderr = np.sqrt(1 / test_size * mse_var / (4 * avg_rmse))\n",
    "print(\"rmse var\", delta_meth_stderr)"
   ]
  },
  {
   "cell_type": "code",
   "execution_count": 71,
   "metadata": {},
   "outputs": [],
   "source": [
    "from sklearn.metrics import confusion_matrix, accuracy_score"
   ]
  },
  {
   "cell_type": "code",
   "execution_count": 72,
   "metadata": {},
   "outputs": [
    {
     "name": "stdout",
     "output_type": "stream",
     "text": [
      "Type prediction score: 0.476\n",
      "Confusion matrix:\n",
      " [[  0 524]\n",
      " [  0 476]]\n"
     ]
    }
   ],
   "source": [
    "types_predict_score = accuracy_score(types_real, types_estimates)\n",
    "print(\"Type prediction score:\", types_predict_score)\n",
    "\n",
    "print(\"Confusion matrix:\\n\", confusion_matrix(types_real, types_estimates))"
   ]
  },
  {
   "cell_type": "markdown",
   "metadata": {},
   "source": [
    "### Sequence generation"
   ]
  },
  {
   "cell_type": "code",
   "execution_count": 36,
   "metadata": {},
   "outputs": [],
   "source": [
    "from models.decayrnn import HawkesRNNGen"
   ]
  },
  {
   "cell_type": "code",
   "execution_count": 39,
   "metadata": {},
   "outputs": [
    {
     "name": "stdout",
     "output_type": "stream",
     "text": [
      "Process model dim:\t2\tHidden units:\t128\n"
     ]
    }
   ],
   "source": [
    "generator = HawkesRNNGen(rnn_model, record_intensity=False)"
   ]
  },
  {
   "cell_type": "code",
   "execution_count": 72,
   "metadata": {},
   "outputs": [],
   "source": [
    "_.savefig('../results/intensity_HawkesDecayRNN_2d_hidden128_Financial_20181210-235709.pdf')"
   ]
  },
  {
   "cell_type": "code",
   "execution_count": 82,
   "metadata": {},
   "outputs": [
    {
     "name": "stdout",
     "output_type": "stream",
     "text": [
      "no. of events: 18\n",
      "0: type 0\n",
      "1: type 1\n"
     ]
    },
    {
     "data": {
      "image/png": "[encoded data removed]",
      "text/plain": [
       "<Figure size 900x450 with 1 Axes>"
      ]
     },
     "metadata": {
      "needs_background": "light"
     },
     "output_type": "display_data"
    }
   ],
   "source": [
    "tmax_simu = 6\n",
    "generator.generate_sequence(tmax_simu, record_intensity=True)\n",
    "_ = generator.plot_events_and_intensity()"
   ]
  },
  {
   "cell_type": "markdown",
   "metadata": {},
   "source": [
    "Modèle de prix:\n",
    "$$\n",
    "    P_t = N_t^1 - N_t^2\n",
    "$$"
   ]
  },
  {
   "cell_type": "code",
   "execution_count": 83,
   "metadata": {},
   "outputs": [],
   "source": [
    "t_vals = np.linspace(0, tmax_simu, num=1000)"
   ]
  },
  {
   "cell_type": "code",
   "execution_count": 117,
   "metadata": {},
   "outputs": [],
   "source": [
    "def price(t, generator):\n",
    "    x = np.asarray(generator.event_times[1:]) <= t\n",
    "    evt_types = np.asarray(generator.event_types[1:])\n",
    "    print(x.shape)\n",
    "    typ0 = x[:, evt_types == 0]\n",
    "    typ1 = x[:, evt_types == 1]\n",
    "    nt = np.sum(x, axis=1)\n",
    "    nt1 = np.sum(typ0, axis=1)\n",
    "    nt2 = np.sum(typ1, axis=1)\n",
    "    return nt, nt1, nt2"
   ]
  },
  {
   "cell_type": "code",
   "execution_count": 118,
   "metadata": {},
   "outputs": [
    {
     "name": "stdout",
     "output_type": "stream",
     "text": [
      "(1000, 1)\n"
     ]
    },
    {
     "data": {
      "image/png": "[encoded data removed]",
      "text/plain": [
       "<Figure size 810x360 with 1 Axes>"
      ]
     },
     "metadata": {
      "needs_background": "light"
     },
     "output_type": "display_data"
    }
   ],
   "source": [
    "nt, nta, ntb = price(t_vals[:, None], lstm_gen)\n",
    "plt.figure(figsize=(9,4), dpi=90)\n",
    "step_opts = dict(\n",
    "    linewidth=.7)\n",
    "plt.step(t_vals, nta, **step_opts, label=\"$N_t^{(a)}$\")\n",
    "plt.step(t_vals, -ntb, **step_opts, label=\"$N_t^{(b)}$\")\n",
    "pt = nta - ntb\n",
    "plt.step(t_vals, pt, label=\"Price $P_t$\")\n",
    "plt.legend()\n",
    "plt.savefig('../results/DecayRNN-learnedpricetraj.pdf')"
   ]
  },
  {
   "cell_type": "markdown",
   "metadata": {},
   "source": [
    "## LSTM model"
   ]
  },
  {
   "cell_type": "code",
   "execution_count": 85,
   "metadata": {},
   "outputs": [],
   "source": [
    "from models.ctlstm import HawkesLSTM, HawkesLSTMGen"
   ]
  },
  {
   "cell_type": "code",
   "execution_count": 86,
   "metadata": {},
   "outputs": [],
   "source": [
    "lstm_model = HawkesLSTM(process_dim, hidden_size)"
   ]
  },
  {
   "cell_type": "code",
   "execution_count": 87,
   "metadata": {},
   "outputs": [
    {
     "data": {
      "text/plain": [
       "['../saved_models/HawkesLSTM-2d_hidden128-20181210-235711.pth',\n",
       " '../saved_models/HawkesLSTM-2d_hidden128-20181209-214506.pth',\n",
       " '../saved_models/HawkesLSTM-2d_hidden128-20181209-173255.pth',\n",
       " '../saved_models/HawkesLSTM-2d_hidden128-20181209-154233.pth',\n",
       " '../saved_models/HawkesLSTM-2d-sumexp_hidden128-20181210-004752.pth']"
      ]
     },
     "execution_count": 87,
     "metadata": {},
     "output_type": "execute_result"
    }
   ],
   "source": [
    "MODEL_FILES = glob.glob(\"../saved_models/HawkesLSTM*\")\n",
    "MODEL_FILES.sort(reverse=True)\n",
    "MODEL_FILES"
   ]
  },
  {
   "cell_type": "code",
   "execution_count": 88,
   "metadata": {},
   "outputs": [
    {
     "name": "stdout",
     "output_type": "stream",
     "text": [
      "../saved_models/HawkesLSTM-2d_hidden128-20181210-235711.pth\n"
     ]
    }
   ],
   "source": [
    "_model_file = MODEL_FILES[0]\n",
    "print(_model_file)\n",
    "lstm_model.load_state_dict(torch.load(MODEL_FILES[0], map_location={\"cuda:0\": \"cpu\"}))"
   ]
  },
  {
   "cell_type": "code",
   "execution_count": 91,
   "metadata": {},
   "outputs": [
    {
     "data": {
      "text/plain": [
       "'20181210-235711'"
      ]
     },
     "execution_count": 91,
     "metadata": {},
     "output_type": "execute_result"
    }
   ],
   "source": [
    "load_file_ts = \"-\".join(os.path.splitext(_model_file)[0].split('-')[-2:])\n",
    "load_file_ts"
   ]
  },
  {
   "cell_type": "code",
   "execution_count": 92,
   "metadata": {},
   "outputs": [
    {
     "name": "stdout",
     "output_type": "stream",
     "text": [
      "Process model dim:\t2\tHidden units:\t128\n"
     ]
    }
   ],
   "source": [
    "lstm_gen = HawkesLSTMGen(lstm_model, record_intensity=False)"
   ]
  },
  {
   "cell_type": "code",
   "execution_count": 109,
   "metadata": {},
   "outputs": [
    {
     "name": "stdout",
     "output_type": "stream",
     "text": [
      "no. of events: 2\n",
      "0: type 0\n",
      "1: type 1\n"
     ]
    },
    {
     "data": {
      "image/png": "[encoded data removed]",
      "text/plain": [
       "<Figure size 900x450 with 1 Axes>"
      ]
     },
     "metadata": {
      "needs_background": "light"
     },
     "output_type": "display_data"
    }
   ],
   "source": [
    "lstm_gen.generate_sequence(tmax_simu, record_intensity=True)\n",
    "fig = lstm_gen.plot_events_and_intensity()"
   ]
  },
  {
   "cell_type": "code",
   "execution_count": 119,
   "metadata": {},
   "outputs": [],
   "source": [
    "fig.savefig('../results/intensity_HawkesLSTM_2d_hidden128_Financial_{}.pdf'.format(load_file_ts))"
   ]
  },
  {
   "cell_type": "code",
   "execution_count": null,
   "metadata": {},
   "outputs": [],
   "source": []
  },
  {
   "cell_type": "code",
   "execution_count": 113,
   "metadata": {},
   "outputs": [],
   "source": [
    "t_vals = np.linspace(0, tmax_simu, num=1000)"
   ]
  },
  {
   "cell_type": "code",
   "execution_count": 115,
   "metadata": {},
   "outputs": [
    {
     "name": "stdout",
     "output_type": "stream",
     "text": [
      "(1000, 1)\n"
     ]
    },
    {
     "data": {
      "image/png": "[encoded data removed]",
      "text/plain": [
       "<Figure size 810x360 with 1 Axes>"
      ]
     },
     "metadata": {
      "needs_background": "light"
     },
     "output_type": "display_data"
    }
   ],
   "source": [
    "nt, nta, ntb = price(t_vals[:, None], lstm_gen)\n",
    "plt.figure(figsize=(9,4), dpi=90)\n",
    "step_opts = dict(\n",
    "    linewidth=.7)\n",
    "plt.step(t_vals, nta, **step_opts, label=\"$N_t^{(a)}$\")\n",
    "plt.step(t_vals, -ntb, **step_opts, label=\"$N_t^{(b)}$\")\n",
    "pt = nta - ntb\n",
    "plt.step(t_vals, pt, label=\"Price $P_t$\")\n",
    "plt.legend()\n",
    "plt.savefig('../results/LSTM-learnedpricetraj.pdf')"
   ]
  },
  {
   "cell_type": "code",
   "execution_count": null,
   "metadata": {},
   "outputs": [],
   "source": []
  },
  {
   "cell_type": "code",
   "execution_count": null,
   "metadata": {},
   "outputs": [],
   "source": []
  }
 ],
 "metadata": {
  "kernelspec": {
   "display_name": "Python [conda env:pytorch]",
   "language": "python",
   "name": "conda-env-pytorch-py"
  },
  "language_info": {
   "codemirror_mode": {
    "name": "ipython",
    "version": 3
   },
   "file_extension": ".py",
   "mimetype": "text/x-python",
   "name": "python",
   "nbconvert_exporter": "python",
   "pygments_lexer": "ipython3",
   "version": "3.7.1"
  }
 },
 "nbformat": 4,
 "nbformat_minor": 2
}
