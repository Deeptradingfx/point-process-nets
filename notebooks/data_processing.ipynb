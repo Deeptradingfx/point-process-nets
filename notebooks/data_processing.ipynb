{
 "cells": [
  {
   "cell_type": "code",
   "execution_count": 1,
   "metadata": {},
   "outputs": [],
   "source": [
    "%matplotlib inline\n",
    "%load_ext autoreload\n",
    "%autoreload 2"
   ]
  },
  {
   "cell_type": "code",
   "execution_count": 2,
   "metadata": {},
   "outputs": [],
   "source": [
    "import os\n",
    "import sys\n",
    "import glob\n",
    "import pandas as pd\n",
    "import matplotlib.pyplot as plt\n",
    "import torch\n",
    "import numpy as np"
   ]
  },
  {
   "cell_type": "code",
   "execution_count": 3,
   "metadata": {},
   "outputs": [],
   "source": [
    "# Add parent dir to interpreter path\n",
    "nb_dir = os.path.split(os.getcwd())[0]\n",
    "if nb_dir not in sys.path:\n",
    "    sys.path.append(nb_dir)"
   ]
  },
  {
   "cell_type": "code",
   "execution_count": 4,
   "metadata": {},
   "outputs": [
    {
     "data": {
      "text/plain": [
       "['../data/german_equity', '../data/dax-euro', '../data/simulated']"
      ]
     },
     "execution_count": 4,
     "metadata": {},
     "output_type": "execute_result"
    }
   ],
   "source": [
    "DATA_DIRS_LIST = glob.glob(\"../data/*\")\n",
    "DATA_DIRS_LIST"
   ]
  },
  {
   "cell_type": "code",
   "execution_count": 5,
   "metadata": {},
   "outputs": [
    {
     "data": {
      "text/plain": [
       "['../data/german_equity/xFGBS',\n",
       " '../data/german_equity/xFGBM',\n",
       " '../data/german_equity/xFGBL',\n",
       " '../data/german_equity/README']"
      ]
     },
     "execution_count": 5,
     "metadata": {},
     "output_type": "execute_result"
    }
   ],
   "source": [
    "glob.glob(os.path.join(DATA_DIRS_LIST[0], \"*\"))"
   ]
  },
  {
   "cell_type": "code",
   "execution_count": 6,
   "metadata": {},
   "outputs": [
    {
     "data": {
      "text/plain": [
       "['../data/dax-euro/xFSXE', '../data/dax-euro/README', '../data/dax-euro/xFDAX']"
      ]
     },
     "execution_count": 6,
     "metadata": {},
     "output_type": "execute_result"
    }
   ],
   "source": [
    "glob.glob(os.path.join(DATA_DIRS_LIST[1], \"*\"))"
   ]
  },
  {
   "cell_type": "markdown",
   "metadata": {},
   "source": [
    "## Low-tick asset: DAX"
   ]
  },
  {
   "cell_type": "markdown",
   "metadata": {},
   "source": [
    "Side:\n",
    "* $-1$: ask\n",
    "* $1$: bid\n",
    "\n",
    "Type:\n",
    "* $-1$: limit\n",
    "* $0$: cancel\n",
    "* $1$: trade"
   ]
  },
  {
   "cell_type": "code",
   "execution_count": 35,
   "metadata": {},
   "outputs": [],
   "source": [
    "DAX_DATA_PATH = \"../data/dax-euro/xFDAX\"\n",
    "DAX_DATA_LIST = glob.glob(os.path.join(DAX_DATA_PATH, \"*\"))\n",
    "DAX_DATA_LIST.sort()"
   ]
  },
  {
   "cell_type": "code",
   "execution_count": 144,
   "metadata": {},
   "outputs": [
    {
     "name": "stdout",
     "output_type": "stream",
     "text": [
      "['../data/dax-euro/xFDAX/xFDAX_20130701.csv', '../data/dax-euro/xFDAX/xFDAX_20130702.csv', '../data/dax-euro/xFDAX/xFDAX_20130703.csv', '../data/dax-euro/xFDAX/xFDAX_20130704.csv', '../data/dax-euro/xFDAX/xFDAX_20130705.csv', '../data/dax-euro/xFDAX/xFDAX_20130708.csv']\n"
     ]
    }
   ],
   "source": [
    "FILES = DAX_DATA_LIST[:6]\n",
    "print(FILES)"
   ]
  },
  {
   "cell_type": "code",
   "execution_count": 159,
   "metadata": {},
   "outputs": [
    {
     "name": "stdout",
     "output_type": "stream",
     "text": [
      "../data/dax-euro/xFDAX/xFDAX_20130701.csv\n",
      "../data/dax-euro/xFDAX/xFDAX_20130702.csv\n",
      "../data/dax-euro/xFDAX/xFDAX_20130703.csv\n",
      "../data/dax-euro/xFDAX/xFDAX_20130704.csv\n",
      "../data/dax-euro/xFDAX/xFDAX_20130705.csv\n",
      "../data/dax-euro/xFDAX/xFDAX_20130708.csv\n"
     ]
    }
   ],
   "source": [
    "frames_ = []\n",
    "indices_ = [0]\n",
    "for file in FILES:\n",
    "    print(file)\n",
    "    df_ = pd.read_csv(file)\n",
    "    frames_.append(df_)\n",
    "    indices_.append(indices_[-1] + len(df_))\n",
    "    \n",
    "df = pd.concat(frames_, ignore_index=True)\n",
    "\n",
    "df['MidPrice'] = 0.5*(df.AskPriceAfter + df.BidPriceAfter)\n",
    "\n",
    "df['MidPriceVar'] = df.MidPrice.diff()"
   ]
  },
  {
   "cell_type": "code",
   "execution_count": 178,
   "metadata": {},
   "outputs": [
    {
     "data": {
      "text/plain": [
       "[0, 508153, 983903, 1466772, 1727825, 2273897, 2700519]"
      ]
     },
     "execution_count": 178,
     "metadata": {},
     "output_type": "execute_result"
    }
   ],
   "source": [
    "indices_"
   ]
  },
  {
   "cell_type": "code",
   "execution_count": 179,
   "metadata": {},
   "outputs": [],
   "source": [
    "df_filtered = df[df.MidPriceVar != 0]"
   ]
  },
  {
   "cell_type": "code",
   "execution_count": 180,
   "metadata": {},
   "outputs": [
    {
     "name": "stderr",
     "output_type": "stream",
     "text": [
      "/home/manifold/miniconda3/envs/pytorch/lib/python3.7/site-packages/ipykernel_launcher.py:1: SettingWithCopyWarning: \n",
      "A value is trying to be set on a copy of a slice from a DataFrame.\n",
      "Try using .loc[row_indexer,col_indexer] = value instead\n",
      "\n",
      "See the caveats in the documentation: http://pandas.pydata.org/pandas-docs/stable/indexing.html#indexing-view-versus-copy\n",
      "  \"\"\"Entry point for launching an IPython kernel.\n"
     ]
    }
   ],
   "source": [
    "df_filtered['MidPriceChangeType'] = (df.MidPriceVar > 0).astype(int)"
   ]
  },
  {
   "cell_type": "code",
   "execution_count": 181,
   "metadata": {},
   "outputs": [
    {
     "data": {
      "text/html": [
       "<div>\n",
       "<style scoped>\n",
       "    .dataframe tbody tr th:only-of-type {\n",
       "        vertical-align: middle;\n",
       "    }\n",
       "\n",
       "    .dataframe tbody tr th {\n",
       "        vertical-align: top;\n",
       "    }\n",
       "\n",
       "    .dataframe thead th {\n",
       "        text-align: right;\n",
       "    }\n",
       "</style>\n",
       "<table border=\"1\" class=\"dataframe\">\n",
       "  <thead>\n",
       "    <tr style=\"text-align: right;\">\n",
       "      <th></th>\n",
       "      <th>Date</th>\n",
       "      <th>Time</th>\n",
       "      <th>Volume</th>\n",
       "      <th>OrderType</th>\n",
       "      <th>Side</th>\n",
       "      <th>AskPriceAfter</th>\n",
       "      <th>AskQtyAfter</th>\n",
       "      <th>AskSplitAfter</th>\n",
       "      <th>BidPriceAfter</th>\n",
       "      <th>BidQtyAfter</th>\n",
       "      <th>BidSplitAfter</th>\n",
       "      <th>MidPrice</th>\n",
       "      <th>MidPriceVar</th>\n",
       "      <th>MidPriceChangeType</th>\n",
       "    </tr>\n",
       "  </thead>\n",
       "  <tbody>\n",
       "    <tr>\n",
       "      <th>0</th>\n",
       "      <td>20130701</td>\n",
       "      <td>28806.446250</td>\n",
       "      <td>13</td>\n",
       "      <td>1</td>\n",
       "      <td>1</td>\n",
       "      <td>7956.0</td>\n",
       "      <td>1</td>\n",
       "      <td>1</td>\n",
       "      <td>7955.5</td>\n",
       "      <td>30</td>\n",
       "      <td>2</td>\n",
       "      <td>7955.75</td>\n",
       "      <td>NaN</td>\n",
       "      <td>0</td>\n",
       "    </tr>\n",
       "    <tr>\n",
       "      <th>2</th>\n",
       "      <td>20130701</td>\n",
       "      <td>28806.601666</td>\n",
       "      <td>1</td>\n",
       "      <td>0</td>\n",
       "      <td>-1</td>\n",
       "      <td>7957.0</td>\n",
       "      <td>5</td>\n",
       "      <td>2</td>\n",
       "      <td>7955.5</td>\n",
       "      <td>34</td>\n",
       "      <td>3</td>\n",
       "      <td>7956.25</td>\n",
       "      <td>0.50</td>\n",
       "      <td>1</td>\n",
       "    </tr>\n",
       "    <tr>\n",
       "      <th>4</th>\n",
       "      <td>20130701</td>\n",
       "      <td>28806.752690</td>\n",
       "      <td>1</td>\n",
       "      <td>1</td>\n",
       "      <td>1</td>\n",
       "      <td>7957.0</td>\n",
       "      <td>5</td>\n",
       "      <td>2</td>\n",
       "      <td>7956.5</td>\n",
       "      <td>1</td>\n",
       "      <td>1</td>\n",
       "      <td>7956.75</td>\n",
       "      <td>0.50</td>\n",
       "      <td>1</td>\n",
       "    </tr>\n",
       "    <tr>\n",
       "      <th>10</th>\n",
       "      <td>20130701</td>\n",
       "      <td>28807.097571</td>\n",
       "      <td>3</td>\n",
       "      <td>0</td>\n",
       "      <td>-1</td>\n",
       "      <td>7957.5</td>\n",
       "      <td>4</td>\n",
       "      <td>2</td>\n",
       "      <td>7956.5</td>\n",
       "      <td>2</td>\n",
       "      <td>2</td>\n",
       "      <td>7957.00</td>\n",
       "      <td>0.25</td>\n",
       "      <td>1</td>\n",
       "    </tr>\n",
       "    <tr>\n",
       "      <th>12</th>\n",
       "      <td>20130701</td>\n",
       "      <td>28807.242261</td>\n",
       "      <td>1</td>\n",
       "      <td>1</td>\n",
       "      <td>1</td>\n",
       "      <td>7957.5</td>\n",
       "      <td>4</td>\n",
       "      <td>2</td>\n",
       "      <td>7957.0</td>\n",
       "      <td>1</td>\n",
       "      <td>1</td>\n",
       "      <td>7957.25</td>\n",
       "      <td>0.25</td>\n",
       "      <td>1</td>\n",
       "    </tr>\n",
       "    <tr>\n",
       "      <th>14</th>\n",
       "      <td>20130701</td>\n",
       "      <td>28807.283840</td>\n",
       "      <td>3</td>\n",
       "      <td>0</td>\n",
       "      <td>-1</td>\n",
       "      <td>7958.0</td>\n",
       "      <td>2</td>\n",
       "      <td>1</td>\n",
       "      <td>7957.0</td>\n",
       "      <td>1</td>\n",
       "      <td>1</td>\n",
       "      <td>7957.50</td>\n",
       "      <td>0.25</td>\n",
       "      <td>1</td>\n",
       "    </tr>\n",
       "    <tr>\n",
       "      <th>15</th>\n",
       "      <td>20130701</td>\n",
       "      <td>28807.309478</td>\n",
       "      <td>1</td>\n",
       "      <td>1</td>\n",
       "      <td>-1</td>\n",
       "      <td>7957.5</td>\n",
       "      <td>1</td>\n",
       "      <td>1</td>\n",
       "      <td>7957.0</td>\n",
       "      <td>1</td>\n",
       "      <td>1</td>\n",
       "      <td>7957.25</td>\n",
       "      <td>-0.25</td>\n",
       "      <td>0</td>\n",
       "    </tr>\n",
       "    <tr>\n",
       "      <th>16</th>\n",
       "      <td>20130701</td>\n",
       "      <td>28807.327985</td>\n",
       "      <td>1</td>\n",
       "      <td>-1</td>\n",
       "      <td>-1</td>\n",
       "      <td>7958.0</td>\n",
       "      <td>2</td>\n",
       "      <td>1</td>\n",
       "      <td>7957.0</td>\n",
       "      <td>1</td>\n",
       "      <td>1</td>\n",
       "      <td>7957.50</td>\n",
       "      <td>0.25</td>\n",
       "      <td>1</td>\n",
       "    </tr>\n",
       "    <tr>\n",
       "      <th>18</th>\n",
       "      <td>20130701</td>\n",
       "      <td>28807.482091</td>\n",
       "      <td>1</td>\n",
       "      <td>1</td>\n",
       "      <td>1</td>\n",
       "      <td>7958.0</td>\n",
       "      <td>2</td>\n",
       "      <td>1</td>\n",
       "      <td>7957.5</td>\n",
       "      <td>1</td>\n",
       "      <td>1</td>\n",
       "      <td>7957.75</td>\n",
       "      <td>0.25</td>\n",
       "      <td>1</td>\n",
       "    </tr>\n",
       "    <tr>\n",
       "      <th>19</th>\n",
       "      <td>20130701</td>\n",
       "      <td>28807.519796</td>\n",
       "      <td>1</td>\n",
       "      <td>0</td>\n",
       "      <td>1</td>\n",
       "      <td>7958.0</td>\n",
       "      <td>2</td>\n",
       "      <td>1</td>\n",
       "      <td>7957.0</td>\n",
       "      <td>3</td>\n",
       "      <td>2</td>\n",
       "      <td>7957.50</td>\n",
       "      <td>-0.25</td>\n",
       "      <td>0</td>\n",
       "    </tr>\n",
       "    <tr>\n",
       "      <th>22</th>\n",
       "      <td>20130701</td>\n",
       "      <td>28807.732217</td>\n",
       "      <td>1</td>\n",
       "      <td>0</td>\n",
       "      <td>-1</td>\n",
       "      <td>7958.5</td>\n",
       "      <td>1</td>\n",
       "      <td>1</td>\n",
       "      <td>7957.5</td>\n",
       "      <td>1</td>\n",
       "      <td>1</td>\n",
       "      <td>7958.00</td>\n",
       "      <td>0.50</td>\n",
       "      <td>1</td>\n",
       "    </tr>\n",
       "    <tr>\n",
       "      <th>24</th>\n",
       "      <td>20130701</td>\n",
       "      <td>28808.244892</td>\n",
       "      <td>1</td>\n",
       "      <td>0</td>\n",
       "      <td>-1</td>\n",
       "      <td>7959.0</td>\n",
       "      <td>5</td>\n",
       "      <td>2</td>\n",
       "      <td>7957.5</td>\n",
       "      <td>1</td>\n",
       "      <td>1</td>\n",
       "      <td>7958.25</td>\n",
       "      <td>0.25</td>\n",
       "      <td>1</td>\n",
       "    </tr>\n",
       "    <tr>\n",
       "      <th>25</th>\n",
       "      <td>20130701</td>\n",
       "      <td>28808.329979</td>\n",
       "      <td>2</td>\n",
       "      <td>0</td>\n",
       "      <td>1</td>\n",
       "      <td>7959.0</td>\n",
       "      <td>5</td>\n",
       "      <td>2</td>\n",
       "      <td>7957.0</td>\n",
       "      <td>3</td>\n",
       "      <td>3</td>\n",
       "      <td>7958.00</td>\n",
       "      <td>-0.25</td>\n",
       "      <td>0</td>\n",
       "    </tr>\n",
       "    <tr>\n",
       "      <th>28</th>\n",
       "      <td>20130701</td>\n",
       "      <td>28808.487331</td>\n",
       "      <td>1</td>\n",
       "      <td>1</td>\n",
       "      <td>1</td>\n",
       "      <td>7959.0</td>\n",
       "      <td>1</td>\n",
       "      <td>1</td>\n",
       "      <td>7957.5</td>\n",
       "      <td>1</td>\n",
       "      <td>1</td>\n",
       "      <td>7958.25</td>\n",
       "      <td>0.25</td>\n",
       "      <td>1</td>\n",
       "    </tr>\n",
       "    <tr>\n",
       "      <th>35</th>\n",
       "      <td>20130701</td>\n",
       "      <td>28809.470274</td>\n",
       "      <td>1</td>\n",
       "      <td>0</td>\n",
       "      <td>-1</td>\n",
       "      <td>7959.0</td>\n",
       "      <td>2</td>\n",
       "      <td>2</td>\n",
       "      <td>7958.0</td>\n",
       "      <td>2</td>\n",
       "      <td>2</td>\n",
       "      <td>7958.50</td>\n",
       "      <td>0.25</td>\n",
       "      <td>1</td>\n",
       "    </tr>\n",
       "    <tr>\n",
       "      <th>38</th>\n",
       "      <td>20130701</td>\n",
       "      <td>28810.062504</td>\n",
       "      <td>1</td>\n",
       "      <td>0</td>\n",
       "      <td>-1</td>\n",
       "      <td>7959.5</td>\n",
       "      <td>5</td>\n",
       "      <td>2</td>\n",
       "      <td>7958.0</td>\n",
       "      <td>1</td>\n",
       "      <td>1</td>\n",
       "      <td>7958.75</td>\n",
       "      <td>0.25</td>\n",
       "      <td>1</td>\n",
       "    </tr>\n",
       "    <tr>\n",
       "      <th>39</th>\n",
       "      <td>20130701</td>\n",
       "      <td>28810.073561</td>\n",
       "      <td>1</td>\n",
       "      <td>0</td>\n",
       "      <td>1</td>\n",
       "      <td>7958.0</td>\n",
       "      <td>1</td>\n",
       "      <td>1</td>\n",
       "      <td>7957.5</td>\n",
       "      <td>1</td>\n",
       "      <td>1</td>\n",
       "      <td>7957.75</td>\n",
       "      <td>-1.00</td>\n",
       "      <td>0</td>\n",
       "    </tr>\n",
       "    <tr>\n",
       "      <th>52</th>\n",
       "      <td>20130701</td>\n",
       "      <td>28810.314896</td>\n",
       "      <td>1</td>\n",
       "      <td>-1</td>\n",
       "      <td>-1</td>\n",
       "      <td>7959.5</td>\n",
       "      <td>5</td>\n",
       "      <td>2</td>\n",
       "      <td>7957.5</td>\n",
       "      <td>1</td>\n",
       "      <td>1</td>\n",
       "      <td>7958.50</td>\n",
       "      <td>0.75</td>\n",
       "      <td>1</td>\n",
       "    </tr>\n",
       "    <tr>\n",
       "      <th>53</th>\n",
       "      <td>20130701</td>\n",
       "      <td>28810.351945</td>\n",
       "      <td>1</td>\n",
       "      <td>0</td>\n",
       "      <td>1</td>\n",
       "      <td>7959.5</td>\n",
       "      <td>5</td>\n",
       "      <td>2</td>\n",
       "      <td>7957.0</td>\n",
       "      <td>3</td>\n",
       "      <td>3</td>\n",
       "      <td>7958.25</td>\n",
       "      <td>-0.25</td>\n",
       "      <td>0</td>\n",
       "    </tr>\n",
       "    <tr>\n",
       "      <th>54</th>\n",
       "      <td>20130701</td>\n",
       "      <td>28810.423050</td>\n",
       "      <td>1</td>\n",
       "      <td>1</td>\n",
       "      <td>-1</td>\n",
       "      <td>7958.0</td>\n",
       "      <td>1</td>\n",
       "      <td>1</td>\n",
       "      <td>7957.0</td>\n",
       "      <td>3</td>\n",
       "      <td>3</td>\n",
       "      <td>7957.50</td>\n",
       "      <td>-0.75</td>\n",
       "      <td>0</td>\n",
       "    </tr>\n",
       "    <tr>\n",
       "      <th>64</th>\n",
       "      <td>20130701</td>\n",
       "      <td>28810.938469</td>\n",
       "      <td>3</td>\n",
       "      <td>-1</td>\n",
       "      <td>-1</td>\n",
       "      <td>7959.5</td>\n",
       "      <td>5</td>\n",
       "      <td>2</td>\n",
       "      <td>7957.0</td>\n",
       "      <td>2</td>\n",
       "      <td>2</td>\n",
       "      <td>7958.25</td>\n",
       "      <td>0.75</td>\n",
       "      <td>1</td>\n",
       "    </tr>\n",
       "    <tr>\n",
       "      <th>65</th>\n",
       "      <td>20130701</td>\n",
       "      <td>28811.056801</td>\n",
       "      <td>1</td>\n",
       "      <td>1</td>\n",
       "      <td>-1</td>\n",
       "      <td>7958.0</td>\n",
       "      <td>1</td>\n",
       "      <td>1</td>\n",
       "      <td>7957.0</td>\n",
       "      <td>2</td>\n",
       "      <td>2</td>\n",
       "      <td>7957.50</td>\n",
       "      <td>-0.75</td>\n",
       "      <td>0</td>\n",
       "    </tr>\n",
       "    <tr>\n",
       "      <th>70</th>\n",
       "      <td>20130701</td>\n",
       "      <td>28811.185968</td>\n",
       "      <td>1</td>\n",
       "      <td>1</td>\n",
       "      <td>-1</td>\n",
       "      <td>7957.5</td>\n",
       "      <td>1</td>\n",
       "      <td>1</td>\n",
       "      <td>7957.0</td>\n",
       "      <td>2</td>\n",
       "      <td>2</td>\n",
       "      <td>7957.25</td>\n",
       "      <td>-0.25</td>\n",
       "      <td>0</td>\n",
       "    </tr>\n",
       "    <tr>\n",
       "      <th>79</th>\n",
       "      <td>20130701</td>\n",
       "      <td>28811.325862</td>\n",
       "      <td>1</td>\n",
       "      <td>-1</td>\n",
       "      <td>-1</td>\n",
       "      <td>7959.0</td>\n",
       "      <td>10</td>\n",
       "      <td>6</td>\n",
       "      <td>7957.0</td>\n",
       "      <td>2</td>\n",
       "      <td>2</td>\n",
       "      <td>7958.00</td>\n",
       "      <td>0.75</td>\n",
       "      <td>1</td>\n",
       "    </tr>\n",
       "    <tr>\n",
       "      <th>95</th>\n",
       "      <td>20130701</td>\n",
       "      <td>28812.829437</td>\n",
       "      <td>1</td>\n",
       "      <td>1</td>\n",
       "      <td>1</td>\n",
       "      <td>7959.0</td>\n",
       "      <td>2</td>\n",
       "      <td>2</td>\n",
       "      <td>7957.5</td>\n",
       "      <td>1</td>\n",
       "      <td>1</td>\n",
       "      <td>7958.25</td>\n",
       "      <td>0.25</td>\n",
       "      <td>1</td>\n",
       "    </tr>\n",
       "    <tr>\n",
       "      <th>100</th>\n",
       "      <td>20130701</td>\n",
       "      <td>28813.498111</td>\n",
       "      <td>1</td>\n",
       "      <td>1</td>\n",
       "      <td>1</td>\n",
       "      <td>7959.0</td>\n",
       "      <td>1</td>\n",
       "      <td>1</td>\n",
       "      <td>7958.0</td>\n",
       "      <td>1</td>\n",
       "      <td>1</td>\n",
       "      <td>7958.50</td>\n",
       "      <td>0.25</td>\n",
       "      <td>1</td>\n",
       "    </tr>\n",
       "    <tr>\n",
       "      <th>101</th>\n",
       "      <td>20130701</td>\n",
       "      <td>28815.767595</td>\n",
       "      <td>6</td>\n",
       "      <td>1</td>\n",
       "      <td>1</td>\n",
       "      <td>7959.0</td>\n",
       "      <td>1</td>\n",
       "      <td>1</td>\n",
       "      <td>7958.5</td>\n",
       "      <td>6</td>\n",
       "      <td>1</td>\n",
       "      <td>7958.75</td>\n",
       "      <td>0.25</td>\n",
       "      <td>1</td>\n",
       "    </tr>\n",
       "    <tr>\n",
       "      <th>115</th>\n",
       "      <td>20130701</td>\n",
       "      <td>28821.128454</td>\n",
       "      <td>3</td>\n",
       "      <td>0</td>\n",
       "      <td>1</td>\n",
       "      <td>7959.0</td>\n",
       "      <td>7</td>\n",
       "      <td>4</td>\n",
       "      <td>7958.0</td>\n",
       "      <td>8</td>\n",
       "      <td>4</td>\n",
       "      <td>7958.50</td>\n",
       "      <td>-0.25</td>\n",
       "      <td>0</td>\n",
       "    </tr>\n",
       "    <tr>\n",
       "      <th>117</th>\n",
       "      <td>20130701</td>\n",
       "      <td>28821.147532</td>\n",
       "      <td>1</td>\n",
       "      <td>1</td>\n",
       "      <td>1</td>\n",
       "      <td>7959.0</td>\n",
       "      <td>7</td>\n",
       "      <td>4</td>\n",
       "      <td>7958.5</td>\n",
       "      <td>1</td>\n",
       "      <td>1</td>\n",
       "      <td>7958.75</td>\n",
       "      <td>0.25</td>\n",
       "      <td>1</td>\n",
       "    </tr>\n",
       "    <tr>\n",
       "      <th>118</th>\n",
       "      <td>20130701</td>\n",
       "      <td>28821.162073</td>\n",
       "      <td>1</td>\n",
       "      <td>-1</td>\n",
       "      <td>1</td>\n",
       "      <td>7959.0</td>\n",
       "      <td>7</td>\n",
       "      <td>4</td>\n",
       "      <td>7958.0</td>\n",
       "      <td>6</td>\n",
       "      <td>2</td>\n",
       "      <td>7958.50</td>\n",
       "      <td>-0.25</td>\n",
       "      <td>0</td>\n",
       "    </tr>\n",
       "    <tr>\n",
       "      <th>...</th>\n",
       "      <td>...</td>\n",
       "      <td>...</td>\n",
       "      <td>...</td>\n",
       "      <td>...</td>\n",
       "      <td>...</td>\n",
       "      <td>...</td>\n",
       "      <td>...</td>\n",
       "      <td>...</td>\n",
       "      <td>...</td>\n",
       "      <td>...</td>\n",
       "      <td>...</td>\n",
       "      <td>...</td>\n",
       "      <td>...</td>\n",
       "      <td>...</td>\n",
       "    </tr>\n",
       "    <tr>\n",
       "      <th>2700466</th>\n",
       "      <td>20130708</td>\n",
       "      <td>79186.758193</td>\n",
       "      <td>1</td>\n",
       "      <td>1</td>\n",
       "      <td>-1</td>\n",
       "      <td>7975.5</td>\n",
       "      <td>1</td>\n",
       "      <td>1</td>\n",
       "      <td>7974.0</td>\n",
       "      <td>8</td>\n",
       "      <td>4</td>\n",
       "      <td>7974.75</td>\n",
       "      <td>-0.25</td>\n",
       "      <td>0</td>\n",
       "    </tr>\n",
       "    <tr>\n",
       "      <th>2700467</th>\n",
       "      <td>20130708</td>\n",
       "      <td>79186.759004</td>\n",
       "      <td>1</td>\n",
       "      <td>-1</td>\n",
       "      <td>-1</td>\n",
       "      <td>7976.0</td>\n",
       "      <td>4</td>\n",
       "      <td>3</td>\n",
       "      <td>7974.0</td>\n",
       "      <td>8</td>\n",
       "      <td>4</td>\n",
       "      <td>7975.00</td>\n",
       "      <td>0.25</td>\n",
       "      <td>1</td>\n",
       "    </tr>\n",
       "    <tr>\n",
       "      <th>2700468</th>\n",
       "      <td>20130708</td>\n",
       "      <td>79186.824937</td>\n",
       "      <td>2</td>\n",
       "      <td>1</td>\n",
       "      <td>-1</td>\n",
       "      <td>7975.0</td>\n",
       "      <td>2</td>\n",
       "      <td>1</td>\n",
       "      <td>7974.0</td>\n",
       "      <td>8</td>\n",
       "      <td>4</td>\n",
       "      <td>7974.50</td>\n",
       "      <td>-0.50</td>\n",
       "      <td>0</td>\n",
       "    </tr>\n",
       "    <tr>\n",
       "      <th>2700470</th>\n",
       "      <td>20130708</td>\n",
       "      <td>79186.973088</td>\n",
       "      <td>1</td>\n",
       "      <td>-1</td>\n",
       "      <td>-1</td>\n",
       "      <td>7976.0</td>\n",
       "      <td>4</td>\n",
       "      <td>3</td>\n",
       "      <td>7974.0</td>\n",
       "      <td>8</td>\n",
       "      <td>4</td>\n",
       "      <td>7975.00</td>\n",
       "      <td>0.50</td>\n",
       "      <td>1</td>\n",
       "    </tr>\n",
       "    <tr>\n",
       "      <th>2700471</th>\n",
       "      <td>20130708</td>\n",
       "      <td>79186.973992</td>\n",
       "      <td>1</td>\n",
       "      <td>1</td>\n",
       "      <td>-1</td>\n",
       "      <td>7975.5</td>\n",
       "      <td>1</td>\n",
       "      <td>1</td>\n",
       "      <td>7974.0</td>\n",
       "      <td>8</td>\n",
       "      <td>4</td>\n",
       "      <td>7974.75</td>\n",
       "      <td>-0.25</td>\n",
       "      <td>0</td>\n",
       "    </tr>\n",
       "    <tr>\n",
       "      <th>2700472</th>\n",
       "      <td>20130708</td>\n",
       "      <td>79186.974891</td>\n",
       "      <td>1</td>\n",
       "      <td>-1</td>\n",
       "      <td>-1</td>\n",
       "      <td>7976.0</td>\n",
       "      <td>4</td>\n",
       "      <td>3</td>\n",
       "      <td>7974.0</td>\n",
       "      <td>8</td>\n",
       "      <td>4</td>\n",
       "      <td>7975.00</td>\n",
       "      <td>0.25</td>\n",
       "      <td>1</td>\n",
       "    </tr>\n",
       "    <tr>\n",
       "      <th>2700475</th>\n",
       "      <td>20130708</td>\n",
       "      <td>79188.047128</td>\n",
       "      <td>2</td>\n",
       "      <td>1</td>\n",
       "      <td>1</td>\n",
       "      <td>7976.0</td>\n",
       "      <td>2</td>\n",
       "      <td>2</td>\n",
       "      <td>7974.5</td>\n",
       "      <td>2</td>\n",
       "      <td>1</td>\n",
       "      <td>7975.25</td>\n",
       "      <td>0.25</td>\n",
       "      <td>1</td>\n",
       "    </tr>\n",
       "    <tr>\n",
       "      <th>2700480</th>\n",
       "      <td>20130708</td>\n",
       "      <td>79188.680469</td>\n",
       "      <td>1</td>\n",
       "      <td>-1</td>\n",
       "      <td>-1</td>\n",
       "      <td>7976.5</td>\n",
       "      <td>2</td>\n",
       "      <td>2</td>\n",
       "      <td>7974.5</td>\n",
       "      <td>8</td>\n",
       "      <td>4</td>\n",
       "      <td>7975.50</td>\n",
       "      <td>0.25</td>\n",
       "      <td>1</td>\n",
       "    </tr>\n",
       "    <tr>\n",
       "      <th>2700485</th>\n",
       "      <td>20130708</td>\n",
       "      <td>79189.111515</td>\n",
       "      <td>1</td>\n",
       "      <td>-1</td>\n",
       "      <td>-1</td>\n",
       "      <td>7977.0</td>\n",
       "      <td>4</td>\n",
       "      <td>4</td>\n",
       "      <td>7974.5</td>\n",
       "      <td>5</td>\n",
       "      <td>2</td>\n",
       "      <td>7975.75</td>\n",
       "      <td>0.25</td>\n",
       "      <td>1</td>\n",
       "    </tr>\n",
       "    <tr>\n",
       "      <th>2700487</th>\n",
       "      <td>20130708</td>\n",
       "      <td>79189.704950</td>\n",
       "      <td>1</td>\n",
       "      <td>1</td>\n",
       "      <td>1</td>\n",
       "      <td>7977.0</td>\n",
       "      <td>3</td>\n",
       "      <td>3</td>\n",
       "      <td>7975.0</td>\n",
       "      <td>1</td>\n",
       "      <td>1</td>\n",
       "      <td>7976.00</td>\n",
       "      <td>0.25</td>\n",
       "      <td>1</td>\n",
       "    </tr>\n",
       "    <tr>\n",
       "      <th>2700488</th>\n",
       "      <td>20130708</td>\n",
       "      <td>79190.321203</td>\n",
       "      <td>1</td>\n",
       "      <td>1</td>\n",
       "      <td>-1</td>\n",
       "      <td>7975.5</td>\n",
       "      <td>1</td>\n",
       "      <td>1</td>\n",
       "      <td>7975.0</td>\n",
       "      <td>1</td>\n",
       "      <td>1</td>\n",
       "      <td>7975.25</td>\n",
       "      <td>-0.75</td>\n",
       "      <td>0</td>\n",
       "    </tr>\n",
       "    <tr>\n",
       "      <th>2700489</th>\n",
       "      <td>20130708</td>\n",
       "      <td>79191.506382</td>\n",
       "      <td>1</td>\n",
       "      <td>0</td>\n",
       "      <td>1</td>\n",
       "      <td>7975.5</td>\n",
       "      <td>1</td>\n",
       "      <td>1</td>\n",
       "      <td>7974.5</td>\n",
       "      <td>7</td>\n",
       "      <td>3</td>\n",
       "      <td>7975.00</td>\n",
       "      <td>-0.25</td>\n",
       "      <td>0</td>\n",
       "    </tr>\n",
       "    <tr>\n",
       "      <th>2700491</th>\n",
       "      <td>20130708</td>\n",
       "      <td>79192.524454</td>\n",
       "      <td>10</td>\n",
       "      <td>0</td>\n",
       "      <td>-1</td>\n",
       "      <td>7977.5</td>\n",
       "      <td>4</td>\n",
       "      <td>3</td>\n",
       "      <td>7974.5</td>\n",
       "      <td>8</td>\n",
       "      <td>4</td>\n",
       "      <td>7976.00</td>\n",
       "      <td>1.00</td>\n",
       "      <td>1</td>\n",
       "    </tr>\n",
       "    <tr>\n",
       "      <th>2700492</th>\n",
       "      <td>20130708</td>\n",
       "      <td>79192.525352</td>\n",
       "      <td>1</td>\n",
       "      <td>1</td>\n",
       "      <td>-1</td>\n",
       "      <td>7976.0</td>\n",
       "      <td>1</td>\n",
       "      <td>1</td>\n",
       "      <td>7974.5</td>\n",
       "      <td>8</td>\n",
       "      <td>4</td>\n",
       "      <td>7975.25</td>\n",
       "      <td>-0.75</td>\n",
       "      <td>0</td>\n",
       "    </tr>\n",
       "    <tr>\n",
       "      <th>2700493</th>\n",
       "      <td>20130708</td>\n",
       "      <td>79192.527154</td>\n",
       "      <td>1</td>\n",
       "      <td>-1</td>\n",
       "      <td>-1</td>\n",
       "      <td>7977.5</td>\n",
       "      <td>4</td>\n",
       "      <td>3</td>\n",
       "      <td>7974.5</td>\n",
       "      <td>8</td>\n",
       "      <td>4</td>\n",
       "      <td>7976.00</td>\n",
       "      <td>0.75</td>\n",
       "      <td>1</td>\n",
       "    </tr>\n",
       "    <tr>\n",
       "      <th>2700494</th>\n",
       "      <td>20130708</td>\n",
       "      <td>79192.751309</td>\n",
       "      <td>4</td>\n",
       "      <td>1</td>\n",
       "      <td>1</td>\n",
       "      <td>7977.5</td>\n",
       "      <td>4</td>\n",
       "      <td>3</td>\n",
       "      <td>7976.0</td>\n",
       "      <td>4</td>\n",
       "      <td>1</td>\n",
       "      <td>7976.75</td>\n",
       "      <td>0.75</td>\n",
       "      <td>1</td>\n",
       "    </tr>\n",
       "    <tr>\n",
       "      <th>2700496</th>\n",
       "      <td>20130708</td>\n",
       "      <td>79193.474740</td>\n",
       "      <td>1</td>\n",
       "      <td>1</td>\n",
       "      <td>-1</td>\n",
       "      <td>7977.0</td>\n",
       "      <td>1</td>\n",
       "      <td>1</td>\n",
       "      <td>7976.0</td>\n",
       "      <td>3</td>\n",
       "      <td>1</td>\n",
       "      <td>7976.50</td>\n",
       "      <td>-0.25</td>\n",
       "      <td>0</td>\n",
       "    </tr>\n",
       "    <tr>\n",
       "      <th>2700497</th>\n",
       "      <td>20130708</td>\n",
       "      <td>79193.518220</td>\n",
       "      <td>1</td>\n",
       "      <td>1</td>\n",
       "      <td>1</td>\n",
       "      <td>7977.0</td>\n",
       "      <td>1</td>\n",
       "      <td>1</td>\n",
       "      <td>7976.5</td>\n",
       "      <td>1</td>\n",
       "      <td>1</td>\n",
       "      <td>7976.75</td>\n",
       "      <td>0.25</td>\n",
       "      <td>1</td>\n",
       "    </tr>\n",
       "    <tr>\n",
       "      <th>2700499</th>\n",
       "      <td>20130708</td>\n",
       "      <td>79193.874687</td>\n",
       "      <td>1</td>\n",
       "      <td>-1</td>\n",
       "      <td>1</td>\n",
       "      <td>7977.5</td>\n",
       "      <td>5</td>\n",
       "      <td>4</td>\n",
       "      <td>7976.5</td>\n",
       "      <td>1</td>\n",
       "      <td>1</td>\n",
       "      <td>7977.00</td>\n",
       "      <td>0.25</td>\n",
       "      <td>1</td>\n",
       "    </tr>\n",
       "    <tr>\n",
       "      <th>2700503</th>\n",
       "      <td>20130708</td>\n",
       "      <td>79194.943871</td>\n",
       "      <td>4</td>\n",
       "      <td>0</td>\n",
       "      <td>-1</td>\n",
       "      <td>7978.0</td>\n",
       "      <td>1</td>\n",
       "      <td>1</td>\n",
       "      <td>7976.5</td>\n",
       "      <td>1</td>\n",
       "      <td>1</td>\n",
       "      <td>7977.25</td>\n",
       "      <td>0.25</td>\n",
       "      <td>1</td>\n",
       "    </tr>\n",
       "    <tr>\n",
       "      <th>2700504</th>\n",
       "      <td>20130708</td>\n",
       "      <td>79194.945643</td>\n",
       "      <td>1</td>\n",
       "      <td>-1</td>\n",
       "      <td>-1</td>\n",
       "      <td>7978.5</td>\n",
       "      <td>2</td>\n",
       "      <td>2</td>\n",
       "      <td>7976.5</td>\n",
       "      <td>1</td>\n",
       "      <td>1</td>\n",
       "      <td>7977.50</td>\n",
       "      <td>0.25</td>\n",
       "      <td>1</td>\n",
       "    </tr>\n",
       "    <tr>\n",
       "      <th>2700506</th>\n",
       "      <td>20130708</td>\n",
       "      <td>79195.508567</td>\n",
       "      <td>1</td>\n",
       "      <td>0</td>\n",
       "      <td>1</td>\n",
       "      <td>7978.5</td>\n",
       "      <td>1</td>\n",
       "      <td>1</td>\n",
       "      <td>7976.0</td>\n",
       "      <td>5</td>\n",
       "      <td>3</td>\n",
       "      <td>7977.25</td>\n",
       "      <td>-0.25</td>\n",
       "      <td>0</td>\n",
       "    </tr>\n",
       "    <tr>\n",
       "      <th>2700507</th>\n",
       "      <td>20130708</td>\n",
       "      <td>79195.519464</td>\n",
       "      <td>1</td>\n",
       "      <td>1</td>\n",
       "      <td>-1</td>\n",
       "      <td>7976.5</td>\n",
       "      <td>1</td>\n",
       "      <td>1</td>\n",
       "      <td>7976.0</td>\n",
       "      <td>5</td>\n",
       "      <td>3</td>\n",
       "      <td>7976.25</td>\n",
       "      <td>-1.00</td>\n",
       "      <td>0</td>\n",
       "    </tr>\n",
       "    <tr>\n",
       "      <th>2700508</th>\n",
       "      <td>20130708</td>\n",
       "      <td>79195.519464</td>\n",
       "      <td>1</td>\n",
       "      <td>0</td>\n",
       "      <td>1</td>\n",
       "      <td>7977.0</td>\n",
       "      <td>1</td>\n",
       "      <td>1</td>\n",
       "      <td>7976.0</td>\n",
       "      <td>4</td>\n",
       "      <td>3</td>\n",
       "      <td>7976.50</td>\n",
       "      <td>0.25</td>\n",
       "      <td>1</td>\n",
       "    </tr>\n",
       "    <tr>\n",
       "      <th>2700511</th>\n",
       "      <td>20130708</td>\n",
       "      <td>79198.746870</td>\n",
       "      <td>1</td>\n",
       "      <td>-1</td>\n",
       "      <td>1</td>\n",
       "      <td>7977.5</td>\n",
       "      <td>1</td>\n",
       "      <td>1</td>\n",
       "      <td>7976.0</td>\n",
       "      <td>4</td>\n",
       "      <td>3</td>\n",
       "      <td>7976.75</td>\n",
       "      <td>0.25</td>\n",
       "      <td>1</td>\n",
       "    </tr>\n",
       "    <tr>\n",
       "      <th>2700513</th>\n",
       "      <td>20130708</td>\n",
       "      <td>79198.748232</td>\n",
       "      <td>1</td>\n",
       "      <td>-1</td>\n",
       "      <td>-1</td>\n",
       "      <td>7978.5</td>\n",
       "      <td>2</td>\n",
       "      <td>2</td>\n",
       "      <td>7976.0</td>\n",
       "      <td>4</td>\n",
       "      <td>3</td>\n",
       "      <td>7977.25</td>\n",
       "      <td>0.50</td>\n",
       "      <td>1</td>\n",
       "    </tr>\n",
       "    <tr>\n",
       "      <th>2700514</th>\n",
       "      <td>20130708</td>\n",
       "      <td>79198.748609</td>\n",
       "      <td>1</td>\n",
       "      <td>1</td>\n",
       "      <td>-1</td>\n",
       "      <td>7978.0</td>\n",
       "      <td>1</td>\n",
       "      <td>1</td>\n",
       "      <td>7976.0</td>\n",
       "      <td>4</td>\n",
       "      <td>3</td>\n",
       "      <td>7977.00</td>\n",
       "      <td>-0.25</td>\n",
       "      <td>0</td>\n",
       "    </tr>\n",
       "    <tr>\n",
       "      <th>2700515</th>\n",
       "      <td>20130708</td>\n",
       "      <td>79198.749752</td>\n",
       "      <td>1</td>\n",
       "      <td>-1</td>\n",
       "      <td>-1</td>\n",
       "      <td>7978.5</td>\n",
       "      <td>2</td>\n",
       "      <td>2</td>\n",
       "      <td>7976.0</td>\n",
       "      <td>4</td>\n",
       "      <td>3</td>\n",
       "      <td>7977.25</td>\n",
       "      <td>0.25</td>\n",
       "      <td>1</td>\n",
       "    </tr>\n",
       "    <tr>\n",
       "      <th>2700516</th>\n",
       "      <td>20130708</td>\n",
       "      <td>79198.863611</td>\n",
       "      <td>1</td>\n",
       "      <td>1</td>\n",
       "      <td>-1</td>\n",
       "      <td>7977.0</td>\n",
       "      <td>1</td>\n",
       "      <td>1</td>\n",
       "      <td>7976.0</td>\n",
       "      <td>4</td>\n",
       "      <td>3</td>\n",
       "      <td>7976.50</td>\n",
       "      <td>-0.75</td>\n",
       "      <td>0</td>\n",
       "    </tr>\n",
       "    <tr>\n",
       "      <th>2700517</th>\n",
       "      <td>20130708</td>\n",
       "      <td>79199.274382</td>\n",
       "      <td>1</td>\n",
       "      <td>1</td>\n",
       "      <td>-1</td>\n",
       "      <td>7976.5</td>\n",
       "      <td>1</td>\n",
       "      <td>1</td>\n",
       "      <td>7976.0</td>\n",
       "      <td>3</td>\n",
       "      <td>2</td>\n",
       "      <td>7976.25</td>\n",
       "      <td>-0.25</td>\n",
       "      <td>0</td>\n",
       "    </tr>\n",
       "  </tbody>\n",
       "</table>\n",
       "<p>568072 rows × 14 columns</p>\n",
       "</div>"
      ],
      "text/plain": [
       "             Date          Time  Volume  OrderType  Side  AskPriceAfter  \\\n",
       "0        20130701  28806.446250      13          1     1         7956.0   \n",
       "2        20130701  28806.601666       1          0    -1         7957.0   \n",
       "4        20130701  28806.752690       1          1     1         7957.0   \n",
       "10       20130701  28807.097571       3          0    -1         7957.5   \n",
       "12       20130701  28807.242261       1          1     1         7957.5   \n",
       "14       20130701  28807.283840       3          0    -1         7958.0   \n",
       "15       20130701  28807.309478       1          1    -1         7957.5   \n",
       "16       20130701  28807.327985       1         -1    -1         7958.0   \n",
       "18       20130701  28807.482091       1          1     1         7958.0   \n",
       "19       20130701  28807.519796       1          0     1         7958.0   \n",
       "22       20130701  28807.732217       1          0    -1         7958.5   \n",
       "24       20130701  28808.244892       1          0    -1         7959.0   \n",
       "25       20130701  28808.329979       2          0     1         7959.0   \n",
       "28       20130701  28808.487331       1          1     1         7959.0   \n",
       "35       20130701  28809.470274       1          0    -1         7959.0   \n",
       "38       20130701  28810.062504       1          0    -1         7959.5   \n",
       "39       20130701  28810.073561       1          0     1         7958.0   \n",
       "52       20130701  28810.314896       1         -1    -1         7959.5   \n",
       "53       20130701  28810.351945       1          0     1         7959.5   \n",
       "54       20130701  28810.423050       1          1    -1         7958.0   \n",
       "64       20130701  28810.938469       3         -1    -1         7959.5   \n",
       "65       20130701  28811.056801       1          1    -1         7958.0   \n",
       "70       20130701  28811.185968       1          1    -1         7957.5   \n",
       "79       20130701  28811.325862       1         -1    -1         7959.0   \n",
       "95       20130701  28812.829437       1          1     1         7959.0   \n",
       "100      20130701  28813.498111       1          1     1         7959.0   \n",
       "101      20130701  28815.767595       6          1     1         7959.0   \n",
       "115      20130701  28821.128454       3          0     1         7959.0   \n",
       "117      20130701  28821.147532       1          1     1         7959.0   \n",
       "118      20130701  28821.162073       1         -1     1         7959.0   \n",
       "...           ...           ...     ...        ...   ...            ...   \n",
       "2700466  20130708  79186.758193       1          1    -1         7975.5   \n",
       "2700467  20130708  79186.759004       1         -1    -1         7976.0   \n",
       "2700468  20130708  79186.824937       2          1    -1         7975.0   \n",
       "2700470  20130708  79186.973088       1         -1    -1         7976.0   \n",
       "2700471  20130708  79186.973992       1          1    -1         7975.5   \n",
       "2700472  20130708  79186.974891       1         -1    -1         7976.0   \n",
       "2700475  20130708  79188.047128       2          1     1         7976.0   \n",
       "2700480  20130708  79188.680469       1         -1    -1         7976.5   \n",
       "2700485  20130708  79189.111515       1         -1    -1         7977.0   \n",
       "2700487  20130708  79189.704950       1          1     1         7977.0   \n",
       "2700488  20130708  79190.321203       1          1    -1         7975.5   \n",
       "2700489  20130708  79191.506382       1          0     1         7975.5   \n",
       "2700491  20130708  79192.524454      10          0    -1         7977.5   \n",
       "2700492  20130708  79192.525352       1          1    -1         7976.0   \n",
       "2700493  20130708  79192.527154       1         -1    -1         7977.5   \n",
       "2700494  20130708  79192.751309       4          1     1         7977.5   \n",
       "2700496  20130708  79193.474740       1          1    -1         7977.0   \n",
       "2700497  20130708  79193.518220       1          1     1         7977.0   \n",
       "2700499  20130708  79193.874687       1         -1     1         7977.5   \n",
       "2700503  20130708  79194.943871       4          0    -1         7978.0   \n",
       "2700504  20130708  79194.945643       1         -1    -1         7978.5   \n",
       "2700506  20130708  79195.508567       1          0     1         7978.5   \n",
       "2700507  20130708  79195.519464       1          1    -1         7976.5   \n",
       "2700508  20130708  79195.519464       1          0     1         7977.0   \n",
       "2700511  20130708  79198.746870       1         -1     1         7977.5   \n",
       "2700513  20130708  79198.748232       1         -1    -1         7978.5   \n",
       "2700514  20130708  79198.748609       1          1    -1         7978.0   \n",
       "2700515  20130708  79198.749752       1         -1    -1         7978.5   \n",
       "2700516  20130708  79198.863611       1          1    -1         7977.0   \n",
       "2700517  20130708  79199.274382       1          1    -1         7976.5   \n",
       "\n",
       "         AskQtyAfter  AskSplitAfter  BidPriceAfter  BidQtyAfter  \\\n",
       "0                  1              1         7955.5           30   \n",
       "2                  5              2         7955.5           34   \n",
       "4                  5              2         7956.5            1   \n",
       "10                 4              2         7956.5            2   \n",
       "12                 4              2         7957.0            1   \n",
       "14                 2              1         7957.0            1   \n",
       "15                 1              1         7957.0            1   \n",
       "16                 2              1         7957.0            1   \n",
       "18                 2              1         7957.5            1   \n",
       "19                 2              1         7957.0            3   \n",
       "22                 1              1         7957.5            1   \n",
       "24                 5              2         7957.5            1   \n",
       "25                 5              2         7957.0            3   \n",
       "28                 1              1         7957.5            1   \n",
       "35                 2              2         7958.0            2   \n",
       "38                 5              2         7958.0            1   \n",
       "39                 1              1         7957.5            1   \n",
       "52                 5              2         7957.5            1   \n",
       "53                 5              2         7957.0            3   \n",
       "54                 1              1         7957.0            3   \n",
       "64                 5              2         7957.0            2   \n",
       "65                 1              1         7957.0            2   \n",
       "70                 1              1         7957.0            2   \n",
       "79                10              6         7957.0            2   \n",
       "95                 2              2         7957.5            1   \n",
       "100                1              1         7958.0            1   \n",
       "101                1              1         7958.5            6   \n",
       "115                7              4         7958.0            8   \n",
       "117                7              4         7958.5            1   \n",
       "118                7              4         7958.0            6   \n",
       "...              ...            ...            ...          ...   \n",
       "2700466            1              1         7974.0            8   \n",
       "2700467            4              3         7974.0            8   \n",
       "2700468            2              1         7974.0            8   \n",
       "2700470            4              3         7974.0            8   \n",
       "2700471            1              1         7974.0            8   \n",
       "2700472            4              3         7974.0            8   \n",
       "2700475            2              2         7974.5            2   \n",
       "2700480            2              2         7974.5            8   \n",
       "2700485            4              4         7974.5            5   \n",
       "2700487            3              3         7975.0            1   \n",
       "2700488            1              1         7975.0            1   \n",
       "2700489            1              1         7974.5            7   \n",
       "2700491            4              3         7974.5            8   \n",
       "2700492            1              1         7974.5            8   \n",
       "2700493            4              3         7974.5            8   \n",
       "2700494            4              3         7976.0            4   \n",
       "2700496            1              1         7976.0            3   \n",
       "2700497            1              1         7976.5            1   \n",
       "2700499            5              4         7976.5            1   \n",
       "2700503            1              1         7976.5            1   \n",
       "2700504            2              2         7976.5            1   \n",
       "2700506            1              1         7976.0            5   \n",
       "2700507            1              1         7976.0            5   \n",
       "2700508            1              1         7976.0            4   \n",
       "2700511            1              1         7976.0            4   \n",
       "2700513            2              2         7976.0            4   \n",
       "2700514            1              1         7976.0            4   \n",
       "2700515            2              2         7976.0            4   \n",
       "2700516            1              1         7976.0            4   \n",
       "2700517            1              1         7976.0            3   \n",
       "\n",
       "         BidSplitAfter  MidPrice  MidPriceVar  MidPriceChangeType  \n",
       "0                    2   7955.75          NaN                   0  \n",
       "2                    3   7956.25         0.50                   1  \n",
       "4                    1   7956.75         0.50                   1  \n",
       "10                   2   7957.00         0.25                   1  \n",
       "12                   1   7957.25         0.25                   1  \n",
       "14                   1   7957.50         0.25                   1  \n",
       "15                   1   7957.25        -0.25                   0  \n",
       "16                   1   7957.50         0.25                   1  \n",
       "18                   1   7957.75         0.25                   1  \n",
       "19                   2   7957.50        -0.25                   0  \n",
       "22                   1   7958.00         0.50                   1  \n",
       "24                   1   7958.25         0.25                   1  \n",
       "25                   3   7958.00        -0.25                   0  \n",
       "28                   1   7958.25         0.25                   1  \n",
       "35                   2   7958.50         0.25                   1  \n",
       "38                   1   7958.75         0.25                   1  \n",
       "39                   1   7957.75        -1.00                   0  \n",
       "52                   1   7958.50         0.75                   1  \n",
       "53                   3   7958.25        -0.25                   0  \n",
       "54                   3   7957.50        -0.75                   0  \n",
       "64                   2   7958.25         0.75                   1  \n",
       "65                   2   7957.50        -0.75                   0  \n",
       "70                   2   7957.25        -0.25                   0  \n",
       "79                   2   7958.00         0.75                   1  \n",
       "95                   1   7958.25         0.25                   1  \n",
       "100                  1   7958.50         0.25                   1  \n",
       "101                  1   7958.75         0.25                   1  \n",
       "115                  4   7958.50        -0.25                   0  \n",
       "117                  1   7958.75         0.25                   1  \n",
       "118                  2   7958.50        -0.25                   0  \n",
       "...                ...       ...          ...                 ...  \n",
       "2700466              4   7974.75        -0.25                   0  \n",
       "2700467              4   7975.00         0.25                   1  \n",
       "2700468              4   7974.50        -0.50                   0  \n",
       "2700470              4   7975.00         0.50                   1  \n",
       "2700471              4   7974.75        -0.25                   0  \n",
       "2700472              4   7975.00         0.25                   1  \n",
       "2700475              1   7975.25         0.25                   1  \n",
       "2700480              4   7975.50         0.25                   1  \n",
       "2700485              2   7975.75         0.25                   1  \n",
       "2700487              1   7976.00         0.25                   1  \n",
       "2700488              1   7975.25        -0.75                   0  \n",
       "2700489              3   7975.00        -0.25                   0  \n",
       "2700491              4   7976.00         1.00                   1  \n",
       "2700492              4   7975.25        -0.75                   0  \n",
       "2700493              4   7976.00         0.75                   1  \n",
       "2700494              1   7976.75         0.75                   1  \n",
       "2700496              1   7976.50        -0.25                   0  \n",
       "2700497              1   7976.75         0.25                   1  \n",
       "2700499              1   7977.00         0.25                   1  \n",
       "2700503              1   7977.25         0.25                   1  \n",
       "2700504              1   7977.50         0.25                   1  \n",
       "2700506              3   7977.25        -0.25                   0  \n",
       "2700507              3   7976.25        -1.00                   0  \n",
       "2700508              3   7976.50         0.25                   1  \n",
       "2700511              3   7976.75         0.25                   1  \n",
       "2700513              3   7977.25         0.50                   1  \n",
       "2700514              3   7977.00        -0.25                   0  \n",
       "2700515              3   7977.25         0.25                   1  \n",
       "2700516              3   7976.50        -0.75                   0  \n",
       "2700517              2   7976.25        -0.25                   0  \n",
       "\n",
       "[568072 rows x 14 columns]"
      ]
     },
     "execution_count": 181,
     "metadata": {},
     "output_type": "execute_result"
    }
   ],
   "source": [
    "df_filtered"
   ]
  },
  {
   "cell_type": "markdown",
   "metadata": {},
   "source": [
    "### Model"
   ]
  },
  {
   "cell_type": "markdown",
   "metadata": {},
   "source": [
    "* 0: midprice goes down $N_t^1$\n",
    "* 1: midprice goes up $N_t^2$"
   ]
  },
  {
   "cell_type": "code",
   "execution_count": null,
   "metadata": {},
   "outputs": [],
   "source": []
  },
  {
   "cell_type": "markdown",
   "metadata": {},
   "source": [
    "# Influence of ask and bid"
   ]
  },
  {
   "cell_type": "code",
   "execution_count": 149,
   "metadata": {},
   "outputs": [],
   "source": [
    "from torch import nn\n",
    "\n",
    "from models import HawkesDecayRNN\n",
    "from train_functions import train_decayrnn"
   ]
  },
  {
   "cell_type": "code",
   "execution_count": 183,
   "metadata": {},
   "outputs": [],
   "source": [
    "num_of_splits = 150"
   ]
  },
  {
   "cell_type": "code",
   "execution_count": 266,
   "metadata": {},
   "outputs": [
    {
     "name": "stdout",
     "output_type": "stream",
     "text": [
      "Day 20130701\n"
     ]
    },
    {
     "name": "stderr",
     "output_type": "stream",
     "text": [
      "/home/manifold/miniconda3/envs/pytorch/lib/python3.7/site-packages/ipykernel_launcher.py:11: SettingWithCopyWarning: \n",
      "A value is trying to be set on a copy of a slice from a DataFrame.\n",
      "Try using .loc[row_indexer,col_indexer] = value instead\n",
      "\n",
      "See the caveats in the documentation: http://pandas.pydata.org/pandas-docs/stable/indexing.html#indexing-view-versus-copy\n",
      "  # This is added back by InteractiveShellApp.init_path()\n"
     ]
    },
    {
     "name": "stdout",
     "output_type": "stream",
     "text": [
      "Day 20130702\n",
      "Day 20130703\n",
      "Day 20130704\n",
      "Day 20130705\n",
      "Day 20130708\n",
      "torch.Size([900, 798])\n"
     ]
    }
   ],
   "source": [
    "split_times_list = []\n",
    "split_types_list = []\n",
    "seq_lengths = []\n",
    "for file in FILES:\n",
    "    df = pd.read_csv(file)\n",
    "    day_stamp = df.Date.values[0]\n",
    "    print(\"Day\", day_stamp)\n",
    "    df['MidPrice'] = 0.5*(df.AskPriceAfter + df.BidPriceAfter)\n",
    "    df['MidPriceVar'] = df.MidPrice.diff()\n",
    "    df_filtered: pd.DataFrame = df[df.MidPriceVar != 0]\n",
    "    df_filtered['MidPriceChangeType'] = (df.MidPriceVar > 0).astype(int)\n",
    "    # Arrange our data\n",
    "    evt_times = df_filtered.Time.values\n",
    "    evt_types = df_filtered.MidPriceChangeType.values\n",
    "\n",
    "    sttl_ = np.array_split(evt_times, num_of_splits)\n",
    "    stpl_ = np.array_split(evt_types, num_of_splits)\n",
    "    seq_lengths += [len(e) for e in sttl_]\n",
    "    split_times_list += [torch.from_numpy(e) for e in sttl_]\n",
    "    split_types_list += [torch.from_numpy(e) for e in stpl_]\n",
    "seq_lengths = torch.LongTensor(seq_lengths) - 1\n",
    "seq_times = nn.utils.rnn.pad_sequence(split_times_list, batch_first=True).to(torch.float32)\n",
    "seq_types = nn.utils.rnn.pad_sequence(split_types_list, batch_first=True, padding_value=process_dim)\n",
    "print(seq_times.shape)"
   ]
  },
  {
   "cell_type": "code",
   "execution_count": 274,
   "metadata": {},
   "outputs": [],
   "source": [
    "from torch.nn import functional as F"
   ]
  },
  {
   "cell_type": "markdown",
   "metadata": {},
   "source": [
    "# Evaluation"
   ]
  },
  {
   "cell_type": "markdown",
   "metadata": {},
   "source": [
    "## RNN model"
   ]
  },
  {
   "cell_type": "code",
   "execution_count": 357,
   "metadata": {},
   "outputs": [],
   "source": [
    "process_dim = 2\n",
    "hidden_size = 128"
   ]
  },
  {
   "cell_type": "code",
   "execution_count": 358,
   "metadata": {},
   "outputs": [],
   "source": [
    "rnn_model = HawkesDecayRNN(process_dim, hidden_size)"
   ]
  },
  {
   "cell_type": "code",
   "execution_count": 359,
   "metadata": {},
   "outputs": [
    {
     "data": {
      "text/plain": [
       "['../saved_models/HawkesDecayRNN-2d_hidden128-20181210-200457.pth',\n",
       " '../saved_models/HawkesDecayRNN-2d_hidden128-20181210-013110.pth',\n",
       " '../saved_models/HawkesDecayRNN-2d_hidden128-20181209-212603.pth',\n",
       " '../saved_models/HawkesDecayRNN-2d_hidden128-20181209-153942.pth']"
      ]
     },
     "execution_count": 359,
     "metadata": {},
     "output_type": "execute_result"
    }
   ],
   "source": [
    "MODEL_FILES = glob.glob(\"../saved_models/HawkesDecay*\")\n",
    "MODEL_FILES.sort(reverse=True)\n",
    "MODEL_FILES"
   ]
  },
  {
   "cell_type": "code",
   "execution_count": 360,
   "metadata": {},
   "outputs": [
    {
     "name": "stdout",
     "output_type": "stream",
     "text": [
      "../saved_models/HawkesDecayRNN-2d_hidden128-20181210-200457.pth\n"
     ]
    }
   ],
   "source": [
    "_model_file = MODEL_FILES[0]\n",
    "print(_model_file)\n",
    "rnn_model.load_state_dict(torch.load(MODEL_FILES[0], map_location={\"cuda:0\": \"cpu\"}))"
   ]
  },
  {
   "cell_type": "code",
   "execution_count": 361,
   "metadata": {},
   "outputs": [],
   "source": [
    "from utils import evaluation"
   ]
  },
  {
   "cell_type": "code",
   "execution_count": 362,
   "metadata": {},
   "outputs": [
    {
     "name": "stdout",
     "output_type": "stream",
     "text": [
      "Dataset size: 900\n"
     ]
    }
   ],
   "source": [
    "dataset_size = seq_times.shape[0]\n",
    "print(\"Dataset size:\", dataset_size)\n",
    "\n",
    "train_size = 750\n",
    "test_size = 150"
   ]
  },
  {
   "cell_type": "code",
   "execution_count": 363,
   "metadata": {},
   "outputs": [
    {
     "name": "stdout",
     "output_type": "stream",
     "text": [
      "last event: time 32347.736 type 0.000\n",
      "next event: time 32353.006 type 0.000, in 5.270\n",
      "sum of density: tensor(0.7879)\n",
      "type probabilities: tensor([0.3906, 0.3950])\n"
     ]
    },
    {
     "data": {
      "text/plain": [
       "((tensor(0.0663), tensor(5.2695), tensor(27.0732), tensor(0), tensor(1)),\n",
       " <Figure size 1000x400 with 2 Axes>)"
      ]
     },
     "execution_count": 363,
     "metadata": {},
     "output_type": "execute_result"
    },
    {
     "data": {
      "image/png": "[encoded data removed]",
      "text/plain": [
       "<Figure size 1000x400 with 2 Axes>"
      ]
     },
     "metadata": {
      "needs_background": "light"
     },
     "output_type": "display_data"
    }
   ],
   "source": [
    "index_ = torch.randint(0, dataset_size, (1,)).int().item()\n",
    "\n",
    "rnn_model.read_predict(seq_times[index_], seq_types[index_], seq_lengths[index_],\n",
    "                   hmax=0.6, n_samples=4000, plot=True, print_info=True)"
   ]
  },
  {
   "cell_type": "code",
   "execution_count": 68,
   "metadata": {},
   "outputs": [],
   "source": [
    "test_data = (seq_times, seq_types, seq_lengths)"
   ]
  },
  {
   "cell_type": "code",
   "execution_count": 69,
   "metadata": {},
   "outputs": [
    {
     "data": {
      "application/vnd.jupyter.widget-view+json": {
       "model_id": "5983d5e1649c46e7880e5140811ba4cc",
       "version_major": 2,
       "version_minor": 0
      },
      "text/plain": [
       "HBox(children=(IntProgress(value=0, max=1000), HTML(value='')))"
      ]
     },
     "metadata": {},
     "output_type": "display_data"
    },
    {
     "name": "stdout",
     "output_type": "stream",
     "text": [
      "\n"
     ]
    }
   ],
   "source": [
    "incr_estimates, incr_errors, types_real, types_estimates = evaluation.predict_test(\n",
    "    model, *test_data,\n",
    "    hmax=0.7, use_jupyter=True)"
   ]
  },
  {
   "cell_type": "code",
   "execution_count": 70,
   "metadata": {},
   "outputs": [
    {
     "name": "stdout",
     "output_type": "stream",
     "text": [
      "rmse 0.43237952599606266\n",
      "mse var 2.6977105307954954\n",
      "rmse var 0.039494363353466524\n"
     ]
    }
   ],
   "source": [
    "avg_rmse = np.sqrt(np.mean(incr_errors), dtype=np.float64)\n",
    "print(\"rmse\", avg_rmse)\n",
    "\n",
    "mse_var = np.var(incr_errors, dtype=np.float64)\n",
    "print(\"mse var\", mse_var)\n",
    "\n",
    "delta_meth_stderr = np.sqrt(1 / test_size * mse_var / (4 * avg_rmse))\n",
    "print(\"rmse var\", delta_meth_stderr)"
   ]
  },
  {
   "cell_type": "code",
   "execution_count": 71,
   "metadata": {},
   "outputs": [],
   "source": [
    "from sklearn.metrics import confusion_matrix, accuracy_score"
   ]
  },
  {
   "cell_type": "code",
   "execution_count": 72,
   "metadata": {},
   "outputs": [
    {
     "name": "stdout",
     "output_type": "stream",
     "text": [
      "Type prediction score: 0.476\n",
      "Confusion matrix:\n",
      " [[  0 524]\n",
      " [  0 476]]\n"
     ]
    }
   ],
   "source": [
    "types_predict_score = accuracy_score(types_real, types_estimates)\n",
    "print(\"Type prediction score:\", types_predict_score)\n",
    "\n",
    "print(\"Confusion matrix:\\n\", confusion_matrix(types_real, types_estimates))"
   ]
  },
  {
   "cell_type": "markdown",
   "metadata": {},
   "source": [
    "### Sequence generation"
   ]
  },
  {
   "cell_type": "code",
   "execution_count": 364,
   "metadata": {},
   "outputs": [],
   "source": [
    "from models.decayrnn import HawkesRNNGen"
   ]
  },
  {
   "cell_type": "code",
   "execution_count": 365,
   "metadata": {},
   "outputs": [
    {
     "name": "stdout",
     "output_type": "stream",
     "text": [
      "Process model dim:\t2\tHidden units:\t128\n"
     ]
    }
   ],
   "source": [
    "generator = HawkesRNNGen(model, record_intensity=False)"
   ]
  },
  {
   "cell_type": "code",
   "execution_count": 395,
   "metadata": {},
   "outputs": [],
   "source": [
    "_.savefig('../results/intensity_HawkesDecayRNN_{}d_hidden128_Financial_20181210-200457.pdf')"
   ]
  },
  {
   "cell_type": "code",
   "execution_count": 394,
   "metadata": {},
   "outputs": [
    {
     "name": "stdout",
     "output_type": "stream",
     "text": [
      "no. of events: 12\n",
      "0: type 0\n",
      "1: type 1\n"
     ]
    },
    {
     "data": {
      "image/png": "[encoded data removed]",
      "text/plain": [
       "<Figure size 900x450 with 1 Axes>"
      ]
     },
     "metadata": {
      "needs_background": "light"
     },
     "output_type": "display_data"
    }
   ],
   "source": [
    "tmax_simu = 6\n",
    "generator.generate_sequence(tmax_simu, record_intensity=True)\n",
    "_ = generator.plot_events_and_intensity()"
   ]
  },
  {
   "cell_type": "markdown",
   "metadata": {},
   "source": [
    "Modèle de prix:\n",
    "$$\n",
    "    P_t = N_t^1 - N_t^2\n",
    "$$"
   ]
  },
  {
   "cell_type": "code",
   "execution_count": 383,
   "metadata": {},
   "outputs": [],
   "source": [
    "def price(t):\n",
    "    x = np.asarray(generator.event_times[1:]) <= t\n",
    "    evt_types = np.asarray(generator.event_types[1:])\n",
    "    print(x.shape)\n",
    "    typ0 = x[:, evt_types == 0]\n",
    "    typ1 = x[:, evt_types == 1]\n",
    "    nt = np.sum(x, axis=1)\n",
    "    nt1 = np.sum(typ0, axis=1)\n",
    "    nt2 = np.sum(typ1, axis=1)\n",
    "    return nt, nt1, nt2"
   ]
  },
  {
   "cell_type": "code",
   "execution_count": 385,
   "metadata": {},
   "outputs": [],
   "source": [
    "t_vals = np.linspace(0, tmax_simu)"
   ]
  },
  {
   "cell_type": "code",
   "execution_count": 387,
   "metadata": {},
   "outputs": [
    {
     "name": "stdout",
     "output_type": "stream",
     "text": [
      "(50, 23)\n"
     ]
    },
    {
     "data": {
      "text/plain": [
       "<matplotlib.legend.Legend at 0x7fc54aec0080>"
      ]
     },
     "execution_count": 387,
     "metadata": {},
     "output_type": "execute_result"
    },
    {
     "data": {
      "image/png": "[encoded data removed]",
      "text/plain": [
       "<Figure size 810x360 with 1 Axes>"
      ]
     },
     "metadata": {
      "needs_background": "light"
     },
     "output_type": "display_data"
    }
   ],
   "source": [
    "nt, nta, ntb = price(t_vals[:, None])\n",
    "plt.figure(figsize=(9,4), dpi=90)\n",
    "step_opts = dict(\n",
    "    linewidth=.7)\n",
    "plt.step(t_vals, nta, **step_opts, label=\"$N_t^{(a)}$\")\n",
    "plt.step(t_vals, -ntb, **step_opts, label=\"$N_t^{(b)}$\")\n",
    "pt = nta - ntb\n",
    "plt.step(t_vals, pt, label=\"Price $P_t$\")\n",
    "plt.legend()"
   ]
  },
  {
   "cell_type": "markdown",
   "metadata": {},
   "source": [
    "## LSTM model"
   ]
  },
  {
   "cell_type": "code",
   "execution_count": 348,
   "metadata": {},
   "outputs": [],
   "source": [
    "from models.ctlstm import HawkesLSTM, HawkesLSTMGen"
   ]
  },
  {
   "cell_type": "code",
   "execution_count": 349,
   "metadata": {},
   "outputs": [],
   "source": [
    "lstm_model = HawkesLSTM(process_dim, hidden_size)"
   ]
  },
  {
   "cell_type": "code",
   "execution_count": 350,
   "metadata": {},
   "outputs": [
    {
     "data": {
      "text/plain": [
       "['../saved_models/HawkesLSTM-2d_hidden128-20181210-200505.pth',\n",
       " '../saved_models/HawkesLSTM-2d_hidden128-20181209-214506.pth',\n",
       " '../saved_models/HawkesLSTM-2d_hidden128-20181209-173255.pth',\n",
       " '../saved_models/HawkesLSTM-2d_hidden128-20181209-154233.pth',\n",
       " '../saved_models/HawkesLSTM-2d-sumexp_hidden128-20181210-004752.pth']"
      ]
     },
     "execution_count": 350,
     "metadata": {},
     "output_type": "execute_result"
    }
   ],
   "source": [
    "MODEL_FILES = glob.glob(\"../saved_models/HawkesLSTM*\")\n",
    "MODEL_FILES.sort(reverse=True)\n",
    "MODEL_FILES"
   ]
  },
  {
   "cell_type": "code",
   "execution_count": 351,
   "metadata": {},
   "outputs": [
    {
     "name": "stdout",
     "output_type": "stream",
     "text": [
      "../saved_models/HawkesLSTM-2d_hidden128-20181210-200505.pth\n"
     ]
    }
   ],
   "source": [
    "_model_file = MODEL_FILES[0]\n",
    "print(_model_file)\n",
    "lstm_model.load_state_dict(torch.load(MODEL_FILES[0], map_location={\"cuda:0\": \"cpu\"}))"
   ]
  },
  {
   "cell_type": "code",
   "execution_count": 352,
   "metadata": {},
   "outputs": [
    {
     "name": "stdout",
     "output_type": "stream",
     "text": [
      "Process model dim:\t2\tHidden units:\t128\n"
     ]
    }
   ],
   "source": [
    "lstm_gen = HawkesLSTMGen(lstm_model, record_intensity=False)"
   ]
  },
  {
   "cell_type": "code",
   "execution_count": 356,
   "metadata": {},
   "outputs": [
    {
     "name": "stdout",
     "output_type": "stream",
     "text": [
      "no. of events: 3\n",
      "0: type 0\n",
      "1: type 1\n"
     ]
    },
    {
     "data": {
      "image/png": "[encoded data removed]",
      "text/plain": [
       "<Figure size 900x450 with 1 Axes>"
      ]
     },
     "metadata": {
      "needs_background": "light"
     },
     "output_type": "display_data"
    }
   ],
   "source": [
    "lstm_gen.generate_sequence(1, record_intensity=True)\n",
    "fig = lstm_gen.plot_events_and_intensity()"
   ]
  },
  {
   "cell_type": "code",
   "execution_count": null,
   "metadata": {},
   "outputs": [],
   "source": []
  },
  {
   "cell_type": "code",
   "execution_count": null,
   "metadata": {},
   "outputs": [],
   "source": []
  },
  {
   "cell_type": "code",
   "execution_count": null,
   "metadata": {},
   "outputs": [],
   "source": []
  },
  {
   "cell_type": "code",
   "execution_count": null,
   "metadata": {},
   "outputs": [],
   "source": []
  },
  {
   "cell_type": "code",
   "execution_count": null,
   "metadata": {},
   "outputs": [],
   "source": []
  }
 ],
 "metadata": {
  "kernelspec": {
   "display_name": "Python [conda env:pytorch]",
   "language": "python",
   "name": "conda-env-pytorch-py"
  },
  "language_info": {
   "codemirror_mode": {
    "name": "ipython",
    "version": 3
   },
   "file_extension": ".py",
   "mimetype": "text/x-python",
   "name": "python",
   "nbconvert_exporter": "python",
   "pygments_lexer": "ipython3",
   "version": "3.7.1"
  }
 },
 "nbformat": 4,
 "nbformat_minor": 2
}
