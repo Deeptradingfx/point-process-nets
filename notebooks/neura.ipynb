{
 "cells": [
  {
   "cell_type": "code",
   "execution_count": 1,
   "metadata": {},
   "outputs": [],
   "source": [
    "%matplotlib inline\n",
    "%load_ext autoreload\n",
    "%autoreload 2"
   ]
  },
  {
   "cell_type": "code",
   "execution_count": 2,
   "metadata": {},
   "outputs": [],
   "source": [
    "import matplotlib.pyplot as plt\n",
    "import matplotlib.ticker as mticker\n",
    "import numpy as np\n",
    "import pointprocesses as ppr"
   ]
  },
  {
   "cell_type": "code",
   "execution_count": 3,
   "metadata": {},
   "outputs": [],
   "source": [
    "import torch"
   ]
  },
  {
   "cell_type": "markdown",
   "metadata": {},
   "source": [
    "# Données synthétiques"
   ]
  },
  {
   "cell_type": "code",
   "execution_count": 4,
   "metadata": {},
   "outputs": [],
   "source": [
    "def intensity_function_(t, lam0, alpha, beta, history):\n",
    "    return lam0 + np.sum(alpha*beta*np.exp(-beta*(t - history))*(t >= history), axis=0)\n",
    "\n",
    "intensity_function = np.vectorize(intensity_function_, excluded={4})"
   ]
  },
  {
   "cell_type": "code",
   "execution_count": 5,
   "metadata": {},
   "outputs": [
    {
     "name": "stdout",
     "output_type": "stream",
     "text": [
      "Expected avg evt no. 6.667\n"
     ]
    }
   ],
   "source": [
    "import itertools\n",
    "mu = 1.0\n",
    "tmax = 5.0\n",
    "alpha = 0.25\n",
    "beta  = 2.0\n",
    "\n",
    "print(\"Expected avg evt no. %.3f\" % (tmax*mu/(1.-alpha)))"
   ]
  },
  {
   "cell_type": "code",
   "execution_count": 6,
   "metadata": {},
   "outputs": [],
   "source": [
    "n_traj = 400\n",
    "sample_trajectories = [ppr.hawkes_exp(tmax, beta, mu, itertools.repeat(alpha)) for _ in range(n_traj)]"
   ]
  },
  {
   "cell_type": "code",
   "execution_count": 7,
   "metadata": {},
   "outputs": [
    {
     "data": {
      "text/plain": [
       "<matplotlib.collections.PathCollection at 0x7f7b764380b8>"
      ]
     },
     "execution_count": 7,
     "metadata": {},
     "output_type": "execute_result"
    },
    {
     "data": {
      "image/png": "[encoded data removed]",
      "text/plain": [
       "<Figure size 1200x500 with 1 Axes>"
      ]
     },
     "metadata": {
      "needs_background": "light"
     },
     "output_type": "display_data"
    }
   ],
   "source": [
    "one_traj = sample_trajectories[0]\n",
    "fig, ax = plt.subplots(1,1, figsize=(12,5), dpi=100)\n",
    "ax.set_xlabel(\"Temps $t$\")\n",
    "ax.set_ylabel(r\"Intensité $\\lambda_t$\")\n",
    "t_arr = np.sort(np.append(np.linspace(0, tmax, 600), one_traj[:,]))\n",
    "ax.plot(t_arr, intensity_function(t_arr, mu, alpha, beta, one_traj[:,0]), 'r-', linewidth=0.9)\n",
    "ax.xaxis.set_major_locator(mticker.MultipleLocator(2.))\n",
    "scatter_opts = {\n",
    "    \"c\": \"r\", \"s\": 11\n",
    "}\n",
    "ax.grid(True, axis='x', linestyle='--')\n",
    "ax.scatter(one_traj[:,0], one_traj[:,1], c='r', s=10)"
   ]
  },
  {
   "cell_type": "markdown",
   "metadata": {},
   "source": [
    "We will pad each sequence with 0s at the end."
   ]
  },
  {
   "cell_type": "code",
   "execution_count": 8,
   "metadata": {},
   "outputs": [
    {
     "name": "stdout",
     "output_type": "stream",
     "text": [
      "Number of samples: \t\t400\n",
      "Input size max. traj. length: \t19\n",
      "tmax = 5.000\n"
     ]
    }
   ],
   "source": [
    "print(\"Number of samples: \\t\\t%d\" % len(sample_trajectories))\n",
    "seq_lengths = torch.LongTensor([s.shape[0] for s in sample_trajectories])+1\n",
    "input_size = seq_lengths.max().item()\n",
    "print(\"Input size max. traj. length: \\t%d\" % input_size)\n",
    "print(\"tmax = %.3f\"  % tmax)\n",
    "data_array = np.stack([\n",
    "    np.pad(s[:,0], ((0, input_size - s.shape[0] - 1)), 'constant') for s in sample_trajectories\n",
    "])\n",
    "data_tensor = torch.from_numpy(data_array).to(torch.float32)\n",
    "\n",
    "# Add a beginning-of-sequence event:\n",
    "data_tensor = torch.cat((torch.zeros(data_tensor.shape[0],1), data_tensor), dim=1)"
   ]
  },
  {
   "cell_type": "code",
   "execution_count": 9,
   "metadata": {},
   "outputs": [
    {
     "data": {
      "text/plain": [
       "torch.Size([400, 19])"
      ]
     },
     "execution_count": 9,
     "metadata": {},
     "output_type": "execute_result"
    }
   ],
   "source": [
    "data_tensor.shape"
   ]
  },
  {
   "cell_type": "markdown",
   "metadata": {},
   "source": [
    "The first dimension is for time, the second for the sample."
   ]
  },
  {
   "cell_type": "markdown",
   "metadata": {},
   "source": [
    "## Neural net"
   ]
  },
  {
   "cell_type": "code",
   "execution_count": 10,
   "metadata": {},
   "outputs": [],
   "source": [
    "import torch\n",
    "import torch.nn as nn\n",
    "from torch import optim"
   ]
  },
  {
   "cell_type": "code",
   "execution_count": 11,
   "metadata": {},
   "outputs": [
    {
     "name": "stdout",
     "output_type": "stream",
     "text": [
      "cpu\n"
     ]
    }
   ],
   "source": [
    "device = torch.device(\"cpu\")\n",
    "print(device)"
   ]
  },
  {
   "cell_type": "code",
   "execution_count": 12,
   "metadata": {},
   "outputs": [
    {
     "data": {
      "text/plain": [
       "<torch._C.Generator at 0x7f7b76c97310>"
      ]
     },
     "execution_count": 12,
     "metadata": {},
     "output_type": "execute_result"
    }
   ],
   "source": [
    "torch.manual_seed(1)"
   ]
  },
  {
   "cell_type": "markdown",
   "metadata": {},
   "source": [
    "The intensity process is given by\n",
    "$$\n",
    "    \\lambda_k(t) = f_k(\\mathbf w_k^\\intercal\\mathbf h(t))\n",
    "$$\n",
    "with $\\mathbf h(t)$ the hidden state, defined from the cell state $\\mathbf c(t)$ :\n",
    "$$\n",
    "    \\mathbf h(t) = \\mathbf o_i \\odot \\tanh(\\mathbf c(t))\\in\\mathbb R^D,\\quad t\\in(t_{i-1}, t_i].\n",
    "$$"
   ]
  },
  {
   "cell_type": "markdown",
   "metadata": {},
   "source": [
    "with\n",
    "$$\n",
    "    \\mathbf c(t) = \\bar{\\mathbf c}_{i+1} + (\\mathbf c_{i+1} - \\bar{\\mathbf c}_{i+1})\\exp\\left(-\\delta_{i+1}(t-t_i)\\right),\\quad t\\in(t_{i-1}, t_i].\n",
    "$$"
   ]
  },
  {
   "cell_type": "code",
   "execution_count": 13,
   "metadata": {},
   "outputs": [],
   "source": [
    "from model import NeuralCTLSTM\n",
    "import tqdm"
   ]
  },
  {
   "cell_type": "code",
   "execution_count": 14,
   "metadata": {},
   "outputs": [
    {
     "name": "stdout",
     "output_type": "stream",
     "text": [
      "Batch size: 40\n",
      "Training sample size: 400\n",
      "Splitting into batches of 40\n",
      "No. of batches: 10\n"
     ]
    }
   ],
   "source": [
    "# We use mini-batches to train on our data\n",
    "BATCH_SIZE = 40\n",
    "print(\"Batch size: %d\" % BATCH_SIZE)\n",
    "print(\"Training sample size: %d\" % data_tensor.size(0))\n",
    "print(\"Splitting into batches of %d\" % BATCH_SIZE)\n",
    "split_into_batches = data_tensor.split(BATCH_SIZE, dim=0)\n",
    "num_of_batches = len(split_into_batches)\n",
    "print(\"No. of batches: %d\" % num_of_batches)\n",
    "\n",
    "hidden_size = 8\n",
    "learn_rate = 0.0008\n",
    "\n",
    "nhlstm = NeuralCTLSTM(hidden_size)\n",
    "optimizer = optim.SGD(nhlstm.parameters(), lr=learn_rate)"
   ]
  },
  {
   "cell_type": "code",
   "execution_count": 15,
   "metadata": {},
   "outputs": [],
   "source": [
    "def train(event_times, input_size):\n",
    "    \"\"\"Train on input sequence\n",
    "    \n",
    "    Args:\n",
    "        event_times: input sequence\n",
    "    \"\"\"\n",
    "    dt = event_times[1:] - event_times[:-1]\n",
    "    # event_times = split_into_batches[i]\n",
    "    # inter_t = event_times[:,:-1] - event_times[:,1:] # transform into inter-arrival times\n",
    "    # batch_size = inter_t.size(0)\n",
    "    output_hist = []\n",
    "    hidden_hist = []\n",
    "    cell_hist = []\n",
    "    cell_target_hist = []\n",
    "    decay_hist = []\n",
    "    # Initialize hidden and cell state at 0\n",
    "    hidden, cti, cbar = nhlstm.init_hidden()\n",
    "    # Reset gradients; in PyTorch they accumulate\n",
    "    nhlstm.zero_grad()\n",
    "    # Loop over event times\n",
    "    # First pass takes care of the interval [0,t1) before first event\n",
    "    for j in range(input_size - 1):\n",
    "        output, hidden, cti, cell_t, cbar, decay_t = nhlstm(dt[j], hidden, cti, cbar)\n",
    "        output_hist.append(output)\n",
    "        hidden_hist.append(hidden)\n",
    "        cell_hist.append(cti)\n",
    "        cell_target_hist.append(cbar)\n",
    "        decay_hist.append(decay_t)\n",
    "    output_hist = torch.stack(output_hist, dim=1)\n",
    "    hidden_hist = torch.stack(hidden_hist, dim=1)\n",
    "    cell_hist = torch.stack(cell_hist, dim=1)\n",
    "    cell_target_hist = torch.stack(cell_target_hist, dim=1)\n",
    "    decay_hist = torch.stack(decay_hist, dim=1)\n",
    "    loss = nhlstm.likelihood(\n",
    "        event_times, seq_lengths[i], cell_hist, cell_target_hist,\n",
    "        output_hist, decay_hist, tmax)\n",
    "    # Compute the gradients\n",
    "    loss.backward()\n",
    "    # Update the model parameters\n",
    "    optimizer.step()\n",
    "    return loss"
   ]
  },
  {
   "cell_type": "code",
   "execution_count": 16,
   "metadata": {},
   "outputs": [
    {
     "data": {
      "application/vnd.jupyter.widget-view+json": {
       "model_id": "be586dec6b814976bb8d374d91c7f870",
       "version_major": 2,
       "version_minor": 0
      },
      "text/plain": [
       "HBox(children=(IntProgress(value=0, max=400), HTML(value='')))"
      ]
     },
     "metadata": {},
     "output_type": "display_data"
    },
    {
     "name": "stdout",
     "output_type": "stream",
     "text": [
      "\n"
     ]
    }
   ],
   "source": [
    "# batch_range = tqdm.trange(num_of_batches)\n",
    "# batch_range = tqdm.trange(data_tensor.size(0))\n",
    "train_size = 400\n",
    "batch_range = tqdm.tqdm_notebook(range(train_size))\n",
    "loss_hist = []\n",
    "for i in batch_range:\n",
    "    batch_range.set_description(\"Batch %d\" % (i+1))\n",
    "    # sample's event times\n",
    "    event_times = data_tensor[i]\n",
    "    loss = train(event_times, input_size)\n",
    "    loss_val = loss.item()\n",
    "    batch_range.set_postfix(loss=loss_val)\n",
    "    loss_hist.append(loss_val) # record the loss value"
   ]
  },
  {
   "cell_type": "markdown",
   "metadata": {},
   "source": [
    "Each training loop:\n",
    "* reinitializes the hidden state weights\n",
    "* zeroes the gradients\n",
    "* computes the loss"
   ]
  },
  {
   "cell_type": "code",
   "execution_count": null,
   "metadata": {},
   "outputs": [],
   "source": []
  },
  {
   "cell_type": "code",
   "execution_count": null,
   "metadata": {},
   "outputs": [],
   "source": []
  },
  {
   "cell_type": "code",
   "execution_count": 17,
   "metadata": {},
   "outputs": [
    {
     "data": {
      "text/plain": [
       "Text(0.5, 1.0, 'Loss = negative log-likelihood')"
      ]
     },
     "execution_count": 17,
     "metadata": {},
     "output_type": "execute_result"
    },
    {
     "data": {
      "image/png": "[encoded data removed]",
      "text/plain": [
       "<Figure size 800x500 with 1 Axes>"
      ]
     },
     "metadata": {
      "needs_background": "light"
     },
     "output_type": "display_data"
    }
   ],
   "source": [
    "fig, ax = plt.subplots(1, 1, figsize=(8,5), dpi=100)\n",
    "lineopts = {\n",
    "    \"linewidth\": 0.7\n",
    "}\n",
    "ax.plot(range(train_size), loss_hist, **lineopts)\n",
    "ax.set_title(\"Loss = negative log-likelihood\")"
   ]
  },
  {
   "cell_type": "code",
   "execution_count": null,
   "metadata": {},
   "outputs": [],
   "source": []
  },
  {
   "cell_type": "code",
   "execution_count": null,
   "metadata": {},
   "outputs": [],
   "source": []
  },
  {
   "cell_type": "code",
   "execution_count": 19,
   "metadata": {},
   "outputs": [],
   "source": [
    "import datetime"
   ]
  },
  {
   "cell_type": "code",
   "execution_count": 34,
   "metadata": {},
   "outputs": [],
   "source": [
    "ts = '{:%Y%m%d-%H%M%S}'.format(datetime.datetime.now())"
   ]
  },
  {
   "cell_type": "code",
   "execution_count": 55,
   "metadata": {},
   "outputs": [
    {
     "name": "stdout",
     "output_type": "stream",
     "text": [
      "NeuralCTLSTM-20181104-211704.pth\n",
      "../saved_models/NeuralCTLSTM-20181104-211704.pth\n"
     ]
    }
   ],
   "source": [
    "flname = '{:}-{:}.pth'.format(nhlstm.__class__.__name__, ts)\n",
    "print(flname)\n",
    "fpath = '../saved_models/{:}'.format(flname)\n",
    "print(fpath)"
   ]
  },
  {
   "cell_type": "code",
   "execution_count": 56,
   "metadata": {},
   "outputs": [],
   "source": [
    "torch.save(nhlstm.state_dict(), fpath)"
   ]
  },
  {
   "cell_type": "code",
   "execution_count": null,
   "metadata": {},
   "outputs": [],
   "source": []
  },
  {
   "cell_type": "code",
   "execution_count": null,
   "metadata": {},
   "outputs": [],
   "source": []
  },
  {
   "cell_type": "code",
   "execution_count": 30,
   "metadata": {},
   "outputs": [
    {
     "data": {
      "text/plain": [
       "<matplotlib.legend.Legend at 0x7fe75c7e35f8>"
      ]
     },
     "execution_count": 30,
     "metadata": {},
     "output_type": "execute_result"
    },
    {
     "data": {
      "image/png": "[encoded data removed]",
      "text/plain": [
       "<Figure size 576x432 with 1 Axes>"
      ]
     },
     "metadata": {
      "needs_background": "light"
     },
     "output_type": "display_data"
    }
   ],
   "source": [
    "plt.figure(figsize=(8,6))\n",
    "for b in [1, 4, 10, 40]:\n",
    "    yvals = nn.Softplus(threshold=10, beta=b)(big_grid)\n",
    "    plt.plot(big_grid.numpy(), yvals.numpy(), linewidth=.7, label='%.2f' % b)\n",
    "plt.legend()"
   ]
  },
  {
   "cell_type": "code",
   "execution_count": null,
   "metadata": {},
   "outputs": [],
   "source": []
  },
  {
   "cell_type": "code",
   "execution_count": null,
   "metadata": {},
   "outputs": [],
   "source": []
  },
  {
   "cell_type": "code",
   "execution_count": null,
   "metadata": {},
   "outputs": [],
   "source": []
  },
  {
   "cell_type": "code",
   "execution_count": null,
   "metadata": {},
   "outputs": [],
   "source": []
  }
 ],
 "metadata": {
  "kernelspec": {
   "display_name": "Python [conda env:pytorch]",
   "language": "python",
   "name": "conda-env-pytorch-py"
  },
  "language_info": {
   "codemirror_mode": {
    "name": "ipython",
    "version": 3
   },
   "file_extension": ".py",
   "mimetype": "text/x-python",
   "name": "python",
   "nbconvert_exporter": "python",
   "pygments_lexer": "ipython3",
   "version": "3.7.0"
  }
 },
 "nbformat": 4,
 "nbformat_minor": 2
}
