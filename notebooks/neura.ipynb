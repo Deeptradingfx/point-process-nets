{
 "cells": [
  {
   "cell_type": "code",
   "execution_count": 1,
   "metadata": {},
   "outputs": [],
   "source": [
    "%matplotlib inline\n",
    "%load_ext autoreload\n",
    "%autoreload 2"
   ]
  },
  {
   "cell_type": "code",
   "execution_count": 2,
   "metadata": {},
   "outputs": [],
   "source": [
    "import matplotlib.pyplot as plt\n",
    "import matplotlib.ticker as mticker\n",
    "import numpy as np\n",
    "import pointprocesses as ppr"
   ]
  },
  {
   "cell_type": "code",
   "execution_count": 3,
   "metadata": {},
   "outputs": [],
   "source": [
    "import torch"
   ]
  },
  {
   "cell_type": "markdown",
   "metadata": {},
   "source": [
    "# Données synthétiques"
   ]
  },
  {
   "cell_type": "code",
   "execution_count": 4,
   "metadata": {},
   "outputs": [],
   "source": [
    "def intensity_function_(t, lam0, alpha, beta, history):\n",
    "    return lam0 + np.sum(alpha*beta*np.exp(-beta*(t - history))*(t >= history), axis=0)\n",
    "\n",
    "intensity_function = np.vectorize(intensity_function_, excluded={4})"
   ]
  },
  {
   "cell_type": "code",
   "execution_count": 5,
   "metadata": {},
   "outputs": [
    {
     "name": "stdout",
     "output_type": "stream",
     "text": [
      "Expected avg evt no. 6.667\n"
     ]
    }
   ],
   "source": [
    "import itertools\n",
    "mu = 1.0\n",
    "tmax = 5.0\n",
    "alpha = 0.25\n",
    "beta  = 2.0\n",
    "\n",
    "print(\"Expected avg evt no. %.3f\" % (tmax*mu/(1.-alpha)))"
   ]
  },
  {
   "cell_type": "code",
   "execution_count": 6,
   "metadata": {},
   "outputs": [],
   "source": [
    "n_traj = 400\n",
    "sample_trajectories = [ppr.hawkes_exp(tmax, beta, mu, itertools.repeat(alpha)) for _ in range(n_traj)]"
   ]
  },
  {
   "cell_type": "code",
   "execution_count": 7,
   "metadata": {},
   "outputs": [
    {
     "data": {
      "text/plain": [
       "<matplotlib.collections.PathCollection at 0x1f528f87518>"
      ]
     },
     "execution_count": 7,
     "metadata": {},
     "output_type": "execute_result"
    },
    {
     "data": {
      "image/png": "[encoded data removed]",
      "text/plain": [
       "<Figure size 1200x500 with 1 Axes>"
      ]
     },
     "metadata": {
      "needs_background": "light"
     },
     "output_type": "display_data"
    }
   ],
   "source": [
    "one_traj = sample_trajectories[0]\n",
    "fig, ax = plt.subplots(1,1, figsize=(12,5), dpi=100)\n",
    "ax.set_xlabel(\"Temps $t$\")\n",
    "ax.set_ylabel(r\"Intensité $\\lambda_t$\")\n",
    "t_arr = np.sort(np.append(np.linspace(0, tmax, 600), one_traj[:,]))\n",
    "ax.plot(t_arr, intensity_function(t_arr, mu, alpha, beta, one_traj[:,0]), 'r-', linewidth=0.9)\n",
    "ax.xaxis.set_major_locator(mticker.MultipleLocator(2.))\n",
    "scatter_opts = {\n",
    "    \"c\": \"r\", \"s\": 11\n",
    "}\n",
    "ax.grid(True, axis='x', linestyle='--')\n",
    "ax.scatter(one_traj[:,0], one_traj[:,1], c='r', s=10)"
   ]
  },
  {
   "cell_type": "markdown",
   "metadata": {},
   "source": [
    "We will pad each sequence with 0s at the end."
   ]
  },
  {
   "cell_type": "code",
   "execution_count": 8,
   "metadata": {},
   "outputs": [
    {
     "name": "stdout",
     "output_type": "stream",
     "text": [
      "Number of samples: \t\t400\n",
      "Input size max. traj. length: \t20\n",
      "tmax = 5.000\n"
     ]
    }
   ],
   "source": [
    "print(\"Number of samples: \\t\\t%d\" % len(sample_trajectories))\n",
    "seq_lengths = torch.LongTensor([s.shape[0] for s in sample_trajectories])+1\n",
    "input_size = seq_lengths.max().item()\n",
    "print(\"Input size max. traj. length: \\t%d\" % input_size)\n",
    "print(\"tmax = %.3f\"  % tmax)\n",
    "data_array = np.stack([\n",
    "    np.pad(s[:,0], ((0, input_size - s.shape[0] - 1)), 'constant') for s in sample_trajectories\n",
    "])\n",
    "data_tensor = torch.from_numpy(data_array).to(torch.float32)\n",
    "\n",
    "# Add a beginning-of-sequence event:\n",
    "data_tensor = torch.cat((torch.zeros(data_tensor.shape[0],1), data_tensor), dim=1)"
   ]
  },
  {
   "cell_type": "code",
   "execution_count": 9,
   "metadata": {},
   "outputs": [
    {
     "data": {
      "text/plain": [
       "torch.Size([400, 20])"
      ]
     },
     "execution_count": 9,
     "metadata": {},
     "output_type": "execute_result"
    }
   ],
   "source": [
    "data_tensor.shape"
   ]
  },
  {
   "cell_type": "markdown",
   "metadata": {},
   "source": [
    "The first dimension is for time, the second for the sample."
   ]
  },
  {
   "cell_type": "markdown",
   "metadata": {},
   "source": [
    "## Neural net"
   ]
  },
  {
   "cell_type": "code",
   "execution_count": 10,
   "metadata": {},
   "outputs": [],
   "source": [
    "import torch\n",
    "import torch.nn as nn\n",
    "from torch import optim"
   ]
  },
  {
   "cell_type": "code",
   "execution_count": 11,
   "metadata": {},
   "outputs": [
    {
     "name": "stdout",
     "output_type": "stream",
     "text": [
      "cpu\n"
     ]
    }
   ],
   "source": [
    "device = torch.device(\"cpu\")\n",
    "print(device)"
   ]
  },
  {
   "cell_type": "code",
   "execution_count": 12,
   "metadata": {},
   "outputs": [
    {
     "data": {
      "text/plain": [
       "<torch._C.Generator at 0x1f528776590>"
      ]
     },
     "execution_count": 12,
     "metadata": {},
     "output_type": "execute_result"
    }
   ],
   "source": [
    "torch.manual_seed(1)"
   ]
  },
  {
   "cell_type": "markdown",
   "metadata": {},
   "source": [
    "The intensity process is given by\n",
    "$$\n",
    "    \\lambda_k(t) = f_k(\\mathbf w_k^\\intercal\\mathbf h(t))\n",
    "$$\n",
    "with $\\mathbf h(t)$ the hidden state, defined from the cell state $\\mathbf c(t)$ :\n",
    "$$\n",
    "    \\mathbf h(t) = \\mathbf o_i \\odot \\tanh(\\mathbf c(t))\\in\\mathbb R^D,\\quad t\\in(t_{i-1}, t_i].\n",
    "$$"
   ]
  },
  {
   "cell_type": "markdown",
   "metadata": {},
   "source": [
    "with\n",
    "$$\n",
    "    \\mathbf c(t) = \\bar{\\mathbf c}_{i+1} + (\\mathbf c_{i+1} - \\bar{\\mathbf c}_{i+1})\\exp\\left(-\\delta_{i+1}(t-t_i)\\right),\\quad t\\in(t_{i-1}, t_i].\n",
    "$$"
   ]
  },
  {
   "cell_type": "code",
   "execution_count": 43,
   "metadata": {},
   "outputs": [],
   "source": [
    "from model import NeuralCTLSTM\n",
    "import tqdm"
   ]
  },
  {
   "cell_type": "code",
   "execution_count": 44,
   "metadata": {},
   "outputs": [
    {
     "name": "stdout",
     "output_type": "stream",
     "text": [
      "Batch size: 40\n",
      "Training sample size: 400\n",
      "Splitting into batches of 40\n",
      "No. of batches: 10\n"
     ]
    }
   ],
   "source": [
    "# We use mini-batches to train on our data\n",
    "BATCH_SIZE = 40\n",
    "print(\"Batch size: %d\" % BATCH_SIZE)\n",
    "print(\"Training sample size: %d\" % data_tensor.size(0))\n",
    "print(\"Splitting into batches of %d\" % BATCH_SIZE)\n",
    "split_into_batches = data_tensor.split(BATCH_SIZE, dim=0)\n",
    "num_of_batches = len(split_into_batches)\n",
    "print(\"No. of batches: %d\" % num_of_batches)\n",
    "\n",
    "hidden_size = 8\n",
    "learn_rate = 0.0008\n",
    "\n",
    "nhlstm = NeuralCTLSTM(hidden_size)\n",
    "optimizer = optim.SGD(nhlstm.parameters(), lr=learn_rate)"
   ]
  },
  {
   "cell_type": "code",
   "execution_count": 45,
   "metadata": {},
   "outputs": [],
   "source": [
    "def train(event_times, input_size):\n",
    "    \"\"\"Train on input sequence\n",
    "    \n",
    "    Args:\n",
    "        event_times: input sequence\n",
    "    \"\"\"\n",
    "    dt = event_times[1:] - event_times[:-1]\n",
    "    # event_times = split_into_batches[i]\n",
    "    # inter_t = event_times[:,:-1] - event_times[:,1:] # transform into inter-arrival times\n",
    "    # batch_size = inter_t.size(0)\n",
    "    output_hist = []\n",
    "    hidden_hist = []\n",
    "    cell_hist = []\n",
    "    cell_target_hist = []\n",
    "    decay_hist = []\n",
    "    # Initialize hidden and cell state at 0\n",
    "    hidden, cti, cbar = nhlstm.init_hidden()\n",
    "    # Reset gradients; in PyTorch they accumulate\n",
    "    nhlstm.zero_grad()\n",
    "    # Loop over event times\n",
    "    # First pass takes care of the interval [0,t1) before first event\n",
    "    for j in range(input_size - 1):\n",
    "        output, hidden, cti, cell_t, cbar, decay_t = nhlstm(dt[j], hidden, cti, cbar)\n",
    "        output_hist.append(output)\n",
    "        hidden_hist.append(hidden)\n",
    "        cell_hist.append(cti)\n",
    "        cell_target_hist.append(cbar)\n",
    "        decay_hist.append(decay_t)\n",
    "    output_hist = torch.stack(output_hist, dim=1)\n",
    "    hidden_hist = torch.stack(hidden_hist, dim=1)\n",
    "    cell_hist = torch.stack(cell_hist, dim=1)\n",
    "    cell_target_hist = torch.stack(cell_target_hist, dim=1)\n",
    "    decay_hist = torch.stack(decay_hist, dim=1)\n",
    "    loss = nhlstm.likelihood(\n",
    "        event_times, seq_lengths[i], cell_hist, cell_target_hist,\n",
    "        output_hist, decay_hist, tmax)\n",
    "    # Compute the gradients\n",
    "    loss.backward()\n",
    "    # Update the model parameters\n",
    "    optimizer.step()\n",
    "    return loss"
   ]
  },
  {
   "cell_type": "code",
   "execution_count": 46,
   "metadata": {},
   "outputs": [
    {
     "data": {
      "application/vnd.jupyter.widget-view+json": {
       "model_id": "c45b2546f467451bba3000c942713b37",
       "version_major": 2,
       "version_minor": 0
      },
      "text/plain": [
       "HBox(children=(IntProgress(value=0, max=400), HTML(value='')))"
      ]
     },
     "metadata": {},
     "output_type": "display_data"
    },
    {
     "name": "stdout",
     "output_type": "stream",
     "text": [
      "\n"
     ]
    }
   ],
   "source": [
    "# batch_range = tqdm.trange(num_of_batches)\n",
    "# batch_range = tqdm.trange(data_tensor.size(0))\n",
    "train_size = 400\n",
    "batch_range = tqdm.tqdm_notebook(range(train_size))\n",
    "loss_hist = []\n",
    "for i in batch_range:\n",
    "    batch_range.set_description(\"Batch %d\" % (i+1))\n",
    "    # sample's event times\n",
    "    event_times = data_tensor[i]\n",
    "    loss = train(event_times, input_size)\n",
    "    loss_val = loss.item()\n",
    "    batch_range.set_postfix(loss=loss_val)\n",
    "    loss_hist.append(loss_val) # record the loss value"
   ]
  },
  {
   "cell_type": "markdown",
   "metadata": {},
   "source": [
    "Each training loop:\n",
    "* reinitializes the hidden state weights\n",
    "* zeroes the gradients\n",
    "* computes the loss"
   ]
  },
  {
   "cell_type": "code",
   "execution_count": null,
   "metadata": {},
   "outputs": [],
   "source": []
  },
  {
   "cell_type": "code",
   "execution_count": null,
   "metadata": {},
   "outputs": [],
   "source": []
  },
  {
   "cell_type": "code",
   "execution_count": 47,
   "metadata": {},
   "outputs": [
    {
     "data": {
      "text/plain": [
       "Text(0.5, 1.0, 'Loss = negative log-likelihood')"
      ]
     },
     "execution_count": 47,
     "metadata": {},
     "output_type": "execute_result"
    },
    {
     "data": {
      "image/png": "[encoded data removed]",
      "text/plain": [
       "<Figure size 800x500 with 1 Axes>"
      ]
     },
     "metadata": {
      "needs_background": "light"
     },
     "output_type": "display_data"
    }
   ],
   "source": [
    "fig, ax = plt.subplots(1, 1, figsize=(8,5), dpi=100)\n",
    "lineopts = {\n",
    "    \"linewidth\": 0.7\n",
    "}\n",
    "ax.plot(range(train_size), loss_hist, **lineopts)\n",
    "ax.set_title(\"Loss = negative log-likelihood\")"
   ]
  },
  {
   "cell_type": "code",
   "execution_count": null,
   "metadata": {},
   "outputs": [],
   "source": []
  },
  {
   "cell_type": "code",
   "execution_count": 24,
   "metadata": {},
   "outputs": [],
   "source": [
    "grid = torch.from_numpy(np.linspace(0,1,11))"
   ]
  },
  {
   "cell_type": "code",
   "execution_count": 25,
   "metadata": {},
   "outputs": [
    {
     "data": {
      "text/plain": [
       "tensor([0.0000, 0.1000, 0.2000, 0.3000, 0.4000, 0.5000, 0.6000, 0.7000, 0.8000,\n",
       "        0.9000, 1.0000], dtype=torch.float64)"
      ]
     },
     "execution_count": 25,
     "metadata": {},
     "output_type": "execute_result"
    }
   ],
   "source": [
    "grid"
   ]
  },
  {
   "cell_type": "code",
   "execution_count": null,
   "metadata": {},
   "outputs": [],
   "source": []
  },
  {
   "cell_type": "code",
   "execution_count": 26,
   "metadata": {},
   "outputs": [],
   "source": [
    "tar, _ = torch.rand(11, dtype=torch.float64).sort(0)"
   ]
  },
  {
   "cell_type": "code",
   "execution_count": 27,
   "metadata": {},
   "outputs": [
    {
     "data": {
      "text/plain": [
       "tensor([0.0800, 0.1021, 0.1479, 0.2013, 0.3305, 0.3959, 0.4811, 0.4909, 0.6098,\n",
       "        0.6473, 0.9041], dtype=torch.float64)"
      ]
     },
     "execution_count": 27,
     "metadata": {},
     "output_type": "execute_result"
    }
   ],
   "source": [
    "tar"
   ]
  },
  {
   "cell_type": "code",
   "execution_count": null,
   "metadata": {},
   "outputs": [],
   "source": []
  },
  {
   "cell_type": "code",
   "execution_count": 28,
   "metadata": {},
   "outputs": [
    {
     "data": {
      "text/plain": [
       "tensor([0, 1, 1, 2, 3, 3, 4, 4, 6, 6, 9])"
      ]
     },
     "execution_count": 28,
     "metadata": {},
     "output_type": "execute_result"
    }
   ],
   "source": [
    "indices = torch.sum(tar[:,None] >= grid, dim=1)-1\n",
    "indices"
   ]
  },
  {
   "cell_type": "code",
   "execution_count": null,
   "metadata": {},
   "outputs": [],
   "source": []
  },
  {
   "cell_type": "code",
   "execution_count": 29,
   "metadata": {},
   "outputs": [
    {
     "data": {
      "text/plain": [
       "tensor([0.0000, 0.1000, 0.1000, 0.2000, 0.3000, 0.3000, 0.4000, 0.4000, 0.6000,\n",
       "        0.6000, 0.9000], dtype=torch.float64)"
      ]
     },
     "execution_count": 29,
     "metadata": {},
     "output_type": "execute_result"
    }
   ],
   "source": [
    "grid[indices]"
   ]
  },
  {
   "cell_type": "code",
   "execution_count": 30,
   "metadata": {},
   "outputs": [
    {
     "data": {
      "text/plain": [
       "tensor([0.1000, 0.1000, 0.1000, 0.1000, 0.1000, 0.1000, 0.1000, 0.1000, 0.1000,\n",
       "        0.1000, 0.1000], dtype=torch.float64)"
      ]
     },
     "execution_count": 30,
     "metadata": {},
     "output_type": "execute_result"
    }
   ],
   "source": [
    "(grid[1:] - grid[:-1])[indices]"
   ]
  },
  {
   "cell_type": "code",
   "execution_count": null,
   "metadata": {},
   "outputs": [],
   "source": []
  },
  {
   "cell_type": "code",
   "execution_count": 31,
   "metadata": {},
   "outputs": [],
   "source": [
    "big_grid = torch.from_numpy(np.linspace(-3.16, 3.16, 80))"
   ]
  },
  {
   "cell_type": "code",
   "execution_count": 32,
   "metadata": {},
   "outputs": [
    {
     "data": {
      "text/plain": [
       "tensor([-3.1600, -3.0800, -3.0000, -2.9200, -2.8400, -2.7600, -2.6800, -2.6000,\n",
       "        -2.5200, -2.4400, -2.3600, -2.2800, -2.2000, -2.1200, -2.0400, -1.9600,\n",
       "        -1.8800, -1.8000, -1.7200, -1.6400, -1.5600, -1.4800, -1.4000, -1.3200,\n",
       "        -1.2400, -1.1600, -1.0800, -1.0000, -0.9200, -0.8400, -0.7600, -0.6800,\n",
       "        -0.6000, -0.5200, -0.4400, -0.3600, -0.2800, -0.2000, -0.1200, -0.0400,\n",
       "         0.0400,  0.1200,  0.2000,  0.2800,  0.3600,  0.4400,  0.5200,  0.6000,\n",
       "         0.6800,  0.7600,  0.8400,  0.9200,  1.0000,  1.0800,  1.1600,  1.2400,\n",
       "         1.3200,  1.4000,  1.4800,  1.5600,  1.6400,  1.7200,  1.8000,  1.8800,\n",
       "         1.9600,  2.0400,  2.1200,  2.2000,  2.2800,  2.3600,  2.4400,  2.5200,\n",
       "         2.6000,  2.6800,  2.7600,  2.8400,  2.9200,  3.0000,  3.0800,  3.1600],\n",
       "       dtype=torch.float64)"
      ]
     },
     "execution_count": 32,
     "metadata": {},
     "output_type": "execute_result"
    }
   ],
   "source": [
    "big_grid"
   ]
  },
  {
   "cell_type": "code",
   "execution_count": null,
   "metadata": {},
   "outputs": [],
   "source": []
  },
  {
   "cell_type": "code",
   "execution_count": 33,
   "metadata": {},
   "outputs": [
    {
     "data": {
      "text/plain": [
       "tensor([0.0407, 0.0439, 0.0474, 0.0512, 0.0552, 0.0595, 0.0642, 0.0691, 0.0745,\n",
       "        0.0802, 0.0863, 0.0928, 0.0998, 0.1072, 0.1151, 0.1235, 0.1324, 0.1419,\n",
       "        0.1519, 0.1625, 0.1736, 0.1854, 0.1978, 0.2108, 0.2244, 0.2387, 0.2535,\n",
       "        0.2689, 0.2850, 0.3015, 0.3186, 0.3363, 0.3543, 0.3729, 0.3917, 0.4110,\n",
       "        0.4305, 0.4502, 0.4700, 0.4900, 0.5100, 0.5300, 0.5498, 0.5695, 0.5890,\n",
       "        0.6083, 0.6271, 0.6457, 0.6637, 0.6814, 0.6985, 0.7150, 0.7311, 0.7465,\n",
       "        0.7613, 0.7756, 0.7892, 0.8022, 0.8146, 0.8264, 0.8375, 0.8481, 0.8581,\n",
       "        0.8676, 0.8765, 0.8849, 0.8928, 0.9002, 0.9072, 0.9137, 0.9198, 0.9255,\n",
       "        0.9309, 0.9358, 0.9405, 0.9448, 0.9488, 0.9526, 0.9561, 0.9593],\n",
       "       dtype=torch.float64)"
      ]
     },
     "execution_count": 33,
     "metadata": {},
     "output_type": "execute_result"
    }
   ],
   "source": [
    "torch.sigmoid(big_grid)"
   ]
  },
  {
   "cell_type": "code",
   "execution_count": 49,
   "metadata": {},
   "outputs": [
    {
     "data": {
      "text/plain": [
       "<matplotlib.legend.Legend at 0x1f528ff8c18>"
      ]
     },
     "execution_count": 49,
     "metadata": {},
     "output_type": "execute_result"
    },
    {
     "data": {
      "image/png": "[encoded data removed]",
      "text/plain": [
       "<Figure size 576x432 with 1 Axes>"
      ]
     },
     "metadata": {
      "needs_background": "light"
     },
     "output_type": "display_data"
    }
   ],
   "source": [
    "plt.figure(figsize=(8,6))\n",
    "for b in [1, 4, 10, 40]:\n",
    "    yvals = nn.Softplus(threshold=10, beta=b)(big_grid)\n",
    "    plt.plot(big_grid.numpy(), yvals.numpy(), linewidth=.7, label='%.2f' % b)\n",
    "plt.legend()"
   ]
  },
  {
   "cell_type": "code",
   "execution_count": null,
   "metadata": {},
   "outputs": [],
   "source": []
  },
  {
   "cell_type": "code",
   "execution_count": null,
   "metadata": {},
   "outputs": [],
   "source": []
  },
  {
   "cell_type": "code",
   "execution_count": null,
   "metadata": {},
   "outputs": [],
   "source": []
  },
  {
   "cell_type": "code",
   "execution_count": null,
   "metadata": {},
   "outputs": [],
   "source": []
  }
 ],
 "metadata": {
  "kernelspec": {
   "display_name": "Python [conda env:pytorch]",
   "language": "python",
   "name": "conda-env-pytorch-py"
  },
  "language_info": {
   "codemirror_mode": {
    "name": "ipython",
    "version": 3
   },
   "file_extension": ".py",
   "mimetype": "text/x-python",
   "name": "python",
   "nbconvert_exporter": "python",
   "pygments_lexer": "ipython3",
   "version": "3.7.1"
  }
 },
 "nbformat": 4,
 "nbformat_minor": 2
}
